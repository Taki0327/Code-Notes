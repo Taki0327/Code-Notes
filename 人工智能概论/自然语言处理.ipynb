{
 "cells": [
  {
   "cell_type": "markdown",
   "metadata": {
    "heading_collapsed": true
   },
   "source": [
    "# jieba"
   ]
  },
  {
   "cell_type": "code",
   "execution_count": 12,
   "metadata": {
    "hidden": true
   },
   "outputs": [],
   "source": [
    "#支持四种分词模式：\n",
    "#精确模式，试图将句子最精确地切开，适合文本分析； cut_all=False\n",
    "#全模式，把句子中所有的可以成词的词语都扫描出来, 速度非常快，但是不能解决歧义；cut_all=True\n",
    "#搜索引擎模式，在精确模式的基础上，对长词再次切分，提高召回率，适合用于搜索引擎分词。jieba.cut_for_search\n",
    "#paddle模式，利用PaddlePaddle深度学习框架，训练序列标注（双向GRU）网络模型实现分词。同时支持词性标注。use_paddle "
   ]
  },
  {
   "cell_type": "code",
   "execution_count": 30,
   "metadata": {
    "hidden": true
   },
   "outputs": [],
   "source": [
    "import jieba\n",
    "import paddle\n",
    "import jieba.posseg as pseg"
   ]
  },
  {
   "cell_type": "code",
   "execution_count": 13,
   "metadata": {
    "hidden": true
   },
   "outputs": [
    {
     "name": "stdout",
     "output_type": "stream",
     "text": [
      "全模式: 今天 是 2021 年 5 月 28 日星 星期 星期五 今天 的 天气 晴 太阳 很大 有 四节 深度 学习 课程\n"
     ]
    }
   ],
   "source": [
    "text = jieba.cut(\"今天是2021年5月28日星期五今天的天气晴太阳很大有四节深度学习课程\", cut_all=True)\n",
    "print(\"全模式: \" + \" \".join(text))"
   ]
  },
  {
   "cell_type": "code",
   "execution_count": 15,
   "metadata": {
    "hidden": true
   },
   "outputs": [
    {
     "name": "stdout",
     "output_type": "stream",
     "text": [
      "默认模式: 今天 是 2021 年 5 月 28 日 星期五 今天 的 天气 晴 太阳 很大 有 四节 深度 学习 课程\n",
      "默认模式: 今天 是 2021 年 5 月 28 日 星期五 今天 的 天气 晴 太阳 很大 有 四节 深度 学习 课程\n"
     ]
    }
   ],
   "source": [
    "text = jieba.cut(\"今天是2021年5月28日星期五今天的天气晴太阳很大有四节深度学习课程\", cut_all=False)\n",
    "print(\"默认模式: \" + \" \".join(text))\n",
    "text = jieba.cut(\"今天是2021年5月28日星期五今天的天气晴太阳很大有四节深度学习课程\")\n",
    "print(\"默认模式: \" + \" \".join(text))"
   ]
  },
  {
   "cell_type": "code",
   "execution_count": 20,
   "metadata": {
    "hidden": true
   },
   "outputs": [
    {
     "name": "stdout",
     "output_type": "stream",
     "text": [
      "搜索引擎模式: 今天 是 2021 年 5 月 28 日 星期 星期五 今天 的 天气 晴 太阳 很大 有 四节 深度 学习 课程\n"
     ]
    }
   ],
   "source": [
    "text = jieba.cut_for_search(\"今天是2021年5月28日星期五今天的天气晴太阳很大有四节深度学习课程\")\n",
    "print(\"搜索引擎模式: \" + \" \".join(text))"
   ]
  },
  {
   "cell_type": "code",
   "execution_count": 25,
   "metadata": {
    "hidden": true
   },
   "outputs": [
    {
     "name": "stderr",
     "output_type": "stream",
     "text": [
      "Paddle enabled successfully......\n"
     ]
    }
   ],
   "source": [
    "paddle.enable_static()\n",
    "jieba.enable_paddle()"
   ]
  },
  {
   "cell_type": "code",
   "execution_count": 27,
   "metadata": {
    "hidden": true
   },
   "outputs": [
    {
     "name": "stdout",
     "output_type": "stream",
     "text": [
      "paddle模式: 今天 是 2021年5月28日星期五 今天 的 天气 晴 太阳 很大 有 四节 深度 学习 课程\n"
     ]
    }
   ],
   "source": [
    "text = jieba.cut(\"今天是2021年5月28日星期五今天的天气晴太阳很大有四节深度学习课程\", use_paddle=True)\n",
    "print(\"paddle模式: \" + \" \".join(text))"
   ]
  },
  {
   "cell_type": "code",
   "execution_count": 32,
   "metadata": {
    "hidden": true
   },
   "outputs": [
    {
     "name": "stdout",
     "output_type": "stream",
     "text": [
      "今天 TIME\n",
      "是 v\n",
      "2021年5月28日星期五 TIME\n",
      "今天 TIME\n",
      "的 u\n",
      "天气 n\n",
      "晴 a\n",
      "太阳 n\n",
      "很大 a\n",
      "有 v\n",
      "四节 m\n",
      "深度 n\n",
      "学习 vn\n",
      "课程 n\n"
     ]
    }
   ],
   "source": [
    "#词性标注\n",
    "text = pseg.cut(\"今天是2021年5月28日星期五今天的天气晴太阳很大有四节深度学习课程\", use_paddle=True)\n",
    "for word, flag in text:\n",
    "    print('%s %s' % (word, flag))"
   ]
  },
  {
   "cell_type": "markdown",
   "metadata": {},
   "source": [
    "# NLTK"
   ]
  },
  {
   "cell_type": "code",
   "execution_count": 39,
   "metadata": {
    "scrolled": true
   },
   "outputs": [],
   "source": [
    "import nltk"
   ]
  },
  {
   "cell_type": "code",
   "execution_count": 54,
   "metadata": {},
   "outputs": [],
   "source": [
    "hlm=open('《红楼梦》.txt',encoding='utf-8').read()  #读文件\n",
    "text=nltk.text.Text(jieba.lcut(hlm))  #借助jieba生成列表"
   ]
  },
  {
   "cell_type": "code",
   "execution_count": 55,
   "metadata": {},
   "outputs": [
    {
     "name": "stdout",
     "output_type": "stream",
     "text": [
      "Displaying 25 of 3793 matches:\n",
      "一块 五彩 晶莹 的 玉来 ， 上面 还有 许多 字迹 ， 就 取名 叫作 宝玉 。 你 道 是 新 奇异 事 不是 ？ ” \n",
      " \n",
      " 雨村 笑 道 ： “ \n",
      "省 ， 也 曾 遇见 两个 异样 孩子 。 所以 ， 方才 你 一 说 这 宝玉 ， 我 就 猜 着 了 八九 亦 是 这 一派 人物 。 不用 远 说 ，\n",
      "亦 曾 听见 母亲 常说 ， 这位 哥哥 比 我 大一岁 ， 小名 就 唤 宝玉 ， 虽极 憨 顽 ， 说 在 姊妹 情中 极好 的 。 况 我 来 了 ，\n",
      "语 未了 ， 只 听 外面 一阵 脚步 响 ， 丫鬟 进来 笑 道 ： “ 宝玉 来 了 ！ ” 黛玉 心中 正 疑惑 着 ： “ 这个 宝玉 ， 不知 是\n",
      " 道 ： “ 宝玉 来 了 ！ ” 黛玉 心中 正 疑惑 着 ： “ 这个 宝玉 ， 不知 是 怎生 个 惫懒 人物 、 懵懂 顽劣 之童 ？ ” 倒 不见\n",
      "像 在 那里 见 过 的 一般 ， 何等 眼熟 到 如此 ！ ” 只见 这 宝玉 向 贾母 请 了 安 。 贾母 便命 ： “ 去 见 你 娘来 ！ ” 宝\n",
      "玉 向 贾母 请 了 安 。 贾母 便命 ： “ 去 见 你 娘来 ！ ” 宝玉 即 转身 去 了 。 一时 回来 ， 再 看 ， 已换 了 冠带 ： 头上\n",
      " 坠角 ； 身上 穿著 银红 撒花 半旧 大袄 ， 仍旧 带 着 项圈 、 宝玉 、 寄名 锁 、 护身符 等物 ； 下面 半露 松花 撒花 绿绫 裤腿 ，\n",
      "好 ， 却 难知 其 底细 。 后人 有 《 西江月 》 二词 ， 批 这 宝玉 极恰 ， 其 词曰 ： \n",
      " \n",
      " 无故 寻愁 觅 恨 ， 有时 似 傻 如狂\n",
      "“ 外客 未见 ， 就 脱 了 衣裳 ， 还 不 去 见 你 妹妹 ！ ” 宝玉 早已 看见 多 了 一个 姊妹 ， 便 料定 是 林 姑妈 之女 ， 忙 \n",
      "处 ， 似 弱柳扶风 。 心较 比干 多 一窍 ， 病如 西子胜 三分 。 宝玉 看 罢 ， 因笑 道 ： “ 这个 妹妹 我 曾 见 过 的 。 ” 贾母\n",
      "贾母笑 道 ： “ 可 又 是 胡说 ！ 你 又 何曾 见 过 他 ？ ” 宝玉 笑 道 ： “ 虽然 未曾 见 过 她 ， 然 我 看着 面善 ， 心里 \n",
      "母笑 道 ： “ 更好 ， 更好 ， 若 如此 ， 更相 和睦 了 ！ ” 宝玉 便 走近 黛玉 身边 坐下 ， 又 细细 打量 一番 ， 因问 ： “ 妹\n",
      "“ 不曾 读书 ， 只 上 了 一年 学 ， 些须 认得 几个 字 。 ” 宝玉 又 道 ： “ 妹妹 尊名 是 那 两个 字 ？ ” 黛玉 便 说 了 名\n",
      " ： “ 妹妹 尊名 是 那 两个 字 ？ ” 黛玉 便 说 了 名字 。 宝玉 又 问 表字 。 黛玉道 ： “ 无字 。 ” 宝玉 笑 道 ： “ 我 \n",
      "便 说 了 名字 。 宝玉 又 问 表字 。 黛玉道 ： “ 无字 。 ” 宝玉 笑 道 ： “ 我 送 妹妹 一妙 字 ， 莫若 ‘ 颦 颦 ’ 二字 极\n",
      "若 ‘ 颦 颦 ’ 二字 极好 ！ ” 探春 便 问 ： “ 何出 ？ ” 宝玉 道 ： “ 《 古今 人物 通考 》 上 说 ： ‘ 西方 有 石名 黛 \n",
      "不 两妙 ！ ” 探春 笑 道 ： “ 只恐 又 是 你 的 杜撰 。 ” 宝玉 笑 道 ： “ 除 《 四书 》 外 ， 杜撰 的 太 多 ， 偏 只 我\n",
      " 那个 。 想来 那玉 亦 是 一件 罕物 ， 岂能 人人 有 的 ！ ” 宝玉 听 了 ， 登时 发作 起 痴狂 病来 ， 摘下 那玉 ， 就 狠命 摔 \n",
      "什子 了 ！ ” 吓 的 众人 一拥争 去 拾玉 。 贾母 急 的 搂 了 宝玉 道 ： “ 孽障 ！ 你 生气 ， 要 打骂 人 容易 ， 何苦 摔 那 \n",
      "障 ！ 你 生气 ， 要 打骂 人 容易 ， 何苦 摔 那 命根子 ！ ” 宝玉 满面 泪痕 泣道 ： “ 家里 姐姐 妹妹 都 没有 ， 单 我 有 ， \n",
      " ！ ” 说 着 ， 便 向 丫鬟 手中 接 来 ， 亲 与 他 带上 。 宝玉 听 如此 说 ， 想一想 ， 竟大有 情理 ， 也 就 不生 别论 了 。\n",
      "当下 ， 奶娘 来 请问 黛玉 之 房舍 。 贾母 便 说 ： “ 今 将 宝玉 挪 出来 ， 同 我 在 套间 暖阁 儿 里面 ， 把 你 林姑娘 暂 安\n",
      "残冬 ， 春天 再 与 他们 收拾 房屋 ， 另作 一番 安置 罢 。 ” 宝玉 道 ： “ 好 祖宗 ， 我 就 在 碧纱橱 外 的 床上 很 妥当 ， \n",
      "的 小丫头 。 当下 ， 王嬷嬷 与 鹦哥 陪侍 黛玉 在 碧纱橱 内 。 宝玉 之 乳母 李嬷嬷 ， 并 大 丫鬟 名唤 袭人者 ， 陪侍 在 外面 大 \n",
      "None\n"
     ]
    }
   ],
   "source": [
    "print(text.concordance('宝玉'))  #查找"
   ]
  },
  {
   "cell_type": "code",
   "execution_count": 56,
   "metadata": {},
   "outputs": [
    {
     "name": "stdout",
     "output_type": "stream",
     "text": [
      "见_， 她_， 他_， 她_有趣 了_， 她_说 这般_，\n",
      "None\n"
     ]
    }
   ],
   "source": [
    "print(text.common_contexts(['如此','这般'])) "
   ]
  },
  {
   "cell_type": "code",
   "execution_count": 57,
   "metadata": {},
   "outputs": [
    {
     "name": "stderr",
     "output_type": "stream",
     "text": [
      "C:\\Anaconda3\\lib\\site-packages\\matplotlib\\backends\\backend_agg.py:238: RuntimeWarning: Glyph 26519 missing from current font.\n",
      "  font.set_text(s, 0.0, flags=flags)\n",
      "C:\\Anaconda3\\lib\\site-packages\\matplotlib\\backends\\backend_agg.py:238: RuntimeWarning: Glyph 40667 missing from current font.\n",
      "  font.set_text(s, 0.0, flags=flags)\n",
      "C:\\Anaconda3\\lib\\site-packages\\matplotlib\\backends\\backend_agg.py:238: RuntimeWarning: Glyph 29577 missing from current font.\n",
      "  font.set_text(s, 0.0, flags=flags)\n",
      "C:\\Anaconda3\\lib\\site-packages\\matplotlib\\backends\\backend_agg.py:201: RuntimeWarning: Glyph 26519 missing from current font.\n",
      "  font.set_text(s, 0, flags=flags)\n",
      "C:\\Anaconda3\\lib\\site-packages\\matplotlib\\backends\\backend_agg.py:201: RuntimeWarning: Glyph 40667 missing from current font.\n",
      "  font.set_text(s, 0, flags=flags)\n",
      "C:\\Anaconda3\\lib\\site-packages\\matplotlib\\backends\\backend_agg.py:201: RuntimeWarning: Glyph 29577 missing from current font.\n",
      "  font.set_text(s, 0, flags=flags)\n"
     ]
    },
    {
     "data": {
      "image/png": "[encoded data removed]",
      "text/plain": [
       "<Figure size 432x288 with 1 Axes>"
      ]
     },
     "metadata": {
      "needs_background": "light"
     },
     "output_type": "display_data"
    }
   ],
   "source": [
    "text.dispersion_plot(['林黛玉']) #词分布"
   ]
  },
  {
   "cell_type": "code",
   "execution_count": 58,
   "metadata": {},
   "outputs": [
    {
     "data": {
      "text/plain": [
       "19"
      ]
     },
     "execution_count": 58,
     "metadata": {},
     "output_type": "execute_result"
    }
   ],
   "source": [
    "text.count('石头') #出现次数"
   ]
  },
  {
   "cell_type": "code",
   "execution_count": 59,
   "metadata": {},
   "outputs": [
    {
     "data": {
      "text/plain": [
       "611696"
      ]
     },
     "execution_count": 59,
     "metadata": {},
     "output_type": "execute_result"
    }
   ],
   "source": [
    "len(text) #长度"
   ]
  }
 ],
 "metadata": {
  "kernelspec": {
   "display_name": "Python 3",
   "language": "python",
   "name": "python3"
  },
  "language_info": {
   "codemirror_mode": {
    "name": "ipython",
    "version": 3
   },
   "file_extension": ".py",
   "mimetype": "text/x-python",
   "name": "python",
   "nbconvert_exporter": "python",
   "pygments_lexer": "ipython3",
   "version": "3.8.5"
  },
  "varInspector": {
   "cols": {
    "lenName": 16,
    "lenType": 16,
    "lenVar": 40
   },
   "kernels_config": {
    "python": {
     "delete_cmd_postfix": "",
     "delete_cmd_prefix": "del ",
     "library": "var_list.py",
     "varRefreshCmd": "print(var_dic_list())"
    },
    "r": {
     "delete_cmd_postfix": ") ",
     "delete_cmd_prefix": "rm(",
     "library": "var_list.r",
     "varRefreshCmd": "cat(var_dic_list()) "
    }
   },
   "types_to_exclude": [
    "module",
    "function",
    "builtin_function_or_method",
    "instance",
    "_Feature"
   ],
   "window_display": false
  }
 },
 "nbformat": 4,
 "nbformat_minor": 4
}
