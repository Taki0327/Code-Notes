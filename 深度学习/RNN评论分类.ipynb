{
 "cells": [
  {
   "cell_type": "code",
   "execution_count": 26,
   "metadata": {},
   "outputs": [],
   "source": [
    "%matplotlib inline  \n",
    "from matplotlib import pyplot as plt\n",
    "\n",
    "from tensorflow.keras.datasets import imdb  # 数据集\n",
    "from tensorflow.keras.models import Sequential\n",
    "from tensorflow.keras.layers import Dense, Embedding, SimpleRNN,Flatten,Dropout #Embedding 词嵌入层 SimpleRNN基础版RNN层\n",
    "from tensorflow.keras.preprocessing import sequence   # 序列处理\n",
    "from tensorflow.keras.optimizers import RMSprop #优化器\n",
    "import numpy as np"
   ]
  },
  {
   "cell_type": "code",
   "execution_count": 27,
   "metadata": {},
   "outputs": [
    {
     "name": "stderr",
     "output_type": "stream",
     "text": [
      "<__array_function__ internals>:5: VisibleDeprecationWarning: Creating an ndarray from ragged nested sequences (which is a list-or-tuple of lists-or-tuples-or ndarrays with different lengths or shapes) is deprecated. If you meant to do this, you must specify 'dtype=object' when creating the ndarray\n",
      "C:\\Anaconda3\\lib\\site-packages\\tensorflow\\python\\keras\\datasets\\imdb.py:159: VisibleDeprecationWarning: Creating an ndarray from ragged nested sequences (which is a list-or-tuple of lists-or-tuples-or ndarrays with different lengths or shapes) is deprecated. If you meant to do this, you must specify 'dtype=object' when creating the ndarray\n",
      "  x_train, y_train = np.array(xs[:idx]), np.array(labels[:idx])\n"
     ]
    },
    {
     "name": "stdout",
     "output_type": "stream",
     "text": [
      "(25000,) (25000,) (25000,) (25000,)\n"
     ]
    },
    {
     "name": "stderr",
     "output_type": "stream",
     "text": [
      "C:\\Anaconda3\\lib\\site-packages\\tensorflow\\python\\keras\\datasets\\imdb.py:160: VisibleDeprecationWarning: Creating an ndarray from ragged nested sequences (which is a list-or-tuple of lists-or-tuples-or ndarrays with different lengths or shapes) is deprecated. If you meant to do this, you must specify 'dtype=object' when creating the ndarray\n",
      "  x_test, y_test = np.array(xs[idx:]), np.array(labels[idx:])\n"
     ]
    }
   ],
   "source": [
    "# imdb数据加载\n",
    "# num_words: 需要保留的最大词数，基于词频。只有最常出现的 num_words 词会被保留。这里取常用词汇5000个，来组合成句子。\n",
    "(x_train, y_train), (x_test, y_test) = imdb.load_data(num_words=10000,  seed=528)\n",
    "\n",
    "# 查看数据规格\n",
    "print(x_train.shape, y_train.shape, x_test.shape, y_test.shape)"
   ]
  },
  {
   "cell_type": "code",
   "execution_count": 47,
   "metadata": {},
   "outputs": [
    {
     "name": "stdout",
     "output_type": "stream",
     "text": [
      "(25000, 500)\n",
      "(25000, 500)\n"
     ]
    }
   ],
   "source": [
    "# 由于每条评论数据长度不一致，需要将每个序列调整为相同的长度\n",
    "# pad_sequences，将多个序列截断或补齐为相同长度，短于maxlen的默认是前端补齐0， 超过maxlen的，默认是丢弃前面的\n",
    "x_train_sq = sequence.pad_sequences(x_train, maxlen=500, padding='pre', truncating='pre')\n",
    "print(x_train_sq.shape)\n",
    "#print(x_train_sq[5])\n",
    "#print(x_train[5])\n",
    "\n",
    "x_test_sq = sequence.pad_sequences(x_test, maxlen=500, padding='pre', truncating='pre')\n",
    "print(x_test_sq.shape)\n",
    "#print(x_test_sq)"
   ]
  },
  {
   "cell_type": "code",
   "execution_count": 97,
   "metadata": {
    "scrolled": false
   },
   "outputs": [
    {
     "name": "stdout",
     "output_type": "stream",
     "text": [
      "Model: \"sequential_29\"\n",
      "_________________________________________________________________\n",
      "Layer (type)                 Output Shape              Param #   \n",
      "=================================================================\n",
      "embedding_29 (Embedding)     (None, 500, 32)           320000    \n",
      "_________________________________________________________________\n",
      "flatten_29 (Flatten)         (None, 16000)             0         \n",
      "_________________________________________________________________\n",
      "dense_58 (Dense)             (None, 32)                512032    \n",
      "_________________________________________________________________\n",
      "dropout_28 (Dropout)         (None, 32)                0         \n",
      "_________________________________________________________________\n",
      "dense_59 (Dense)             (None, 1)                 33        \n",
      "=================================================================\n",
      "Total params: 832,065\n",
      "Trainable params: 832,065\n",
      "Non-trainable params: 0\n",
      "_________________________________________________________________\n"
     ]
    }
   ],
   "source": [
    "from tensorflow.keras import regularizers\n",
    "\n",
    "model=Sequential()\n",
    "model.add(Embedding(input_dim=10000,output_dim=32,input_length=500))\n",
    "model.add(Flatten())\n",
    "model.add(Dense(32,activation='relu', kernel_regularizer=regularizers.l2(0.001)))\n",
    "model.add(Dropout(0.3))\n",
    "model.add(Dense(1,activation='sigmoid'))\n",
    "model.compile(optimizer = \"adam\",\n",
    "              loss='binary_crossentropy', \n",
    "              metrics=['accuracy'])\n",
    "model.summary()"
   ]
  },
  {
   "cell_type": "code",
   "execution_count": 98,
   "metadata": {},
   "outputs": [
    {
     "name": "stdout",
     "output_type": "stream",
     "text": [
      "Epoch 1/3\n",
      "782/782 [==============================] - 11s 13ms/step - loss: 0.6283 - accuracy: 0.6357 - val_loss: 0.3767 - val_accuracy: 0.8742\n",
      "Epoch 2/3\n",
      "782/782 [==============================] - 10s 12ms/step - loss: 0.2868 - accuracy: 0.9262 - val_loss: 0.4021 - val_accuracy: 0.8705\n",
      "Epoch 3/3\n",
      "782/782 [==============================] - 10s 12ms/step - loss: 0.1847 - accuracy: 0.9726 - val_loss: 0.4464 - val_accuracy: 0.8623\n"
     ]
    }
   ],
   "source": [
    "# Fit the model\n",
    "hs=model.fit(x_train_sq, y_train, \n",
    "          validation_data=(x_test_sq, y_test), \n",
    "          epochs=3, \n",
    "          batch_size=32, \n",
    "          verbose=1)"
   ]
  },
  {
   "cell_type": "code",
   "execution_count": 99,
   "metadata": {
    "scrolled": true
   },
   "outputs": [
    {
     "data": {
      "image/png": "[encoded data removed]",
      "text/plain": [
       "<Figure size 576x288 with 1 Axes>"
      ]
     },
     "metadata": {
      "needs_background": "light"
     },
     "output_type": "display_data"
    }
   ],
   "source": [
    "def plot_loss(hs):\n",
    "    plt.figure(figsize = (8,4))\n",
    "    plt.plot(hs.history['loss'], label = 'Train')  \n",
    "    plt.plot(hs.history['val_loss'],label = 'test')  \n",
    "    plt.title('Model loss')  \n",
    "    plt.ylabel('Loss')  \n",
    "    plt.xlabel('Epoch')  \n",
    "    plt.legend(loc=0)  # loc=0 表示最优位置，自动。也可以手动设置，如：'upper left'等\n",
    "    plt.show()\n",
    "    return\n",
    "plot_loss(hs)"
   ]
  },
  {
   "cell_type": "markdown",
   "metadata": {},
   "source": [
    "# 总结 "
   ]
  },
  {
   "cell_type": "code",
   "execution_count": 96,
   "metadata": {},
   "outputs": [],
   "source": [
    "#过拟合降不下来"
   ]
  }
 ],
 "metadata": {
  "kernelspec": {
   "display_name": "Python 3",
   "language": "python",
   "name": "python3"
  },
  "language_info": {
   "codemirror_mode": {
    "name": "ipython",
    "version": 3
   },
   "file_extension": ".py",
   "mimetype": "text/x-python",
   "name": "python",
   "nbconvert_exporter": "python",
   "pygments_lexer": "ipython3",
   "version": "3.8.5"
  },
  "varInspector": {
   "cols": {
    "lenName": 16,
    "lenType": 16,
    "lenVar": 40
   },
   "kernels_config": {
    "python": {
     "delete_cmd_postfix": "",
     "delete_cmd_prefix": "del ",
     "library": "var_list.py",
     "varRefreshCmd": "print(var_dic_list())"
    },
    "r": {
     "delete_cmd_postfix": ") ",
     "delete_cmd_prefix": "rm(",
     "library": "var_list.r",
     "varRefreshCmd": "cat(var_dic_list()) "
    }
   },
   "types_to_exclude": [
    "module",
    "function",
    "builtin_function_or_method",
    "instance",
    "_Feature"
   ],
   "window_display": false
  }
 },
 "nbformat": 4,
 "nbformat_minor": 4
}
