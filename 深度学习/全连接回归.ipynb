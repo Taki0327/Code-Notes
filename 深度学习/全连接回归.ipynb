{
 "cells": [
  {
   "cell_type": "code",
   "execution_count": 191,
   "metadata": {},
   "outputs": [],
   "source": [
    "%matplotlib inline\n",
    "import numpy as np\n",
    "import pandas as pd\n",
    "import matplotlib.pyplot as plt"
   ]
  },
  {
   "cell_type": "markdown",
   "metadata": {},
   "source": [
    "# 导入处理数据 "
   ]
  },
  {
   "cell_type": "code",
   "execution_count": 192,
   "metadata": {
    "scrolled": true
   },
   "outputs": [
    {
     "data": {
      "text/html": [
       "<div>\n",
       "<style scoped>\n",
       "    .dataframe tbody tr th:only-of-type {\n",
       "        vertical-align: middle;\n",
       "    }\n",
       "\n",
       "    .dataframe tbody tr th {\n",
       "        vertical-align: top;\n",
       "    }\n",
       "\n",
       "    .dataframe thead th {\n",
       "        text-align: right;\n",
       "    }\n",
       "</style>\n",
       "<table border=\"1\" class=\"dataframe\">\n",
       "  <thead>\n",
       "    <tr style=\"text-align: right;\">\n",
       "      <th></th>\n",
       "      <th>age</th>\n",
       "      <th>sex</th>\n",
       "      <th>bmi</th>\n",
       "      <th>bp</th>\n",
       "      <th>s1</th>\n",
       "      <th>s2</th>\n",
       "      <th>s3</th>\n",
       "      <th>s4</th>\n",
       "      <th>s5</th>\n",
       "      <th>s6</th>\n",
       "      <th>target</th>\n",
       "    </tr>\n",
       "  </thead>\n",
       "  <tbody>\n",
       "    <tr>\n",
       "      <th>0</th>\n",
       "      <td>0.038076</td>\n",
       "      <td>0.050680</td>\n",
       "      <td>0.061696</td>\n",
       "      <td>0.021872</td>\n",
       "      <td>-0.044223</td>\n",
       "      <td>-0.034821</td>\n",
       "      <td>-0.043401</td>\n",
       "      <td>-0.002592</td>\n",
       "      <td>0.019908</td>\n",
       "      <td>-0.017646</td>\n",
       "      <td>151.0</td>\n",
       "    </tr>\n",
       "    <tr>\n",
       "      <th>1</th>\n",
       "      <td>-0.001882</td>\n",
       "      <td>-0.044642</td>\n",
       "      <td>-0.051474</td>\n",
       "      <td>-0.026328</td>\n",
       "      <td>-0.008449</td>\n",
       "      <td>-0.019163</td>\n",
       "      <td>0.074412</td>\n",
       "      <td>-0.039493</td>\n",
       "      <td>-0.068330</td>\n",
       "      <td>-0.092204</td>\n",
       "      <td>75.0</td>\n",
       "    </tr>\n",
       "    <tr>\n",
       "      <th>2</th>\n",
       "      <td>0.085299</td>\n",
       "      <td>0.050680</td>\n",
       "      <td>0.044451</td>\n",
       "      <td>-0.005671</td>\n",
       "      <td>-0.045599</td>\n",
       "      <td>-0.034194</td>\n",
       "      <td>-0.032356</td>\n",
       "      <td>-0.002592</td>\n",
       "      <td>0.002864</td>\n",
       "      <td>-0.025930</td>\n",
       "      <td>141.0</td>\n",
       "    </tr>\n",
       "    <tr>\n",
       "      <th>3</th>\n",
       "      <td>-0.089063</td>\n",
       "      <td>-0.044642</td>\n",
       "      <td>-0.011595</td>\n",
       "      <td>-0.036656</td>\n",
       "      <td>0.012191</td>\n",
       "      <td>0.024991</td>\n",
       "      <td>-0.036038</td>\n",
       "      <td>0.034309</td>\n",
       "      <td>0.022692</td>\n",
       "      <td>-0.009362</td>\n",
       "      <td>206.0</td>\n",
       "    </tr>\n",
       "    <tr>\n",
       "      <th>4</th>\n",
       "      <td>0.005383</td>\n",
       "      <td>-0.044642</td>\n",
       "      <td>-0.036385</td>\n",
       "      <td>0.021872</td>\n",
       "      <td>0.003935</td>\n",
       "      <td>0.015596</td>\n",
       "      <td>0.008142</td>\n",
       "      <td>-0.002592</td>\n",
       "      <td>-0.031991</td>\n",
       "      <td>-0.046641</td>\n",
       "      <td>135.0</td>\n",
       "    </tr>\n",
       "  </tbody>\n",
       "</table>\n",
       "</div>"
      ],
      "text/plain": [
       "        age       sex       bmi        bp        s1        s2        s3  \\\n",
       "0  0.038076  0.050680  0.061696  0.021872 -0.044223 -0.034821 -0.043401   \n",
       "1 -0.001882 -0.044642 -0.051474 -0.026328 -0.008449 -0.019163  0.074412   \n",
       "2  0.085299  0.050680  0.044451 -0.005671 -0.045599 -0.034194 -0.032356   \n",
       "3 -0.089063 -0.044642 -0.011595 -0.036656  0.012191  0.024991 -0.036038   \n",
       "4  0.005383 -0.044642 -0.036385  0.021872  0.003935  0.015596  0.008142   \n",
       "\n",
       "         s4        s5        s6  target  \n",
       "0 -0.002592  0.019908 -0.017646   151.0  \n",
       "1 -0.039493 -0.068330 -0.092204    75.0  \n",
       "2 -0.002592  0.002864 -0.025930   141.0  \n",
       "3  0.034309  0.022692 -0.009362   206.0  \n",
       "4 -0.002592 -0.031991 -0.046641   135.0  "
      ]
     },
     "metadata": {},
     "output_type": "display_data"
    }
   ],
   "source": [
    "db=pd.read_csv('./dataset/diabetes_data.csv',sep=',',header=0)\n",
    "display(db.head())"
   ]
  },
  {
   "cell_type": "code",
   "execution_count": 193,
   "metadata": {},
   "outputs": [],
   "source": [
    "db_data=db[['age','sex','bmi','bp','s1','s2','s3','s4','s5','s6']]\n",
    "db_target=db['target']"
   ]
  },
  {
   "cell_type": "code",
   "execution_count": 194,
   "metadata": {},
   "outputs": [
    {
     "data": {
      "text/plain": [
       "age    1.0\n",
       "sex    1.0\n",
       "bmi    1.0\n",
       "bp     1.0\n",
       "s1     1.0\n",
       "s2     1.0\n",
       "s3     1.0\n",
       "s4     1.0\n",
       "s5     1.0\n",
       "s6     1.0\n",
       "dtype: float64"
      ]
     },
     "execution_count": 194,
     "metadata": {},
     "output_type": "execute_result"
    }
   ],
   "source": [
    "np.sum(db_data**2)"
   ]
  },
  {
   "cell_type": "code",
   "execution_count": 195,
   "metadata": {},
   "outputs": [],
   "source": [
    "from sklearn.model_selection import train_test_split\n",
    "x_train, x_test, y_train, y_test = train_test_split(db_data,db_target,test_size=0.2)"
   ]
  },
  {
   "cell_type": "code",
   "execution_count": 196,
   "metadata": {},
   "outputs": [
    {
     "data": {
      "text/plain": [
       "((353, 10), (353,), (89, 10), (89,))"
      ]
     },
     "execution_count": 196,
     "metadata": {},
     "output_type": "execute_result"
    }
   ],
   "source": [
    "x_train.shape,y_train.shape,x_test.shape,y_test.shape"
   ]
  },
  {
   "cell_type": "code",
   "execution_count": 197,
   "metadata": {},
   "outputs": [
    {
     "data": {
      "text/plain": [
       "(pandas.core.frame.DataFrame, pandas.core.series.Series)"
      ]
     },
     "execution_count": 197,
     "metadata": {},
     "output_type": "execute_result"
    }
   ],
   "source": [
    "type(x_train),type(y_train)"
   ]
  },
  {
   "cell_type": "code",
   "execution_count": 198,
   "metadata": {},
   "outputs": [],
   "source": [
    "y_train=y_train.values\n",
    "y_test=y_test.values"
   ]
  },
  {
   "cell_type": "code",
   "execution_count": 199,
   "metadata": {},
   "outputs": [
    {
     "data": {
      "text/html": [
       "<div>\n",
       "<style scoped>\n",
       "    .dataframe tbody tr th:only-of-type {\n",
       "        vertical-align: middle;\n",
       "    }\n",
       "\n",
       "    .dataframe tbody tr th {\n",
       "        vertical-align: top;\n",
       "    }\n",
       "\n",
       "    .dataframe thead th {\n",
       "        text-align: right;\n",
       "    }\n",
       "</style>\n",
       "<table border=\"1\" class=\"dataframe\">\n",
       "  <thead>\n",
       "    <tr style=\"text-align: right;\">\n",
       "      <th></th>\n",
       "      <th>age</th>\n",
       "      <th>sex</th>\n",
       "      <th>bmi</th>\n",
       "      <th>bp</th>\n",
       "      <th>s1</th>\n",
       "      <th>s2</th>\n",
       "      <th>s3</th>\n",
       "      <th>s4</th>\n",
       "      <th>s5</th>\n",
       "      <th>s6</th>\n",
       "    </tr>\n",
       "  </thead>\n",
       "  <tbody>\n",
       "    <tr>\n",
       "      <th>183</th>\n",
       "      <td>0.045341</td>\n",
       "      <td>0.050680</td>\n",
       "      <td>-0.035307</td>\n",
       "      <td>0.063187</td>\n",
       "      <td>-0.004321</td>\n",
       "      <td>-0.001627</td>\n",
       "      <td>-0.010266</td>\n",
       "      <td>-0.002592</td>\n",
       "      <td>0.015567</td>\n",
       "      <td>0.056912</td>\n",
       "    </tr>\n",
       "    <tr>\n",
       "      <th>236</th>\n",
       "      <td>0.027178</td>\n",
       "      <td>-0.044642</td>\n",
       "      <td>0.006728</td>\n",
       "      <td>0.035644</td>\n",
       "      <td>0.079612</td>\n",
       "      <td>0.070710</td>\n",
       "      <td>0.015505</td>\n",
       "      <td>0.034309</td>\n",
       "      <td>0.040672</td>\n",
       "      <td>0.011349</td>\n",
       "    </tr>\n",
       "    <tr>\n",
       "      <th>361</th>\n",
       "      <td>0.041708</td>\n",
       "      <td>-0.044642</td>\n",
       "      <td>-0.007284</td>\n",
       "      <td>0.028758</td>\n",
       "      <td>-0.042848</td>\n",
       "      <td>-0.048286</td>\n",
       "      <td>0.052322</td>\n",
       "      <td>-0.076395</td>\n",
       "      <td>-0.072128</td>\n",
       "      <td>0.023775</td>\n",
       "    </tr>\n",
       "    <tr>\n",
       "      <th>148</th>\n",
       "      <td>-0.060003</td>\n",
       "      <td>0.050680</td>\n",
       "      <td>0.015350</td>\n",
       "      <td>-0.019442</td>\n",
       "      <td>0.036958</td>\n",
       "      <td>0.048164</td>\n",
       "      <td>0.019187</td>\n",
       "      <td>-0.002592</td>\n",
       "      <td>-0.030751</td>\n",
       "      <td>-0.001078</td>\n",
       "    </tr>\n",
       "    <tr>\n",
       "      <th>349</th>\n",
       "      <td>0.001751</td>\n",
       "      <td>0.050680</td>\n",
       "      <td>-0.057941</td>\n",
       "      <td>-0.043542</td>\n",
       "      <td>-0.096510</td>\n",
       "      <td>-0.047034</td>\n",
       "      <td>-0.098625</td>\n",
       "      <td>0.034309</td>\n",
       "      <td>-0.061177</td>\n",
       "      <td>-0.071494</td>\n",
       "    </tr>\n",
       "  </tbody>\n",
       "</table>\n",
       "</div>"
      ],
      "text/plain": [
       "          age       sex       bmi        bp        s1        s2        s3  \\\n",
       "183  0.045341  0.050680 -0.035307  0.063187 -0.004321 -0.001627 -0.010266   \n",
       "236  0.027178 -0.044642  0.006728  0.035644  0.079612  0.070710  0.015505   \n",
       "361  0.041708 -0.044642 -0.007284  0.028758 -0.042848 -0.048286  0.052322   \n",
       "148 -0.060003  0.050680  0.015350 -0.019442  0.036958  0.048164  0.019187   \n",
       "349  0.001751  0.050680 -0.057941 -0.043542 -0.096510 -0.047034 -0.098625   \n",
       "\n",
       "           s4        s5        s6  \n",
       "183 -0.002592  0.015567  0.056912  \n",
       "236  0.034309  0.040672  0.011349  \n",
       "361 -0.076395 -0.072128  0.023775  \n",
       "148 -0.002592 -0.030751 -0.001078  \n",
       "349  0.034309 -0.061177 -0.071494  "
      ]
     },
     "execution_count": 199,
     "metadata": {},
     "output_type": "execute_result"
    }
   ],
   "source": [
    "x_train.head()"
   ]
  },
  {
   "cell_type": "code",
   "execution_count": 200,
   "metadata": {},
   "outputs": [
    {
     "data": {
      "text/plain": [
       "array([185.,  67., 182.,  96.,  88.,  94., 142., 297., 116., 310., 144.,\n",
       "       132.,  91.,  90., 118.,  72., 220.,  81., 141., 222.,  51.,  93.,\n",
       "       214., 131., 121.,  87.,  77.,  65.,  84., 201., 214., 220., 235.,\n",
       "        37., 121., 248., 212., 115., 198., 146., 185.,  42.,  63., 125.,\n",
       "       123.,  25., 101., 144., 283., 258.,  45., 197., 167.,  74., 281.,\n",
       "       216.,  65.,  89., 102., 244.,  96., 248., 122., 170.,  51., 141.,\n",
       "        48., 248., 101.,  97.,  59., 206., 258., 135., 270., 264.,  97.,\n",
       "        83., 132.,  93.,  57., 275.,  77., 170., 104., 101., 155., 152.,\n",
       "       115.,  83., 217., 236.,  48., 177.,  55.,  96., 232.,  54.,  67.,\n",
       "       252., 202., 138.,  63.,  68.,  96., 135., 103., 302.,  39., 118.,\n",
       "       141., 209., 217., 275., 233., 196., 129.,  69., 126., 220.,  87.,\n",
       "       311., 200., 153., 102., 140., 229., 259., 268., 136.,  55.,  48.,\n",
       "       161.,  52., 191.,  91.,  53., 174., 233., 257.,  72., 129.,  71.,\n",
       "       245.,  78., 168., 178., 321.,  72.,  72., 102.,  68., 150.,  78.,\n",
       "        69., 306., 168., 262., 208.,  90., 113., 265.,  85., 151.,  77.,\n",
       "       237., 155., 190.,  85., 160., 202.,  95., 232.,  47., 128.,  49.,\n",
       "       181., 202., 109., 277.,  78., 292.,  42., 283., 109., 142.,  42.,\n",
       "        64.,  74., 252., 336., 150., 275., 148., 110., 196., 180.,  70.,\n",
       "       262.,  65., 268., 111., 111., 230., 172., 138., 182., 186., 124.,\n",
       "        90.,  53., 128., 230.,  88., 249.,  88.,  50.,  53., 175.,  59.,\n",
       "       242., 272.,  52., 195.,  52.,  98., 160., 124., 158., 178.,  49.,\n",
       "       142.,  97., 172., 131., 197., 259., 288., 270., 180., 184.,  61.,\n",
       "        99.,  84.,  94.,  51., 104., 118., 163., 131., 257., 200.,  73.,\n",
       "        84., 253.,  75., 150., 164.,  47., 113.,  89.,  68.,  92., 199.,\n",
       "        75.,  55., 235.,  95., 191., 220.,  71., 317., 341., 114., 281.,\n",
       "        55., 168., 215., 134.,  91., 173., 308., 221.,  53., 104.,  39.,\n",
       "       142.,  86., 202., 206., 275., 233., 171., 151.,  84., 192., 158.,\n",
       "        71., 140.,  77.,  85.,  60., 139.,  91., 243., 183.,  40., 310.,\n",
       "        99., 162., 107.,  94., 145., 258., 261.,  60.,  79., 279., 178.,\n",
       "       243.,  64., 139., 280.,  90., 109., 182.,  52., 134., 156., 108.,\n",
       "       273., 137., 116., 310., 109., 276.,  71., 277., 127., 100., 120.,\n",
       "       272.,  44., 263.,  49., 263., 189.,  72., 214., 265.,  69., 200.,\n",
       "       154.])"
      ]
     },
     "execution_count": 200,
     "metadata": {},
     "output_type": "execute_result"
    }
   ],
   "source": [
    " y_train"
   ]
  },
  {
   "cell_type": "code",
   "execution_count": 201,
   "metadata": {},
   "outputs": [
    {
     "name": "stdout",
     "output_type": "stream",
     "text": [
      "<class 'pandas.core.frame.DataFrame'>\n",
      "Int64Index: 353 entries, 183 to 231\n",
      "Data columns (total 10 columns):\n",
      " #   Column  Non-Null Count  Dtype  \n",
      "---  ------  --------------  -----  \n",
      " 0   age     353 non-null    float64\n",
      " 1   sex     353 non-null    float64\n",
      " 2   bmi     353 non-null    float64\n",
      " 3   bp      353 non-null    float64\n",
      " 4   s1      353 non-null    float64\n",
      " 5   s2      353 non-null    float64\n",
      " 6   s3      353 non-null    float64\n",
      " 7   s4      353 non-null    float64\n",
      " 8   s5      353 non-null    float64\n",
      " 9   s6      353 non-null    float64\n",
      "dtypes: float64(10)\n",
      "memory usage: 30.3 KB\n"
     ]
    }
   ],
   "source": [
    "x_train.info()"
   ]
  },
  {
   "cell_type": "code",
   "execution_count": 202,
   "metadata": {
    "scrolled": false
   },
   "outputs": [
    {
     "data": {
      "text/html": [
       "<div>\n",
       "<style scoped>\n",
       "    .dataframe tbody tr th:only-of-type {\n",
       "        vertical-align: middle;\n",
       "    }\n",
       "\n",
       "    .dataframe tbody tr th {\n",
       "        vertical-align: top;\n",
       "    }\n",
       "\n",
       "    .dataframe thead th {\n",
       "        text-align: right;\n",
       "    }\n",
       "</style>\n",
       "<table border=\"1\" class=\"dataframe\">\n",
       "  <thead>\n",
       "    <tr style=\"text-align: right;\">\n",
       "      <th></th>\n",
       "      <th>age</th>\n",
       "      <th>sex</th>\n",
       "      <th>bmi</th>\n",
       "      <th>bp</th>\n",
       "      <th>s1</th>\n",
       "      <th>s2</th>\n",
       "      <th>s3</th>\n",
       "      <th>s4</th>\n",
       "      <th>s5</th>\n",
       "      <th>s6</th>\n",
       "    </tr>\n",
       "  </thead>\n",
       "  <tbody>\n",
       "    <tr>\n",
       "      <th>183</th>\n",
       "      <td>0.045341</td>\n",
       "      <td>0.050680</td>\n",
       "      <td>-0.035307</td>\n",
       "      <td>0.063187</td>\n",
       "      <td>-0.004321</td>\n",
       "      <td>-0.001627</td>\n",
       "      <td>-0.010266</td>\n",
       "      <td>-0.002592</td>\n",
       "      <td>0.015567</td>\n",
       "      <td>0.056912</td>\n",
       "    </tr>\n",
       "    <tr>\n",
       "      <th>236</th>\n",
       "      <td>0.027178</td>\n",
       "      <td>-0.044642</td>\n",
       "      <td>0.006728</td>\n",
       "      <td>0.035644</td>\n",
       "      <td>0.079612</td>\n",
       "      <td>0.070710</td>\n",
       "      <td>0.015505</td>\n",
       "      <td>0.034309</td>\n",
       "      <td>0.040672</td>\n",
       "      <td>0.011349</td>\n",
       "    </tr>\n",
       "    <tr>\n",
       "      <th>361</th>\n",
       "      <td>0.041708</td>\n",
       "      <td>-0.044642</td>\n",
       "      <td>-0.007284</td>\n",
       "      <td>0.028758</td>\n",
       "      <td>-0.042848</td>\n",
       "      <td>-0.048286</td>\n",
       "      <td>0.052322</td>\n",
       "      <td>-0.076395</td>\n",
       "      <td>-0.072128</td>\n",
       "      <td>0.023775</td>\n",
       "    </tr>\n",
       "  </tbody>\n",
       "</table>\n",
       "</div>"
      ],
      "text/plain": [
       "          age       sex       bmi        bp        s1        s2        s3  \\\n",
       "183  0.045341  0.050680 -0.035307  0.063187 -0.004321 -0.001627 -0.010266   \n",
       "236  0.027178 -0.044642  0.006728  0.035644  0.079612  0.070710  0.015505   \n",
       "361  0.041708 -0.044642 -0.007284  0.028758 -0.042848 -0.048286  0.052322   \n",
       "\n",
       "           s4        s5        s6  \n",
       "183 -0.002592  0.015567  0.056912  \n",
       "236  0.034309  0.040672  0.011349  \n",
       "361 -0.076395 -0.072128  0.023775  "
      ]
     },
     "metadata": {},
     "output_type": "display_data"
    },
    {
     "data": {
      "text/html": [
       "<div>\n",
       "<style scoped>\n",
       "    .dataframe tbody tr th:only-of-type {\n",
       "        vertical-align: middle;\n",
       "    }\n",
       "\n",
       "    .dataframe tbody tr th {\n",
       "        vertical-align: top;\n",
       "    }\n",
       "\n",
       "    .dataframe thead th {\n",
       "        text-align: right;\n",
       "    }\n",
       "</style>\n",
       "<table border=\"1\" class=\"dataframe\">\n",
       "  <thead>\n",
       "    <tr style=\"text-align: right;\">\n",
       "      <th></th>\n",
       "      <th>age</th>\n",
       "      <th>sex</th>\n",
       "      <th>bmi</th>\n",
       "      <th>bp</th>\n",
       "      <th>s1</th>\n",
       "      <th>s2</th>\n",
       "      <th>s3</th>\n",
       "      <th>s4</th>\n",
       "      <th>s5</th>\n",
       "      <th>s6</th>\n",
       "    </tr>\n",
       "  </thead>\n",
       "  <tbody>\n",
       "    <tr>\n",
       "      <th>30</th>\n",
       "      <td>-0.060003</td>\n",
       "      <td>-0.044642</td>\n",
       "      <td>0.044451</td>\n",
       "      <td>-0.019442</td>\n",
       "      <td>-0.009825</td>\n",
       "      <td>-0.007577</td>\n",
       "      <td>0.022869</td>\n",
       "      <td>-0.039493</td>\n",
       "      <td>-0.027129</td>\n",
       "      <td>-0.009362</td>\n",
       "    </tr>\n",
       "    <tr>\n",
       "      <th>223</th>\n",
       "      <td>-0.099961</td>\n",
       "      <td>-0.044642</td>\n",
       "      <td>-0.023451</td>\n",
       "      <td>-0.064199</td>\n",
       "      <td>-0.057983</td>\n",
       "      <td>-0.060186</td>\n",
       "      <td>0.011824</td>\n",
       "      <td>-0.039493</td>\n",
       "      <td>-0.018118</td>\n",
       "      <td>-0.050783</td>\n",
       "    </tr>\n",
       "    <tr>\n",
       "      <th>271</th>\n",
       "      <td>0.038076</td>\n",
       "      <td>0.050680</td>\n",
       "      <td>0.008883</td>\n",
       "      <td>0.042530</td>\n",
       "      <td>-0.042848</td>\n",
       "      <td>-0.021042</td>\n",
       "      <td>-0.039719</td>\n",
       "      <td>-0.002592</td>\n",
       "      <td>-0.018118</td>\n",
       "      <td>0.007207</td>\n",
       "    </tr>\n",
       "  </tbody>\n",
       "</table>\n",
       "</div>"
      ],
      "text/plain": [
       "          age       sex       bmi        bp        s1        s2        s3  \\\n",
       "30  -0.060003 -0.044642  0.044451 -0.019442 -0.009825 -0.007577  0.022869   \n",
       "223 -0.099961 -0.044642 -0.023451 -0.064199 -0.057983 -0.060186  0.011824   \n",
       "271  0.038076  0.050680  0.008883  0.042530 -0.042848 -0.021042 -0.039719   \n",
       "\n",
       "           s4        s5        s6  \n",
       "30  -0.039493 -0.027129 -0.009362  \n",
       "223 -0.039493 -0.018118 -0.050783  \n",
       "271 -0.002592 -0.018118  0.007207  "
      ]
     },
     "metadata": {},
     "output_type": "display_data"
    }
   ],
   "source": [
    "# 标准化前，再来看一眼数据：\n",
    "display(x_train.head(3))\n",
    "display(x_test.head(3))"
   ]
  },
  {
   "cell_type": "markdown",
   "metadata": {},
   "source": [
    "# 线性回归"
   ]
  },
  {
   "cell_type": "code",
   "execution_count": 203,
   "metadata": {
    "scrolled": true
   },
   "outputs": [
    {
     "name": "stdout",
     "output_type": "stream",
     "text": [
      "在训练集训练得到参数组合为：\n",
      "其中w:\n",
      " [  22.72881603 -226.93503995  480.35423485  330.96837722 -770.32770762\n",
      "  433.22221907  136.78489928  245.90748497  737.23920148   72.02198   ] \n",
      "b:\n",
      " 151.29560173834838\n"
     ]
    }
   ],
   "source": [
    "from sklearn.linear_model import LinearRegression  # 线性回归\n",
    "# 初始化模型\n",
    "lr = LinearRegression()\n",
    "# 训练\n",
    "lr.fit(x_train, y_train)\n",
    "# 输出训练组合\n",
    "print(\"在训练集训练得到参数组合为：\\n其中w:\\n\", lr.coef_, \"\\nb:\\n\",lr.intercept_)"
   ]
  },
  {
   "cell_type": "code",
   "execution_count": 204,
   "metadata": {},
   "outputs": [
    {
     "name": "stdout",
     "output_type": "stream",
     "text": [
      "在训练集上的决定系数r2得分为： 0.5191341978230968\n",
      "在训练集上的均方误差MSE为： 2829.715852600747\n",
      "在测试集上的决定系数r2得分为： 0.4954416722446674\n",
      "在测试集上的均方误差MSE为： 3020.7621075024394\n"
     ]
    }
   ],
   "source": [
    "from sklearn.metrics import r2_score\n",
    "from sklearn.metrics import mean_squared_error\n",
    "\n",
    "y_train_pred = lr.predict(x_train)\n",
    "print(\"在训练集上的决定系数r2得分为：\", r2_score(y_train, y_train_pred))\n",
    "print(\"在训练集上的均方误差MSE为：\", mean_squared_error(y_train, y_train_pred))\n",
    "\n",
    "y_test_pred = lr.predict(x_test)\n",
    "print(\"在测试集上的决定系数r2得分为：\", r2_score(y_test, y_test_pred))\n",
    "print(\"在测试集上的均方误差MSE为：\", mean_squared_error(y_test, y_test_pred))"
   ]
  },
  {
   "cell_type": "markdown",
   "metadata": {},
   "source": [
    "# 使用keras构建全连接网络进行预测"
   ]
  },
  {
   "cell_type": "code",
   "execution_count": 215,
   "metadata": {},
   "outputs": [],
   "source": [
    "from tensorflow.keras.models import Sequential\n",
    "from tensorflow.keras.layers import Dense\n",
    "from sklearn.metrics import r2_score\n",
    "from sklearn.metrics import mean_squared_error\n",
    "import tensorflow as tf\n",
    "\n",
    "# 构建网络结构\n",
    "def get_baseline():\n",
    "    # 1. 构建网络\n",
    "    nn = Sequential() #初始化\n",
    "    nn.add(Dense(15, input_dim = 10 ,activation=tf.nn.leaky_relu))\n",
    "    nn.add(Dense(1,activation='linear'))\n",
    "    print(nn.summary())\n",
    "    # 2. 编译网络\n",
    "    nn.compile(optimizer = optimizers.SGD(learning_rate = 0.001), \n",
    "                  loss = 'mean_squared_error')   \n",
    "    return nn"
   ]
  },
  {
   "cell_type": "code",
   "execution_count": 216,
   "metadata": {},
   "outputs": [],
   "source": [
    "#看损失\n",
    "def plot_loss(hs):\n",
    "    plt.figure(figsize=(8,5))\n",
    "    plt.plot(hs.history['loss'],label='Train')\n",
    "    plt.plot(hs.history['val_loss'],label='test')\n",
    "    plt.title(\"Model loss\")\n",
    "    plt.xlabel(\"Epochs\")\n",
    "    plt.ylabel('MSE loss')\n",
    "    plt.legend(loc=0)\n",
    "    plt.show()\n",
    "    return"
   ]
  },
  {
   "cell_type": "code",
   "execution_count": 217,
   "metadata": {
    "code_folding": [],
    "scrolled": false
   },
   "outputs": [
    {
     "name": "stdout",
     "output_type": "stream",
     "text": [
      "Model: \"sequential_35\"\n",
      "_________________________________________________________________\n",
      "Layer (type)                 Output Shape              Param #   \n",
      "=================================================================\n",
      "dense_83 (Dense)             (None, 15)                165       \n",
      "_________________________________________________________________\n",
      "dense_84 (Dense)             (None, 1)                 16        \n",
      "=================================================================\n",
      "Total params: 181\n",
      "Trainable params: 181\n",
      "Non-trainable params: 0\n",
      "_________________________________________________________________\n",
      "None\n"
     ]
    }
   ],
   "source": [
    "# 定义\n",
    "nn =get_baseline()\n",
    "# 训练\n",
    "hs=nn.fit(\n",
    "    x=x_train,#特征\n",
    "    y=y_train,\n",
    "    batch_size=5, # 每个批次是五个样本，一共要更新404/5\n",
    "    epochs=100,\n",
    "    verbose=0, #0 不显示过程 1 精简显示 2 全显示\n",
    "    validation_data=(x_test,y_test)\n",
    ")"
   ]
  },
  {
   "cell_type": "code",
   "execution_count": 218,
   "metadata": {
    "scrolled": false
   },
   "outputs": [
    {
     "name": "stdout",
     "output_type": "stream",
     "text": [
      "3/3 [==============================] - 0s 1ms/step - loss: 3129.9761\n"
     ]
    },
    {
     "data": {
      "text/plain": [
       "3129.97607421875"
      ]
     },
     "execution_count": 218,
     "metadata": {},
     "output_type": "execute_result"
    }
   ],
   "source": [
    "last_val_loss = nn.evaluate(x_test, y_test) \n",
    "last_val_loss"
   ]
  },
  {
   "cell_type": "code",
   "execution_count": 219,
   "metadata": {},
   "outputs": [
    {
     "data": {
      "image/png": "[encoded data removed]",
      "text/plain": [
       "<Figure size 576x360 with 1 Axes>"
      ]
     },
     "metadata": {
      "needs_background": "light"
     },
     "output_type": "display_data"
    },
    {
     "name": "stdout",
     "output_type": "stream",
     "text": [
      "输入-隐藏的w (10, 15)\n",
      "输入-隐藏的b (15,)\n",
      "隐藏到输出的w (15, 1)\n",
      "隐藏-输出的b (1,)\n",
      "在训练集上的决定系数r2得分为： 0.4807047100480807\n",
      "在训练集上的均方误差MSE为： 3055.8590515389906\n",
      "在测试集上的决定系数r2得分为： 0.4771996600738396\n",
      "在测试集上的均方误差MSE为： 3129.9760003250667\n",
      "x_test中前十个样本 预测值 是：\n",
      " [166.3  128.88 178.75 188.21 115.11 176.96 187.79 136.16  80.13 218.68]\n",
      "x_test中前十个样本 真实值 是：\n",
      " [129. 150. 127.  66.  88. 110. 143.  66. 143. 265.]\n"
     ]
    }
   ],
   "source": [
    "#画图\n",
    "plot_loss(hs)\n",
    "#看参数\n",
    "print(\"输入-隐藏的w\",nn.get_weights()[0].shape)\n",
    "print(\"输入-隐藏的b\",nn.get_weights()[1].shape)\n",
    "print(\"隐藏到输出的w\",nn.get_weights()[2].shape)\n",
    "print(\"隐藏-输出的b\",nn.get_weights()[3].shape)\n",
    "#看决定系数\n",
    "y_train_pred = nn.predict(x_train)\n",
    "print(\"在训练集上的决定系数r2得分为：\", r2_score(y_train, y_train_pred))\n",
    "print(\"在训练集上的均方误差MSE为：\", mean_squared_error(y_train, y_train_pred))\n",
    "\n",
    "y_test_pred = nn.predict(x_test)\n",
    "print(\"在测试集上的决定系数r2得分为：\", r2_score(y_test, y_test_pred))\n",
    "print(\"在测试集上的均方误差MSE为：\", mean_squared_error(y_test, y_test_pred))\n",
    "print('x_test中前十个样本 预测值 是：\\n',y_test_pred[:10].flatten().round(2))\n",
    "print('x_test中前十个样本 真实值 是：\\n', y_test[:10])"
   ]
  },
  {
   "cell_type": "markdown",
   "metadata": {},
   "source": [
    "# 模型保存加载 "
   ]
  },
  {
   "cell_type": "code",
   "execution_count": 172,
   "metadata": {},
   "outputs": [
    {
     "name": "stdout",
     "output_type": "stream",
     "text": [
      "x_test中前十个样本 预测值 是：\n",
      " [137.77 160.04 238.45 127.46  64.06 239.69 104.7  154.86 116.52 129.19]\n",
      "x_test中前十个样本 真实值 是：\n",
      " [103.  91. 268.  69.  96. 215. 101. 142.  47.  71.]\n"
     ]
    }
   ],
   "source": [
    "from tensorflow.keras.models import load_model  \n",
    "\n",
    "# 保存模型 ,生成模型文件 'my_model.h5'  \n",
    "nn.save('db_MLP.h5')  \n",
    "# 加载模型  \n",
    "nn_reload = load_model('db_MLP.h5',custom_objects = {\"leaky_relu\":tf.nn.leaky_relu})\n",
    "# 验证加载后模型效果\n",
    "y_test_pred_reload = nn_reload.predict(x_test)\n",
    "print('x_test中前十个样本 预测值 是：\\n',y_test_pred_reload[:10].flatten().round(2))\n",
    "print('x_test中前十个样本 真实值 是：\\n', y_test[:10])"
   ]
  },
  {
   "cell_type": "markdown",
   "metadata": {},
   "source": [
    "# 模型优化"
   ]
  },
  {
   "cell_type": "code",
   "execution_count": 189,
   "metadata": {},
   "outputs": [
    {
     "name": "stdout",
     "output_type": "stream",
     "text": [
      "Model: \"sequential_32\"\n",
      "_________________________________________________________________\n",
      "Layer (type)                 Output Shape              Param #   \n",
      "=================================================================\n",
      "dense_76 (Dense)             (None, 15)                165       \n",
      "_________________________________________________________________\n",
      "dense_77 (Dense)             (None, 10)                160       \n",
      "_________________________________________________________________\n",
      "dense_78 (Dense)             (None, 1)                 11        \n",
      "=================================================================\n",
      "Total params: 336\n",
      "Trainable params: 336\n",
      "Non-trainable params: 0\n",
      "_________________________________________________________________\n",
      "None\n",
      "Epoch 1/100\n",
      "71/71 - 0s - loss: 28614.9668 - val_loss: 30510.9102\n",
      "Epoch 2/100\n",
      "71/71 - 0s - loss: 28346.6562 - val_loss: 30057.3828\n",
      "Epoch 3/100\n",
      "71/71 - 0s - loss: 27647.7402 - val_loss: 29002.9492\n",
      "Epoch 4/100\n",
      "71/71 - 0s - loss: 26284.6680 - val_loss: 27126.7383\n",
      "Epoch 5/100\n",
      "71/71 - 0s - loss: 24050.9668 - val_loss: 24313.0469\n",
      "Epoch 6/100\n",
      "71/71 - 0s - loss: 21010.9512 - val_loss: 20739.7324\n",
      "Epoch 7/100\n",
      "71/71 - 0s - loss: 17399.4688 - val_loss: 16726.4805\n",
      "Epoch 8/100\n",
      "71/71 - 0s - loss: 13622.2432 - val_loss: 12875.5703\n",
      "Epoch 9/100\n",
      "71/71 - 0s - loss: 10249.7266 - val_loss: 9583.6387\n",
      "Epoch 10/100\n",
      "71/71 - 0s - loss: 7653.3394 - val_loss: 7228.3638\n",
      "Epoch 11/100\n",
      "71/71 - 0s - loss: 5984.5122 - val_loss: 5831.0894\n",
      "Epoch 12/100\n",
      "71/71 - 0s - loss: 5089.6509 - val_loss: 5051.1118\n",
      "Epoch 13/100\n",
      "71/71 - 0s - loss: 4652.9111 - val_loss: 4695.9766\n",
      "Epoch 14/100\n",
      "71/71 - 0s - loss: 4446.8486 - val_loss: 4491.6738\n",
      "Epoch 15/100\n",
      "71/71 - 0s - loss: 4328.8750 - val_loss: 4354.0796\n",
      "Epoch 16/100\n",
      "71/71 - 0s - loss: 4243.3140 - val_loss: 4252.3779\n",
      "Epoch 17/100\n",
      "71/71 - 0s - loss: 4170.1177 - val_loss: 4176.6094\n",
      "Epoch 18/100\n",
      "71/71 - 0s - loss: 4100.4219 - val_loss: 4100.9902\n",
      "Epoch 19/100\n",
      "71/71 - 0s - loss: 4036.6509 - val_loss: 4036.0962\n",
      "Epoch 20/100\n",
      "71/71 - 0s - loss: 3981.5054 - val_loss: 3974.9172\n",
      "Epoch 21/100\n",
      "71/71 - 0s - loss: 3929.4861 - val_loss: 3920.1804\n",
      "Epoch 22/100\n",
      "71/71 - 0s - loss: 3873.8245 - val_loss: 3856.1089\n",
      "Epoch 23/100\n",
      "71/71 - 0s - loss: 3824.4961 - val_loss: 3813.6833\n",
      "Epoch 24/100\n",
      "71/71 - 0s - loss: 3782.4041 - val_loss: 3756.6794\n",
      "Epoch 25/100\n",
      "71/71 - 0s - loss: 3738.4624 - val_loss: 3716.6165\n",
      "Epoch 26/100\n",
      "71/71 - 0s - loss: 3696.8740 - val_loss: 3676.6985\n",
      "Epoch 27/100\n",
      "71/71 - 0s - loss: 3661.5386 - val_loss: 3641.4680\n",
      "Epoch 28/100\n",
      "71/71 - 0s - loss: 3623.2610 - val_loss: 3600.1177\n",
      "Epoch 29/100\n",
      "71/71 - 0s - loss: 3592.5969 - val_loss: 3569.9294\n",
      "Epoch 30/100\n",
      "71/71 - 0s - loss: 3562.6965 - val_loss: 3551.0771\n",
      "Epoch 31/100\n",
      "71/71 - 0s - loss: 3536.3804 - val_loss: 3507.3215\n",
      "Epoch 32/100\n",
      "71/71 - 0s - loss: 3503.2568 - val_loss: 3478.5166\n",
      "Epoch 33/100\n",
      "71/71 - 0s - loss: 3474.3477 - val_loss: 3458.3567\n",
      "Epoch 34/100\n",
      "71/71 - 0s - loss: 3443.8232 - val_loss: 3429.2507\n",
      "Epoch 35/100\n",
      "71/71 - 0s - loss: 3425.8430 - val_loss: 3413.3892\n",
      "Epoch 36/100\n",
      "71/71 - 0s - loss: 3395.1736 - val_loss: 3383.3447\n",
      "Epoch 37/100\n",
      "71/71 - 0s - loss: 3382.9858 - val_loss: 3355.2446\n",
      "Epoch 38/100\n",
      "71/71 - 0s - loss: 3357.5952 - val_loss: 3346.3525\n",
      "Epoch 39/100\n",
      "71/71 - 0s - loss: 3331.4475 - val_loss: 3324.8748\n",
      "Epoch 40/100\n",
      "71/71 - 0s - loss: 3312.9932 - val_loss: 3307.1482\n",
      "Epoch 41/100\n",
      "71/71 - 0s - loss: 3293.7563 - val_loss: 3290.1340\n",
      "Epoch 42/100\n",
      "71/71 - 0s - loss: 3282.5945 - val_loss: 3270.6689\n",
      "Epoch 43/100\n",
      "71/71 - 0s - loss: 3267.3257 - val_loss: 3258.4495\n",
      "Epoch 44/100\n",
      "71/71 - 0s - loss: 3245.8970 - val_loss: 3238.9104\n",
      "Epoch 45/100\n",
      "71/71 - 0s - loss: 3230.5679 - val_loss: 3234.2815\n",
      "Epoch 46/100\n",
      "71/71 - 0s - loss: 3220.6204 - val_loss: 3217.6338\n",
      "Epoch 47/100\n",
      "71/71 - 0s - loss: 3208.3276 - val_loss: 3216.4768\n",
      "Epoch 48/100\n",
      "71/71 - 0s - loss: 3194.6909 - val_loss: 3200.0454\n",
      "Epoch 49/100\n",
      "71/71 - 0s - loss: 3181.7485 - val_loss: 3185.4658\n",
      "Epoch 50/100\n",
      "71/71 - 0s - loss: 3169.2422 - val_loss: 3177.9546\n",
      "Epoch 51/100\n",
      "71/71 - 0s - loss: 3159.5635 - val_loss: 3163.2908\n",
      "Epoch 52/100\n",
      "71/71 - 0s - loss: 3144.6848 - val_loss: 3159.2925\n",
      "Epoch 53/100\n",
      "71/71 - 0s - loss: 3134.6682 - val_loss: 3149.3792\n",
      "Epoch 54/100\n",
      "71/71 - 0s - loss: 3126.7515 - val_loss: 3133.7483\n",
      "Epoch 55/100\n",
      "71/71 - 0s - loss: 3128.1714 - val_loss: 3128.0242\n",
      "Epoch 56/100\n",
      "71/71 - 0s - loss: 3106.9702 - val_loss: 3127.8511\n",
      "Epoch 57/100\n",
      "71/71 - 0s - loss: 3100.7632 - val_loss: 3118.1052\n",
      "Epoch 58/100\n",
      "71/71 - 0s - loss: 3092.0430 - val_loss: 3105.7598\n",
      "Epoch 59/100\n",
      "71/71 - 0s - loss: 3092.1101 - val_loss: 3098.1216\n",
      "Epoch 60/100\n",
      "71/71 - 0s - loss: 3076.2156 - val_loss: 3091.5142\n",
      "Epoch 61/100\n",
      "71/71 - 0s - loss: 3071.5754 - val_loss: 3090.3599\n",
      "Epoch 62/100\n",
      "71/71 - 0s - loss: 3065.0234 - val_loss: 3072.5833\n",
      "Epoch 63/100\n",
      "71/71 - 0s - loss: 3056.3257 - val_loss: 3073.4382\n",
      "Epoch 64/100\n",
      "71/71 - 0s - loss: 3048.1855 - val_loss: 3066.0583\n",
      "Epoch 65/100\n",
      "71/71 - 0s - loss: 3043.6619 - val_loss: 3068.2236\n",
      "Epoch 66/100\n",
      "71/71 - 0s - loss: 3037.1763 - val_loss: 3060.8347\n",
      "Epoch 67/100\n",
      "71/71 - 0s - loss: 3034.8647 - val_loss: 3057.9578\n",
      "Epoch 68/100\n",
      "71/71 - 0s - loss: 3027.4482 - val_loss: 3051.2292\n",
      "Epoch 69/100\n",
      "71/71 - 0s - loss: 3021.4968 - val_loss: 3038.2927\n",
      "Epoch 70/100\n",
      "71/71 - 0s - loss: 3015.3081 - val_loss: 3035.7693\n",
      "Epoch 71/100\n",
      "71/71 - 0s - loss: 3015.3945 - val_loss: 3032.1155\n",
      "Epoch 72/100\n",
      "71/71 - 0s - loss: 3011.3586 - val_loss: 3039.6042\n",
      "Epoch 73/100\n",
      "71/71 - 0s - loss: 3002.7405 - val_loss: 3025.2939\n",
      "Epoch 74/100\n",
      "71/71 - 0s - loss: 3001.3711 - val_loss: 3019.2529\n",
      "Epoch 75/100\n",
      "71/71 - 0s - loss: 2996.1643 - val_loss: 3005.3965\n",
      "Epoch 76/100\n",
      "71/71 - 0s - loss: 2993.4983 - val_loss: 3011.7292\n",
      "Epoch 77/100\n",
      "71/71 - 0s - loss: 2989.2981 - val_loss: 3005.8665\n",
      "Epoch 78/100\n",
      "71/71 - 0s - loss: 2984.2349 - val_loss: 2999.2759\n",
      "Epoch 79/100\n",
      "71/71 - 0s - loss: 2987.5796 - val_loss: 2999.1570\n",
      "Epoch 80/100\n",
      "71/71 - 0s - loss: 2981.1877 - val_loss: 2994.8772\n",
      "Epoch 81/100\n",
      "71/71 - 0s - loss: 2977.8032 - val_loss: 2993.5623\n",
      "Epoch 82/100\n",
      "71/71 - 0s - loss: 2975.4231 - val_loss: 2989.3491\n",
      "Epoch 83/100\n",
      "71/71 - 0s - loss: 2975.2666 - val_loss: 2975.1104\n",
      "Epoch 84/100\n",
      "71/71 - 0s - loss: 2968.3276 - val_loss: 2985.2661\n",
      "Epoch 85/100\n",
      "71/71 - 0s - loss: 2966.2776 - val_loss: 2987.5872\n",
      "Epoch 86/100\n",
      "71/71 - 0s - loss: 2965.9990 - val_loss: 2980.4705\n",
      "Epoch 87/100\n",
      "71/71 - 0s - loss: 2962.5222 - val_loss: 2977.5859\n",
      "Epoch 88/100\n",
      "71/71 - 0s - loss: 2957.6074 - val_loss: 2976.3542\n",
      "Epoch 89/100\n",
      "71/71 - 0s - loss: 2955.6228 - val_loss: 2971.4478\n",
      "Epoch 90/100\n",
      "71/71 - 0s - loss: 2954.7781 - val_loss: 2971.1836\n",
      "Epoch 91/100\n",
      "71/71 - 0s - loss: 2955.8306 - val_loss: 2979.9880\n",
      "Epoch 92/100\n",
      "71/71 - 0s - loss: 2949.8975 - val_loss: 2962.6885\n",
      "Epoch 93/100\n",
      "71/71 - 0s - loss: 2949.7473 - val_loss: 2963.7046\n",
      "Epoch 94/100\n",
      "71/71 - 0s - loss: 2948.7993 - val_loss: 2958.8157\n",
      "Epoch 95/100\n",
      "71/71 - 0s - loss: 2949.8315 - val_loss: 2955.3164\n",
      "Epoch 96/100\n",
      "71/71 - 0s - loss: 2946.6853 - val_loss: 2955.6921\n",
      "Epoch 97/100\n",
      "71/71 - 0s - loss: 2946.0618 - val_loss: 2949.7061\n",
      "Epoch 98/100\n",
      "71/71 - 0s - loss: 2948.7483 - val_loss: 2948.5793\n",
      "Epoch 99/100\n",
      "71/71 - 0s - loss: 2945.9504 - val_loss: 2945.0940\n",
      "Epoch 100/100\n",
      "71/71 - 0s - loss: 2940.4939 - val_loss: 2942.5059\n"
     ]
    }
   ],
   "source": [
    "from tensorflow.keras.models import Sequential\n",
    "from tensorflow.keras.layers import Dense\n",
    "from sklearn.metrics import r2_score\n",
    "from sklearn.metrics import mean_squared_error\n",
    "import tensorflow as tf\n",
    "# 优化sgd的学习率lr\n",
    "from tensorflow.keras import optimizers\n",
    "# 构建网络结构\n",
    "def get_baseline1():\n",
    "    # 1. 构建网络\n",
    "    nn = Sequential() #初始化\n",
    "    nn.add(Dense(15, input_dim = 10 ,activation=tf.nn.leaky_relu))\n",
    "    nn.add(Dense(10,activation=tf.nn.leaky_relu))  \n",
    "    nn.add(Dense(1,activation='linear'))\n",
    "    print(nn.summary())\n",
    "    # 2. 编译网络\n",
    "    nn.compile(optimizer = 'adam', \n",
    "                  loss = 'mean_squared_error')   \n",
    "    return nn\n",
    "# 定义\n",
    "nn1 =get_baseline1()\n",
    "# 训练\n",
    "hs1=nn1.fit(\n",
    "    x=x_train,#特征\n",
    "    y=y_train,\n",
    "    batch_size=5, # 每个批次是五个样本，一共要更新404/5\n",
    "    epochs=100,\n",
    "    verbose=2, #0 不显示过程 1 精简显示 2 全显示\n",
    "    validation_data=(x_test,y_test)\n",
    ")"
   ]
  },
  {
   "cell_type": "code",
   "execution_count": 190,
   "metadata": {},
   "outputs": [
    {
     "data": {
      "image/png": "[encoded data removed]",
      "text/plain": [
       "<Figure size 576x360 with 1 Axes>"
      ]
     },
     "metadata": {
      "needs_background": "light"
     },
     "output_type": "display_data"
    }
   ],
   "source": [
    "#画图\n",
    "plot_loss(hs1)"
   ]
  },
  {
   "cell_type": "markdown",
   "metadata": {},
   "source": [
    "# 总结"
   ]
  },
  {
   "cell_type": "code",
   "execution_count": null,
   "metadata": {},
   "outputs": [],
   "source": [
    "# relu激活函数不适合测试集带有负数的 改成了leaky_relu   高级激活函数不能直接改名字需要导入包引用\n",
    "# 在保存后加载模型的同时也需要增加导入"
   ]
  }
 ],
 "metadata": {
  "kernelspec": {
   "display_name": "Python 3",
   "language": "python",
   "name": "python3"
  },
  "language_info": {
   "codemirror_mode": {
    "name": "ipython",
    "version": 3
   },
   "file_extension": ".py",
   "mimetype": "text/x-python",
   "name": "python",
   "nbconvert_exporter": "python",
   "pygments_lexer": "ipython3",
   "version": "3.8.5"
  },
  "varInspector": {
   "cols": {
    "lenName": 16,
    "lenType": 16,
    "lenVar": 40
   },
   "kernels_config": {
    "python": {
     "delete_cmd_postfix": "",
     "delete_cmd_prefix": "del ",
     "library": "var_list.py",
     "varRefreshCmd": "print(var_dic_list())"
    },
    "r": {
     "delete_cmd_postfix": ") ",
     "delete_cmd_prefix": "rm(",
     "library": "var_list.r",
     "varRefreshCmd": "cat(var_dic_list()) "
    }
   },
   "types_to_exclude": [
    "module",
    "function",
    "builtin_function_or_method",
    "instance",
    "_Feature"
   ],
   "window_display": false
  }
 },
 "nbformat": 4,
 "nbformat_minor": 4
}
