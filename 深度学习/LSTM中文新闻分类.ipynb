{
 "cells": [
  {
   "cell_type": "markdown",
   "metadata": {
    "heading_collapsed": true
   },
   "source": [
    "# 1.IMDB评论数据分类"
   ]
  },
  {
   "cell_type": "code",
   "execution_count": 44,
   "metadata": {
    "hidden": true
   },
   "outputs": [],
   "source": [
    "%matplotlib inline\n",
    "import pandas as pd\n",
    "import numpy as np\n",
    "import matplotlib.pyplot as plt\n",
    "import seaborn as sns\n",
    "from sklearn import metrics\n",
    "from sklearn.preprocessing import LabelEncoder\n",
    "from tensorflow.keras.models import Sequential\n",
    "from tensorflow.keras.layers import SimpleRNN, LSTM, Activation, Dense, Dropout, Input, Embedding, Flatten\n",
    "\n",
    "from tensorflow.keras.preprocessing.text import Tokenizer\n",
    "from tensorflow.keras.preprocessing import sequence\n",
    "from tensorflow.keras.callbacks import EarlyStopping\n",
    "from tensorflow.keras.optimizers import RMSprop\n",
    "\n",
    "import jieba  #分词\n",
    "import re   #正则表达式\n",
    "\n",
    "\n",
    "# 中文字体显示\n",
    "plt.rcParams['font.sans-serif'] = [u'SimHei']\n",
    "plt.rcParams['axes.unicode_minus'] = False"
   ]
  },
  {
   "cell_type": "code",
   "execution_count": 2,
   "metadata": {
    "hidden": true
   },
   "outputs": [
    {
     "name": "stderr",
     "output_type": "stream",
     "text": [
      "<__array_function__ internals>:5: VisibleDeprecationWarning: Creating an ndarray from ragged nested sequences (which is a list-or-tuple of lists-or-tuples-or ndarrays with different lengths or shapes) is deprecated. If you meant to do this, you must specify 'dtype=object' when creating the ndarray\n",
      "C:\\Anaconda3\\lib\\site-packages\\tensorflow\\python\\keras\\datasets\\imdb.py:159: VisibleDeprecationWarning: Creating an ndarray from ragged nested sequences (which is a list-or-tuple of lists-or-tuples-or ndarrays with different lengths or shapes) is deprecated. If you meant to do this, you must specify 'dtype=object' when creating the ndarray\n",
      "  x_train, y_train = np.array(xs[:idx]), np.array(labels[:idx])\n",
      "C:\\Anaconda3\\lib\\site-packages\\tensorflow\\python\\keras\\datasets\\imdb.py:160: VisibleDeprecationWarning: Creating an ndarray from ragged nested sequences (which is a list-or-tuple of lists-or-tuples-or ndarrays with different lengths or shapes) is deprecated. If you meant to do this, you must specify 'dtype=object' when creating the ndarray\n",
      "  x_test, y_test = np.array(xs[idx:]), np.array(labels[idx:])\n"
     ]
    },
    {
     "name": "stdout",
     "output_type": "stream",
     "text": [
      "(25000, 500)\n",
      "(25000, 500)\n"
     ]
    }
   ],
   "source": [
    "from tensorflow.keras.datasets import imdb  # 数据集\n",
    "\n",
    "# imdb数据加载，num_words: 需要保留的最大词数，基于词频。只有最常出现的 num_words 词会被保留。这里取常用词汇5000个，来组合成句子。\n",
    "(x_train, y_train), (x_test, y_test) = imdb.load_data(num_words = 10000,  seed=528)\n",
    "\n",
    "# 数据整形，对齐\n",
    "x_train_sq = sequence.pad_sequences(x_train, maxlen = 500, padding='pre', truncating='pre')\n",
    "x_test_sq = sequence.pad_sequences(x_test, maxlen = 500, padding='pre', truncating='pre')\n",
    "print(x_train_sq.shape)\n",
    "print(x_test_sq.shape)"
   ]
  },
  {
   "cell_type": "code",
   "execution_count": 6,
   "metadata": {
    "hidden": true
   },
   "outputs": [],
   "source": [
    "def plot_loss(hs):\n",
    "    plt.figure(figsize = (8,4))\n",
    "    plt.plot(hs.history['loss'], label = 'Train')  \n",
    "    plt.plot(hs.history['val_loss'],label = 'test')  \n",
    "    plt.title('Model loss')  \n",
    "    plt.ylabel('Loss')  \n",
    "    plt.xlabel('Epoch')  \n",
    "    plt.legend(loc=0)  # loc=0 表示最优位置，自动。也可以手动设置，如：'upper left'等\n",
    "    plt.show()\n",
    "    return"
   ]
  },
  {
   "cell_type": "markdown",
   "metadata": {
    "hidden": true
   },
   "source": [
    "## SimpleRNN "
   ]
  },
  {
   "cell_type": "code",
   "execution_count": 9,
   "metadata": {
    "hidden": true
   },
   "outputs": [
    {
     "name": "stdout",
     "output_type": "stream",
     "text": [
      "Model: \"sequential_1\"\n",
      "_________________________________________________________________\n",
      "Layer (type)                 Output Shape              Param #   \n",
      "=================================================================\n",
      "embedding_1 (Embedding)      (None, 500, 32)           320000    \n",
      "_________________________________________________________________\n",
      "simple_rnn (SimpleRNN)       (None, 30)                1890      \n",
      "_________________________________________________________________\n",
      "dense_1 (Dense)              (None, 1)                 31        \n",
      "=================================================================\n",
      "Total params: 321,921\n",
      "Trainable params: 321,921\n",
      "Non-trainable params: 0\n",
      "_________________________________________________________________\n"
     ]
    }
   ],
   "source": [
    "model=Sequential()\n",
    "model.add(Embedding(input_dim=10000,output_dim=32,input_length=500))\n",
    "model.add(SimpleRNN(30,activation='tanh',return_sequences=False))\n",
    "model.add(Dense(1,activation='sigmoid'))\n",
    "model.compile(optimizer = RMSprop(lr=0.001),\n",
    "              loss='binary_crossentropy', \n",
    "              metrics=['accuracy'])\n",
    "model.summary()"
   ]
  },
  {
   "cell_type": "code",
   "execution_count": 10,
   "metadata": {
    "hidden": true
   },
   "outputs": [
    {
     "name": "stdout",
     "output_type": "stream",
     "text": [
      "Model: \"sequential_2\"\n",
      "_________________________________________________________________\n",
      "Layer (type)                 Output Shape              Param #   \n",
      "=================================================================\n",
      "embedding_2 (Embedding)      (None, 500, 32)           320000    \n",
      "_________________________________________________________________\n",
      "simple_rnn_1 (SimpleRNN)     (None, 500, 30)           1890      \n",
      "_________________________________________________________________\n",
      "dense_2 (Dense)              (None, 500, 1)            31        \n",
      "=================================================================\n",
      "Total params: 321,921\n",
      "Trainable params: 321,921\n",
      "Non-trainable params: 0\n",
      "_________________________________________________________________\n"
     ]
    }
   ],
   "source": [
    "model = Sequential()\n",
    "model.add(Embedding(input_dim = 10000,    # 词汇表大小\n",
    "                    output_dim = 32,    # 词向量维度\n",
    "                    input_length = 500    # 输入序列的长度（pad_sequense之后）\n",
    "                   ))\n",
    "\n",
    "model.add(SimpleRNN(30, return_sequences=True))\n",
    "\n",
    "model.add(Dense(1, activation='sigmoid'))\n",
    "model.compile(optimizer = RMSprop(lr=0.001),\n",
    "              loss='binary_crossentropy', \n",
    "              metrics=['accuracy'])\n",
    "\n",
    "model.summary()"
   ]
  },
  {
   "cell_type": "code",
   "execution_count": 12,
   "metadata": {
    "hidden": true
   },
   "outputs": [
    {
     "name": "stdout",
     "output_type": "stream",
     "text": [
      "Epoch 1/3\n",
      "782/782 [==============================] - 790s 1s/step - loss: 0.6312 - accuracy: 0.6101 - val_loss: 0.6748 - val_accuracy: 0.6030\n",
      "Epoch 2/3\n",
      "782/782 [==============================] - 792s 1s/step - loss: 0.5890 - accuracy: 0.6359 - val_loss: 0.6223 - val_accuracy: 0.6081\n",
      "Epoch 3/3\n",
      "782/782 [==============================] - 840s 1s/step - loss: 0.5768 - accuracy: 0.6369 - val_loss: 0.6733 - val_accuracy: 0.5982\n"
     ]
    }
   ],
   "source": [
    "rnn=model.fit(x_train_sq, y_train, \n",
    "          validation_data=(x_test_sq, y_test), \n",
    "          epochs=3, \n",
    "          batch_size=32, \n",
    "          verbose=1)"
   ]
  },
  {
   "cell_type": "code",
   "execution_count": 13,
   "metadata": {
    "hidden": true
   },
   "outputs": [
    {
     "data": {
      "image/png": "[encoded data removed]",
      "text/plain": [
       "<Figure size 576x288 with 1 Axes>"
      ]
     },
     "metadata": {
      "needs_background": "light"
     },
     "output_type": "display_data"
    }
   ],
   "source": [
    "plot_loss(rnn)"
   ]
  },
  {
   "cell_type": "markdown",
   "metadata": {
    "hidden": true
   },
   "source": [
    "## LSTM"
   ]
  },
  {
   "cell_type": "code",
   "execution_count": 4,
   "metadata": {
    "hidden": true
   },
   "outputs": [
    {
     "name": "stdout",
     "output_type": "stream",
     "text": [
      "Model: \"sequential\"\n",
      "_________________________________________________________________\n",
      "Layer (type)                 Output Shape              Param #   \n",
      "=================================================================\n",
      "embedding (Embedding)        (None, 500, 32)           320000    \n",
      "_________________________________________________________________\n",
      "lstm (LSTM)                  (None, 30)                7560      \n",
      "_________________________________________________________________\n",
      "dense (Dense)                (None, 1)                 31        \n",
      "=================================================================\n",
      "Total params: 327,591\n",
      "Trainable params: 327,591\n",
      "Non-trainable params: 0\n",
      "_________________________________________________________________\n",
      "None\n"
     ]
    }
   ],
   "source": [
    "def imdb_lstm():\n",
    "    model = Sequential()\n",
    "    model.add(Embedding(input_dim = 10000,    # 词汇表大小\n",
    "                        output_dim = 32,    # 词向量维度\n",
    "                        input_length = 500    # 输入序列的长度（pad_sequense之后）\n",
    "                       ))\n",
    "    model.add(LSTM(30, activation = 'tanh', return_sequences=False))\n",
    "    model.add(Dense(1, activation='sigmoid'))\n",
    "\n",
    "    # 模型编译\n",
    "    model.compile(optimizer = RMSprop(lr=0.001),\n",
    "                  loss='binary_crossentropy', \n",
    "                  metrics=['accuracy'])\n",
    "    # 打印模型\n",
    "    print(model.summary())\n",
    "    return model\n",
    "imdb_lstm_model = imdb_lstm()"
   ]
  },
  {
   "cell_type": "code",
   "execution_count": 5,
   "metadata": {
    "hidden": true
   },
   "outputs": [
    {
     "name": "stdout",
     "output_type": "stream",
     "text": [
      "Epoch 1/5\n",
      "782/782 [==============================] - 29s 31ms/step - loss: 0.5056 - accuracy: 0.7405 - val_loss: 0.3832 - val_accuracy: 0.8533\n",
      "Epoch 2/5\n",
      "782/782 [==============================] - 23s 29ms/step - loss: 0.2581 - accuracy: 0.8993 - val_loss: 0.2855 - val_accuracy: 0.8822\n",
      "Epoch 3/5\n",
      "782/782 [==============================] - 23s 29ms/step - loss: 0.2135 - accuracy: 0.9203 - val_loss: 0.2862 - val_accuracy: 0.8832\n",
      "Epoch 4/5\n",
      "782/782 [==============================] - 22s 29ms/step - loss: 0.1921 - accuracy: 0.9297 - val_loss: 0.3092 - val_accuracy: 0.8766\n",
      "Epoch 5/5\n",
      "782/782 [==============================] - 22s 28ms/step - loss: 0.1760 - accuracy: 0.9360 - val_loss: 0.3838 - val_accuracy: 0.8390\n"
     ]
    }
   ],
   "source": [
    "lstm = imdb_lstm_model.fit(x_train_sq, y_train, \n",
    "                          validation_data=(x_test_sq, y_test), \n",
    "                          epochs=5, batch_size=32, verbose=1)"
   ]
  },
  {
   "cell_type": "code",
   "execution_count": 7,
   "metadata": {
    "hidden": true,
    "scrolled": false
   },
   "outputs": [
    {
     "data": {
      "image/png": "[encoded data removed]",
      "text/plain": [
       "<Figure size 576x288 with 1 Axes>"
      ]
     },
     "metadata": {
      "needs_background": "light"
     },
     "output_type": "display_data"
    }
   ],
   "source": [
    "plot_loss(lstm)"
   ]
  },
  {
   "cell_type": "code",
   "execution_count": 8,
   "metadata": {
    "hidden": true
   },
   "outputs": [
    {
     "data": {
      "text/plain": [
       "7560"
      ]
     },
     "execution_count": 8,
     "metadata": {},
     "output_type": "execute_result"
    }
   ],
   "source": [
    "#（节点*（向量+记忆）+偏置）*4\n",
    "(30*(32+30)+30)*4"
   ]
  },
  {
   "cell_type": "markdown",
   "metadata": {},
   "source": [
    "# 2.中文新闻数据的十分类"
   ]
  },
  {
   "cell_type": "markdown",
   "metadata": {
    "heading_collapsed": true
   },
   "source": [
    "## 1. 中文文本加载"
   ]
  },
  {
   "cell_type": "code",
   "execution_count": 45,
   "metadata": {
    "hidden": true
   },
   "outputs": [
    {
     "data": {
      "text/plain": [
       "((5000, 4), (500, 4), (500, 4))"
      ]
     },
     "execution_count": 45,
     "metadata": {},
     "output_type": "execute_result"
    }
   ],
   "source": [
    "train = pd.read_csv('./LSTM_news/small_news_train.csv')\n",
    "val = pd.read_csv('./LSTM_news/small_news_test.csv')\n",
    "test = pd.read_csv('./LSTM_news/small_news_val.csv')\n",
    "train.shape, val.shape, test.shape"
   ]
  },
  {
   "cell_type": "code",
   "execution_count": 46,
   "metadata": {
    "hidden": true
   },
   "outputs": [
    {
     "data": {
      "text/plain": [
       "'霍华德28+18魔术灭骑士 步行者击败篮网力保第八 新浪体育讯北京时间3月22日，步行者客场力取篮网；魔术在客场轻松过关，拿下骑士。以下是这两场比赛的综述：步行者102-篮网98(点击观看视频集锦)步行者(31-40)艰难过关。罗伊-希伯特拿下24分5个篮板，丹尼-格兰杰20分，达伦-科里森15分12次助攻。替补出场的约什-麦克罗伯茨14分，布兰顿-拉什10分7个篮板。篮网(22-47)四连败。德隆-威廉姆斯继续缺阵，布鲁克-洛佩斯得了20分，乔丹-法玛尔14分4次助攻，安东尼-莫罗12分6个篮板，克里斯-亨弗里斯9分14个篮板。替补出场的萨沙-武贾西奇得了14分，桑迪亚塔-盖恩斯18分。步行者保持东部第八的位置，不过只领先山猫和雄鹿一场半，所以剩下的每一场比赛都要全力以赴。篮网则已经基本没希望，所以也不急着让威廉姆斯复出。下半场步行者继续猛攻，本节最后3分37秒他们只让篮网投中一球，打出一波9-3后，69-61领先进入最后一节。篮网一度将差距缩小到4分，但格兰杰的拉什相继得手，步行者在末节将过半时以80-70再度拉开差距。篮网在终场前1分03秒由武贾西奇投中三分，将比分追成94-98，此后盖恩斯罚中一球，将差距缩小到3分。在一分钟内，他们三度投中三分，其中有两个出自武贾西奇之手。步行者连续投篮不中，给了篮网扳平的机会。盖恩斯关键时刻三分不中，武贾西奇的上篮也失手，篮网只得犯规，科里森两罚两中后，在终场前9.6秒以100-95领先。盖恩斯在终场前3.2秒终于三分命中，篮网只以98-100落后。科里森又两罚两中后，步行者保持4分的优势，锁定胜局。魔术97-骑士86魔术(45-26)三连胜。德怀特-霍华德拿下了28分18个篮板，他还盖帽4次，抢断4次。布兰顿-巴斯得了22分6个篮板，杰森-理查德森11分3个篮板。骑士(13-56)三连败，本赛季遭到横扫。JJ-希克森拿下了18分6个篮板，他是首发中唯一上双的球员。雷蒙-塞申斯9分、6个篮板和6次助攻。替补出场的丹尼尔-吉布森16分6次助攻，克里斯蒂安-艾恩加12分。拜伦-戴维斯继续缺阵。魔术重新找到感觉，靠的是出色的防守。上一场他们在最后时刻击败掘金，只让对手得了82分。面对骑士魔术打得较为轻松，不过上次交手时，霍华德陷入犯规困境，只得12分。今天霍华德全力进攻，还控制了篮板，魔术从第一节起就控制局面。霍华德四次篮下得手，其中包括三次扣篮，一人得了12分。他们在本节后半段打出一波21-6，一举以30-15取得优势。此后两节魔术不断扩大优势，特科格鲁在第二节结束前三分命中，他们以56-38遥遥领先。第三节他们一度领先26分，以80-58进入最后一节。最后一节霍华德仍留在场上，不给对手任何机会。(吴哥)'"
      ]
     },
     "execution_count": 46,
     "metadata": {},
     "output_type": "execute_result"
    }
   ],
   "source": [
    "train.text[0]"
   ]
  },
  {
   "cell_type": "code",
   "execution_count": 47,
   "metadata": {
    "hidden": true
   },
   "outputs": [
    {
     "data": {
      "text/plain": [
       "(家居    500\n",
       " 娱乐    500\n",
       " 体育    500\n",
       " 房产    500\n",
       " 时尚    500\n",
       " 时政    500\n",
       " 财经    500\n",
       " 教育    500\n",
       " 科技    500\n",
       " 游戏    500\n",
       " Name: label, dtype: int64,\n",
       " 房产    50\n",
       " 科技    50\n",
       " 家居    50\n",
       " 时尚    50\n",
       " 教育    50\n",
       " 财经    50\n",
       " 时政    50\n",
       " 游戏    50\n",
       " 娱乐    50\n",
       " 体育    50\n",
       " Name: label, dtype: int64,\n",
       " 房产    50\n",
       " 科技    50\n",
       " 家居    50\n",
       " 时尚    50\n",
       " 教育    50\n",
       " 财经    50\n",
       " 时政    50\n",
       " 游戏    50\n",
       " 娱乐    50\n",
       " 体育    50\n",
       " Name: label, dtype: int64)"
      ]
     },
     "execution_count": 47,
     "metadata": {},
     "output_type": "execute_result"
    }
   ],
   "source": [
    "train['label'].value_counts(), val['label'].value_counts(), test['label'].value_counts()"
   ]
  },
  {
   "cell_type": "code",
   "execution_count": 48,
   "metadata": {
    "hidden": true
   },
   "outputs": [
    {
     "name": "stdout",
     "output_type": "stream",
     "text": [
      "['体育', '娱乐', '家居', '房产', '教育', '时尚', '时政', '游戏', '科技', '财经']\n"
     ]
    }
   ],
   "source": [
    "train_y = train['label']\n",
    "val_y = val['label']\n",
    "test_y = test['label']\n",
    "\n",
    "# 对标签数据进行编码0-9\n",
    "le = LabelEncoder()\n",
    "train_y = le.fit_transform(train_y)\n",
    "val_y = le.transform(val_y)\n",
    "test_y = le.transform(test_y)\n",
    "\n",
    "class_names = list(le.classes_)\n",
    "print(class_names)"
   ]
  },
  {
   "cell_type": "markdown",
   "metadata": {
    "heading_collapsed": true
   },
   "source": [
    "## 2. 分词 "
   ]
  },
  {
   "cell_type": "code",
   "execution_count": 49,
   "metadata": {
    "hidden": true
   },
   "outputs": [
    {
     "data": {
      "text/plain": [
       "['$',\n",
       " '0',\n",
       " '1',\n",
       " '2',\n",
       " '3',\n",
       " '4',\n",
       " '5',\n",
       " '6',\n",
       " '7',\n",
       " '8',\n",
       " '9',\n",
       " '?',\n",
       " '_',\n",
       " '“',\n",
       " '”',\n",
       " '、',\n",
       " '。',\n",
       " '《',\n",
       " '》',\n",
       " '一',\n",
       " '一些',\n",
       " '一何',\n",
       " '一切',\n",
       " '一则',\n",
       " '一方面',\n",
       " '一旦',\n",
       " '一来',\n",
       " '一样',\n",
       " '一般',\n",
       " '一转眼',\n",
       " '万一',\n",
       " '上',\n",
       " '上下',\n",
       " '下',\n",
       " '不',\n",
       " '不仅',\n",
       " '不但',\n",
       " '不光',\n",
       " '不单',\n",
       " '不只',\n",
       " '不外乎',\n",
       " '不如',\n",
       " '不妨',\n",
       " '不尽',\n",
       " '不尽然',\n",
       " '不得',\n",
       " '不怕',\n",
       " '不惟',\n",
       " '不成',\n",
       " '不拘',\n",
       " '不料',\n",
       " '不是',\n",
       " '不比',\n",
       " '不然',\n",
       " '不特',\n",
       " '不独',\n",
       " '不管',\n",
       " '不至于',\n",
       " '不若',\n",
       " '不论',\n",
       " '不过',\n",
       " '不问',\n",
       " '与',\n",
       " '与其',\n",
       " '与其说',\n",
       " '与否',\n",
       " '与此同时',\n",
       " '且',\n",
       " '且不说',\n",
       " '且说',\n",
       " '两者',\n",
       " '个',\n",
       " '个别',\n",
       " '临',\n",
       " '为',\n",
       " '为了',\n",
       " '为什么',\n",
       " '为何',\n",
       " '为止',\n",
       " '为此',\n",
       " '为着',\n",
       " '乃',\n",
       " '乃至',\n",
       " '乃至于',\n",
       " '么',\n",
       " '之',\n",
       " '之一',\n",
       " '之所以',\n",
       " '之类',\n",
       " '乌乎',\n",
       " '乎',\n",
       " '乘',\n",
       " '也',\n",
       " '也好',\n",
       " '也罢',\n",
       " '了',\n",
       " '二来',\n",
       " '于',\n",
       " '于是',\n",
       " '于是乎',\n",
       " '云云',\n",
       " '云尔',\n",
       " '些',\n",
       " '亦',\n",
       " '人',\n",
       " '人们',\n",
       " '人家',\n",
       " '什么',\n",
       " '什么样',\n",
       " '今',\n",
       " '介于',\n",
       " '仍',\n",
       " '仍旧',\n",
       " '从',\n",
       " '从此',\n",
       " '从而',\n",
       " '他',\n",
       " '他人',\n",
       " '他们',\n",
       " '以',\n",
       " '以上',\n",
       " '以为',\n",
       " '以便',\n",
       " '以免',\n",
       " '以及',\n",
       " '以故',\n",
       " '以期',\n",
       " '以来',\n",
       " '以至',\n",
       " '以至于',\n",
       " '以致',\n",
       " '们',\n",
       " '任',\n",
       " '任何',\n",
       " '任凭',\n",
       " '似的',\n",
       " '但',\n",
       " '但凡',\n",
       " '但是',\n",
       " '何',\n",
       " '何以',\n",
       " '何况',\n",
       " '何处',\n",
       " '何时',\n",
       " '余外',\n",
       " '作为',\n",
       " '你',\n",
       " '你们',\n",
       " '使',\n",
       " '使得',\n",
       " '例如',\n",
       " '依',\n",
       " '依据',\n",
       " '依照',\n",
       " '便于',\n",
       " '俺',\n",
       " '俺们',\n",
       " '倘',\n",
       " '倘使',\n",
       " '倘或',\n",
       " '倘然',\n",
       " '倘若',\n",
       " '借',\n",
       " '假使',\n",
       " '假如',\n",
       " '假若',\n",
       " '傥然',\n",
       " '像',\n",
       " '儿',\n",
       " '先不先',\n",
       " '光是',\n",
       " '全体',\n",
       " '全部',\n",
       " '兮',\n",
       " '关于',\n",
       " '其',\n",
       " '其一',\n",
       " '其中',\n",
       " '其二',\n",
       " '其他',\n",
       " '其余',\n",
       " '其它',\n",
       " '其次',\n",
       " '具体地说',\n",
       " '具体说来',\n",
       " '兼之',\n",
       " '内',\n",
       " '再',\n",
       " '再其次',\n",
       " '再则',\n",
       " '再有',\n",
       " '再者',\n",
       " '再者说',\n",
       " '再说',\n",
       " '冒',\n",
       " '冲',\n",
       " '况且',\n",
       " '几',\n",
       " '几时',\n",
       " '凡',\n",
       " '凡是',\n",
       " '凭',\n",
       " '凭借',\n",
       " '出于',\n",
       " '出来',\n",
       " '分别',\n",
       " '则',\n",
       " '则甚',\n",
       " '别',\n",
       " '别人',\n",
       " '别处',\n",
       " '别是',\n",
       " '别的',\n",
       " '别管',\n",
       " '别说',\n",
       " '到',\n",
       " '前后',\n",
       " '前此',\n",
       " '前者',\n",
       " '加之',\n",
       " '加以',\n",
       " '即',\n",
       " '即令',\n",
       " '即使',\n",
       " '即便',\n",
       " '即如',\n",
       " '即或',\n",
       " '即若',\n",
       " '却',\n",
       " '去',\n",
       " '又',\n",
       " '又及',\n",
       " '及',\n",
       " '及其',\n",
       " '及至',\n",
       " '反之',\n",
       " '反而',\n",
       " '反过来',\n",
       " '反过来说',\n",
       " '受到',\n",
       " '另',\n",
       " '另一方面',\n",
       " '另外',\n",
       " '另悉',\n",
       " '只',\n",
       " '只当',\n",
       " '只怕',\n",
       " '只是',\n",
       " '只有',\n",
       " '只消',\n",
       " '只要',\n",
       " '只限',\n",
       " '叫',\n",
       " '叮咚',\n",
       " '可',\n",
       " '可以',\n",
       " '可是',\n",
       " '可见',\n",
       " '各',\n",
       " '各个',\n",
       " '各位',\n",
       " '各种',\n",
       " '各自',\n",
       " '同',\n",
       " '同时',\n",
       " '后',\n",
       " '后者',\n",
       " '向',\n",
       " '向使',\n",
       " '向着',\n",
       " '吓',\n",
       " '吗',\n",
       " '否则',\n",
       " '吧',\n",
       " '吧哒',\n",
       " '吱',\n",
       " '呀',\n",
       " '呃',\n",
       " '呕',\n",
       " '呗',\n",
       " '呜',\n",
       " '呜呼',\n",
       " '呢',\n",
       " '呵',\n",
       " '呵呵',\n",
       " '呸',\n",
       " '呼哧',\n",
       " '咋',\n",
       " '和',\n",
       " '咚',\n",
       " '咦',\n",
       " '咧',\n",
       " '咱',\n",
       " '咱们',\n",
       " '咳',\n",
       " '哇',\n",
       " '哈',\n",
       " '哈哈',\n",
       " '哉',\n",
       " '哎',\n",
       " '哎呀',\n",
       " '哎哟',\n",
       " '哗',\n",
       " '哟',\n",
       " '哦',\n",
       " '哩',\n",
       " '哪',\n",
       " '哪个',\n",
       " '哪些',\n",
       " '哪儿',\n",
       " '哪天',\n",
       " '哪年',\n",
       " '哪怕',\n",
       " '哪样',\n",
       " '哪边',\n",
       " '哪里',\n",
       " '哼',\n",
       " '哼唷',\n",
       " '唉',\n",
       " '唯有',\n",
       " '啊',\n",
       " '啐',\n",
       " '啥',\n",
       " '啦',\n",
       " '啪达',\n",
       " '啷当',\n",
       " '喂',\n",
       " '喏',\n",
       " '喔唷',\n",
       " '喽',\n",
       " '嗡',\n",
       " '嗡嗡',\n",
       " '嗬',\n",
       " '嗯',\n",
       " '嗳',\n",
       " '嘎',\n",
       " '嘎登',\n",
       " '嘘',\n",
       " '嘛',\n",
       " '嘻',\n",
       " '嘿',\n",
       " '嘿嘿',\n",
       " '因',\n",
       " '因为',\n",
       " '因了',\n",
       " '因此',\n",
       " '因着',\n",
       " '因而',\n",
       " '固然',\n",
       " '在',\n",
       " '在下',\n",
       " '在于',\n",
       " '地',\n",
       " '基于',\n",
       " '处在',\n",
       " '多',\n",
       " '多么',\n",
       " '多少',\n",
       " '大',\n",
       " '大家',\n",
       " '她',\n",
       " '她们',\n",
       " '好',\n",
       " '如',\n",
       " '如上',\n",
       " '如上所述',\n",
       " '如下',\n",
       " '如何',\n",
       " '如其',\n",
       " '如同',\n",
       " '如是',\n",
       " '如果',\n",
       " '如此',\n",
       " '如若',\n",
       " '始而',\n",
       " '孰料',\n",
       " '孰知',\n",
       " '宁',\n",
       " '宁可',\n",
       " '宁愿',\n",
       " '宁肯',\n",
       " '它',\n",
       " '它们',\n",
       " '对',\n",
       " '对于',\n",
       " '对待',\n",
       " '对方',\n",
       " '对比',\n",
       " '将',\n",
       " '小',\n",
       " '尔',\n",
       " '尔后',\n",
       " '尔尔',\n",
       " '尚且',\n",
       " '就',\n",
       " '就是',\n",
       " '就是了',\n",
       " '就是说',\n",
       " '就算',\n",
       " '就要',\n",
       " '尽',\n",
       " '尽管',\n",
       " '尽管如此',\n",
       " '岂但',\n",
       " '己',\n",
       " '已',\n",
       " '已矣',\n",
       " '巴',\n",
       " '巴巴',\n",
       " '并',\n",
       " '并且',\n",
       " '并非',\n",
       " '庶乎',\n",
       " '庶几',\n",
       " '开外',\n",
       " '开始',\n",
       " '归',\n",
       " '归齐',\n",
       " '当',\n",
       " '当地',\n",
       " '当然',\n",
       " '当着',\n",
       " '彼',\n",
       " '彼时',\n",
       " '彼此',\n",
       " '往',\n",
       " '待',\n",
       " '很',\n",
       " '得',\n",
       " '得了',\n",
       " '怎',\n",
       " '怎么',\n",
       " '怎么办',\n",
       " '怎么样',\n",
       " '怎奈',\n",
       " '怎样',\n",
       " '总之',\n",
       " '总的来看',\n",
       " '总的来说',\n",
       " '总的说来',\n",
       " '总而言之',\n",
       " '恰恰相反',\n",
       " '您',\n",
       " '惟其',\n",
       " '慢说',\n",
       " '我',\n",
       " '我们',\n",
       " '或',\n",
       " '或则',\n",
       " '或是',\n",
       " '或曰',\n",
       " '或者',\n",
       " '截至',\n",
       " '所',\n",
       " '所以',\n",
       " '所在',\n",
       " '所幸',\n",
       " '所有',\n",
       " '才',\n",
       " '才能',\n",
       " '打',\n",
       " '打从',\n",
       " '把',\n",
       " '抑或',\n",
       " '拿',\n",
       " '按',\n",
       " '按照',\n",
       " '换句话说',\n",
       " '换言之',\n",
       " '据',\n",
       " '据此',\n",
       " '接着',\n",
       " '故',\n",
       " '故此',\n",
       " '故而',\n",
       " '旁人',\n",
       " '无',\n",
       " '无宁',\n",
       " '无论',\n",
       " '既',\n",
       " '既往',\n",
       " '既是',\n",
       " '既然',\n",
       " '时候',\n",
       " '是',\n",
       " '是以',\n",
       " '是的',\n",
       " '曾',\n",
       " '替',\n",
       " '替代',\n",
       " '最',\n",
       " '有',\n",
       " '有些',\n",
       " '有关',\n",
       " '有及',\n",
       " '有时',\n",
       " '有的',\n",
       " '望',\n",
       " '朝',\n",
       " '朝着',\n",
       " '本',\n",
       " '本人',\n",
       " '本地',\n",
       " '本着',\n",
       " '本身',\n",
       " '来',\n",
       " '来着',\n",
       " '来自',\n",
       " '来说',\n",
       " '极了',\n",
       " '果然',\n",
       " '果真',\n",
       " '某',\n",
       " '某个',\n",
       " '某些',\n",
       " '某某',\n",
       " '根据',\n",
       " '欤',\n",
       " '正值',\n",
       " '正如',\n",
       " '正巧',\n",
       " '正是',\n",
       " '此',\n",
       " '此地',\n",
       " '此处',\n",
       " '此外',\n",
       " '此时',\n",
       " '此次',\n",
       " '此间',\n",
       " '毋宁',\n",
       " '每',\n",
       " '每当',\n",
       " '比',\n",
       " '比及',\n",
       " '比如',\n",
       " '比方',\n",
       " '没奈何',\n",
       " '沿',\n",
       " '沿着',\n",
       " '漫说',\n",
       " '焉',\n",
       " '然则',\n",
       " '然后',\n",
       " '然而',\n",
       " '照',\n",
       " '照着',\n",
       " '犹且',\n",
       " '犹自',\n",
       " '甚且',\n",
       " '甚么',\n",
       " '甚或',\n",
       " '甚而',\n",
       " '甚至',\n",
       " '甚至于',\n",
       " '用',\n",
       " '用来',\n",
       " '由',\n",
       " '由于',\n",
       " '由是',\n",
       " '由此',\n",
       " '由此可见',\n",
       " '的',\n",
       " '的确',\n",
       " '的话',\n",
       " '直到',\n",
       " '相对而言',\n",
       " '省得',\n",
       " '看',\n",
       " '眨眼',\n",
       " '着',\n",
       " '着呢',\n",
       " '矣',\n",
       " '矣乎',\n",
       " '矣哉',\n",
       " '离',\n",
       " '竟而',\n",
       " '第',\n",
       " '等',\n",
       " '等到',\n",
       " '等等',\n",
       " '简言之',\n",
       " '管',\n",
       " '类如',\n",
       " '紧接着',\n",
       " '纵',\n",
       " '纵令',\n",
       " '纵使',\n",
       " '纵然',\n",
       " '经',\n",
       " '经过',\n",
       " '结果',\n",
       " '给',\n",
       " '继之',\n",
       " '继后',\n",
       " '继而',\n",
       " '综上所述',\n",
       " '罢了',\n",
       " '者',\n",
       " '而',\n",
       " '而且',\n",
       " '而况',\n",
       " '而后',\n",
       " '而外',\n",
       " '而已',\n",
       " '而是',\n",
       " '而言',\n",
       " '能',\n",
       " '能否',\n",
       " '腾',\n",
       " '自',\n",
       " '自个儿',\n",
       " '自从',\n",
       " '自各儿',\n",
       " '自后',\n",
       " '自家',\n",
       " '自己',\n",
       " '自打',\n",
       " '自身',\n",
       " '至',\n",
       " '至于',\n",
       " '至今',\n",
       " '至若',\n",
       " '致',\n",
       " '般的',\n",
       " '若',\n",
       " '若夫',\n",
       " '若是',\n",
       " '若果',\n",
       " '若非',\n",
       " '莫不然',\n",
       " '莫如',\n",
       " '莫若',\n",
       " '虽',\n",
       " '虽则',\n",
       " '虽然',\n",
       " '虽说',\n",
       " '被',\n",
       " '要',\n",
       " '要不',\n",
       " '要不是',\n",
       " '要不然',\n",
       " '要么',\n",
       " '要是',\n",
       " '譬喻',\n",
       " '譬如',\n",
       " '让',\n",
       " '许多',\n",
       " '论',\n",
       " '设使',\n",
       " '设或',\n",
       " '设若',\n",
       " '诚如',\n",
       " '诚然',\n",
       " '该',\n",
       " '说来',\n",
       " '诸',\n",
       " '诸位',\n",
       " '诸如',\n",
       " '谁',\n",
       " '谁人',\n",
       " '谁料',\n",
       " '谁知',\n",
       " '贼死',\n",
       " '赖以',\n",
       " '赶',\n",
       " '起',\n",
       " '起见',\n",
       " '趁',\n",
       " '趁着',\n",
       " '越是',\n",
       " '距',\n",
       " '跟',\n",
       " '较',\n",
       " '较之',\n",
       " '边',\n",
       " '过',\n",
       " '还',\n",
       " '还是',\n",
       " '还有',\n",
       " '还要',\n",
       " '这',\n",
       " '这一来',\n",
       " '这个',\n",
       " '这么',\n",
       " '这么些',\n",
       " '这么样',\n",
       " '这么点儿',\n",
       " '这些',\n",
       " '这会儿',\n",
       " '这儿',\n",
       " '这就是说',\n",
       " '这时',\n",
       " '这样',\n",
       " '这次',\n",
       " '这般',\n",
       " '这边',\n",
       " '这里',\n",
       " '进而',\n",
       " '连',\n",
       " '连同',\n",
       " '逐步',\n",
       " '通过',\n",
       " '遵循',\n",
       " '遵照',\n",
       " '那',\n",
       " '那个',\n",
       " '那么',\n",
       " '那么些',\n",
       " '那么样',\n",
       " '那些',\n",
       " '那会儿',\n",
       " '那儿',\n",
       " '那时',\n",
       " '那样',\n",
       " '那般',\n",
       " '那边',\n",
       " '那里',\n",
       " '都',\n",
       " '鄙人',\n",
       " '鉴于',\n",
       " '针对',\n",
       " '阿',\n",
       " '除',\n",
       " '除了',\n",
       " '除外',\n",
       " '除开',\n",
       " '除此之外',\n",
       " '除非',\n",
       " '随',\n",
       " '随后',\n",
       " '随时',\n",
       " '随着',\n",
       " '难道说',\n",
       " '非但',\n",
       " '非徒',\n",
       " '非特',\n",
       " '非独',\n",
       " '靠',\n",
       " '顺',\n",
       " '顺着',\n",
       " '首先',\n",
       " '！',\n",
       " '，',\n",
       " '：',\n",
       " '；',\n",
       " '？']"
      ]
     },
     "execution_count": 49,
     "metadata": {},
     "output_type": "execute_result"
    }
   ],
   "source": [
    "def stopwordslist(filepath):  \n",
    "    stopwords = [line.strip() for line in open(filepath, 'r', encoding='utf-8').readlines()]   #line.strip() 去除开尾空格\n",
    "    return stopwords\n",
    "stopwords = stopwordslist('./LSTM_news/cn_stopwords.txt')\n",
    "stopwords"
   ]
  },
  {
   "cell_type": "code",
   "execution_count": 50,
   "metadata": {
    "hidden": true
   },
   "outputs": [
    {
     "data": {
      "text/html": [
       "<div>\n",
       "<style scoped>\n",
       "    .dataframe tbody tr th:only-of-type {\n",
       "        vertical-align: middle;\n",
       "    }\n",
       "\n",
       "    .dataframe tbody tr th {\n",
       "        vertical-align: top;\n",
       "    }\n",
       "\n",
       "    .dataframe thead th {\n",
       "        text-align: right;\n",
       "    }\n",
       "</style>\n",
       "<table border=\"1\" class=\"dataframe\">\n",
       "  <thead>\n",
       "    <tr style=\"text-align: right;\">\n",
       "      <th></th>\n",
       "      <th>label</th>\n",
       "      <th>Unnamed: 1</th>\n",
       "      <th>label.1</th>\n",
       "      <th>text</th>\n",
       "      <th>clean_text</th>\n",
       "    </tr>\n",
       "  </thead>\n",
       "  <tbody>\n",
       "    <tr>\n",
       "      <th>0</th>\n",
       "      <td>体育</td>\n",
       "      <td>4796</td>\n",
       "      <td>体育</td>\n",
       "      <td>霍华德28+18魔术灭骑士 步行者击败篮网力保第八 新浪体育讯北京时间3月22日，步行者客场...</td>\n",
       "      <td>霍华德28 18魔术灭骑士 步行者击败篮网力保第八 新浪体育讯北京时间3月22日 步行者客场...</td>\n",
       "    </tr>\n",
       "    <tr>\n",
       "      <th>1</th>\n",
       "      <td>体育</td>\n",
       "      <td>1739</td>\n",
       "      <td>体育</td>\n",
       "      <td>火箭新星：李小龙是我表哥 从小看着米勒时刻长大新浪体育讯对于库特尼-李，你都知道些什么？当年...</td>\n",
       "      <td>火箭新星 李小龙是我表哥 从小看着米勒时刻长大新浪体育讯对于库特尼 李 你都知道些什么 当年...</td>\n",
       "    </tr>\n",
       "    <tr>\n",
       "      <th>2</th>\n",
       "      <td>体育</td>\n",
       "      <td>3486</td>\n",
       "      <td>体育</td>\n",
       "      <td>大宝贝暴扣玩砸无伤大雅 实为替补他却让对手低头新浪体育讯北京时间2月14日凌晨，NBA东部联...</td>\n",
       "      <td>大宝贝暴扣玩砸无伤大雅 实为替补他却让对手低头新浪体育讯北京时间2月14日凌晨 NBA东部联...</td>\n",
       "    </tr>\n",
       "  </tbody>\n",
       "</table>\n",
       "</div>"
      ],
      "text/plain": [
       "  label  Unnamed: 1 label.1  \\\n",
       "0    体育        4796      体育   \n",
       "1    体育        1739      体育   \n",
       "2    体育        3486      体育   \n",
       "\n",
       "                                                text  \\\n",
       "0  霍华德28+18魔术灭骑士 步行者击败篮网力保第八 新浪体育讯北京时间3月22日，步行者客场...   \n",
       "1  火箭新星：李小龙是我表哥 从小看着米勒时刻长大新浪体育讯对于库特尼-李，你都知道些什么？当年...   \n",
       "2  大宝贝暴扣玩砸无伤大雅 实为替补他却让对手低头新浪体育讯北京时间2月14日凌晨，NBA东部联...   \n",
       "\n",
       "                                          clean_text  \n",
       "0  霍华德28 18魔术灭骑士 步行者击败篮网力保第八 新浪体育讯北京时间3月22日 步行者客场...  \n",
       "1  火箭新星 李小龙是我表哥 从小看着米勒时刻长大新浪体育讯对于库特尼 李 你都知道些什么 当年...  \n",
       "2  大宝贝暴扣玩砸无伤大雅 实为替补他却让对手低头新浪体育讯北京时间2月14日凌晨 NBA东部联...  "
      ]
     },
     "execution_count": 50,
     "metadata": {},
     "output_type": "execute_result"
    }
   ],
   "source": [
    "def remove_otherwords(text):\n",
    "    text = str(text)\n",
    "    if text.strip()=='':\n",
    "        return ''\n",
    "    rule = re.compile(u\"[^a-zA-Z0-9\\u4E00-\\u9FA5]\")\n",
    "    text = rule.sub(' ',text)\n",
    "    return text\n",
    "train['clean_text'] = train['text'].apply(remove_otherwords)\n",
    "train.head(3)"
   ]
  },
  {
   "cell_type": "code",
   "execution_count": 51,
   "metadata": {
    "hidden": true
   },
   "outputs": [
    {
     "data": {
      "text/html": [
       "<div>\n",
       "<style scoped>\n",
       "    .dataframe tbody tr th:only-of-type {\n",
       "        vertical-align: middle;\n",
       "    }\n",
       "\n",
       "    .dataframe tbody tr th {\n",
       "        vertical-align: top;\n",
       "    }\n",
       "\n",
       "    .dataframe thead th {\n",
       "        text-align: right;\n",
       "    }\n",
       "</style>\n",
       "<table border=\"1\" class=\"dataframe\">\n",
       "  <thead>\n",
       "    <tr style=\"text-align: right;\">\n",
       "      <th></th>\n",
       "      <th>label</th>\n",
       "      <th>Unnamed: 1</th>\n",
       "      <th>label.1</th>\n",
       "      <th>text</th>\n",
       "      <th>clean_text</th>\n",
       "      <th>cut_text</th>\n",
       "    </tr>\n",
       "  </thead>\n",
       "  <tbody>\n",
       "    <tr>\n",
       "      <th>0</th>\n",
       "      <td>体育</td>\n",
       "      <td>4796</td>\n",
       "      <td>体育</td>\n",
       "      <td>霍华德28+18魔术灭骑士 步行者击败篮网力保第八 新浪体育讯北京时间3月22日，步行者客场...</td>\n",
       "      <td>霍华德28 18魔术灭骑士 步行者击败篮网力保第八 新浪体育讯北京时间3月22日 步行者客场...</td>\n",
       "      <td>霍华德 28   18 魔术 灭 骑士   步行者 击败 篮网 力保 第八   新浪 体育讯...</td>\n",
       "    </tr>\n",
       "    <tr>\n",
       "      <th>1</th>\n",
       "      <td>体育</td>\n",
       "      <td>1739</td>\n",
       "      <td>体育</td>\n",
       "      <td>火箭新星：李小龙是我表哥 从小看着米勒时刻长大新浪体育讯对于库特尼-李，你都知道些什么？当年...</td>\n",
       "      <td>火箭新星 李小龙是我表哥 从小看着米勒时刻长大新浪体育讯对于库特尼 李 你都知道些什么 当年...</td>\n",
       "      <td>火箭 新星   李小龙 表哥   从小 看着 米勒 时刻 长大 新浪 体育讯 库特 尼   ...</td>\n",
       "    </tr>\n",
       "    <tr>\n",
       "      <th>2</th>\n",
       "      <td>体育</td>\n",
       "      <td>3486</td>\n",
       "      <td>体育</td>\n",
       "      <td>大宝贝暴扣玩砸无伤大雅 实为替补他却让对手低头新浪体育讯北京时间2月14日凌晨，NBA东部联...</td>\n",
       "      <td>大宝贝暴扣玩砸无伤大雅 实为替补他却让对手低头新浪体育讯北京时间2月14日凌晨 NBA东部联...</td>\n",
       "      <td>宝贝 暴扣 玩 砸 无伤大雅   实为 替补 对手 低头 新浪 体育讯 北京 时间 月 14...</td>\n",
       "    </tr>\n",
       "  </tbody>\n",
       "</table>\n",
       "</div>"
      ],
      "text/plain": [
       "  label  Unnamed: 1 label.1  \\\n",
       "0    体育        4796      体育   \n",
       "1    体育        1739      体育   \n",
       "2    体育        3486      体育   \n",
       "\n",
       "                                                text  \\\n",
       "0  霍华德28+18魔术灭骑士 步行者击败篮网力保第八 新浪体育讯北京时间3月22日，步行者客场...   \n",
       "1  火箭新星：李小龙是我表哥 从小看着米勒时刻长大新浪体育讯对于库特尼-李，你都知道些什么？当年...   \n",
       "2  大宝贝暴扣玩砸无伤大雅 实为替补他却让对手低头新浪体育讯北京时间2月14日凌晨，NBA东部联...   \n",
       "\n",
       "                                          clean_text  \\\n",
       "0  霍华德28 18魔术灭骑士 步行者击败篮网力保第八 新浪体育讯北京时间3月22日 步行者客场...   \n",
       "1  火箭新星 李小龙是我表哥 从小看着米勒时刻长大新浪体育讯对于库特尼 李 你都知道些什么 当年...   \n",
       "2  大宝贝暴扣玩砸无伤大雅 实为替补他却让对手低头新浪体育讯北京时间2月14日凌晨 NBA东部联...   \n",
       "\n",
       "                                            cut_text  \n",
       "0  霍华德 28   18 魔术 灭 骑士   步行者 击败 篮网 力保 第八   新浪 体育讯...  \n",
       "1  火箭 新星   李小龙 表哥   从小 看着 米勒 时刻 长大 新浪 体育讯 库特 尼   ...  \n",
       "2  宝贝 暴扣 玩 砸 无伤大雅   实为 替补 对手 低头 新浪 体育讯 北京 时间 月 14...  "
      ]
     },
     "execution_count": 51,
     "metadata": {},
     "output_type": "execute_result"
    }
   ],
   "source": [
    "train['cut_text'] = train['clean_text'].apply(lambda x: \" \".join([w for w in list(jieba.cut(x)) if w not in stopwords]))\n",
    "train.head(3)"
   ]
  },
  {
   "cell_type": "code",
   "execution_count": 52,
   "metadata": {
    "hidden": true
   },
   "outputs": [
    {
     "data": {
      "text/plain": [
       "count     5000.000000\n",
       "mean       500.418400\n",
       "std        501.491861\n",
       "min          8.000000\n",
       "25%        196.750000\n",
       "50%        383.000000\n",
       "75%        630.000000\n",
       "max      10708.000000\n",
       "Name: cut_words_num, dtype: float64"
      ]
     },
     "execution_count": 52,
     "metadata": {},
     "output_type": "execute_result"
    }
   ],
   "source": [
    "# 计算分词后的句子的分词数量\n",
    "train['cut_words_num'] = train['cut_text'].str.split(\" \").apply(len)\n",
    "train['cut_words_num'].describe()"
   ]
  },
  {
   "cell_type": "code",
   "execution_count": 53,
   "metadata": {
    "hidden": true
   },
   "outputs": [],
   "source": [
    "# 定义一个数据预处理的函数：\n",
    "def text_process(df,stopwords):\n",
    "    # （1）生成“干净”的文本\n",
    "    df['clean_text'] = df['text'].apply(remove_otherwords)  \n",
    "    # （2）分词，并过滤停用词\n",
    "    df['cut_text'] = df['clean_text'].apply(lambda x: \" \".join([w for w in list(jieba.cut(x)) if w not in stopwords]))   \n",
    "    # （3）计算分词后的句子的分词数量\n",
    "    df['cut_words_num'] = df['cut_text'].str.split(\" \").apply(len)\n",
    "    return df"
   ]
  },
  {
   "cell_type": "code",
   "execution_count": 54,
   "metadata": {
    "hidden": true
   },
   "outputs": [
    {
     "data": {
      "text/plain": [
       "(  label  Unnamed: 1 label.1  \\\n",
       " 0    体育        4796      体育   \n",
       " 1    体育        1739      体育   \n",
       " 2    体育        3486      体育   \n",
       " \n",
       "                                                 text  \\\n",
       " 0  霍华德28+18魔术灭骑士 步行者击败篮网力保第八 新浪体育讯北京时间3月22日，步行者客场...   \n",
       " 1  火箭新星：李小龙是我表哥 从小看着米勒时刻长大新浪体育讯对于库特尼-李，你都知道些什么？当年...   \n",
       " 2  大宝贝暴扣玩砸无伤大雅 实为替补他却让对手低头新浪体育讯北京时间2月14日凌晨，NBA东部联...   \n",
       " \n",
       "                                           clean_text  \\\n",
       " 0  霍华德28 18魔术灭骑士 步行者击败篮网力保第八 新浪体育讯北京时间3月22日 步行者客场...   \n",
       " 1  火箭新星 李小龙是我表哥 从小看着米勒时刻长大新浪体育讯对于库特尼 李 你都知道些什么 当年...   \n",
       " 2  大宝贝暴扣玩砸无伤大雅 实为替补他却让对手低头新浪体育讯北京时间2月14日凌晨 NBA东部联...   \n",
       " \n",
       "                                             cut_text  cut_words_num  \n",
       " 0  霍华德 28   18 魔术 灭 骑士   步行者 击败 篮网 力保 第八   新浪 体育讯...            708  \n",
       " 1  火箭 新星   李小龙 表哥   从小 看着 米勒 时刻 长大 新浪 体育讯 库特 尼   ...            889  \n",
       " 2  宝贝 暴扣 玩 砸 无伤大雅   实为 替补 对手 低头 新浪 体育讯 北京 时间 月 14...            527  ,\n",
       "   label  Unnamed: 1 label.1  \\\n",
       " 0    体育         764      体育   \n",
       " 1    体育         532      体育   \n",
       " 2    体育         123      体育   \n",
       " \n",
       "                                                 text  \\\n",
       " 0  双子不出手雷霆居然更强 生死数据他们竟三倍掘金新浪体育讯季后赛的战场上，所有的教练都不会让板...   \n",
       " 1  马丁28分火箭仍遭到横扫 小牛内战过关抢西部第二新浪体育讯北京时间4月12日，得州内战，火箭...   \n",
       " 2  火箭引援计划曝光：考虑国王老将 中锋小前是首选新浪体育讯北京时间4月1日消息，《休斯敦纪事报...   \n",
       " \n",
       "                                           clean_text  \\\n",
       " 0  双子不出手雷霆居然更强 生死数据他们竟三倍掘金新浪体育讯季后赛的战场上 所有的教练都不会让板...   \n",
       " 1  马丁28分火箭仍遭到横扫 小牛内战过关抢西部第二新浪体育讯北京时间4月12日 得州内战 火箭...   \n",
       " 2  火箭引援计划曝光 考虑国王老将 中锋小前是首选新浪体育讯北京时间4月1日消息  休斯敦纪事报...   \n",
       " \n",
       "                                             cut_text  cut_words_num  \n",
       " 0  双子 出手 雷霆 居然 更强   生死 数据 竟 三倍 掘金 新浪 体育讯 季后赛 战场  ...            775  \n",
       " 1  马丁 28 分 火箭 遭到 横扫   小牛 内战 过关 抢 西部 第二 新浪 体育讯 北京 ...            768  \n",
       " 2  火箭 引援 计划 曝光   考虑 国王 老将   中锋 小前 首选 新浪 体育讯 北京 时间...            375  ,\n",
       "   label  Unnamed: 1 label.1  \\\n",
       " 0    体育         397      体育   \n",
       " 1    体育         482      体育   \n",
       " 2    体育         455      体育   \n",
       " \n",
       "                                                 text  \\\n",
       " 0  老鹰vs公牛前瞻V：天王山之战 32投？罗斯不惧骂名新浪体育讯北京时间5月11日上午8点，公...   \n",
       " 1  罗斯谈热火：东区决赛会非常有趣 现在的热火不一样新浪体育讯北京时间5月13日，根据ESPN消...   \n",
       " 2  科比：我有办法让湖人回巅峰 谁说我们完蛋了扯淡!新浪体育讯北京时间5月12日，如果湖人今年能...   \n",
       " \n",
       "                                           clean_text  \\\n",
       " 0  老鹰vs公牛前瞻V 天王山之战 32投 罗斯不惧骂名新浪体育讯北京时间5月11日上午8点 公...   \n",
       " 1  罗斯谈热火 东区决赛会非常有趣 现在的热火不一样新浪体育讯北京时间5月13日 根据ESPN消...   \n",
       " 2  科比 我有办法让湖人回巅峰 谁说我们完蛋了扯淡 新浪体育讯北京时间5月12日 如果湖人今年能...   \n",
       " \n",
       "                                             cut_text  cut_words_num  \n",
       " 0  老鹰 vs 公牛 前瞻 V   天王 山之战   32 投   罗斯 惧 骂名 新浪 体育讯...            506  \n",
       " 1  罗斯 谈 热火   东区 决赛 会 非常 有趣   现在 热火 新浪 体育讯 北京 时间 月...            374  \n",
       " 2  科比   办法 湖人 回 巅峰   说 完蛋 扯淡   新浪 体育讯 北京 时间 月 12 ...            487  )"
      ]
     },
     "execution_count": 54,
     "metadata": {},
     "output_type": "execute_result"
    }
   ],
   "source": [
    "stopwords = stopwordslist('./LSTM_news/cn_stopwords.txt')\n",
    "train = text_process(train,stopwords)\n",
    "val = text_process(val,stopwords)\n",
    "test = text_process(test,stopwords)\n",
    "train.head(3), val.head(3), test.head(3)"
   ]
  },
  {
   "cell_type": "code",
   "execution_count": 55,
   "metadata": {
    "hidden": true
   },
   "outputs": [
    {
     "name": "stdout",
     "output_type": "stream",
     "text": [
      "write successfully\n"
     ]
    }
   ],
   "source": [
    "train.to_csv('./LSTM_news/train_cut.csv', encoding = 'utf-8')\n",
    "val.to_csv('./LSTM_news/val_cut.csv', encoding = 'utf-8')\n",
    "test.to_csv('./LSTM_news/test_cut.csv', encoding = 'utf-8')\n",
    "print(\"write successfully\")"
   ]
  },
  {
   "cell_type": "markdown",
   "metadata": {
    "heading_collapsed": true
   },
   "source": [
    "## 3. 词汇编码 "
   ]
  },
  {
   "cell_type": "code",
   "execution_count": 56,
   "metadata": {
    "hidden": true
   },
   "outputs": [
    {
     "data": {
      "text/plain": [
       "<keras_preprocessing.text.Tokenizer at 0x22dbc4e9a90>"
      ]
     },
     "execution_count": 56,
     "metadata": {},
     "output_type": "execute_result"
    }
   ],
   "source": [
    "# num_words: 需要保留的最大词数，基于词频。只有最常出现的 num_words 词会被保留。\n",
    "    \n",
    "tok = Tokenizer(num_words = 5000)   # 使用的最大词语数为5000\n",
    "tok.fit_on_texts(train['cut_text'])  # 直接用train里面cut好的句子来fit\n",
    "tok"
   ]
  },
  {
   "cell_type": "code",
   "execution_count": 57,
   "metadata": {
    "hidden": true
   },
   "outputs": [
    {
     "name": "stdout",
     "output_type": "stream",
     "text": [
      "编码：\n",
      "('中', 1)\n",
      "('月', 2)\n",
      "('一个', 3)\n",
      "('年', 4)\n",
      "('会', 5)\n",
      "('中国', 6)\n",
      "('说', 7)\n",
      "('基金', 8)\n",
      "频数：\n",
      "('霍华德', 107)\n",
      "('28', 419)\n",
      "('18', 690)\n",
      "('魔术', 183)\n",
      "('灭', 9)\n",
      "('骑士', 198)\n",
      "('步行者', 98)\n",
      "('击败', 153)\n"
     ]
    }
   ],
   "source": [
    "# 使用word_index属性可以看到每次词对应的编码\n",
    "# 使用word_counts属性可以看到每个词对应的频数\n",
    "print(\"编码：\")\n",
    "for ii,iterm in enumerate(tok.word_index.items()):  #enumerate 枚举类型\n",
    "    if ii < 8:\n",
    "        print(iterm)\n",
    "    else:\n",
    "        break\n",
    "print(\"频数：\")  \n",
    "for ii,iterm in enumerate(tok.word_counts.items()):\n",
    "    if ii < 8:\n",
    "        print(iterm)\n",
    "    else:\n",
    "        break"
   ]
  },
  {
   "cell_type": "markdown",
   "metadata": {
    "heading_collapsed": true
   },
   "source": [
    "## 4. 句子对齐 "
   ]
  },
  {
   "cell_type": "code",
   "execution_count": 58,
   "metadata": {
    "hidden": true
   },
   "outputs": [],
   "source": [
    "#使用tok.texts_to_sequences()：将按“ ”切分的文本 → 序列。\n",
    "train_seq = tok.texts_to_sequences(train['cut_text'])\n",
    "val_seq = tok.texts_to_sequences(val['cut_text'])\n",
    "test_seq = tok.texts_to_sequences(test['cut_text'])"
   ]
  },
  {
   "cell_type": "code",
   "execution_count": 59,
   "metadata": {
    "hidden": true
   },
   "outputs": [
    {
     "name": "stdout",
     "output_type": "stream",
     "text": [
      "(5000, 500)\n",
      "(500, 500)\n",
      "(500, 500)\n"
     ]
    },
    {
     "data": {
      "text/plain": [
       "array([[   0,    0,    0,    0,    0,    0,    0,    0,    0,    0,    0,\n",
       "           0,    0,    0,    0,    0,    0,    0,    0,    0,    0,    0,\n",
       "           0,    0,    0,    0,    0,    0,    0,    0,    0,    0,    0,\n",
       "           0,    0,    0,    0,    0,    0,    0,    0,    0,    0,    0,\n",
       "           0,    0,    0,    0,    0,    0,    0,    0,    0,    0,    0,\n",
       "           0,    0,    0,    0,    0,    0,    0,    0,    0,    0,    0,\n",
       "           0,    0,    0,    0,    0,    0,    0,    0,    0,    0,    0,\n",
       "           0,    0,    0,    0,    0,    0,    0,    0,    0,    0,    0,\n",
       "           0,    0,    0,    0,    0,    0,    0,    0,    0,    0,    0,\n",
       "           0,    0,    0,    0,    0,    0,    0,    0,    0,    0,    0,\n",
       "           0,    0,    0,    0,    0,    0,    0,    0,    0,    0,    0,\n",
       "           0,    0,    0,    0,    0,    0,    0,    0,    0,    0,    0,\n",
       "           0,    0,    0,    0,    0,    0,    0,    0,    0,    0,    0,\n",
       "           0,    0,    0,    0,    0,    0,    0,    0,    0,    0,    0,\n",
       "           0,    0,    0,    0,    0,    0,    0,    0,    0,    0,    0,\n",
       "           0,    0,    0,    0,    0,    0,    0,    0,    0, 2392,  518,\n",
       "         250, 1393, 1282, 2624, 1687, 1436,   57,  478,   25,   20,    2,\n",
       "         422,    9, 2624,  930, 1436, 1393,  930,  920,  668, 1282,  415,\n",
       "        2456,   40, 2624, 1436, 3077, 2220, 2098,  645, 2624,  606,  350,\n",
       "        2924,  668,  382,   24,  203,   78,   24, 4665,  115,   24,   59,\n",
       "         181,  523, 1228,  858,  263,   24, 1525,   22,   24,  203, 1436,\n",
       "         422, 1892, 1481, 1714, 1945,  149, 3194,   78,   24, 2515,  263,\n",
       "          24,  181,  523, 1027,   59,   24,  203, 2650,   24,  263,  203,\n",
       "        1228,  858,  263,   24, 4505,  250,   24, 2624,  337, 1639,  482,\n",
       "         675, 2437, 2137,  365, 2651, 1737,  365,   40, 1436,   13,  371,\n",
       "         176,   81, 1945, 1437, 2925, 2624,  149, 2164,   97,   24, 1570,\n",
       "         394, 1436, 2393, 1229, 1182, 3044, 3195, 4506,  675,  106,   97,\n",
       "        1436, 1611, 1264, 2542,   24, 3525, 1482, 2624,  499,  655, 1059,\n",
       "        3569, 1264, 1436, 4597,   49,   24, 2826,  394, 2393,  607, 1893,\n",
       "        3794, 3077, 1330, 4505, 1264, 2542,   24, 2393,  607,  160, 2624,\n",
       "         421, 1436,  126, 4505, 3628,  607,    1, 2061, 1436, 4132,  813,\n",
       "        4665, 2731, 4597,   49,  394,  255, 2278,  675, 4505, 4597,   49,\n",
       "         394,  699,  607,  616, 1436, 3077,  255, 1438, 4665, 2731, 2624,\n",
       "         337,   24,  291, 2676, 1393, 3282, 1282, 3380, 1393, 1394,  463,\n",
       "        2392,  668,  518,   24,  250,  203, 3241,  181, 2062,  181, 1525,\n",
       "         422,   24,  203,   72,   24,  203, 1282,  225, 2827,  391, 1714,\n",
       "         682, 2320,  668,  250,   24,  203,  921,    1,  830, 1395,  185,\n",
       "          24,  203,  181,  523, 1228,  858,  249,   24,  181,  523,   59,\n",
       "          24,  149, 3194, 1393,  596,  496,  182, 1189,  340,  365,   97,\n",
       "        1517, 1687, 1658,  452, 2986,   24,  316, 1282, 1393, 1715,  920,\n",
       "          14, 2392, 1957,  813, 3907, 4132,   59,   24,  123, 2392, 3730,\n",
       "         489,  608,  203, 1393, 4072,  608, 1492, 2392, 1738, 1482,   82,\n",
       "        3011, 2750, 3045,   59,   24, 1182, 3044,  366, 4073,  101,  115,\n",
       "         327,  291, 1330, 1393,  291, 2182,  355,   49,  607,  616, 2827,\n",
       "        1770, 2279, 1611,  675,  463,   24,  499, 2987,  106,   97,   97,\n",
       "        2392, 2566, 1779,  452,  126],\n",
       "       [   0,    0,    0,    0,    0,    0,    0,    0,    0,    0,    0,\n",
       "           0,    0,    0,    0,    0,    0,    0,    0,    0,    0,    0,\n",
       "           0,    0,    0,    0,    0,    0,    0,    0,    0,    0,    0,\n",
       "           0,    0,    0,    0,    0,    0,    0,    0,    0,    0,    0,\n",
       "           0,    0,    0,    0,    0,    0,    0,    0,    0,    0,    0,\n",
       "           0,    0,    0,    0,    0,    0,    0,    0,    0,    0,    0,\n",
       "           0,    0,    0,    0,    0,    0,    0,    0,    0,    0,    0,\n",
       "           0,    0,    0,    0,    0,    0,    0,    0,    0,    0,    0,\n",
       "           0,    0,    0,    0,    0,    0,    0,    0,    0,    0,    0,\n",
       "           0,    0,    0,    0,    0,    0,    0,    0,    0,    0,    0,\n",
       "           0,    0,    0,    0,    0,    0,    0,    0,  136, 1177, 3908,\n",
       "        2337, 1845, 1517, 3909,   57,  478, 1089,  119,  761, 1393, 2625,\n",
       "        4355, 2858, 1436,  185,  915,   49, 1313,   30,  978,  136, 1228,\n",
       "         185,  551, 1739, 1779,  442,    3, 2926,  138,  136,  413, 4819,\n",
       "          77,  858,  187, 1089, 2567, 1911, 1355, 2567,  750, 1089,   10,\n",
       "        3731,   49, 1089,  172,   57, 1127, 2230, 1845, 1517, 3078, 1089,\n",
       "          32,  607, 1173, 1611,  124, 2414,  376,  462,  558,  679,   32,\n",
       "          25,   20,   59,    2,  382,    9,  462,  558,  869,  646,   35,\n",
       "        1246,   57, 1127,  270,  607, 1089,  239,  442, 3423, 4427,   30,\n",
       "        1846,  724, 4904,   40,  607,  348,   57, 1127, 3909,  718, 2624,\n",
       "          40, 1089,  661, 2280, 1005, 2624,   40,   51,  888, 1452,   10,\n",
       "          57, 1127,  209, 2624,  185, 1089, 1845, 1845,   57, 1127,  209,\n",
       "        1739,  852, 3078, 1089,  635,  167,    1,  385,  888,  185, 2281,\n",
       "        1526, 1845, 1517, 1739,  565, 3078,   35, 1177,    7, 3046,  160,\n",
       "        2488,    6,   15,   57, 1127, 1089,    6,  304, 1089,   57, 1127,\n",
       "         607,    6,  936,  132,    3,  209, 1089, 1177,    6,   81,  386,\n",
       "           6, 1089,    6, 1104,   57, 1127,    7,    7,  340,  340, 1189,\n",
       "        1089,  340,  209, 1779,  874, 1946,  752, 1500, 1640,   35,  340,\n",
       "         856,  489,    5,   12, 2165,  856,  340, 3690,  489,   57, 1127,\n",
       "         726,  270, 1005, 3242,  284,   40, 1089,   47,  496,  875,  242,\n",
       "        1779, 4666, 3242,  284,   31,  496, 1557,  482,   57, 1127,   74,\n",
       "        3242, 1089, 3242,  109,  452,  489,  340,  753,   20,  156,   57,\n",
       "        1127, 1481, 1721,  121,  706,  284, 1089,  162,  969,   34,  479,\n",
       "        4904,   40,    1,  418,  899,   83,  479,  133,  341, 2751,  341,\n",
       "        2751,  341, 2751,  341, 2751,   12, 1251, 1089,    6,  185,  160,\n",
       "           6,  185, 4667, 1313,  160,  185,  808,  859,   57, 1127,  709,\n",
       "         156, 2032,  709,   73,  209, 1089, 2231,  160,   73,  479,   84,\n",
       "        2075,  351,  982,   24,   57, 1127, 3854, 2032, 1393, 1911,   40,\n",
       "         208,  998, 1313,  937,  262,  479, 1089,  959,   35,  294,  743,\n",
       "        1033,   33, 1313,  304,   35,  294,   57, 1127, 1313,    5, 1089,\n",
       "         233,  419,    5,  493,  126,  294,   57, 1127,  581,  915,   34,\n",
       "        1313, 1210, 1089, 1251, 4507, 1197,    1,   13, 1197,  558, 1089,\n",
       "        1251,  209,  209, 1313, 1779, 4508, 3131,   57, 1127, 1945,  292,\n",
       "        1089,  442, 2032, 1021,  998,  185, 1021, 2063,  777,  719,   57,\n",
       "        1127,  220,  593,   10, 1089,   32,   10,  301,  432, 1283,   20,\n",
       "           5,   57, 1127, 2951, 1318]])"
      ]
     },
     "execution_count": 59,
     "metadata": {},
     "output_type": "execute_result"
    }
   ],
   "source": [
    "#使用sequence.pad_sequences()：将每个序列调整为相同的长度。\n",
    "max_len = 500\n",
    "train_seq_mat = sequence.pad_sequences(train_seq, maxlen = max_len)  # max_len = 600\n",
    "val_seq_mat = sequence.pad_sequences(val_seq, maxlen = max_len)\n",
    "test_seq_mat = sequence.pad_sequences(test_seq, maxlen = max_len)\n",
    "\n",
    "print(train_seq_mat.shape)\n",
    "print(val_seq_mat.shape)\n",
    "print(test_seq_mat.shape)\n",
    "\n",
    "train_seq_mat[:2]"
   ]
  },
  {
   "cell_type": "markdown",
   "metadata": {
    "heading_collapsed": true
   },
   "source": [
    "## 5. 构建并训练模型"
   ]
  },
  {
   "cell_type": "code",
   "execution_count": 82,
   "metadata": {
    "hidden": true,
    "scrolled": true
   },
   "outputs": [
    {
     "name": "stdout",
     "output_type": "stream",
     "text": [
      "Model: \"sequential_12\"\n",
      "_________________________________________________________________\n",
      "Layer (type)                 Output Shape              Param #   \n",
      "=================================================================\n",
      "embedding_12 (Embedding)     (None, 500, 64)           320000    \n",
      "_________________________________________________________________\n",
      "lstm_10 (LSTM)               (None, 32)                12416     \n",
      "_________________________________________________________________\n",
      "dense_13 (Dense)             (None, 10)                330       \n",
      "=================================================================\n",
      "Total params: 332,746\n",
      "Trainable params: 332,746\n",
      "Non-trainable params: 0\n",
      "_________________________________________________________________\n",
      "None\n"
     ]
    }
   ],
   "source": [
    "def get_lstm_news_model():\n",
    "    model = Sequential()\n",
    "    model.add(Embedding(input_dim = 5000,    # 词汇表大小\n",
    "                        output_dim = 64,    # 词向量维度\n",
    "                        input_length = 500    # 输入序列的长度（pad_sequense之后）\n",
    "                       ))\n",
    "    model.add(LSTM(32, activation = 'tanh', return_sequences=False))\n",
    "    model.add(Dense(10, activation='softmax'))\n",
    "\n",
    "    # 模型编译\n",
    "    model.compile(optimizer = RMSprop(lr=0.001),\n",
    "                  loss='sparse_categorical_crossentropy',  \n",
    "                  metrics=['accuracy'])\n",
    "    # 打印模型\n",
    "    print(model.summary())\n",
    "    return model\n",
    "lstm_news = get_lstm_news_model()"
   ]
  },
  {
   "cell_type": "code",
   "execution_count": 83,
   "metadata": {
    "hidden": true
   },
   "outputs": [
    {
     "name": "stdout",
     "output_type": "stream",
     "text": [
      "Epoch 1/5\n",
      "157/157 [==============================] - 6s 24ms/step - loss: 2.0870 - accuracy: 0.2892 - val_loss: 1.3960 - val_accuracy: 0.6360\n",
      "Epoch 2/5\n",
      "157/157 [==============================] - 3s 21ms/step - loss: 1.2026 - accuracy: 0.6767 - val_loss: 1.0356 - val_accuracy: 0.6940\n",
      "Epoch 3/5\n",
      "157/157 [==============================] - 3s 21ms/step - loss: 0.7055 - accuracy: 0.8445 - val_loss: 0.6659 - val_accuracy: 0.8380\n",
      "Epoch 4/5\n",
      "157/157 [==============================] - 3s 21ms/step - loss: 0.4135 - accuracy: 0.9187 - val_loss: 0.5302 - val_accuracy: 0.8500\n",
      "Epoch 5/5\n",
      "157/157 [==============================] - 3s 21ms/step - loss: 0.2655 - accuracy: 0.9429 - val_loss: 0.4542 - val_accuracy: 0.8780\n"
     ]
    }
   ],
   "source": [
    "lstm_hs = lstm_news.fit(train_seq_mat, train_y, \n",
    "                          validation_data=(val_seq_mat, val_y), \n",
    "                          epochs=5, batch_size=32, verbose=1)"
   ]
  },
  {
   "cell_type": "code",
   "execution_count": 84,
   "metadata": {
    "hidden": true,
    "scrolled": true
   },
   "outputs": [
    {
     "data": {
      "image/png": "[encoded data removed]",
      "text/plain": [
       "<Figure size 576x288 with 1 Axes>"
      ]
     },
     "metadata": {
      "needs_background": "light"
     },
     "output_type": "display_data"
    }
   ],
   "source": [
    "plot_loss(lstm_hs)"
   ]
  },
  {
   "cell_type": "markdown",
   "metadata": {},
   "source": [
    "## 6. 查看在验证集val上的效果"
   ]
  },
  {
   "cell_type": "code",
   "execution_count": 85,
   "metadata": {},
   "outputs": [],
   "source": [
    "val_pre=lstm_news.predict(val_seq_mat)  "
   ]
  },
  {
   "cell_type": "code",
   "execution_count": 90,
   "metadata": {
    "scrolled": true
   },
   "outputs": [
    {
     "name": "stdout",
     "output_type": "stream",
     "text": [
      "前30个test样本的预测值为：  [0 0 0 0 0 0 0 0 0 0 0 0 0 0 0 0 0 0 0 0 0 0 8 0 0 0 0 0 0 0 0 0 0 0 0 0 0\n",
      " 0 2 0 0 0 0 0 0 0 0 0 0 0]\n",
      "前30个test样本的真实值为：  [0 0 0 0 0 0 0 0 0 0 0 0 0 0 0 0 0 0 0 0 0 0 0 0 0 0 0 0 0 0 0 0 0 0 0 0 0\n",
      " 0 0 0 0 0 0 0 0 0 0 0 0 0]\n"
     ]
    }
   ],
   "source": [
    "val_pre_class = np.argmax(val_pre, axis = 1)\n",
    "print('前30个test样本的预测值为： ',val_pre_class[:50])\n",
    "print('前30个test样本的真实值为： ',val_y[:50])"
   ]
  },
  {
   "cell_type": "markdown",
   "metadata": {},
   "source": [
    "## 7.将模型应用到测试集test上，看测试集上的分类报告。 "
   ]
  },
  {
   "cell_type": "code",
   "execution_count": 91,
   "metadata": {},
   "outputs": [
    {
     "name": "stdout",
     "output_type": "stream",
     "text": [
      "test上的分类报告如下：\n",
      "               precision    recall  f1-score   support\n",
      "\n",
      "           0       1.00      0.96      0.98        50\n",
      "           1       0.96      0.92      0.94        50\n",
      "           2       0.76      0.32      0.45        50\n",
      "           3       1.00      0.76      0.86        50\n",
      "           4       0.80      0.78      0.79        50\n",
      "           5       0.82      1.00      0.90        50\n",
      "           6       0.70      0.80      0.75        50\n",
      "           7       0.96      0.92      0.94        50\n",
      "           8       0.63      0.98      0.77        50\n",
      "           9       0.92      0.96      0.94        50\n",
      "\n",
      "    accuracy                           0.84       500\n",
      "   macro avg       0.85      0.84      0.83       500\n",
      "weighted avg       0.85      0.84      0.83       500\n",
      "\n"
     ]
    }
   ],
   "source": [
    "from sklearn.metrics import classification_report\n",
    "\n",
    "lstm_news_rep = np.argmax(lstm_news.predict(test_seq_mat), axis = 1)\n",
    "print(\"test上的分类报告如下：\\n\",classification_report(test_y, lstm_news_rep))"
   ]
  },
  {
   "cell_type": "markdown",
   "metadata": {},
   "source": [
    "# 总结"
   ]
  },
  {
   "cell_type": "code",
   "execution_count": 78,
   "metadata": {},
   "outputs": [],
   "source": [
    "#one-hot categorical_crossentropy\n",
    "#数字 sparse_categorical_crossentropy\n",
    "#二分类交叉熵 搭配sigmod binary_crossentropy"
   ]
  }
 ],
 "metadata": {
  "kernelspec": {
   "display_name": "Python 3",
   "language": "python",
   "name": "python3"
  },
  "language_info": {
   "codemirror_mode": {
    "name": "ipython",
    "version": 3
   },
   "file_extension": ".py",
   "mimetype": "text/x-python",
   "name": "python",
   "nbconvert_exporter": "python",
   "pygments_lexer": "ipython3",
   "version": "3.8.5"
  },
  "varInspector": {
   "cols": {
    "lenName": 16,
    "lenType": 16,
    "lenVar": 40
   },
   "kernels_config": {
    "python": {
     "delete_cmd_postfix": "",
     "delete_cmd_prefix": "del ",
     "library": "var_list.py",
     "varRefreshCmd": "print(var_dic_list())"
    },
    "r": {
     "delete_cmd_postfix": ") ",
     "delete_cmd_prefix": "rm(",
     "library": "var_list.r",
     "varRefreshCmd": "cat(var_dic_list()) "
    }
   },
   "types_to_exclude": [
    "module",
    "function",
    "builtin_function_or_method",
    "instance",
    "_Feature"
   ],
   "window_display": false
  }
 },
 "nbformat": 4,
 "nbformat_minor": 4
}
