{
 "cells": [
  {
   "cell_type": "markdown",
   "metadata": {},
   "source": [
    "# 数据加载处理"
   ]
  },
  {
   "cell_type": "code",
   "execution_count": 4,
   "metadata": {},
   "outputs": [],
   "source": [
    "%matplotlib inline\n",
    "import pandas as pd \n",
    "import numpy as np\n",
    "import matplotlib.pyplot as plt  \n",
    "\n",
    "from tensorflow.keras.datasets import mnist\n",
    "from tensorflow.keras.models import Sequential\n",
    "from tensorflow.keras.layers import Dense\n",
    "from tensorflow.keras.layers import Flatten   # 图像展平层\n",
    "\n",
    "from tensorflow.keras.utils import plot_model  \n",
    "from tensorflow.keras.models import load_model  "
   ]
  },
  {
   "cell_type": "code",
   "execution_count": 5,
   "metadata": {},
   "outputs": [
    {
     "name": "stdout",
     "output_type": "stream",
     "text": [
      "x_train的第一条：\n",
      " [[  0   0   0   0   0   0   0   0   0   0   0   0   0   0   0   0   0   0\n",
      "    0   0   0   0   0   0   0   0   0   0]\n",
      " [  0   0   0   0   0   0   0   0   0   0   0   0   0   0   0   0   0   0\n",
      "    0   0   0   0   0   0   0   0   0   0]\n",
      " [  0   0   0   0   0   0   0   0   0   0   0   0   0   0   0   0   0   0\n",
      "    0   0   0   0   0   0   0   0   0   0]\n",
      " [  0   0   0   0   0   0   0   0   0   0   0   0   0   0   0   0   0   0\n",
      "    0   0   0   0   0   0   0   0   0   0]\n",
      " [  0   0   0   0   0   0   0   0   0   0   0   0   0   0   0   0   0   0\n",
      "    0   0   0   0   0   0   0   0   0   0]\n",
      " [  0   0   0   0   0   0   0   0   0   0   0   0   3  18  18  18 126 136\n",
      "  175  26 166 255 247 127   0   0   0   0]\n",
      " [  0   0   0   0   0   0   0   0  30  36  94 154 170 253 253 253 253 253\n",
      "  225 172 253 242 195  64   0   0   0   0]\n",
      " [  0   0   0   0   0   0   0  49 238 253 253 253 253 253 253 253 253 251\n",
      "   93  82  82  56  39   0   0   0   0   0]\n",
      " [  0   0   0   0   0   0   0  18 219 253 253 253 253 253 198 182 247 241\n",
      "    0   0   0   0   0   0   0   0   0   0]\n",
      " [  0   0   0   0   0   0   0   0  80 156 107 253 253 205  11   0  43 154\n",
      "    0   0   0   0   0   0   0   0   0   0]\n",
      " [  0   0   0   0   0   0   0   0   0  14   1 154 253  90   0   0   0   0\n",
      "    0   0   0   0   0   0   0   0   0   0]\n",
      " [  0   0   0   0   0   0   0   0   0   0   0 139 253 190   2   0   0   0\n",
      "    0   0   0   0   0   0   0   0   0   0]\n",
      " [  0   0   0   0   0   0   0   0   0   0   0  11 190 253  70   0   0   0\n",
      "    0   0   0   0   0   0   0   0   0   0]\n",
      " [  0   0   0   0   0   0   0   0   0   0   0   0  35 241 225 160 108   1\n",
      "    0   0   0   0   0   0   0   0   0   0]\n",
      " [  0   0   0   0   0   0   0   0   0   0   0   0   0  81 240 253 253 119\n",
      "   25   0   0   0   0   0   0   0   0   0]\n",
      " [  0   0   0   0   0   0   0   0   0   0   0   0   0   0  45 186 253 253\n",
      "  150  27   0   0   0   0   0   0   0   0]\n",
      " [  0   0   0   0   0   0   0   0   0   0   0   0   0   0   0  16  93 252\n",
      "  253 187   0   0   0   0   0   0   0   0]\n",
      " [  0   0   0   0   0   0   0   0   0   0   0   0   0   0   0   0   0 249\n",
      "  253 249  64   0   0   0   0   0   0   0]\n",
      " [  0   0   0   0   0   0   0   0   0   0   0   0   0   0  46 130 183 253\n",
      "  253 207   2   0   0   0   0   0   0   0]\n",
      " [  0   0   0   0   0   0   0   0   0   0   0   0  39 148 229 253 253 253\n",
      "  250 182   0   0   0   0   0   0   0   0]\n",
      " [  0   0   0   0   0   0   0   0   0   0  24 114 221 253 253 253 253 201\n",
      "   78   0   0   0   0   0   0   0   0   0]\n",
      " [  0   0   0   0   0   0   0   0  23  66 213 253 253 253 253 198  81   2\n",
      "    0   0   0   0   0   0   0   0   0   0]\n",
      " [  0   0   0   0   0   0  18 171 219 253 253 253 253 195  80   9   0   0\n",
      "    0   0   0   0   0   0   0   0   0   0]\n",
      " [  0   0   0   0  55 172 226 253 253 253 253 244 133  11   0   0   0   0\n",
      "    0   0   0   0   0   0   0   0   0   0]\n",
      " [  0   0   0   0 136 253 253 253 212 135 132  16   0   0   0   0   0   0\n",
      "    0   0   0   0   0   0   0   0   0   0]\n",
      " [  0   0   0   0   0   0   0   0   0   0   0   0   0   0   0   0   0   0\n",
      "    0   0   0   0   0   0   0   0   0   0]\n",
      " [  0   0   0   0   0   0   0   0   0   0   0   0   0   0   0   0   0   0\n",
      "    0   0   0   0   0   0   0   0   0   0]\n",
      " [  0   0   0   0   0   0   0   0   0   0   0   0   0   0   0   0   0   0\n",
      "    0   0   0   0   0   0   0   0   0   0]]\n",
      "y_train的第一条：\n",
      " 5\n"
     ]
    }
   ],
   "source": [
    "(x_train, y_train), (x_test, y_test) = mnist.load_data('mnist.npz')\n",
    "print('x_train的第一条：\\n', x_train[0])\n",
    "print('y_train的第一条：\\n', y_train[0])"
   ]
  },
  {
   "cell_type": "code",
   "execution_count": 6,
   "metadata": {},
   "outputs": [
    {
     "data": {
      "text/plain": [
       "1    6742\n",
       "7    6265\n",
       "3    6131\n",
       "2    5958\n",
       "9    5949\n",
       "0    5923\n",
       "6    5918\n",
       "8    5851\n",
       "4    5842\n",
       "5    5421\n",
       "Name: target, dtype: int64"
      ]
     },
     "execution_count": 6,
     "metadata": {},
     "output_type": "execute_result"
    }
   ],
   "source": [
    "y_train_df = pd.DataFrame(y_train, columns= ['target'])\n",
    "y_train_df['target'].value_counts()"
   ]
  },
  {
   "cell_type": "code",
   "execution_count": 7,
   "metadata": {},
   "outputs": [
    {
     "data": {
      "image/png": "[encoded data removed]",
      "text/plain": [
       "<Figure size 432x288 with 2 Axes>"
      ]
     },
     "metadata": {
      "needs_background": "light"
     },
     "output_type": "display_data"
    }
   ],
   "source": [
    "# 查看第一个样本\n",
    "plt.figure()\n",
    "plt.imshow(x_train[0], cmap = plt.cm.binary)  # imshow以图片方式展示，plt.cm.binary：灰度显示\n",
    "plt.colorbar()  # 显示数值范围\n",
    "plt.title(y_train[0])  # 显示类别号作为标题\n",
    "plt.show()"
   ]
  },
  {
   "cell_type": "code",
   "execution_count": 8,
   "metadata": {},
   "outputs": [],
   "source": [
    "# 特征数据标准化 图像类数据，直接/255就可以转换到（0，1）范围内 归一\n",
    "x_train = x_train / 255.0\n",
    "x_test = x_test / 255.0"
   ]
  },
  {
   "cell_type": "code",
   "execution_count": 9,
   "metadata": {},
   "outputs": [
    {
     "data": {
      "image/png": "[encoded data removed]",
      "text/plain": [
       "<Figure size 720x720 with 25 Axes>"
      ]
     },
     "metadata": {},
     "output_type": "display_data"
    }
   ],
   "source": [
    "# 给0-9的分类编码\n",
    "class_names = ['0','1', '2','3','4','5','6','7','8','9']\n",
    "\n",
    "# 除以255后，再次检查一下图片，是否有问题\n",
    "plt.figure(figsize=(10,10))  # 设置画布大小\n",
    "for i in range(25):\n",
    "    plt.subplot(5,5,i+1)   # 表示一共画5行5列，从第1个子图开始画\n",
    "    plt.xticks([])    # 不显示x轴\n",
    "    plt.yticks([])    # 不显示y轴\n",
    "    plt.imshow(x_train[i], cmap=plt.cm.binary)    # 以图片显示，灰度\n",
    "    plt.xlabel(str(y_train[i])+ ' ' + class_names[y_train[i]])  # 显示分类数字，和分类名称\n",
    "plt.show()"
   ]
  },
  {
   "cell_type": "code",
   "execution_count": 10,
   "metadata": {},
   "outputs": [
    {
     "data": {
      "text/plain": [
       "((60000, 28, 28), (60000,), (10000, 28, 28), (10000,), numpy.ndarray)"
      ]
     },
     "execution_count": 10,
     "metadata": {},
     "output_type": "execute_result"
    }
   ],
   "source": [
    "# 数据经过标准化操作处理完毕，最后，再确认一遍数据的维度和类型\n",
    "x_train.shape, y_train.shape, x_test.shape, y_test.shape, type(x_train)"
   ]
  },
  {
   "cell_type": "markdown",
   "metadata": {},
   "source": [
    "# 构建模型 "
   ]
  },
  {
   "cell_type": "code",
   "execution_count": 11,
   "metadata": {},
   "outputs": [],
   "source": [
    "def baseline():\n",
    "    model = Sequential()\n",
    "    model.add(Flatten(input_shape=(28, 28)))\n",
    "    model.add(Dense(128,activation='relu'))\n",
    "    model.add(Dense(10, activation = 'softmax'))\n",
    "    print(model.summary())\n",
    "    model.compile(optimizer='sgd',\n",
    "                  loss = 'sparse_categorical_crossentropy',\n",
    "                  metrics=['accuracy'])  #准确率\n",
    "    return model"
   ]
  },
  {
   "cell_type": "code",
   "execution_count": 12,
   "metadata": {},
   "outputs": [
    {
     "name": "stdout",
     "output_type": "stream",
     "text": [
      "Model: \"sequential\"\n",
      "_________________________________________________________________\n",
      "Layer (type)                 Output Shape              Param #   \n",
      "=================================================================\n",
      "flatten (Flatten)            (None, 784)               0         \n",
      "_________________________________________________________________\n",
      "dense (Dense)                (None, 128)               100480    \n",
      "_________________________________________________________________\n",
      "dense_1 (Dense)              (None, 10)                1290      \n",
      "=================================================================\n",
      "Total params: 101,770\n",
      "Trainable params: 101,770\n",
      "Non-trainable params: 0\n",
      "_________________________________________________________________\n",
      "None\n",
      "Epoch 1/30\n",
      "1875/1875 - 5s - loss: 0.6699 - accuracy: 0.8332 - val_loss: 0.3562 - val_accuracy: 0.9037\n",
      "Epoch 2/30\n",
      "1875/1875 - 3s - loss: 0.3356 - accuracy: 0.9063 - val_loss: 0.2927 - val_accuracy: 0.9192\n",
      "Epoch 3/30\n",
      "1875/1875 - 3s - loss: 0.2874 - accuracy: 0.9189 - val_loss: 0.2617 - val_accuracy: 0.9265\n",
      "Epoch 4/30\n",
      "1875/1875 - 3s - loss: 0.2579 - accuracy: 0.9276 - val_loss: 0.2381 - val_accuracy: 0.9352\n",
      "Epoch 5/30\n",
      "1875/1875 - 3s - loss: 0.2348 - accuracy: 0.9348 - val_loss: 0.2216 - val_accuracy: 0.9383\n",
      "Epoch 6/30\n",
      "1875/1875 - 3s - loss: 0.2158 - accuracy: 0.9398 - val_loss: 0.2056 - val_accuracy: 0.9415\n",
      "Epoch 7/30\n",
      "1875/1875 - 3s - loss: 0.1998 - accuracy: 0.9437 - val_loss: 0.1912 - val_accuracy: 0.9457\n",
      "Epoch 8/30\n",
      "1875/1875 - 3s - loss: 0.1862 - accuracy: 0.9477 - val_loss: 0.1810 - val_accuracy: 0.9473\n",
      "Epoch 9/30\n",
      "1875/1875 - 4s - loss: 0.1742 - accuracy: 0.9514 - val_loss: 0.1718 - val_accuracy: 0.9500\n",
      "Epoch 10/30\n",
      "1875/1875 - 3s - loss: 0.1635 - accuracy: 0.9546 - val_loss: 0.1626 - val_accuracy: 0.9538\n",
      "Epoch 11/30\n",
      "1875/1875 - 3s - loss: 0.1543 - accuracy: 0.9568 - val_loss: 0.1550 - val_accuracy: 0.9556\n",
      "Epoch 12/30\n",
      "1875/1875 - 3s - loss: 0.1462 - accuracy: 0.9593 - val_loss: 0.1489 - val_accuracy: 0.9565\n",
      "Epoch 13/30\n",
      "1875/1875 - 3s - loss: 0.1386 - accuracy: 0.9612 - val_loss: 0.1412 - val_accuracy: 0.9589\n",
      "Epoch 14/30\n",
      "1875/1875 - 3s - loss: 0.1320 - accuracy: 0.9630 - val_loss: 0.1363 - val_accuracy: 0.9608\n",
      "Epoch 15/30\n",
      "1875/1875 - 3s - loss: 0.1258 - accuracy: 0.9650 - val_loss: 0.1324 - val_accuracy: 0.9613\n",
      "Epoch 16/30\n",
      "1875/1875 - 3s - loss: 0.1201 - accuracy: 0.9666 - val_loss: 0.1298 - val_accuracy: 0.9635\n",
      "Epoch 17/30\n",
      "1875/1875 - 3s - loss: 0.1151 - accuracy: 0.9682 - val_loss: 0.1230 - val_accuracy: 0.9642\n",
      "Epoch 18/30\n",
      "1875/1875 - 3s - loss: 0.1105 - accuracy: 0.9698 - val_loss: 0.1205 - val_accuracy: 0.9667\n",
      "Epoch 19/30\n",
      "1875/1875 - 3s - loss: 0.1061 - accuracy: 0.9710 - val_loss: 0.1179 - val_accuracy: 0.9664\n",
      "Epoch 20/30\n",
      "1875/1875 - 3s - loss: 0.1020 - accuracy: 0.9723 - val_loss: 0.1155 - val_accuracy: 0.9664\n",
      "Epoch 21/30\n",
      "1875/1875 - 3s - loss: 0.0984 - accuracy: 0.9730 - val_loss: 0.1127 - val_accuracy: 0.9674\n",
      "Epoch 22/30\n",
      "1875/1875 - 3s - loss: 0.0951 - accuracy: 0.9743 - val_loss: 0.1090 - val_accuracy: 0.9683\n",
      "Epoch 23/30\n",
      "1875/1875 - 3s - loss: 0.0918 - accuracy: 0.9751 - val_loss: 0.1069 - val_accuracy: 0.9693\n",
      "Epoch 24/30\n",
      "1875/1875 - 3s - loss: 0.0888 - accuracy: 0.9755 - val_loss: 0.1043 - val_accuracy: 0.9697\n",
      "Epoch 25/30\n",
      "1875/1875 - 3s - loss: 0.0858 - accuracy: 0.9766 - val_loss: 0.1033 - val_accuracy: 0.9707\n",
      "Epoch 26/30\n",
      "1875/1875 - 3s - loss: 0.0833 - accuracy: 0.9776 - val_loss: 0.1008 - val_accuracy: 0.9706\n",
      "Epoch 27/30\n",
      "1875/1875 - 3s - loss: 0.0807 - accuracy: 0.9784 - val_loss: 0.0984 - val_accuracy: 0.9718\n",
      "Epoch 28/30\n",
      "1875/1875 - 3s - loss: 0.0783 - accuracy: 0.9792 - val_loss: 0.0967 - val_accuracy: 0.9723\n",
      "Epoch 29/30\n",
      "1875/1875 - 3s - loss: 0.0760 - accuracy: 0.9796 - val_loss: 0.0961 - val_accuracy: 0.9718\n",
      "Epoch 30/30\n",
      "1875/1875 - 3s - loss: 0.0740 - accuracy: 0.9798 - val_loss: 0.0936 - val_accuracy: 0.9725\n"
     ]
    }
   ],
   "source": [
    "model = baseline()\n",
    "hs = model.fit(x_train, y_train,  \n",
    "               epochs=30, \n",
    "               batch_size=32,\n",
    "               validation_data = (x_test, y_test),\n",
    "               verbose = 2\n",
    "         )"
   ]
  },
  {
   "cell_type": "code",
   "execution_count": 15,
   "metadata": {},
   "outputs": [
    {
     "data": {
      "image/png": "[encoded data removed]",
      "text/plain": [
       "<Figure size 576x288 with 1 Axes>"
      ]
     },
     "metadata": {
      "needs_background": "light"
     },
     "output_type": "display_data"
    }
   ],
   "source": [
    "def plot_loss(hs):\n",
    "    plt.figure(figsize = (8,4))\n",
    "    plt.plot(hs.history['loss'], label = 'Train')  \n",
    "    plt.plot(hs.history['val_loss'],label = 'test')  \n",
    "    plt.title('Model loss')  \n",
    "    plt.ylabel('Loss')  \n",
    "    plt.xlabel('Epoch')  \n",
    "    plt.legend(loc=0)  # loc=0 表示最优位置，自动。也可以手动设置，如：'upper left'等\n",
    "    plt.show()\n",
    "    return\n",
    "\n",
    "plot_loss(hs)"
   ]
  },
  {
   "cell_type": "code",
   "execution_count": 16,
   "metadata": {},
   "outputs": [
    {
     "data": {
      "text/plain": [
       "array([[5.1538623e-06, 4.9398363e-07, 1.6935462e-04, 3.0674234e-03,\n",
       "        2.9935057e-07, 1.3073519e-05, 4.7991402e-09, 9.9668854e-01,\n",
       "        2.1788754e-05, 3.3838802e-05],\n",
       "       [5.9118988e-06, 6.6779423e-05, 9.9875450e-01, 7.0190144e-04,\n",
       "        1.1263355e-09, 3.0036719e-04, 3.1505941e-05, 8.5544027e-10,\n",
       "        1.3904893e-04, 1.7629319e-10],\n",
       "       [3.8123620e-05, 9.9088871e-01, 1.9759883e-03, 2.9214547e-04,\n",
       "        4.5713954e-04, 2.1131296e-04, 3.7535036e-04, 4.2521982e-03,\n",
       "        1.3243619e-03, 1.8465739e-04]], dtype=float32)"
      ]
     },
     "execution_count": 16,
     "metadata": {},
     "output_type": "execute_result"
    }
   ],
   "source": [
    "test_pred_proba = model.predict(x_test)\n",
    "test_pred_proba[:3]"
   ]
  },
  {
   "cell_type": "code",
   "execution_count": 17,
   "metadata": {},
   "outputs": [
    {
     "name": "stdout",
     "output_type": "stream",
     "text": [
      "前30个test样本的预测值为：  [7 2 1 0 4 1 4 9 6 9 0 6 9 0 1 5 9 7 3 4 9 6 6 5 4 0 7 4 0 1]\n",
      "前30个test样本的真实值为：  [7 2 1 0 4 1 4 9 5 9 0 6 9 0 1 5 9 7 3 4 9 6 6 5 4 0 7 4 0 1]\n"
     ]
    }
   ],
   "source": [
    "test_pred_class = np.argmax(test_pred_proba, axis = 1) #numpy.argmax(array, axis) 用于返回一个numpy数组中最大值的索引值。当一组中同时出现几个最大值时，返回第一个最大值的索引值。\n",
    "print('前30个test样本的预测值为： ',test_pred_class[:30])\n",
    "print('前30个test样本的真实值为： ',y_test[:30])"
   ]
  },
  {
   "cell_type": "code",
   "execution_count": 21,
   "metadata": {},
   "outputs": [
    {
     "name": "stdout",
     "output_type": "stream",
     "text": [
      "test上的分类报告如下：\n",
      "               precision    recall  f1-score   support\n",
      "\n",
      "           0       0.97      0.99      0.98       980\n",
      "           1       0.98      0.99      0.98      1135\n",
      "           2       0.97      0.97      0.97      1032\n",
      "           3       0.95      0.98      0.97      1010\n",
      "           4       0.97      0.97      0.97       982\n",
      "           5       0.98      0.96      0.97       892\n",
      "           6       0.97      0.97      0.97       958\n",
      "           7       0.97      0.97      0.97      1028\n",
      "           8       0.97      0.95      0.96       974\n",
      "           9       0.97      0.95      0.96      1009\n",
      "\n",
      "    accuracy                           0.97     10000\n",
      "   macro avg       0.97      0.97      0.97     10000\n",
      "weighted avg       0.97      0.97      0.97     10000\n",
      "\n",
      "train上的分类报告如下：\n",
      "               precision    recall  f1-score   support\n",
      "\n",
      "           0       0.99      0.99      0.99      5923\n",
      "           1       0.98      0.99      0.99      6742\n",
      "           2       0.98      0.98      0.98      5958\n",
      "           3       0.97      0.97      0.97      6131\n",
      "           4       0.98      0.98      0.98      5842\n",
      "           5       0.98      0.98      0.98      5421\n",
      "           6       0.98      0.99      0.98      5918\n",
      "           7       0.98      0.98      0.98      6265\n",
      "           8       0.98      0.97      0.97      5851\n",
      "           9       0.98      0.97      0.97      5949\n",
      "\n",
      "    accuracy                           0.98     60000\n",
      "   macro avg       0.98      0.98      0.98     60000\n",
      "weighted avg       0.98      0.98      0.98     60000\n",
      "\n"
     ]
    }
   ],
   "source": [
    "from sklearn.metrics import classification_report #显示分类报告\n",
    "print(\"test上的分类报告如下：\\n\",classification_report(y_test, test_pred_class))\n",
    "train_pred_class = np.argmax(model.predict(x_train), axis = 1)\n",
    "print(\"train上的分类报告如下：\\n\",classification_report(y_train, train_pred_class))"
   ]
  },
  {
   "cell_type": "code",
   "execution_count": 22,
   "metadata": {},
   "outputs": [],
   "source": [
    "# 画图展现实际每个类被错判的情况\n",
    "def plot_each_class(i):\n",
    "    y_index = np.where(y_test == i) # 所有真实分类为i的y对应的记录的索引号\n",
    "    y_pred_this_class = test_pred_class[y_index]  # 查看真实分类为i的记录，实际被预测成了什么\n",
    "    plt.hist(y_pred_this_class, bins = [0,1,2,3,4,5,6,7,8,9])  # hist是直方图, bins设置分箱的边缘数值"
   ]
  },
  {
   "cell_type": "code",
   "execution_count": 23,
   "metadata": {},
   "outputs": [
    {
     "data": {
      "image/png": "[encoded data removed]",
      "text/plain": [
       "<Figure size 1440x576 with 10 Axes>"
      ]
     },
     "metadata": {
      "needs_background": "light"
     },
     "output_type": "display_data"
    }
   ],
   "source": [
    "plt.figure(figsize=(20,8))\n",
    "for i in range(10):\n",
    "    plt.subplot(2,5,i+1)   # subplot表示画子图，表示一共画2行5列，从第1个子图开始画\n",
    "    plt.xlim((0,10))\n",
    "    plt.xticks()\n",
    "    plt.yticks([])\n",
    "    plot_each_class(i)\n",
    "    plt.xlabel(str(i)+ ' ' + class_names[i])  # 显示分类数字，和分类名称\n",
    "plt.show()"
   ]
  },
  {
   "cell_type": "code",
   "execution_count": 25,
   "metadata": {},
   "outputs": [
    {
     "name": "stdout",
     "output_type": "stream",
     "text": [
      "前30个test样本的预测值为： [7 2 1 0 4 1 4 9 6 9 0 6 9 0 1 5 9 7 3 4 9 6 6 5 4 0 7 4 0 1]\n",
      "前30个test样本的真实值为： [7 2 1 0 4 1 4 9 5 9 0 6 9 0 1 5 9 7 3 4 9 6 6 5 4 0 7 4 0 1]\n"
     ]
    }
   ],
   "source": [
    "from tensorflow.keras.models import load_model  \n",
    "model.save('num_classification.h5')  \n",
    "model_reload = load_model('num_classification.h5')\n",
    "test_pred_reload = model_reload.predict(x_test)\n",
    "print('前30个test样本的预测值为：',np.argmax(test_pred_reload, axis = 1)[:30])\n",
    "print('前30个test样本的真实值为：', y_test[:30])"
   ]
  },
  {
   "cell_type": "markdown",
   "metadata": {},
   "source": [
    "# 模型优化"
   ]
  },
  {
   "cell_type": "markdown",
   "metadata": {},
   "source": [
    "## rmsprop"
   ]
  },
  {
   "cell_type": "code",
   "execution_count": 26,
   "metadata": {},
   "outputs": [],
   "source": [
    "def model_rms():\n",
    "    model = Sequential()\n",
    "    model.add(Flatten(input_shape=(28, 28)))\n",
    "    model.add(Dense(128,activation='relu'))\n",
    "    model.add(Dense(10, activation = 'softmax'))\n",
    "    print(model.summary())\n",
    "    model.compile(optimizer='rmsprop',\n",
    "                  loss = 'sparse_categorical_crossentropy',  # y不需要做one-hot处理 （0-9）\n",
    "                  metrics=['accuracy'])\n",
    "    return model"
   ]
  },
  {
   "cell_type": "code",
   "execution_count": 30,
   "metadata": {
    "scrolled": true
   },
   "outputs": [
    {
     "name": "stdout",
     "output_type": "stream",
     "text": [
      "Model: \"sequential_2\"\n",
      "_________________________________________________________________\n",
      "Layer (type)                 Output Shape              Param #   \n",
      "=================================================================\n",
      "flatten_2 (Flatten)          (None, 784)               0         \n",
      "_________________________________________________________________\n",
      "dense_4 (Dense)              (None, 128)               100480    \n",
      "_________________________________________________________________\n",
      "dense_5 (Dense)              (None, 10)                1290      \n",
      "=================================================================\n",
      "Total params: 101,770\n",
      "Trainable params: 101,770\n",
      "Non-trainable params: 0\n",
      "_________________________________________________________________\n",
      "None\n"
     ]
    },
    {
     "data": {
      "image/png": "[encoded data removed]",
      "text/plain": [
       "<Figure size 576x288 with 1 Axes>"
      ]
     },
     "metadata": {
      "needs_background": "light"
     },
     "output_type": "display_data"
    }
   ],
   "source": [
    "nn_rms = model_rms()\n",
    "hs_rms = nn_rms.fit(x_train, y_train,  \n",
    "           epochs = 30,\n",
    "           batch_size = 32,\n",
    "           validation_data = (x_test, y_test), \n",
    "           verbose = 0\n",
    "     )\n",
    "plot_loss(hs_rms)"
   ]
  },
  {
   "cell_type": "code",
   "execution_count": 31,
   "metadata": {},
   "outputs": [
    {
     "name": "stdout",
     "output_type": "stream",
     "text": [
      "test上的分类报告如下：\n",
      "               precision    recall  f1-score   support\n",
      "\n",
      "           0       0.98      0.99      0.98       980\n",
      "           1       0.99      0.99      0.99      1135\n",
      "           2       0.96      0.98      0.97      1032\n",
      "           3       0.97      0.98      0.97      1010\n",
      "           4       0.98      0.97      0.98       982\n",
      "           5       0.98      0.98      0.98       892\n",
      "           6       0.98      0.97      0.98       958\n",
      "           7       0.99      0.96      0.97      1028\n",
      "           8       0.96      0.97      0.97       974\n",
      "           9       0.97      0.98      0.97      1009\n",
      "\n",
      "    accuracy                           0.98     10000\n",
      "   macro avg       0.98      0.98      0.98     10000\n",
      "weighted avg       0.98      0.98      0.98     10000\n",
      "\n",
      "train上的分类报告如下：\n",
      "               precision    recall  f1-score   support\n",
      "\n",
      "           0       1.00      1.00      1.00      5923\n",
      "           1       1.00      1.00      1.00      6742\n",
      "           2       1.00      1.00      1.00      5958\n",
      "           3       1.00      1.00      1.00      6131\n",
      "           4       1.00      1.00      1.00      5842\n",
      "           5       1.00      1.00      1.00      5421\n",
      "           6       1.00      1.00      1.00      5918\n",
      "           7       1.00      1.00      1.00      6265\n",
      "           8       1.00      1.00      1.00      5851\n",
      "           9       1.00      1.00      1.00      5949\n",
      "\n",
      "    accuracy                           1.00     60000\n",
      "   macro avg       1.00      1.00      1.00     60000\n",
      "weighted avg       1.00      1.00      1.00     60000\n",
      "\n"
     ]
    }
   ],
   "source": [
    "test_pred_class_rms = np.argmax(nn_rms.predict(x_test), axis = 1)\n",
    "print(\"test上的分类报告如下：\\n\",classification_report(y_test, test_pred_class_rms))\n",
    "train_pred_class_rms = np.argmax(nn_rms.predict(x_train), axis = 1)\n",
    "print(\"train上的分类报告如下：\\n\",classification_report(y_train, train_pred_class_rms))"
   ]
  },
  {
   "cell_type": "markdown",
   "metadata": {},
   "source": [
    "## adam"
   ]
  },
  {
   "cell_type": "code",
   "execution_count": 32,
   "metadata": {},
   "outputs": [],
   "source": [
    "def model_adam():\n",
    "    model = Sequential()\n",
    "    model.add(Flatten(input_shape=(28, 28)))\n",
    "    model.add(Dense(128,activation='relu'))\n",
    "    model.add(Dense(10, activation = 'softmax'))\n",
    "\n",
    "    print(model.summary())\n",
    "    \n",
    "    model.compile(optimizer='adam',\n",
    "                  loss = 'sparse_categorical_crossentropy',\n",
    "                  metrics=['accuracy'])\n",
    "    \n",
    "    return model"
   ]
  },
  {
   "cell_type": "code",
   "execution_count": 33,
   "metadata": {},
   "outputs": [
    {
     "name": "stdout",
     "output_type": "stream",
     "text": [
      "Model: \"sequential_3\"\n",
      "_________________________________________________________________\n",
      "Layer (type)                 Output Shape              Param #   \n",
      "=================================================================\n",
      "flatten_3 (Flatten)          (None, 784)               0         \n",
      "_________________________________________________________________\n",
      "dense_6 (Dense)              (None, 128)               100480    \n",
      "_________________________________________________________________\n",
      "dense_7 (Dense)              (None, 10)                1290      \n",
      "=================================================================\n",
      "Total params: 101,770\n",
      "Trainable params: 101,770\n",
      "Non-trainable params: 0\n",
      "_________________________________________________________________\n",
      "None\n"
     ]
    },
    {
     "data": {
      "image/png": "[encoded data removed]",
      "text/plain": [
       "<Figure size 576x288 with 1 Axes>"
      ]
     },
     "metadata": {
      "needs_background": "light"
     },
     "output_type": "display_data"
    }
   ],
   "source": [
    "nn_adam = model_adam()\n",
    "hs_adam = nn_adam.fit(x_train, y_train,  \n",
    "           epochs = 30, \n",
    "           batch_size = 32, \n",
    "           validation_data = (x_test, y_test), \n",
    "           verbose = 0\n",
    "     )\n",
    "plot_loss(hs_adam)"
   ]
  },
  {
   "cell_type": "code",
   "execution_count": 41,
   "metadata": {},
   "outputs": [
    {
     "name": "stdout",
     "output_type": "stream",
     "text": [
      "test上的分类报告如下：\n",
      "               precision    recall  f1-score   support\n",
      "\n",
      "           0       0.98      0.99      0.98       980\n",
      "           1       0.99      0.99      0.99      1135\n",
      "           2       0.99      0.97      0.98      1032\n",
      "           3       0.97      0.97      0.97      1010\n",
      "           4       0.99      0.96      0.97       982\n",
      "           5       0.97      0.97      0.97       892\n",
      "           6       0.97      0.99      0.98       958\n",
      "           7       0.96      0.98      0.97      1028\n",
      "           8       0.97      0.97      0.97       974\n",
      "           9       0.97      0.97      0.97      1009\n",
      "\n",
      "    accuracy                           0.98     10000\n",
      "   macro avg       0.98      0.98      0.98     10000\n",
      "weighted avg       0.98      0.98      0.98     10000\n",
      "\n",
      "train上的分类报告如下：\n",
      "               precision    recall  f1-score   support\n",
      "\n",
      "           0       1.00      1.00      1.00      5923\n",
      "           1       1.00      1.00      1.00      6742\n",
      "           2       1.00      1.00      1.00      5958\n",
      "           3       1.00      1.00      1.00      6131\n",
      "           4       1.00      0.99      1.00      5842\n",
      "           5       1.00      1.00      1.00      5421\n",
      "           6       1.00      1.00      1.00      5918\n",
      "           7       1.00      1.00      1.00      6265\n",
      "           8       1.00      1.00      1.00      5851\n",
      "           9       1.00      1.00      1.00      5949\n",
      "\n",
      "    accuracy                           1.00     60000\n",
      "   macro avg       1.00      1.00      1.00     60000\n",
      "weighted avg       1.00      1.00      1.00     60000\n",
      "\n"
     ]
    }
   ],
   "source": [
    "test_pred_class_adm = np.argmax(nn_adam.predict(x_test), axis = 1)\n",
    "print(\"test上的分类报告如下：\\n\",classification_report(y_test, test_pred_class_adm))\n",
    "test_pred_class_adm = np.argmax(nn_adam.predict(x_train), axis = 1)\n",
    "print(\"train上的分类报告如下：\\n\",classification_report(y_train, test_pred_class_adm))"
   ]
  },
  {
   "cell_type": "markdown",
   "metadata": {},
   "source": [
    "## L2"
   ]
  },
  {
   "cell_type": "code",
   "execution_count": 35,
   "metadata": {},
   "outputs": [
    {
     "name": "stdout",
     "output_type": "stream",
     "text": [
      "Model: \"sequential_4\"\n",
      "_________________________________________________________________\n",
      "Layer (type)                 Output Shape              Param #   \n",
      "=================================================================\n",
      "flatten_4 (Flatten)          (None, 784)               0         \n",
      "_________________________________________________________________\n",
      "dense_8 (Dense)              (None, 128)               100480    \n",
      "_________________________________________________________________\n",
      "dense_9 (Dense)              (None, 10)                1290      \n",
      "=================================================================\n",
      "Total params: 101,770\n",
      "Trainable params: 101,770\n",
      "Non-trainable params: 0\n",
      "_________________________________________________________________\n",
      "None\n",
      "Epoch 1/80\n",
      "1875/1875 - 3s - loss: 0.3862 - accuracy: 0.9204 - val_loss: 0.2649 - val_accuracy: 0.9481\n",
      "Epoch 2/80\n",
      "1875/1875 - 3s - loss: 0.2346 - accuracy: 0.9559 - val_loss: 0.2076 - val_accuracy: 0.9629\n",
      "Epoch 3/80\n",
      "1875/1875 - 3s - loss: 0.2027 - accuracy: 0.9633 - val_loss: 0.1946 - val_accuracy: 0.9659\n",
      "Epoch 4/80\n",
      "1875/1875 - 3s - loss: 0.1887 - accuracy: 0.9658 - val_loss: 0.1715 - val_accuracy: 0.9705\n",
      "Epoch 5/80\n",
      "1875/1875 - 3s - loss: 0.1762 - accuracy: 0.9688 - val_loss: 0.1882 - val_accuracy: 0.9617\n",
      "Epoch 6/80\n",
      "1875/1875 - 3s - loss: 0.1691 - accuracy: 0.9711 - val_loss: 0.1755 - val_accuracy: 0.9671\n",
      "Epoch 7/80\n",
      "1875/1875 - 3s - loss: 0.1627 - accuracy: 0.9726 - val_loss: 0.1737 - val_accuracy: 0.9679\n",
      "Epoch 8/80\n",
      "1875/1875 - 3s - loss: 0.1611 - accuracy: 0.9721 - val_loss: 0.1604 - val_accuracy: 0.9717\n",
      "Epoch 9/80\n",
      "1875/1875 - 2s - loss: 0.1537 - accuracy: 0.9743 - val_loss: 0.1528 - val_accuracy: 0.9742\n",
      "Epoch 10/80\n",
      "1875/1875 - 2s - loss: 0.1506 - accuracy: 0.9743 - val_loss: 0.1557 - val_accuracy: 0.9743\n",
      "Epoch 11/80\n",
      "1875/1875 - 3s - loss: 0.1487 - accuracy: 0.9754 - val_loss: 0.1512 - val_accuracy: 0.9739\n",
      "Epoch 12/80\n",
      "1875/1875 - 2s - loss: 0.1455 - accuracy: 0.9757 - val_loss: 0.1588 - val_accuracy: 0.9698\n",
      "Epoch 13/80\n",
      "1875/1875 - 3s - loss: 0.1458 - accuracy: 0.9752 - val_loss: 0.1575 - val_accuracy: 0.9717\n",
      "Epoch 14/80\n",
      "1875/1875 - 3s - loss: 0.1428 - accuracy: 0.9763 - val_loss: 0.1517 - val_accuracy: 0.9720\n",
      "Epoch 15/80\n",
      "1875/1875 - 2s - loss: 0.1422 - accuracy: 0.9767 - val_loss: 0.1503 - val_accuracy: 0.9733\n",
      "Epoch 16/80\n",
      "1875/1875 - 3s - loss: 0.1409 - accuracy: 0.9764 - val_loss: 0.1515 - val_accuracy: 0.9726\n",
      "Epoch 17/80\n",
      "1875/1875 - 3s - loss: 0.1380 - accuracy: 0.9774 - val_loss: 0.1590 - val_accuracy: 0.9729\n",
      "Epoch 18/80\n",
      "1875/1875 - 2s - loss: 0.1371 - accuracy: 0.9776 - val_loss: 0.1536 - val_accuracy: 0.9734\n",
      "Epoch 19/80\n",
      "1875/1875 - 3s - loss: 0.1353 - accuracy: 0.9782 - val_loss: 0.1570 - val_accuracy: 0.9704\n",
      "Epoch 20/80\n",
      "1875/1875 - 3s - loss: 0.1363 - accuracy: 0.9772 - val_loss: 0.1502 - val_accuracy: 0.9718\n",
      "Epoch 21/80\n",
      "1875/1875 - 3s - loss: 0.1358 - accuracy: 0.9770 - val_loss: 0.1383 - val_accuracy: 0.9761\n",
      "Epoch 22/80\n",
      "1875/1875 - 3s - loss: 0.1327 - accuracy: 0.9779 - val_loss: 0.1546 - val_accuracy: 0.9725\n",
      "Epoch 23/80\n",
      "1875/1875 - 3s - loss: 0.1331 - accuracy: 0.9777 - val_loss: 0.1586 - val_accuracy: 0.9696\n",
      "Epoch 24/80\n",
      "1875/1875 - 3s - loss: 0.1321 - accuracy: 0.9774 - val_loss: 0.1483 - val_accuracy: 0.9733\n",
      "Epoch 25/80\n",
      "1875/1875 - 3s - loss: 0.1324 - accuracy: 0.9784 - val_loss: 0.1499 - val_accuracy: 0.9744\n",
      "Epoch 26/80\n",
      "1875/1875 - 3s - loss: 0.1304 - accuracy: 0.9786 - val_loss: 0.1659 - val_accuracy: 0.9679\n",
      "Epoch 27/80\n",
      "1875/1875 - 3s - loss: 0.1298 - accuracy: 0.9789 - val_loss: 0.1457 - val_accuracy: 0.9744\n",
      "Epoch 28/80\n",
      "1875/1875 - 2s - loss: 0.1284 - accuracy: 0.9788 - val_loss: 0.1420 - val_accuracy: 0.9766\n",
      "Epoch 29/80\n",
      "1875/1875 - 2s - loss: 0.1303 - accuracy: 0.9794 - val_loss: 0.1454 - val_accuracy: 0.9740\n",
      "Epoch 30/80\n",
      "1875/1875 - 2s - loss: 0.1299 - accuracy: 0.9780 - val_loss: 0.1440 - val_accuracy: 0.9729\n",
      "Epoch 31/80\n",
      "1875/1875 - 2s - loss: 0.1284 - accuracy: 0.9782 - val_loss: 0.1617 - val_accuracy: 0.9700\n",
      "Epoch 32/80\n",
      "1875/1875 - 2s - loss: 0.1293 - accuracy: 0.9790 - val_loss: 0.1545 - val_accuracy: 0.9701\n",
      "Epoch 33/80\n",
      "1875/1875 - 2s - loss: 0.1273 - accuracy: 0.9791 - val_loss: 0.1455 - val_accuracy: 0.9756\n",
      "Epoch 34/80\n",
      "1875/1875 - 3s - loss: 0.1303 - accuracy: 0.9784 - val_loss: 0.1481 - val_accuracy: 0.9726\n",
      "Epoch 35/80\n",
      "1875/1875 - 2s - loss: 0.1273 - accuracy: 0.9785 - val_loss: 0.1447 - val_accuracy: 0.9739\n",
      "Epoch 36/80\n",
      "1875/1875 - 2s - loss: 0.1267 - accuracy: 0.9789 - val_loss: 0.1438 - val_accuracy: 0.9740\n",
      "Epoch 37/80\n",
      "1875/1875 - 3s - loss: 0.1270 - accuracy: 0.9788 - val_loss: 0.1453 - val_accuracy: 0.9723\n",
      "Epoch 38/80\n",
      "1875/1875 - 3s - loss: 0.1258 - accuracy: 0.9790 - val_loss: 0.1467 - val_accuracy: 0.9742\n",
      "Epoch 39/80\n",
      "1875/1875 - 3s - loss: 0.1277 - accuracy: 0.9783 - val_loss: 0.1630 - val_accuracy: 0.9685\n",
      "Epoch 40/80\n",
      "1875/1875 - 3s - loss: 0.1257 - accuracy: 0.9796 - val_loss: 0.1522 - val_accuracy: 0.9715\n",
      "Epoch 41/80\n",
      "1875/1875 - 3s - loss: 0.1260 - accuracy: 0.9795 - val_loss: 0.1462 - val_accuracy: 0.9751\n",
      "Epoch 42/80\n",
      "1875/1875 - 3s - loss: 0.1251 - accuracy: 0.9792 - val_loss: 0.1477 - val_accuracy: 0.9722\n",
      "Epoch 43/80\n",
      "1875/1875 - 3s - loss: 0.1272 - accuracy: 0.9790 - val_loss: 0.1453 - val_accuracy: 0.9737\n",
      "Epoch 44/80\n",
      "1875/1875 - 3s - loss: 0.1257 - accuracy: 0.9789 - val_loss: 0.1911 - val_accuracy: 0.9599\n",
      "Epoch 45/80\n",
      "1875/1875 - 3s - loss: 0.1255 - accuracy: 0.9797 - val_loss: 0.1404 - val_accuracy: 0.9746\n",
      "Epoch 46/80\n",
      "1875/1875 - 3s - loss: 0.1247 - accuracy: 0.9796 - val_loss: 0.1534 - val_accuracy: 0.9728\n",
      "Epoch 47/80\n",
      "1875/1875 - 3s - loss: 0.1256 - accuracy: 0.9793 - val_loss: 0.1422 - val_accuracy: 0.9747\n",
      "Epoch 48/80\n",
      "1875/1875 - 3s - loss: 0.1245 - accuracy: 0.9797 - val_loss: 0.1570 - val_accuracy: 0.9703\n",
      "Epoch 49/80\n",
      "1875/1875 - 2s - loss: 0.1248 - accuracy: 0.9795 - val_loss: 0.1550 - val_accuracy: 0.9699\n",
      "Epoch 50/80\n",
      "1875/1875 - 3s - loss: 0.1251 - accuracy: 0.9792 - val_loss: 0.1407 - val_accuracy: 0.9773\n",
      "Epoch 51/80\n",
      "1875/1875 - 2s - loss: 0.1250 - accuracy: 0.9795 - val_loss: 0.1479 - val_accuracy: 0.9725\n",
      "Epoch 52/80\n",
      "1875/1875 - 2s - loss: 0.1245 - accuracy: 0.9797 - val_loss: 0.1373 - val_accuracy: 0.9775\n",
      "Epoch 53/80\n",
      "1875/1875 - 2s - loss: 0.1252 - accuracy: 0.9794 - val_loss: 0.1479 - val_accuracy: 0.9743\n",
      "Epoch 54/80\n",
      "1875/1875 - 2s - loss: 0.1251 - accuracy: 0.9792 - val_loss: 0.1517 - val_accuracy: 0.9714\n",
      "Epoch 55/80\n",
      "1875/1875 - 2s - loss: 0.1239 - accuracy: 0.9800 - val_loss: 0.1404 - val_accuracy: 0.9758\n",
      "Epoch 56/80\n",
      "1875/1875 - 2s - loss: 0.1246 - accuracy: 0.9790 - val_loss: 0.1448 - val_accuracy: 0.9756\n",
      "Epoch 57/80\n",
      "1875/1875 - 2s - loss: 0.1232 - accuracy: 0.9798 - val_loss: 0.1548 - val_accuracy: 0.9731\n",
      "Epoch 58/80\n",
      "1875/1875 - 2s - loss: 0.1240 - accuracy: 0.9797 - val_loss: 0.1608 - val_accuracy: 0.9680\n",
      "Epoch 59/80\n",
      "1875/1875 - 2s - loss: 0.1224 - accuracy: 0.9801 - val_loss: 0.1513 - val_accuracy: 0.9708\n",
      "Epoch 60/80\n",
      "1875/1875 - 2s - loss: 0.1232 - accuracy: 0.9801 - val_loss: 0.1471 - val_accuracy: 0.9737\n",
      "Epoch 61/80\n",
      "1875/1875 - 2s - loss: 0.1237 - accuracy: 0.9800 - val_loss: 0.1500 - val_accuracy: 0.9728\n",
      "Epoch 62/80\n",
      "1875/1875 - 3s - loss: 0.1243 - accuracy: 0.9790 - val_loss: 0.1484 - val_accuracy: 0.9731\n",
      "Epoch 63/80\n",
      "1875/1875 - 3s - loss: 0.1213 - accuracy: 0.9807 - val_loss: 0.1502 - val_accuracy: 0.9730\n",
      "Epoch 64/80\n",
      "1875/1875 - 3s - loss: 0.1223 - accuracy: 0.9801 - val_loss: 0.1458 - val_accuracy: 0.9732\n",
      "Epoch 65/80\n",
      "1875/1875 - 3s - loss: 0.1221 - accuracy: 0.9801 - val_loss: 0.1645 - val_accuracy: 0.9693\n",
      "Epoch 66/80\n",
      "1875/1875 - 3s - loss: 0.1227 - accuracy: 0.9797 - val_loss: 0.1474 - val_accuracy: 0.9736\n",
      "Epoch 67/80\n",
      "1875/1875 - 2s - loss: 0.1230 - accuracy: 0.9800 - val_loss: 0.1474 - val_accuracy: 0.9715\n",
      "Epoch 68/80\n",
      "1875/1875 - 3s - loss: 0.1220 - accuracy: 0.9799 - val_loss: 0.1538 - val_accuracy: 0.9717\n",
      "Epoch 69/80\n",
      "1875/1875 - 2s - loss: 0.1223 - accuracy: 0.9798 - val_loss: 0.1510 - val_accuracy: 0.9727\n",
      "Epoch 70/80\n",
      "1875/1875 - 2s - loss: 0.1230 - accuracy: 0.9792 - val_loss: 0.1702 - val_accuracy: 0.9689\n",
      "Epoch 71/80\n",
      "1875/1875 - 3s - loss: 0.1204 - accuracy: 0.9809 - val_loss: 0.1463 - val_accuracy: 0.9735\n",
      "Epoch 72/80\n",
      "1875/1875 - 2s - loss: 0.1237 - accuracy: 0.9792 - val_loss: 0.1425 - val_accuracy: 0.9752\n",
      "Epoch 73/80\n",
      "1875/1875 - 3s - loss: 0.1205 - accuracy: 0.9809 - val_loss: 0.1509 - val_accuracy: 0.9725\n"
     ]
    },
    {
     "name": "stdout",
     "output_type": "stream",
     "text": [
      "Epoch 74/80\n",
      "1875/1875 - 3s - loss: 0.1247 - accuracy: 0.9788 - val_loss: 0.1661 - val_accuracy: 0.9695\n",
      "Epoch 75/80\n",
      "1875/1875 - 3s - loss: 0.1225 - accuracy: 0.9801 - val_loss: 0.1461 - val_accuracy: 0.9739\n",
      "Epoch 76/80\n",
      "1875/1875 - 2s - loss: 0.1215 - accuracy: 0.9801 - val_loss: 0.1508 - val_accuracy: 0.9730\n",
      "Epoch 77/80\n",
      "1875/1875 - 3s - loss: 0.1211 - accuracy: 0.9804 - val_loss: 0.1469 - val_accuracy: 0.9731\n",
      "Epoch 78/80\n",
      "1875/1875 - 3s - loss: 0.1223 - accuracy: 0.9795 - val_loss: 0.1593 - val_accuracy: 0.9683\n",
      "Epoch 79/80\n",
      "1875/1875 - 3s - loss: 0.1213 - accuracy: 0.9805 - val_loss: 0.1413 - val_accuracy: 0.9742\n",
      "Epoch 80/80\n",
      "1875/1875 - 3s - loss: 0.1215 - accuracy: 0.9804 - val_loss: 0.1410 - val_accuracy: 0.9741\n"
     ]
    },
    {
     "data": {
      "image/png": "[encoded data removed]",
      "text/plain": [
       "<Figure size 576x288 with 1 Axes>"
      ]
     },
     "metadata": {
      "needs_background": "light"
     },
     "output_type": "display_data"
    }
   ],
   "source": [
    "from tensorflow.keras import regularizers\n",
    "def model_l2():\n",
    "    model = Sequential()\n",
    "    model.add(Flatten(input_shape=(28, 28)))\n",
    "    model.add(Dense(128,activation='relu', kernel_regularizer=regularizers.l2(0.001)))  # 施加在权重w上的正则项\n",
    "    model.add(Dense(10, activation = 'softmax'))\n",
    "    print(model.summary())\n",
    "    model.compile(optimizer='adam',\n",
    "                  loss = 'sparse_categorical_crossentropy',  # y不需要做one-hot处理 （0-9）\n",
    "                  metrics=['accuracy'])\n",
    "    \n",
    "    return model\n",
    "\n",
    "nn_l2 = model_l2()\n",
    "hs_l2 = nn_l2.fit(x_train, y_train,  \n",
    "           epochs = 80,  # 迭代次数  \n",
    "           batch_size = 32,  # 每次用来梯度下降的批处理数据大小  \n",
    "           validation_data = (x_test, y_test),  # 验证集  \n",
    "           verbose = 2  # 0不显示训练过程，1全部显示（默认），2精简显示\n",
    "     )\n",
    "plot_loss(hs_l2)"
   ]
  },
  {
   "cell_type": "code",
   "execution_count": 42,
   "metadata": {},
   "outputs": [
    {
     "name": "stdout",
     "output_type": "stream",
     "text": [
      "test上的分类报告如下：\n",
      "               precision    recall  f1-score   support\n",
      "\n",
      "           0       0.97      0.99      0.98       980\n",
      "           1       0.98      1.00      0.99      1135\n",
      "           2       0.98      0.97      0.98      1032\n",
      "           3       0.97      0.98      0.97      1010\n",
      "           4       0.99      0.95      0.97       982\n",
      "           5       0.97      0.97      0.97       892\n",
      "           6       0.98      0.98      0.98       958\n",
      "           7       0.98      0.98      0.98      1028\n",
      "           8       0.99      0.95      0.97       974\n",
      "           9       0.95      0.98      0.96      1009\n",
      "\n",
      "    accuracy                           0.97     10000\n",
      "   macro avg       0.97      0.97      0.97     10000\n",
      "weighted avg       0.97      0.97      0.97     10000\n",
      "\n",
      "train上的分类报告如下：\n",
      "               precision    recall  f1-score   support\n",
      "\n",
      "           0       0.99      1.00      0.99      5923\n",
      "           1       0.99      1.00      0.99      6742\n",
      "           2       0.99      0.98      0.99      5958\n",
      "           3       0.98      0.98      0.98      6131\n",
      "           4       0.99      0.97      0.98      5842\n",
      "           5       0.98      0.99      0.98      5421\n",
      "           6       0.99      0.99      0.99      5918\n",
      "           7       0.99      0.99      0.99      6265\n",
      "           8       0.99      0.97      0.98      5851\n",
      "           9       0.96      0.99      0.98      5949\n",
      "\n",
      "    accuracy                           0.98     60000\n",
      "   macro avg       0.98      0.98      0.98     60000\n",
      "weighted avg       0.99      0.98      0.98     60000\n",
      "\n"
     ]
    }
   ],
   "source": [
    "test_pred_class_l2 = np.argmax(nn_l2.predict(x_test), axis = 1)\n",
    "print(\"test上的分类报告如下：\\n\",classification_report(y_test, test_pred_class_l2))\n",
    "test_pred_class_l2 = np.argmax(nn_l2.predict(x_train), axis = 1)\n",
    "print(\"train上的分类报告如下：\\n\",classification_report(y_train, test_pred_class_l2))"
   ]
  },
  {
   "cell_type": "markdown",
   "metadata": {},
   "source": [
    "## Dorpout earlystopping "
   ]
  },
  {
   "cell_type": "code",
   "execution_count": 46,
   "metadata": {},
   "outputs": [
    {
     "name": "stdout",
     "output_type": "stream",
     "text": [
      "Model: \"sequential_6\"\n",
      "_________________________________________________________________\n",
      "Layer (type)                 Output Shape              Param #   \n",
      "=================================================================\n",
      "flatten_6 (Flatten)          (None, 784)               0         \n",
      "_________________________________________________________________\n",
      "dense_12 (Dense)             (None, 128)               100480    \n",
      "_________________________________________________________________\n",
      "dropout_1 (Dropout)          (None, 128)               0         \n",
      "_________________________________________________________________\n",
      "dense_13 (Dense)             (None, 10)                1290      \n",
      "=================================================================\n",
      "Total params: 101,770\n",
      "Trainable params: 101,770\n",
      "Non-trainable params: 0\n",
      "_________________________________________________________________\n",
      "None\n",
      "Epoch 1/80\n",
      "1875/1875 - 3s - loss: 0.4050 - accuracy: 0.9146 - val_loss: 0.2534 - val_accuracy: 0.9545\n",
      "Epoch 2/80\n",
      "1875/1875 - 3s - loss: 0.2525 - accuracy: 0.9518 - val_loss: 0.2140 - val_accuracy: 0.9627\n",
      "Epoch 3/80\n",
      "1875/1875 - 3s - loss: 0.2227 - accuracy: 0.9579 - val_loss: 0.2005 - val_accuracy: 0.9616\n",
      "Epoch 4/80\n",
      "1875/1875 - 3s - loss: 0.2045 - accuracy: 0.9625 - val_loss: 0.1776 - val_accuracy: 0.9711\n",
      "Epoch 5/80\n",
      "1875/1875 - 3s - loss: 0.1940 - accuracy: 0.9653 - val_loss: 0.1737 - val_accuracy: 0.9707\n",
      "Epoch 6/80\n",
      "1875/1875 - 3s - loss: 0.1910 - accuracy: 0.9655 - val_loss: 0.1715 - val_accuracy: 0.9724\n",
      "Epoch 7/80\n",
      "1875/1875 - 3s - loss: 0.1835 - accuracy: 0.9675 - val_loss: 0.1787 - val_accuracy: 0.9691\n",
      "Epoch 8/80\n",
      "1875/1875 - 2s - loss: 0.1817 - accuracy: 0.9681 - val_loss: 0.1560 - val_accuracy: 0.9758\n",
      "Epoch 9/80\n",
      "1875/1875 - 2s - loss: 0.1781 - accuracy: 0.9687 - val_loss: 0.1637 - val_accuracy: 0.9728\n",
      "Epoch 10/80\n",
      "1875/1875 - 2s - loss: 0.1764 - accuracy: 0.9682 - val_loss: 0.1601 - val_accuracy: 0.9757\n",
      "Epoch 11/80\n",
      "1875/1875 - 2s - loss: 0.1749 - accuracy: 0.9690 - val_loss: 0.1699 - val_accuracy: 0.9716\n",
      "Epoch 12/80\n",
      "1875/1875 - 2s - loss: 0.1739 - accuracy: 0.9696 - val_loss: 0.1599 - val_accuracy: 0.9747\n",
      "Epoch 13/80\n",
      "1875/1875 - 2s - loss: 0.1697 - accuracy: 0.9710 - val_loss: 0.1555 - val_accuracy: 0.9754\n"
     ]
    },
    {
     "data": {
      "image/png": "[encoded data removed]",
      "text/plain": [
       "<Figure size 576x288 with 1 Axes>"
      ]
     },
     "metadata": {
      "needs_background": "light"
     },
     "output_type": "display_data"
    }
   ],
   "source": [
    "from tensorflow.keras.layers import Dropout\n",
    "from tensorflow.keras.callbacks import EarlyStopping\n",
    "early_stopping = EarlyStopping(monitor='val_accuracy', patience=5)  \n",
    "\n",
    "def model_dropout():\n",
    "    model = Sequential()\n",
    "    model.add(Flatten(input_shape=(28, 28)))\n",
    "    model.add(Dense(128,activation='relu', kernel_regularizer=regularizers.l2(0.001)))  # 施加在权重w上的正则项\n",
    "    model.add(Dropout(0.1))\n",
    "    model.add(Dense(10, activation = 'softmax'))\n",
    "    print(model.summary())\n",
    "    model.compile(optimizer='adam',\n",
    "                  loss = 'sparse_categorical_crossentropy',\n",
    "                  metrics=['accuracy'])\n",
    "    return model\n",
    "nn_dropout = model_dropout()\n",
    "\n",
    "hs_dropout = nn_dropout.fit(x_train, y_train,  \n",
    "           epochs = 80, \n",
    "           batch_size = 32,\n",
    "           validation_data = (x_test, y_test),\n",
    "           verbose = 2,\n",
    "           callbacks=[early_stopping]  # 提前终止，写在callbacks， 10次不再下降就终止\n",
    "     )\n",
    "plot_loss(hs_dropout)"
   ]
  },
  {
   "cell_type": "code",
   "execution_count": null,
   "metadata": {},
   "outputs": [],
   "source": []
  },
  {
   "cell_type": "markdown",
   "metadata": {},
   "source": [
    "# 总结 "
   ]
  },
  {
   "cell_type": "code",
   "execution_count": 51,
   "metadata": {},
   "outputs": [],
   "source": [
    "#MNIST数据集在国内无法下载 通过下载已有的导入使用\n",
    "#学会了使用自适应损失函数和通过L2、随机抛弃、提前终止来降低过拟合"
   ]
  }
 ],
 "metadata": {
  "kernelspec": {
   "display_name": "Python 3",
   "language": "python",
   "name": "python3"
  },
  "language_info": {
   "codemirror_mode": {
    "name": "ipython",
    "version": 3
   },
   "file_extension": ".py",
   "mimetype": "text/x-python",
   "name": "python",
   "nbconvert_exporter": "python",
   "pygments_lexer": "ipython3",
   "version": "3.8.5"
  },
  "varInspector": {
   "cols": {
    "lenName": 16,
    "lenType": 16,
    "lenVar": 40
   },
   "kernels_config": {
    "python": {
     "delete_cmd_postfix": "",
     "delete_cmd_prefix": "del ",
     "library": "var_list.py",
     "varRefreshCmd": "print(var_dic_list())"
    },
    "r": {
     "delete_cmd_postfix": ") ",
     "delete_cmd_prefix": "rm(",
     "library": "var_list.r",
     "varRefreshCmd": "cat(var_dic_list()) "
    }
   },
   "types_to_exclude": [
    "module",
    "function",
    "builtin_function_or_method",
    "instance",
    "_Feature"
   ],
   "window_display": false
  }
 },
 "nbformat": 4,
 "nbformat_minor": 4
}
