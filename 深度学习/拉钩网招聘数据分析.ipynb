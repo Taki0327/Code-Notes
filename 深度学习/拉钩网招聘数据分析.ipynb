{
 "cells": [
  {
   "cell_type": "markdown",
   "metadata": {
    "heading_collapsed": true
   },
   "source": [
    "# （1）数据加载"
   ]
  },
  {
   "cell_type": "markdown",
   "metadata": {
    "heading_collapsed": true,
    "hidden": true
   },
   "source": [
    "## 导入数据 "
   ]
  },
  {
   "cell_type": "code",
   "execution_count": 1,
   "metadata": {
    "hidden": true
   },
   "outputs": [],
   "source": [
    "import pandas as pd\n",
    "from IPython.display import display\n",
    "import matplotlib.pyplot as plt"
   ]
  },
  {
   "cell_type": "code",
   "execution_count": 23,
   "metadata": {
    "hidden": true,
    "scrolled": true
   },
   "outputs": [
    {
     "data": {
      "text/html": [
       "<div>\n",
       "<style scoped>\n",
       "    .dataframe tbody tr th:only-of-type {\n",
       "        vertical-align: middle;\n",
       "    }\n",
       "\n",
       "    .dataframe tbody tr th {\n",
       "        vertical-align: top;\n",
       "    }\n",
       "\n",
       "    .dataframe thead th {\n",
       "        text-align: right;\n",
       "    }\n",
       "</style>\n",
       "<table border=\"1\" class=\"dataframe\">\n",
       "  <thead>\n",
       "    <tr style=\"text-align: right;\">\n",
       "      <th></th>\n",
       "      <th>序号</th>\n",
       "      <th>工作</th>\n",
       "      <th>标签</th>\n",
       "      <th>工资</th>\n",
       "      <th>学历</th>\n",
       "      <th>工作经验</th>\n",
       "      <th>公司</th>\n",
       "      <th>发布时间</th>\n",
       "      <th>地址</th>\n",
       "      <th>福利</th>\n",
       "      <th>类型</th>\n",
       "      <th>财政</th>\n",
       "      <th>规模</th>\n",
       "    </tr>\n",
       "  </thead>\n",
       "  <tbody>\n",
       "    <tr>\n",
       "      <th>0</th>\n",
       "      <td>1</td>\n",
       "      <td>JAVA高级研发工程师—阿拉丁科技</td>\n",
       "      <td>Java,Android,IOS</td>\n",
       "      <td>20k-40k</td>\n",
       "      <td>本科</td>\n",
       "      <td>经验3-5年</td>\n",
       "      <td>阿拉丁控股集团有限公司</td>\n",
       "      <td>2019-08-21</td>\n",
       "      <td>北京·大望路</td>\n",
       "      <td>五险一金，周末双休</td>\n",
       "      <td>金融</td>\n",
       "      <td>不需要融资</td>\n",
       "      <td>150-500人</td>\n",
       "    </tr>\n",
       "    <tr>\n",
       "      <th>1</th>\n",
       "      <td>2</td>\n",
       "      <td>高级Java工程师</td>\n",
       "      <td>后端,Java,服务器端</td>\n",
       "      <td>25k-35k</td>\n",
       "      <td>本科</td>\n",
       "      <td>经验3-5年</td>\n",
       "      <td>小帮规划</td>\n",
       "      <td>2019-08-16</td>\n",
       "      <td>北京·望京</td>\n",
       "      <td>牛人多，氛围好，福利好</td>\n",
       "      <td>移动互联网,金融</td>\n",
       "      <td>B轮</td>\n",
       "      <td>150-500人</td>\n",
       "    </tr>\n",
       "    <tr>\n",
       "      <th>2</th>\n",
       "      <td>3</td>\n",
       "      <td>Java开发工程师</td>\n",
       "      <td>Java</td>\n",
       "      <td>20k-40k</td>\n",
       "      <td>本科</td>\n",
       "      <td>经验3-5年</td>\n",
       "      <td>玩吧</td>\n",
       "      <td>2019-08-20</td>\n",
       "      <td>北京·东城区</td>\n",
       "      <td>七险一金,弹性不打卡,免费午餐,季度旅游</td>\n",
       "      <td>社交</td>\n",
       "      <td>B轮</td>\n",
       "      <td>150-500人</td>\n",
       "    </tr>\n",
       "    <tr>\n",
       "      <th>3</th>\n",
       "      <td>4</td>\n",
       "      <td>java开发工程师</td>\n",
       "      <td>支付,Java</td>\n",
       "      <td>18k-30k</td>\n",
       "      <td>本科</td>\n",
       "      <td>经验5-10年</td>\n",
       "      <td>汇付</td>\n",
       "      <td>2019-08-21</td>\n",
       "      <td>上海·虹梅路</td>\n",
       "      <td>团队好,绩效奖金,环境好,氛围好</td>\n",
       "      <td>移动互联网,金融</td>\n",
       "      <td>上市公司</td>\n",
       "      <td>500-2000人</td>\n",
       "    </tr>\n",
       "    <tr>\n",
       "      <th>4</th>\n",
       "      <td>5</td>\n",
       "      <td>高级Java开发工程师</td>\n",
       "      <td>大数据,智能硬件,平台,MySQL,Java,后端</td>\n",
       "      <td>20k-35k</td>\n",
       "      <td>本科</td>\n",
       "      <td>经验3-5年</td>\n",
       "      <td>涂鸦智能</td>\n",
       "      <td>2019-08-21</td>\n",
       "      <td>杭州·西溪</td>\n",
       "      <td>福利好、定期团建、环境氛围好</td>\n",
       "      <td>移动互联网,硬件</td>\n",
       "      <td>C轮</td>\n",
       "      <td>500-2000人</td>\n",
       "    </tr>\n",
       "  </tbody>\n",
       "</table>\n",
       "</div>"
      ],
      "text/plain": [
       "  序号                 工作                         标签       工资  学历     工作经验  \\\n",
       "0  1  JAVA高级研发工程师—阿拉丁科技           Java,Android,IOS  20k-40k  本科   经验3-5年   \n",
       "1  2          高级Java工程师               后端,Java,服务器端  25k-35k  本科   经验3-5年   \n",
       "2  3          Java开发工程师                       Java  20k-40k  本科   经验3-5年   \n",
       "3  4          java开发工程师                    支付,Java  18k-30k  本科  经验5-10年   \n",
       "4  5        高级Java开发工程师  大数据,智能硬件,平台,MySQL,Java,后端  20k-35k  本科   经验3-5年   \n",
       "\n",
       "            公司        发布时间      地址                    福利        类型     财政  \\\n",
       "0  阿拉丁控股集团有限公司  2019-08-21  北京·大望路             五险一金，周末双休        金融  不需要融资   \n",
       "1         小帮规划  2019-08-16   北京·望京           牛人多，氛围好，福利好  移动互联网,金融     B轮   \n",
       "2           玩吧  2019-08-20  北京·东城区  七险一金,弹性不打卡,免费午餐,季度旅游        社交     B轮   \n",
       "3           汇付  2019-08-21  上海·虹梅路      团队好,绩效奖金,环境好,氛围好  移动互联网,金融   上市公司   \n",
       "4         涂鸦智能  2019-08-21   杭州·西溪        福利好、定期团建、环境氛围好  移动互联网,硬件     C轮   \n",
       "\n",
       "          规模  \n",
       "0   150-500人  \n",
       "1   150-500人  \n",
       "2   150-500人  \n",
       "3  500-2000人  \n",
       "4  500-2000人  "
      ]
     },
     "metadata": {},
     "output_type": "display_data"
    },
    {
     "data": {
      "text/html": [
       "<div>\n",
       "<style scoped>\n",
       "    .dataframe tbody tr th:only-of-type {\n",
       "        vertical-align: middle;\n",
       "    }\n",
       "\n",
       "    .dataframe tbody tr th {\n",
       "        vertical-align: top;\n",
       "    }\n",
       "\n",
       "    .dataframe thead th {\n",
       "        text-align: right;\n",
       "    }\n",
       "</style>\n",
       "<table border=\"1\" class=\"dataframe\">\n",
       "  <thead>\n",
       "    <tr style=\"text-align: right;\">\n",
       "      <th></th>\n",
       "      <th>序号</th>\n",
       "      <th>工作</th>\n",
       "      <th>标签</th>\n",
       "      <th>工资</th>\n",
       "      <th>学历</th>\n",
       "      <th>工作经验</th>\n",
       "      <th>公司</th>\n",
       "      <th>发布时间</th>\n",
       "      <th>地址</th>\n",
       "      <th>福利</th>\n",
       "      <th>类型</th>\n",
       "      <th>财政</th>\n",
       "      <th>规模</th>\n",
       "    </tr>\n",
       "  </thead>\n",
       "  <tbody>\n",
       "    <tr>\n",
       "      <th>89712</th>\n",
       "      <td>89216</td>\n",
       "      <td>前端开发、H5</td>\n",
       "      <td>前端开发,移动端,Web前端</td>\n",
       "      <td>12k-19k</td>\n",
       "      <td>大专</td>\n",
       "      <td>经验3-5年</td>\n",
       "      <td>海万科技</td>\n",
       "      <td>2019-08-23</td>\n",
       "      <td>深圳·福田区</td>\n",
       "      <td>五险一金 周末双休 节假日福利 交通报销</td>\n",
       "      <td>移动互联网,金融</td>\n",
       "      <td>不需要融资</td>\n",
       "      <td>500-2000人</td>\n",
       "    </tr>\n",
       "    <tr>\n",
       "      <th>41581</th>\n",
       "      <td>41468</td>\n",
       "      <td>游戏原画师</td>\n",
       "      <td>游戏,原画,角色,2D,场景</td>\n",
       "      <td>13k-25k</td>\n",
       "      <td>不限</td>\n",
       "      <td>经验不限</td>\n",
       "      <td>上海米哈游</td>\n",
       "      <td>2019-08-22</td>\n",
       "      <td>上海·徐汇区</td>\n",
       "      <td>扁平化,弹性时间,年终多薪,五险一金</td>\n",
       "      <td>移动互联网,游戏</td>\n",
       "      <td>不需要融资</td>\n",
       "      <td>500-2000人</td>\n",
       "    </tr>\n",
       "    <tr>\n",
       "      <th>9426</th>\n",
       "      <td>9411</td>\n",
       "      <td>前端开发工程师</td>\n",
       "      <td>前端开发</td>\n",
       "      <td>10k-15k</td>\n",
       "      <td>不限</td>\n",
       "      <td>经验1-3年</td>\n",
       "      <td>比扬达</td>\n",
       "      <td>2019-08-19</td>\n",
       "      <td>深圳·福田区</td>\n",
       "      <td>年终奖，内部晋升</td>\n",
       "      <td>软件开发</td>\n",
       "      <td>不需要融资</td>\n",
       "      <td>150-500人</td>\n",
       "    </tr>\n",
       "  </tbody>\n",
       "</table>\n",
       "</div>"
      ],
      "text/plain": [
       "          序号       工作              标签       工资  学历    工作经验     公司        发布时间  \\\n",
       "89712  89216  前端开发、H5  前端开发,移动端,Web前端  12k-19k  大专  经验3-5年   海万科技  2019-08-23   \n",
       "41581  41468    游戏原画师  游戏,原画,角色,2D,场景  13k-25k  不限    经验不限  上海米哈游  2019-08-22   \n",
       "9426    9411  前端开发工程师            前端开发  10k-15k  不限  经验1-3年    比扬达  2019-08-19   \n",
       "\n",
       "           地址                    福利        类型     财政         规模  \n",
       "89712  深圳·福田区  五险一金 周末双休 节假日福利 交通报销  移动互联网,金融  不需要融资  500-2000人  \n",
       "41581  上海·徐汇区    扁平化,弹性时间,年终多薪,五险一金  移动互联网,游戏  不需要融资  500-2000人  \n",
       "9426   深圳·福田区              年终奖，内部晋升      软件开发  不需要融资   150-500人  "
      ]
     },
     "metadata": {},
     "output_type": "display_data"
    },
    {
     "data": {
      "text/html": [
       "<div>\n",
       "<style scoped>\n",
       "    .dataframe tbody tr th:only-of-type {\n",
       "        vertical-align: middle;\n",
       "    }\n",
       "\n",
       "    .dataframe tbody tr th {\n",
       "        vertical-align: top;\n",
       "    }\n",
       "\n",
       "    .dataframe thead th {\n",
       "        text-align: right;\n",
       "    }\n",
       "</style>\n",
       "<table border=\"1\" class=\"dataframe\">\n",
       "  <thead>\n",
       "    <tr style=\"text-align: right;\">\n",
       "      <th></th>\n",
       "      <th>序号</th>\n",
       "      <th>工作</th>\n",
       "      <th>标签</th>\n",
       "      <th>工资</th>\n",
       "      <th>学历</th>\n",
       "      <th>工作经验</th>\n",
       "      <th>公司</th>\n",
       "      <th>发布时间</th>\n",
       "      <th>地址</th>\n",
       "      <th>福利</th>\n",
       "      <th>类型</th>\n",
       "      <th>财政</th>\n",
       "      <th>规模</th>\n",
       "    </tr>\n",
       "  </thead>\n",
       "  <tbody>\n",
       "    <tr>\n",
       "      <th>102640</th>\n",
       "      <td>102090</td>\n",
       "      <td>游戏策划</td>\n",
       "      <td>游戏</td>\n",
       "      <td>8k-16k</td>\n",
       "      <td>不限</td>\n",
       "      <td>经验不限</td>\n",
       "      <td>放学后教育</td>\n",
       "      <td>2019-08-17</td>\n",
       "      <td>深圳·南山区</td>\n",
       "      <td>期权分红，看过就不想走的办公氛围和环境</td>\n",
       "      <td>教育,游戏</td>\n",
       "      <td>不需要融资</td>\n",
       "      <td>少于15人</td>\n",
       "    </tr>\n",
       "    <tr>\n",
       "      <th>102641</th>\n",
       "      <td>102091</td>\n",
       "      <td>游戏策划</td>\n",
       "      <td>专项奖金,五险一金,通讯津贴,交通补助</td>\n",
       "      <td>10k-20k</td>\n",
       "      <td>不限</td>\n",
       "      <td>经验3-5年</td>\n",
       "      <td>盛天网络</td>\n",
       "      <td>2019-08-19</td>\n",
       "      <td>武汉·东湖新技术开发区</td>\n",
       "      <td>上市公司，发展空间大，福利完善</td>\n",
       "      <td>游戏,文娱丨内容</td>\n",
       "      <td>上市公司</td>\n",
       "      <td>500-2000人</td>\n",
       "    </tr>\n",
       "    <tr>\n",
       "      <th>102642</th>\n",
       "      <td>102092</td>\n",
       "      <td>游戏策划</td>\n",
       "      <td>带薪年假,定期体检,弹性工作,年度旅游</td>\n",
       "      <td>5k-8k</td>\n",
       "      <td>本科</td>\n",
       "      <td>经验1-3年</td>\n",
       "      <td>碧游</td>\n",
       "      <td>2019-08-19</td>\n",
       "      <td>杭州·文三路</td>\n",
       "      <td>弹性工作时间 扁平管理</td>\n",
       "      <td>游戏</td>\n",
       "      <td>不需要融资</td>\n",
       "      <td>50-150人</td>\n",
       "    </tr>\n",
       "  </tbody>\n",
       "</table>\n",
       "</div>"
      ],
      "text/plain": [
       "            序号    工作                   标签       工资  学历    工作经验     公司  \\\n",
       "102640  102090  游戏策划                   游戏   8k-16k  不限    经验不限  放学后教育   \n",
       "102641  102091  游戏策划  专项奖金,五险一金,通讯津贴,交通补助  10k-20k  不限  经验3-5年   盛天网络   \n",
       "102642  102092  游戏策划  带薪年假,定期体检,弹性工作,年度旅游    5k-8k  本科  经验1-3年     碧游   \n",
       "\n",
       "              发布时间           地址                   福利        类型     财政  \\\n",
       "102640  2019-08-17       深圳·南山区  期权分红，看过就不想走的办公氛围和环境     教育,游戏  不需要融资   \n",
       "102641  2019-08-19  武汉·东湖新技术开发区      上市公司，发展空间大，福利完善  游戏,文娱丨内容   上市公司   \n",
       "102642  2019-08-19       杭州·文三路          弹性工作时间 扁平管理        游戏  不需要融资   \n",
       "\n",
       "               规模  \n",
       "102640      少于15人  \n",
       "102641  500-2000人  \n",
       "102642    50-150人  "
      ]
     },
     "metadata": {},
     "output_type": "display_data"
    }
   ],
   "source": [
    "lg=pd.read_csv('./dataset/lagou_all.csv',sep='^',names=['序号','工作','标签','工资','学历','工作经验','公司',\n",
    "                                                        '发布时间','地址','福利','类型','财政','规模'])\n",
    "display(lg.head())\n",
    "display(lg.sample(3))\n",
    "display(lg.tail(3))"
   ]
  },
  {
   "cell_type": "markdown",
   "metadata": {
    "heading_collapsed": true,
    "hidden": true
   },
   "source": [
    "## 表信息 "
   ]
  },
  {
   "cell_type": "code",
   "execution_count": 25,
   "metadata": {
    "hidden": true
   },
   "outputs": [
    {
     "name": "stdout",
     "output_type": "stream",
     "text": [
      "(102643, 13)\n",
      "2\n",
      "序号      object\n",
      "工作      object\n",
      "标签      object\n",
      "工资      object\n",
      "学历      object\n",
      "工作经验    object\n",
      "公司      object\n",
      "发布时间    object\n",
      "地址      object\n",
      "福利      object\n",
      "类型      object\n",
      "财政      object\n",
      "规模      object\n",
      "dtype: object\n"
     ]
    }
   ],
   "source": [
    "print(lg.shape)  # 返回几行几列\n",
    "print(lg.ndim)   # 返回维度\n",
    "print(lg.dtypes) # 返回各列的类型"
   ]
  },
  {
   "cell_type": "code",
   "execution_count": 24,
   "metadata": {
    "hidden": true,
    "scrolled": false
   },
   "outputs": [
    {
     "name": "stdout",
     "output_type": "stream",
     "text": [
      "RangeIndex(start=0, stop=102643, step=1)\n",
      "Index(['序号', '工作', '标签', '工资', '学历', '工作经验', '公司', '发布时间', '地址', '福利', '类型',\n",
      "       '财政', '规模'],\n",
      "      dtype='object')\n",
      "[['1' 'JAVA高级研发工程师—阿拉丁科技' 'Java,Android,IOS' ... '金融' '不需要融资' '150-500人']\n",
      " ['2' '高级Java工程师' '后端,Java,服务器端' ... '移动互联网,金融' 'B轮' '150-500人']\n",
      " ['3' 'Java开发工程师' 'Java' ... '社交' 'B轮' '150-500人']\n",
      " ...\n",
      " ['102090' '游戏策划' '游戏' ... '教育,游戏' '不需要融资' '少于15人']\n",
      " ['102091' '游戏策划' '专项奖金,五险一金,通讯津贴,交通补助' ... '游戏,文娱丨内容' '上市公司' '500-2000人']\n",
      " ['102092' '游戏策划' '带薪年假,定期体检,弹性工作,年度旅游' ... '游戏' '不需要融资' '50-150人']]\n"
     ]
    }
   ],
   "source": [
    "print(lg.index)      # 查看索引信息 \n",
    "print(lg.columns)    # 查看表头\n",
    "print(lg.values)     # 查看数据列表"
   ]
  },
  {
   "cell_type": "code",
   "execution_count": 26,
   "metadata": {
    "hidden": true
   },
   "outputs": [
    {
     "data": {
      "text/html": [
       "<div>\n",
       "<style scoped>\n",
       "    .dataframe tbody tr th:only-of-type {\n",
       "        vertical-align: middle;\n",
       "    }\n",
       "\n",
       "    .dataframe tbody tr th {\n",
       "        vertical-align: top;\n",
       "    }\n",
       "\n",
       "    .dataframe thead th {\n",
       "        text-align: right;\n",
       "    }\n",
       "</style>\n",
       "<table border=\"1\" class=\"dataframe\">\n",
       "  <thead>\n",
       "    <tr style=\"text-align: right;\">\n",
       "      <th>列名</th>\n",
       "      <th>序号</th>\n",
       "      <th>工作</th>\n",
       "      <th>标签</th>\n",
       "      <th>工资</th>\n",
       "      <th>学历</th>\n",
       "      <th>工作经验</th>\n",
       "      <th>公司</th>\n",
       "      <th>发布时间</th>\n",
       "      <th>地址</th>\n",
       "      <th>福利</th>\n",
       "      <th>类型</th>\n",
       "      <th>财政</th>\n",
       "      <th>规模</th>\n",
       "    </tr>\n",
       "    <tr>\n",
       "      <th>索引</th>\n",
       "      <th></th>\n",
       "      <th></th>\n",
       "      <th></th>\n",
       "      <th></th>\n",
       "      <th></th>\n",
       "      <th></th>\n",
       "      <th></th>\n",
       "      <th></th>\n",
       "      <th></th>\n",
       "      <th></th>\n",
       "      <th></th>\n",
       "      <th></th>\n",
       "      <th></th>\n",
       "    </tr>\n",
       "  </thead>\n",
       "  <tbody>\n",
       "    <tr>\n",
       "      <th>0</th>\n",
       "      <td>1</td>\n",
       "      <td>JAVA高级研发工程师—阿拉丁科技</td>\n",
       "      <td>Java,Android,IOS</td>\n",
       "      <td>20k-40k</td>\n",
       "      <td>本科</td>\n",
       "      <td>经验3-5年</td>\n",
       "      <td>阿拉丁控股集团有限公司</td>\n",
       "      <td>2019-08-21</td>\n",
       "      <td>北京·大望路</td>\n",
       "      <td>五险一金，周末双休</td>\n",
       "      <td>金融</td>\n",
       "      <td>不需要融资</td>\n",
       "      <td>150-500人</td>\n",
       "    </tr>\n",
       "    <tr>\n",
       "      <th>1</th>\n",
       "      <td>2</td>\n",
       "      <td>高级Java工程师</td>\n",
       "      <td>后端,Java,服务器端</td>\n",
       "      <td>25k-35k</td>\n",
       "      <td>本科</td>\n",
       "      <td>经验3-5年</td>\n",
       "      <td>小帮规划</td>\n",
       "      <td>2019-08-16</td>\n",
       "      <td>北京·望京</td>\n",
       "      <td>牛人多，氛围好，福利好</td>\n",
       "      <td>移动互联网,金融</td>\n",
       "      <td>B轮</td>\n",
       "      <td>150-500人</td>\n",
       "    </tr>\n",
       "    <tr>\n",
       "      <th>2</th>\n",
       "      <td>3</td>\n",
       "      <td>Java开发工程师</td>\n",
       "      <td>Java</td>\n",
       "      <td>20k-40k</td>\n",
       "      <td>本科</td>\n",
       "      <td>经验3-5年</td>\n",
       "      <td>玩吧</td>\n",
       "      <td>2019-08-20</td>\n",
       "      <td>北京·东城区</td>\n",
       "      <td>七险一金,弹性不打卡,免费午餐,季度旅游</td>\n",
       "      <td>社交</td>\n",
       "      <td>B轮</td>\n",
       "      <td>150-500人</td>\n",
       "    </tr>\n",
       "  </tbody>\n",
       "</table>\n",
       "</div>"
      ],
      "text/plain": [
       "列名 序号                 工作                标签       工资  学历    工作经验           公司  \\\n",
       "索引                                                                             \n",
       "0   1  JAVA高级研发工程师—阿拉丁科技  Java,Android,IOS  20k-40k  本科  经验3-5年  阿拉丁控股集团有限公司   \n",
       "1   2          高级Java工程师      后端,Java,服务器端  25k-35k  本科  经验3-5年         小帮规划   \n",
       "2   3          Java开发工程师              Java  20k-40k  本科  经验3-5年           玩吧   \n",
       "\n",
       "列名        发布时间      地址                    福利        类型     财政        规模  \n",
       "索引                                                                       \n",
       "0   2019-08-21  北京·大望路             五险一金，周末双休        金融  不需要融资  150-500人  \n",
       "1   2019-08-16   北京·望京           牛人多，氛围好，福利好  移动互联网,金融     B轮  150-500人  \n",
       "2   2019-08-20  北京·东城区  七险一金,弹性不打卡,免费午餐,季度旅游        社交     B轮  150-500人  "
      ]
     },
     "metadata": {},
     "output_type": "display_data"
    }
   ],
   "source": [
    "lg.index.name = '索引'\n",
    "lg.columns.name = '列名'\n",
    "display(lg.head(3))"
   ]
  },
  {
   "cell_type": "code",
   "execution_count": 27,
   "metadata": {
    "hidden": true
   },
   "outputs": [
    {
     "data": {
      "text/html": [
       "<div>\n",
       "<style scoped>\n",
       "    .dataframe tbody tr th:only-of-type {\n",
       "        vertical-align: middle;\n",
       "    }\n",
       "\n",
       "    .dataframe tbody tr th {\n",
       "        vertical-align: top;\n",
       "    }\n",
       "\n",
       "    .dataframe thead th {\n",
       "        text-align: right;\n",
       "    }\n",
       "</style>\n",
       "<table border=\"1\" class=\"dataframe\">\n",
       "  <thead>\n",
       "    <tr style=\"text-align: right;\">\n",
       "      <th>列名</th>\n",
       "      <th>序号</th>\n",
       "      <th>工作</th>\n",
       "      <th>标签</th>\n",
       "      <th>工资</th>\n",
       "      <th>学历</th>\n",
       "      <th>工作经验</th>\n",
       "      <th>公司</th>\n",
       "      <th>发布时间</th>\n",
       "      <th>地址</th>\n",
       "      <th>福利</th>\n",
       "      <th>类型</th>\n",
       "      <th>财政</th>\n",
       "      <th>规模</th>\n",
       "    </tr>\n",
       "  </thead>\n",
       "  <tbody>\n",
       "    <tr>\n",
       "      <th>count</th>\n",
       "      <td>102643</td>\n",
       "      <td>102444</td>\n",
       "      <td>102201</td>\n",
       "      <td>102444</td>\n",
       "      <td>102062</td>\n",
       "      <td>102062</td>\n",
       "      <td>102062</td>\n",
       "      <td>102062</td>\n",
       "      <td>102062</td>\n",
       "      <td>102062</td>\n",
       "      <td>101680</td>\n",
       "      <td>101680</td>\n",
       "      <td>101680</td>\n",
       "    </tr>\n",
       "    <tr>\n",
       "      <th>unique</th>\n",
       "      <td>102395</td>\n",
       "      <td>26784</td>\n",
       "      <td>35266</td>\n",
       "      <td>473</td>\n",
       "      <td>5</td>\n",
       "      <td>7</td>\n",
       "      <td>17722</td>\n",
       "      <td>37</td>\n",
       "      <td>2405</td>\n",
       "      <td>37458</td>\n",
       "      <td>677</td>\n",
       "      <td>9</td>\n",
       "      <td>10</td>\n",
       "    </tr>\n",
       "    <tr>\n",
       "      <th>top</th>\n",
       "      <td>多劳多得，不劳不得</td>\n",
       "      <td>产品经理</td>\n",
       "      <td>游戏</td>\n",
       "      <td>10k-20k</td>\n",
       "      <td>本科</td>\n",
       "      <td>经验3-5年</td>\n",
       "      <td>字节跳动</td>\n",
       "      <td>2019-08-22</td>\n",
       "      <td>深圳·南山区</td>\n",
       "      <td>五险一金</td>\n",
       "      <td>移动互联网</td>\n",
       "      <td>不需要融资</td>\n",
       "      <td>150-500人</td>\n",
       "    </tr>\n",
       "    <tr>\n",
       "      <th>freq</th>\n",
       "      <td>18</td>\n",
       "      <td>1228</td>\n",
       "      <td>1147</td>\n",
       "      <td>7121</td>\n",
       "      <td>59533</td>\n",
       "      <td>35339</td>\n",
       "      <td>929</td>\n",
       "      <td>36843</td>\n",
       "      <td>4054</td>\n",
       "      <td>677</td>\n",
       "      <td>10201</td>\n",
       "      <td>29808</td>\n",
       "      <td>25564</td>\n",
       "    </tr>\n",
       "  </tbody>\n",
       "</table>\n",
       "</div>"
      ],
      "text/plain": [
       "列名             序号      工作      标签       工资      学历    工作经验      公司  \\\n",
       "count      102643  102444  102201   102444  102062  102062  102062   \n",
       "unique     102395   26784   35266      473       5       7   17722   \n",
       "top     多劳多得，不劳不得    产品经理      游戏  10k-20k      本科  经验3-5年    字节跳动   \n",
       "freq           18    1228    1147     7121   59533   35339     929   \n",
       "\n",
       "列名            发布时间      地址      福利      类型      财政        规模  \n",
       "count       102062  102062  102062  101680  101680    101680  \n",
       "unique          37    2405   37458     677       9        10  \n",
       "top     2019-08-22  深圳·南山区    五险一金   移动互联网   不需要融资  150-500人  \n",
       "freq         36843    4054     677   10201   29808     25564  "
      ]
     },
     "metadata": {},
     "output_type": "display_data"
    }
   ],
   "source": [
    "display(lg.describe())"
   ]
  },
  {
   "cell_type": "code",
   "execution_count": 28,
   "metadata": {
    "hidden": true
   },
   "outputs": [
    {
     "name": "stdout",
     "output_type": "stream",
     "text": [
      "<class 'pandas.core.frame.DataFrame'>\n",
      "RangeIndex: 102643 entries, 0 to 102642\n",
      "Data columns (total 13 columns):\n",
      " #   Column  Non-Null Count   Dtype \n",
      "---  ------  --------------   ----- \n",
      " 0   序号      102643 non-null  object\n",
      " 1   工作      102444 non-null  object\n",
      " 2   标签      102201 non-null  object\n",
      " 3   工资      102444 non-null  object\n",
      " 4   学历      102062 non-null  object\n",
      " 5   工作经验    102062 non-null  object\n",
      " 6   公司      102062 non-null  object\n",
      " 7   发布时间    102062 non-null  object\n",
      " 8   地址      102062 non-null  object\n",
      " 9   福利      102062 non-null  object\n",
      " 10  类型      101680 non-null  object\n",
      " 11  财政      101680 non-null  object\n",
      " 12  规模      101680 non-null  object\n",
      "dtypes: object(13)\n",
      "memory usage: 10.2+ MB\n"
     ]
    }
   ],
   "source": [
    "lg.info()"
   ]
  },
  {
   "cell_type": "code",
   "execution_count": 29,
   "metadata": {
    "hidden": true,
    "scrolled": false
   },
   "outputs": [
    {
     "data": {
      "text/plain": [
       "列名\n",
       "序号        0\n",
       "工作      199\n",
       "标签      442\n",
       "工资      199\n",
       "学历      581\n",
       "工作经验    581\n",
       "公司      581\n",
       "发布时间    581\n",
       "地址      581\n",
       "福利      581\n",
       "类型      963\n",
       "财政      963\n",
       "规模      963\n",
       "dtype: int64"
      ]
     },
     "execution_count": 29,
     "metadata": {},
     "output_type": "execute_result"
    }
   ],
   "source": [
    "lg.isnull().sum()"
   ]
  },
  {
   "cell_type": "markdown",
   "metadata": {
    "heading_collapsed": true,
    "hidden": true
   },
   "source": [
    "##  单列显示 "
   ]
  },
  {
   "cell_type": "code",
   "execution_count": 30,
   "metadata": {
    "hidden": true
   },
   "outputs": [
    {
     "data": {
      "text/plain": [
       "索引\n",
       "0    本科\n",
       "1    本科\n",
       "2    本科\n",
       "3    本科\n",
       "4    本科\n",
       "5    本科\n",
       "6    大专\n",
       "7    本科\n",
       "8    本科\n",
       "9    本科\n",
       "Name: 学历, dtype: object"
      ]
     },
     "execution_count": 30,
     "metadata": {},
     "output_type": "execute_result"
    }
   ],
   "source": [
    "lg.学历.head(10)"
   ]
  },
  {
   "cell_type": "code",
   "execution_count": 31,
   "metadata": {
    "hidden": true
   },
   "outputs": [
    {
     "data": {
      "text/plain": [
       "索引\n",
       "0    阿拉丁控股集团有限公司\n",
       "1           小帮规划\n",
       "2             玩吧\n",
       "3             汇付\n",
       "4           涂鸦智能\n",
       "Name: 公司, dtype: object"
      ]
     },
     "execution_count": 31,
     "metadata": {},
     "output_type": "execute_result"
    }
   ],
   "source": [
    "lg['公司'].head(5)"
   ]
  },
  {
   "cell_type": "markdown",
   "metadata": {
    "heading_collapsed": true
   },
   "source": [
    "# （2）数据处理 "
   ]
  },
  {
   "cell_type": "code",
   "execution_count": 1,
   "metadata": {
    "hidden": true
   },
   "outputs": [],
   "source": [
    "import pandas as pd\n",
    "from IPython.display import display\n",
    "import matplotlib.pyplot as plt"
   ]
  },
  {
   "cell_type": "code",
   "execution_count": 2,
   "metadata": {
    "hidden": true
   },
   "outputs": [],
   "source": [
    "lg=pd.read_csv('./dataset/lagou_all.csv',sep='^',names=['序号','工作','标签','工资','学历','工作经验','公司',\n",
    "                                                        '发布时间','地址','福利','类型','财政','规模'])"
   ]
  },
  {
   "cell_type": "markdown",
   "metadata": {
    "heading_collapsed": true,
    "hidden": true
   },
   "source": [
    "## 去重 "
   ]
  },
  {
   "cell_type": "code",
   "execution_count": 3,
   "metadata": {
    "hidden": true
   },
   "outputs": [
    {
     "name": "stdout",
     "output_type": "stream",
     "text": [
      "102643\n",
      "102424\n"
     ]
    }
   ],
   "source": [
    "print(len(lg))\n",
    "lg.drop_duplicates(inplace = True)\n",
    "print(len(lg))"
   ]
  },
  {
   "cell_type": "markdown",
   "metadata": {
    "heading_collapsed": true,
    "hidden": true
   },
   "source": [
    "## 去空 "
   ]
  },
  {
   "cell_type": "code",
   "execution_count": 24,
   "metadata": {
    "hidden": true
   },
   "outputs": [
    {
     "data": {
      "text/html": [
       "<div>\n",
       "<style scoped>\n",
       "    .dataframe tbody tr th:only-of-type {\n",
       "        vertical-align: middle;\n",
       "    }\n",
       "\n",
       "    .dataframe tbody tr th {\n",
       "        vertical-align: top;\n",
       "    }\n",
       "\n",
       "    .dataframe thead th {\n",
       "        text-align: right;\n",
       "    }\n",
       "</style>\n",
       "<table border=\"1\" class=\"dataframe\">\n",
       "  <thead>\n",
       "    <tr style=\"text-align: right;\">\n",
       "      <th></th>\n",
       "      <th>工作</th>\n",
       "      <th>标签</th>\n",
       "      <th>学历</th>\n",
       "      <th>工作经验</th>\n",
       "      <th>公司</th>\n",
       "      <th>发布时间</th>\n",
       "      <th>地址</th>\n",
       "      <th>福利</th>\n",
       "      <th>类型</th>\n",
       "      <th>财政</th>\n",
       "      <th>规模</th>\n",
       "      <th>起薪</th>\n",
       "      <th>上限</th>\n",
       "      <th>城市</th>\n",
       "      <th>区域</th>\n",
       "    </tr>\n",
       "    <tr>\n",
       "      <th>序号</th>\n",
       "      <th></th>\n",
       "      <th></th>\n",
       "      <th></th>\n",
       "      <th></th>\n",
       "      <th></th>\n",
       "      <th></th>\n",
       "      <th></th>\n",
       "      <th></th>\n",
       "      <th></th>\n",
       "      <th></th>\n",
       "      <th></th>\n",
       "      <th></th>\n",
       "      <th></th>\n",
       "      <th></th>\n",
       "      <th></th>\n",
       "    </tr>\n",
       "  </thead>\n",
       "  <tbody>\n",
       "    <tr>\n",
       "      <th>984</th>\n",
       "      <td>php架构师</td>\n",
       "      <td>医疗健康,服务器端,后端,客户端</td>\n",
       "      <td>大专</td>\n",
       "      <td>经验1-3年</td>\n",
       "      <td>广州爱尔</td>\n",
       "      <td>2019-08-22</td>\n",
       "      <td>广州</td>\n",
       "      <td>周末双休,五险一金</td>\n",
       "      <td>医疗丨健康</td>\n",
       "      <td>上市公司</td>\n",
       "      <td>150-500人</td>\n",
       "      <td>6000</td>\n",
       "      <td>8000</td>\n",
       "      <td>广州</td>\n",
       "      <td>None</td>\n",
       "    </tr>\n",
       "    <tr>\n",
       "      <th>1115</th>\n",
       "      <td>PHP开发工程师</td>\n",
       "      <td>广告营销,PHP</td>\n",
       "      <td>本科</td>\n",
       "      <td>经验1-3年</td>\n",
       "      <td>4399游戏</td>\n",
       "      <td>2019-08-22</td>\n",
       "      <td>广州</td>\n",
       "      <td>高端培训资源、高标准免费三餐</td>\n",
       "      <td>游戏</td>\n",
       "      <td>未融资</td>\n",
       "      <td>500-2000人</td>\n",
       "      <td>12000</td>\n",
       "      <td>16000</td>\n",
       "      <td>广州</td>\n",
       "      <td>None</td>\n",
       "    </tr>\n",
       "    <tr>\n",
       "      <th>3555</th>\n",
       "      <td>.net软件工程师（武汉）</td>\n",
       "      <td>绩效奖金,年底双薪,专项奖金,五险一金</td>\n",
       "      <td>本科</td>\n",
       "      <td>经验1-3年</td>\n",
       "      <td>金慧软件</td>\n",
       "      <td>2019-08-12</td>\n",
       "      <td>武汉</td>\n",
       "      <td>大项目历练，较好的发展空间</td>\n",
       "      <td>移动互联网</td>\n",
       "      <td>未融资</td>\n",
       "      <td>150-500人</td>\n",
       "      <td>4000</td>\n",
       "      <td>7000</td>\n",
       "      <td>武汉</td>\n",
       "      <td>None</td>\n",
       "    </tr>\n",
       "    <tr>\n",
       "      <th>4315</th>\n",
       "      <td>Node.js开发工程师</td>\n",
       "      <td>绩效奖金,带薪年假,定期体检,岗位晋升</td>\n",
       "      <td>大专</td>\n",
       "      <td>经验1-3年</td>\n",
       "      <td>锐汇软件</td>\n",
       "      <td>2019-08-20</td>\n",
       "      <td>广州</td>\n",
       "      <td>提供有竞争力的薪酬，发展空间大</td>\n",
       "      <td>移动互联网,广告营销</td>\n",
       "      <td>未融资</td>\n",
       "      <td>少于15人</td>\n",
       "      <td>5000</td>\n",
       "      <td>8000</td>\n",
       "      <td>广州</td>\n",
       "      <td>None</td>\n",
       "    </tr>\n",
       "    <tr>\n",
       "      <th>6457</th>\n",
       "      <td>h5开发工程师</td>\n",
       "      <td>IOS,CSS,HTML5,Android</td>\n",
       "      <td>大专</td>\n",
       "      <td>经验3-5年</td>\n",
       "      <td>湖北乾商</td>\n",
       "      <td>2019-08-05</td>\n",
       "      <td>台北</td>\n",
       "      <td>薪资高,福利好,带薪假,包吃住</td>\n",
       "      <td>企业服务</td>\n",
       "      <td>不需要融资</td>\n",
       "      <td>50-150人</td>\n",
       "      <td>20000</td>\n",
       "      <td>40000</td>\n",
       "      <td>台北</td>\n",
       "      <td>None</td>\n",
       "    </tr>\n",
       "    <tr>\n",
       "      <th>...</th>\n",
       "      <td>...</td>\n",
       "      <td>...</td>\n",
       "      <td>...</td>\n",
       "      <td>...</td>\n",
       "      <td>...</td>\n",
       "      <td>...</td>\n",
       "      <td>...</td>\n",
       "      <td>...</td>\n",
       "      <td>...</td>\n",
       "      <td>...</td>\n",
       "      <td>...</td>\n",
       "      <td>...</td>\n",
       "      <td>...</td>\n",
       "      <td>...</td>\n",
       "      <td>...</td>\n",
       "    </tr>\n",
       "    <tr>\n",
       "      <th>97178</th>\n",
       "      <td>游戏推广客服</td>\n",
       "      <td>顾问,售后,售前,游戏客服</td>\n",
       "      <td>不限</td>\n",
       "      <td>经验不限</td>\n",
       "      <td>厦门七二七四网络科技有限公司</td>\n",
       "      <td>2019-07-29</td>\n",
       "      <td>厦门</td>\n",
       "      <td>只要你有才，就有你的舞台，高薪等你来挑战</td>\n",
       "      <td>移动互联网,游戏</td>\n",
       "      <td>未融资</td>\n",
       "      <td>50-150人</td>\n",
       "      <td>4000</td>\n",
       "      <td>8000</td>\n",
       "      <td>厦门</td>\n",
       "      <td>None</td>\n",
       "    </tr>\n",
       "    <tr>\n",
       "      <th>97230</th>\n",
       "      <td>手游推广专员</td>\n",
       "      <td>渠道,推广</td>\n",
       "      <td>不限</td>\n",
       "      <td>经验不限</td>\n",
       "      <td>厦门七二七四网络科技有限公司</td>\n",
       "      <td>2019-07-29</td>\n",
       "      <td>厦门</td>\n",
       "      <td>只要你有才，就有你的舞台，高薪等你来挑战</td>\n",
       "      <td>移动互联网,游戏</td>\n",
       "      <td>未融资</td>\n",
       "      <td>50-150人</td>\n",
       "      <td>6000</td>\n",
       "      <td>12000</td>\n",
       "      <td>厦门</td>\n",
       "      <td>None</td>\n",
       "    </tr>\n",
       "    <tr>\n",
       "      <th>97281</th>\n",
       "      <td>手游推广专员</td>\n",
       "      <td>渠道,推广</td>\n",
       "      <td>不限</td>\n",
       "      <td>经验不限</td>\n",
       "      <td>厦门七二七四网络科技有限公司</td>\n",
       "      <td>2019-07-29</td>\n",
       "      <td>厦门</td>\n",
       "      <td>只要你有才，就有你的舞台，高薪等你来挑战</td>\n",
       "      <td>移动互联网,游戏</td>\n",
       "      <td>未融资</td>\n",
       "      <td>50-150人</td>\n",
       "      <td>6000</td>\n",
       "      <td>12000</td>\n",
       "      <td>厦门</td>\n",
       "      <td>None</td>\n",
       "    </tr>\n",
       "    <tr>\n",
       "      <th>97668</th>\n",
       "      <td>推广</td>\n",
       "      <td>体育,游戏</td>\n",
       "      <td>不限</td>\n",
       "      <td>经验不限</td>\n",
       "      <td>洪山区安蓝梦商务咨询服务部</td>\n",
       "      <td>2019-08-07</td>\n",
       "      <td>海外</td>\n",
       "      <td>包食宿，13薪，部门奖励，定期团建，</td>\n",
       "      <td>企业服务、文娱丨内容</td>\n",
       "      <td>未融资</td>\n",
       "      <td>15-50人</td>\n",
       "      <td>8000</td>\n",
       "      <td>16000</td>\n",
       "      <td>海外</td>\n",
       "      <td>None</td>\n",
       "    </tr>\n",
       "    <tr>\n",
       "      <th>101774</th>\n",
       "      <td>推广</td>\n",
       "      <td>体育,游戏</td>\n",
       "      <td>不限</td>\n",
       "      <td>经验不限</td>\n",
       "      <td>洪山区安蓝梦商务咨询服务部</td>\n",
       "      <td>2019-08-07</td>\n",
       "      <td>海外</td>\n",
       "      <td>包食宿，13薪，部门奖励，定期团建，</td>\n",
       "      <td>企业服务、文娱丨内容</td>\n",
       "      <td>未融资</td>\n",
       "      <td>15-50人</td>\n",
       "      <td>8000</td>\n",
       "      <td>16000</td>\n",
       "      <td>海外</td>\n",
       "      <td>None</td>\n",
       "    </tr>\n",
       "  </tbody>\n",
       "</table>\n",
       "<p>797 rows × 15 columns</p>\n",
       "</div>"
      ],
      "text/plain": [
       "                   工作                     标签  学历    工作经验              公司  \\\n",
       "序号                                                                         \n",
       "984            php架构师       医疗健康,服务器端,后端,客户端  大专  经验1-3年            广州爱尔   \n",
       "1115         PHP开发工程师               广告营销,PHP  本科  经验1-3年          4399游戏   \n",
       "3555    .net软件工程师（武汉）    绩效奖金,年底双薪,专项奖金,五险一金  本科  经验1-3年            金慧软件   \n",
       "4315     Node.js开发工程师    绩效奖金,带薪年假,定期体检,岗位晋升  大专  经验1-3年            锐汇软件   \n",
       "6457          h5开发工程师  IOS,CSS,HTML5,Android  大专  经验3-5年            湖北乾商   \n",
       "...               ...                    ...  ..     ...             ...   \n",
       "97178          游戏推广客服          顾问,售后,售前,游戏客服  不限    经验不限  厦门七二七四网络科技有限公司   \n",
       "97230          手游推广专员                  渠道,推广  不限    经验不限  厦门七二七四网络科技有限公司   \n",
       "97281          手游推广专员                  渠道,推广  不限    经验不限  厦门七二七四网络科技有限公司   \n",
       "97668              推广                  体育,游戏  不限    经验不限   洪山区安蓝梦商务咨询服务部   \n",
       "101774             推广                  体育,游戏  不限    经验不限   洪山区安蓝梦商务咨询服务部   \n",
       "\n",
       "              发布时间  地址                    福利          类型     财政         规模  \\\n",
       "序号                                                                           \n",
       "984     2019-08-22  广州             周末双休,五险一金       医疗丨健康   上市公司   150-500人   \n",
       "1115    2019-08-22  广州        高端培训资源、高标准免费三餐          游戏    未融资  500-2000人   \n",
       "3555    2019-08-12  武汉         大项目历练，较好的发展空间       移动互联网    未融资   150-500人   \n",
       "4315    2019-08-20  广州       提供有竞争力的薪酬，发展空间大  移动互联网,广告营销    未融资      少于15人   \n",
       "6457    2019-08-05  台北       薪资高,福利好,带薪假,包吃住        企业服务  不需要融资    50-150人   \n",
       "...            ...  ..                   ...         ...    ...        ...   \n",
       "97178   2019-07-29  厦门  只要你有才，就有你的舞台，高薪等你来挑战    移动互联网,游戏    未融资    50-150人   \n",
       "97230   2019-07-29  厦门  只要你有才，就有你的舞台，高薪等你来挑战    移动互联网,游戏    未融资    50-150人   \n",
       "97281   2019-07-29  厦门  只要你有才，就有你的舞台，高薪等你来挑战    移动互联网,游戏    未融资    50-150人   \n",
       "97668   2019-08-07  海外    包食宿，13薪，部门奖励，定期团建，  企业服务、文娱丨内容    未融资     15-50人   \n",
       "101774  2019-08-07  海外    包食宿，13薪，部门奖励，定期团建，  企业服务、文娱丨内容    未融资     15-50人   \n",
       "\n",
       "           起薪     上限  城市    区域  \n",
       "序号                              \n",
       "984      6000   8000  广州  None  \n",
       "1115    12000  16000  广州  None  \n",
       "3555     4000   7000  武汉  None  \n",
       "4315     5000   8000  广州  None  \n",
       "6457    20000  40000  台北  None  \n",
       "...       ...    ...  ..   ...  \n",
       "97178    4000   8000  厦门  None  \n",
       "97230    6000  12000  厦门  None  \n",
       "97281    6000  12000  厦门  None  \n",
       "97668    8000  16000  海外  None  \n",
       "101774   8000  16000  海外  None  \n",
       "\n",
       "[797 rows x 15 columns]"
      ]
     },
     "execution_count": 24,
     "metadata": {},
     "output_type": "execute_result"
    }
   ],
   "source": [
    "lg[lg.isnull().values == True]"
   ]
  },
  {
   "cell_type": "code",
   "execution_count": 25,
   "metadata": {
    "hidden": true
   },
   "outputs": [],
   "source": [
    "lg.dropna(inplace = True)"
   ]
  },
  {
   "cell_type": "code",
   "execution_count": 26,
   "metadata": {
    "hidden": true
   },
   "outputs": [
    {
     "data": {
      "text/html": [
       "<div>\n",
       "<style scoped>\n",
       "    .dataframe tbody tr th:only-of-type {\n",
       "        vertical-align: middle;\n",
       "    }\n",
       "\n",
       "    .dataframe tbody tr th {\n",
       "        vertical-align: top;\n",
       "    }\n",
       "\n",
       "    .dataframe thead th {\n",
       "        text-align: right;\n",
       "    }\n",
       "</style>\n",
       "<table border=\"1\" class=\"dataframe\">\n",
       "  <thead>\n",
       "    <tr style=\"text-align: right;\">\n",
       "      <th></th>\n",
       "      <th>工作</th>\n",
       "      <th>标签</th>\n",
       "      <th>学历</th>\n",
       "      <th>工作经验</th>\n",
       "      <th>公司</th>\n",
       "      <th>发布时间</th>\n",
       "      <th>地址</th>\n",
       "      <th>福利</th>\n",
       "      <th>类型</th>\n",
       "      <th>财政</th>\n",
       "      <th>规模</th>\n",
       "      <th>起薪</th>\n",
       "      <th>上限</th>\n",
       "      <th>城市</th>\n",
       "      <th>区域</th>\n",
       "    </tr>\n",
       "    <tr>\n",
       "      <th>序号</th>\n",
       "      <th></th>\n",
       "      <th></th>\n",
       "      <th></th>\n",
       "      <th></th>\n",
       "      <th></th>\n",
       "      <th></th>\n",
       "      <th></th>\n",
       "      <th></th>\n",
       "      <th></th>\n",
       "      <th></th>\n",
       "      <th></th>\n",
       "      <th></th>\n",
       "      <th></th>\n",
       "      <th></th>\n",
       "      <th></th>\n",
       "    </tr>\n",
       "  </thead>\n",
       "  <tbody>\n",
       "  </tbody>\n",
       "</table>\n",
       "</div>"
      ],
      "text/plain": [
       "Empty DataFrame\n",
       "Columns: [工作, 标签, 学历, 工作经验, 公司, 发布时间, 地址, 福利, 类型, 财政, 规模, 起薪, 上限, 城市, 区域]\n",
       "Index: []"
      ]
     },
     "execution_count": 26,
     "metadata": {},
     "output_type": "execute_result"
    }
   ],
   "source": [
    "lg[lg.isnull().values == True]"
   ]
  },
  {
   "cell_type": "markdown",
   "metadata": {
    "heading_collapsed": true,
    "hidden": true
   },
   "source": [
    "## 拆分工资 "
   ]
  },
  {
   "cell_type": "code",
   "execution_count": 7,
   "metadata": {
    "hidden": true
   },
   "outputs": [],
   "source": [
    "lg = lg[~lg['工资'].str.contains('以上')] #取反\n",
    "lg['工资'] = lg['工资'].str.replace('k','000')\n",
    "lg['工资'] = lg['工资'].str.replace('K','000')"
   ]
  },
  {
   "cell_type": "code",
   "execution_count": 8,
   "metadata": {
    "hidden": true
   },
   "outputs": [
    {
     "data": {
      "text/html": [
       "<div>\n",
       "<style scoped>\n",
       "    .dataframe tbody tr th:only-of-type {\n",
       "        vertical-align: middle;\n",
       "    }\n",
       "\n",
       "    .dataframe tbody tr th {\n",
       "        vertical-align: top;\n",
       "    }\n",
       "\n",
       "    .dataframe thead th {\n",
       "        text-align: right;\n",
       "    }\n",
       "</style>\n",
       "<table border=\"1\" class=\"dataframe\">\n",
       "  <thead>\n",
       "    <tr style=\"text-align: right;\">\n",
       "      <th></th>\n",
       "      <th>序号</th>\n",
       "      <th>工作</th>\n",
       "      <th>标签</th>\n",
       "      <th>工资</th>\n",
       "      <th>学历</th>\n",
       "      <th>工作经验</th>\n",
       "      <th>公司</th>\n",
       "      <th>发布时间</th>\n",
       "      <th>地址</th>\n",
       "      <th>福利</th>\n",
       "      <th>类型</th>\n",
       "      <th>财政</th>\n",
       "      <th>规模</th>\n",
       "    </tr>\n",
       "  </thead>\n",
       "  <tbody>\n",
       "  </tbody>\n",
       "</table>\n",
       "</div>"
      ],
      "text/plain": [
       "Empty DataFrame\n",
       "Columns: [序号, 工作, 标签, 工资, 学历, 工作经验, 公司, 发布时间, 地址, 福利, 类型, 财政, 规模]\n",
       "Index: []"
      ]
     },
     "execution_count": 8,
     "metadata": {},
     "output_type": "execute_result"
    }
   ],
   "source": [
    "lg[lg['工资'].str.contains('以上')]"
   ]
  },
  {
   "cell_type": "code",
   "execution_count": 9,
   "metadata": {
    "hidden": true
   },
   "outputs": [
    {
     "data": {
      "text/html": [
       "<div>\n",
       "<style scoped>\n",
       "    .dataframe tbody tr th:only-of-type {\n",
       "        vertical-align: middle;\n",
       "    }\n",
       "\n",
       "    .dataframe tbody tr th {\n",
       "        vertical-align: top;\n",
       "    }\n",
       "\n",
       "    .dataframe thead th {\n",
       "        text-align: right;\n",
       "    }\n",
       "</style>\n",
       "<table border=\"1\" class=\"dataframe\">\n",
       "  <thead>\n",
       "    <tr style=\"text-align: right;\">\n",
       "      <th></th>\n",
       "      <th>序号</th>\n",
       "      <th>工作</th>\n",
       "      <th>标签</th>\n",
       "      <th>学历</th>\n",
       "      <th>工作经验</th>\n",
       "      <th>公司</th>\n",
       "      <th>发布时间</th>\n",
       "      <th>地址</th>\n",
       "      <th>福利</th>\n",
       "      <th>类型</th>\n",
       "      <th>财政</th>\n",
       "      <th>规模</th>\n",
       "      <th>起薪</th>\n",
       "      <th>上限</th>\n",
       "    </tr>\n",
       "  </thead>\n",
       "  <tbody>\n",
       "    <tr>\n",
       "      <th>0</th>\n",
       "      <td>1</td>\n",
       "      <td>JAVA高级研发工程师—阿拉丁科技</td>\n",
       "      <td>Java,Android,IOS</td>\n",
       "      <td>本科</td>\n",
       "      <td>经验3-5年</td>\n",
       "      <td>阿拉丁控股集团有限公司</td>\n",
       "      <td>2019-08-21</td>\n",
       "      <td>北京·大望路</td>\n",
       "      <td>五险一金，周末双休</td>\n",
       "      <td>金融</td>\n",
       "      <td>不需要融资</td>\n",
       "      <td>150-500人</td>\n",
       "      <td>20000</td>\n",
       "      <td>40000</td>\n",
       "    </tr>\n",
       "    <tr>\n",
       "      <th>1</th>\n",
       "      <td>2</td>\n",
       "      <td>高级Java工程师</td>\n",
       "      <td>后端,Java,服务器端</td>\n",
       "      <td>本科</td>\n",
       "      <td>经验3-5年</td>\n",
       "      <td>小帮规划</td>\n",
       "      <td>2019-08-16</td>\n",
       "      <td>北京·望京</td>\n",
       "      <td>牛人多，氛围好，福利好</td>\n",
       "      <td>移动互联网,金融</td>\n",
       "      <td>B轮</td>\n",
       "      <td>150-500人</td>\n",
       "      <td>25000</td>\n",
       "      <td>35000</td>\n",
       "    </tr>\n",
       "    <tr>\n",
       "      <th>2</th>\n",
       "      <td>3</td>\n",
       "      <td>Java开发工程师</td>\n",
       "      <td>Java</td>\n",
       "      <td>本科</td>\n",
       "      <td>经验3-5年</td>\n",
       "      <td>玩吧</td>\n",
       "      <td>2019-08-20</td>\n",
       "      <td>北京·东城区</td>\n",
       "      <td>七险一金,弹性不打卡,免费午餐,季度旅游</td>\n",
       "      <td>社交</td>\n",
       "      <td>B轮</td>\n",
       "      <td>150-500人</td>\n",
       "      <td>20000</td>\n",
       "      <td>40000</td>\n",
       "    </tr>\n",
       "  </tbody>\n",
       "</table>\n",
       "</div>"
      ],
      "text/plain": [
       "  序号                 工作                标签  学历    工作经验           公司  \\\n",
       "0  1  JAVA高级研发工程师—阿拉丁科技  Java,Android,IOS  本科  经验3-5年  阿拉丁控股集团有限公司   \n",
       "1  2          高级Java工程师      后端,Java,服务器端  本科  经验3-5年         小帮规划   \n",
       "2  3          Java开发工程师              Java  本科  经验3-5年           玩吧   \n",
       "\n",
       "         发布时间      地址                    福利        类型     财政        规模     起薪  \\\n",
       "0  2019-08-21  北京·大望路             五险一金，周末双休        金融  不需要融资  150-500人  20000   \n",
       "1  2019-08-16   北京·望京           牛人多，氛围好，福利好  移动互联网,金融     B轮  150-500人  25000   \n",
       "2  2019-08-20  北京·东城区  七险一金,弹性不打卡,免费午餐,季度旅游        社交     B轮  150-500人  20000   \n",
       "\n",
       "      上限  \n",
       "0  40000  \n",
       "1  35000  \n",
       "2  40000  "
      ]
     },
     "metadata": {},
     "output_type": "display_data"
    }
   ],
   "source": [
    "lg[['起薪','上限']] = lg['工资'].str.split('-',expand = True)\n",
    "del lg['工资']\n",
    "display(lg.head(3))"
   ]
  },
  {
   "cell_type": "code",
   "execution_count": 10,
   "metadata": {
    "hidden": true
   },
   "outputs": [
    {
     "name": "stdout",
     "output_type": "stream",
     "text": [
      "<class 'pandas.core.frame.DataFrame'>\n",
      "Int64Index: 101430 entries, 0 to 102642\n",
      "Data columns (total 14 columns):\n",
      " #   Column  Non-Null Count   Dtype \n",
      "---  ------  --------------   ----- \n",
      " 0   序号      101430 non-null  object\n",
      " 1   工作      101430 non-null  object\n",
      " 2   标签      101430 non-null  object\n",
      " 3   学历      101430 non-null  object\n",
      " 4   工作经验    101430 non-null  object\n",
      " 5   公司      101430 non-null  object\n",
      " 6   发布时间    101430 non-null  object\n",
      " 7   地址      101430 non-null  object\n",
      " 8   福利      101430 non-null  object\n",
      " 9   类型      101430 non-null  object\n",
      " 10  财政      101430 non-null  object\n",
      " 11  规模      101430 non-null  object\n",
      " 12  起薪      101430 non-null  int64 \n",
      " 13  上限      101430 non-null  int64 \n",
      "dtypes: int64(2), object(12)\n",
      "memory usage: 11.6+ MB\n"
     ]
    }
   ],
   "source": [
    "lg[['起薪','上限']]= lg[['起薪','上限']].astype(np.int64)\n",
    "lg.info()"
   ]
  },
  {
   "cell_type": "code",
   "execution_count": 11,
   "metadata": {
    "hidden": true
   },
   "outputs": [
    {
     "data": {
      "text/html": [
       "<div>\n",
       "<style scoped>\n",
       "    .dataframe tbody tr th:only-of-type {\n",
       "        vertical-align: middle;\n",
       "    }\n",
       "\n",
       "    .dataframe tbody tr th {\n",
       "        vertical-align: top;\n",
       "    }\n",
       "\n",
       "    .dataframe thead th {\n",
       "        text-align: right;\n",
       "    }\n",
       "</style>\n",
       "<table border=\"1\" class=\"dataframe\">\n",
       "  <thead>\n",
       "    <tr style=\"text-align: right;\">\n",
       "      <th></th>\n",
       "      <th>工作</th>\n",
       "      <th>标签</th>\n",
       "      <th>学历</th>\n",
       "      <th>工作经验</th>\n",
       "      <th>公司</th>\n",
       "      <th>发布时间</th>\n",
       "      <th>地址</th>\n",
       "      <th>福利</th>\n",
       "      <th>类型</th>\n",
       "      <th>财政</th>\n",
       "      <th>规模</th>\n",
       "      <th>起薪</th>\n",
       "      <th>上限</th>\n",
       "    </tr>\n",
       "    <tr>\n",
       "      <th>序号</th>\n",
       "      <th></th>\n",
       "      <th></th>\n",
       "      <th></th>\n",
       "      <th></th>\n",
       "      <th></th>\n",
       "      <th></th>\n",
       "      <th></th>\n",
       "      <th></th>\n",
       "      <th></th>\n",
       "      <th></th>\n",
       "      <th></th>\n",
       "      <th></th>\n",
       "      <th></th>\n",
       "    </tr>\n",
       "  </thead>\n",
       "  <tbody>\n",
       "    <tr>\n",
       "      <th>1</th>\n",
       "      <td>JAVA高级研发工程师—阿拉丁科技</td>\n",
       "      <td>Java,Android,IOS</td>\n",
       "      <td>本科</td>\n",
       "      <td>经验3-5年</td>\n",
       "      <td>阿拉丁控股集团有限公司</td>\n",
       "      <td>2019-08-21</td>\n",
       "      <td>北京·大望路</td>\n",
       "      <td>五险一金，周末双休</td>\n",
       "      <td>金融</td>\n",
       "      <td>不需要融资</td>\n",
       "      <td>150-500人</td>\n",
       "      <td>20000</td>\n",
       "      <td>40000</td>\n",
       "    </tr>\n",
       "    <tr>\n",
       "      <th>2</th>\n",
       "      <td>高级Java工程师</td>\n",
       "      <td>后端,Java,服务器端</td>\n",
       "      <td>本科</td>\n",
       "      <td>经验3-5年</td>\n",
       "      <td>小帮规划</td>\n",
       "      <td>2019-08-16</td>\n",
       "      <td>北京·望京</td>\n",
       "      <td>牛人多，氛围好，福利好</td>\n",
       "      <td>移动互联网,金融</td>\n",
       "      <td>B轮</td>\n",
       "      <td>150-500人</td>\n",
       "      <td>25000</td>\n",
       "      <td>35000</td>\n",
       "    </tr>\n",
       "    <tr>\n",
       "      <th>3</th>\n",
       "      <td>Java开发工程师</td>\n",
       "      <td>Java</td>\n",
       "      <td>本科</td>\n",
       "      <td>经验3-5年</td>\n",
       "      <td>玩吧</td>\n",
       "      <td>2019-08-20</td>\n",
       "      <td>北京·东城区</td>\n",
       "      <td>七险一金,弹性不打卡,免费午餐,季度旅游</td>\n",
       "      <td>社交</td>\n",
       "      <td>B轮</td>\n",
       "      <td>150-500人</td>\n",
       "      <td>20000</td>\n",
       "      <td>40000</td>\n",
       "    </tr>\n",
       "  </tbody>\n",
       "</table>\n",
       "</div>"
      ],
      "text/plain": [
       "                   工作                标签  学历    工作经验           公司        发布时间  \\\n",
       "序号                                                                             \n",
       "1   JAVA高级研发工程师—阿拉丁科技  Java,Android,IOS  本科  经验3-5年  阿拉丁控股集团有限公司  2019-08-21   \n",
       "2           高级Java工程师      后端,Java,服务器端  本科  经验3-5年         小帮规划  2019-08-16   \n",
       "3           Java开发工程师              Java  本科  经验3-5年           玩吧  2019-08-20   \n",
       "\n",
       "        地址                    福利        类型     财政        规模     起薪     上限  \n",
       "序号                                                                         \n",
       "1   北京·大望路             五险一金，周末双休        金融  不需要融资  150-500人  20000  40000  \n",
       "2    北京·望京           牛人多，氛围好，福利好  移动互联网,金融     B轮  150-500人  25000  35000  \n",
       "3   北京·东城区  七险一金,弹性不打卡,免费午餐,季度旅游        社交     B轮  150-500人  20000  40000  "
      ]
     },
     "metadata": {},
     "output_type": "display_data"
    }
   ],
   "source": [
    "lg.set_index('序号',drop = True,inplace = True)\n",
    "display(lg.head(3))"
   ]
  },
  {
   "cell_type": "markdown",
   "metadata": {
    "heading_collapsed": true,
    "hidden": true
   },
   "source": [
    "## 拆分地址"
   ]
  },
  {
   "cell_type": "code",
   "execution_count": 23,
   "metadata": {
    "hidden": true
   },
   "outputs": [
    {
     "data": {
      "text/html": [
       "<div>\n",
       "<style scoped>\n",
       "    .dataframe tbody tr th:only-of-type {\n",
       "        vertical-align: middle;\n",
       "    }\n",
       "\n",
       "    .dataframe tbody tr th {\n",
       "        vertical-align: top;\n",
       "    }\n",
       "\n",
       "    .dataframe thead th {\n",
       "        text-align: right;\n",
       "    }\n",
       "</style>\n",
       "<table border=\"1\" class=\"dataframe\">\n",
       "  <thead>\n",
       "    <tr style=\"text-align: right;\">\n",
       "      <th></th>\n",
       "      <th>工作</th>\n",
       "      <th>标签</th>\n",
       "      <th>学历</th>\n",
       "      <th>工作经验</th>\n",
       "      <th>公司</th>\n",
       "      <th>发布时间</th>\n",
       "      <th>地址</th>\n",
       "      <th>福利</th>\n",
       "      <th>类型</th>\n",
       "      <th>财政</th>\n",
       "      <th>规模</th>\n",
       "      <th>起薪</th>\n",
       "      <th>上限</th>\n",
       "      <th>城市</th>\n",
       "      <th>区域</th>\n",
       "    </tr>\n",
       "    <tr>\n",
       "      <th>序号</th>\n",
       "      <th></th>\n",
       "      <th></th>\n",
       "      <th></th>\n",
       "      <th></th>\n",
       "      <th></th>\n",
       "      <th></th>\n",
       "      <th></th>\n",
       "      <th></th>\n",
       "      <th></th>\n",
       "      <th></th>\n",
       "      <th></th>\n",
       "      <th></th>\n",
       "      <th></th>\n",
       "      <th></th>\n",
       "      <th></th>\n",
       "    </tr>\n",
       "  </thead>\n",
       "  <tbody>\n",
       "    <tr>\n",
       "      <th>1</th>\n",
       "      <td>JAVA高级研发工程师—阿拉丁科技</td>\n",
       "      <td>Java,Android,IOS</td>\n",
       "      <td>本科</td>\n",
       "      <td>经验3-5年</td>\n",
       "      <td>阿拉丁控股集团有限公司</td>\n",
       "      <td>2019-08-21</td>\n",
       "      <td>北京·大望路</td>\n",
       "      <td>五险一金，周末双休</td>\n",
       "      <td>金融</td>\n",
       "      <td>不需要融资</td>\n",
       "      <td>150-500人</td>\n",
       "      <td>20000</td>\n",
       "      <td>40000</td>\n",
       "      <td>北京</td>\n",
       "      <td>大望路</td>\n",
       "    </tr>\n",
       "    <tr>\n",
       "      <th>2</th>\n",
       "      <td>高级Java工程师</td>\n",
       "      <td>后端,Java,服务器端</td>\n",
       "      <td>本科</td>\n",
       "      <td>经验3-5年</td>\n",
       "      <td>小帮规划</td>\n",
       "      <td>2019-08-16</td>\n",
       "      <td>北京·望京</td>\n",
       "      <td>牛人多，氛围好，福利好</td>\n",
       "      <td>移动互联网,金融</td>\n",
       "      <td>B轮</td>\n",
       "      <td>150-500人</td>\n",
       "      <td>25000</td>\n",
       "      <td>35000</td>\n",
       "      <td>北京</td>\n",
       "      <td>望京</td>\n",
       "    </tr>\n",
       "    <tr>\n",
       "      <th>3</th>\n",
       "      <td>Java开发工程师</td>\n",
       "      <td>Java</td>\n",
       "      <td>本科</td>\n",
       "      <td>经验3-5年</td>\n",
       "      <td>玩吧</td>\n",
       "      <td>2019-08-20</td>\n",
       "      <td>北京·东城区</td>\n",
       "      <td>七险一金,弹性不打卡,免费午餐,季度旅游</td>\n",
       "      <td>社交</td>\n",
       "      <td>B轮</td>\n",
       "      <td>150-500人</td>\n",
       "      <td>20000</td>\n",
       "      <td>40000</td>\n",
       "      <td>北京</td>\n",
       "      <td>东城区</td>\n",
       "    </tr>\n",
       "    <tr>\n",
       "      <th>4</th>\n",
       "      <td>java开发工程师</td>\n",
       "      <td>支付,Java</td>\n",
       "      <td>本科</td>\n",
       "      <td>经验5-10年</td>\n",
       "      <td>汇付</td>\n",
       "      <td>2019-08-21</td>\n",
       "      <td>上海·虹梅路</td>\n",
       "      <td>团队好,绩效奖金,环境好,氛围好</td>\n",
       "      <td>移动互联网,金融</td>\n",
       "      <td>上市公司</td>\n",
       "      <td>500-2000人</td>\n",
       "      <td>18000</td>\n",
       "      <td>30000</td>\n",
       "      <td>上海</td>\n",
       "      <td>虹梅路</td>\n",
       "    </tr>\n",
       "    <tr>\n",
       "      <th>5</th>\n",
       "      <td>高级Java开发工程师</td>\n",
       "      <td>大数据,智能硬件,平台,MySQL,Java,后端</td>\n",
       "      <td>本科</td>\n",
       "      <td>经验3-5年</td>\n",
       "      <td>涂鸦智能</td>\n",
       "      <td>2019-08-21</td>\n",
       "      <td>杭州·西溪</td>\n",
       "      <td>福利好、定期团建、环境氛围好</td>\n",
       "      <td>移动互联网,硬件</td>\n",
       "      <td>C轮</td>\n",
       "      <td>500-2000人</td>\n",
       "      <td>20000</td>\n",
       "      <td>35000</td>\n",
       "      <td>杭州</td>\n",
       "      <td>西溪</td>\n",
       "    </tr>\n",
       "  </tbody>\n",
       "</table>\n",
       "</div>"
      ],
      "text/plain": [
       "                   工作                         标签  学历     工作经验           公司  \\\n",
       "序号                                                                           \n",
       "1   JAVA高级研发工程师—阿拉丁科技           Java,Android,IOS  本科   经验3-5年  阿拉丁控股集团有限公司   \n",
       "2           高级Java工程师               后端,Java,服务器端  本科   经验3-5年         小帮规划   \n",
       "3           Java开发工程师                       Java  本科   经验3-5年           玩吧   \n",
       "4           java开发工程师                    支付,Java  本科  经验5-10年           汇付   \n",
       "5         高级Java开发工程师  大数据,智能硬件,平台,MySQL,Java,后端  本科   经验3-5年         涂鸦智能   \n",
       "\n",
       "          发布时间      地址                    福利        类型     财政         规模  \\\n",
       "序号                                                                         \n",
       "1   2019-08-21  北京·大望路             五险一金，周末双休        金融  不需要融资   150-500人   \n",
       "2   2019-08-16   北京·望京           牛人多，氛围好，福利好  移动互联网,金融     B轮   150-500人   \n",
       "3   2019-08-20  北京·东城区  七险一金,弹性不打卡,免费午餐,季度旅游        社交     B轮   150-500人   \n",
       "4   2019-08-21  上海·虹梅路      团队好,绩效奖金,环境好,氛围好  移动互联网,金融   上市公司  500-2000人   \n",
       "5   2019-08-21   杭州·西溪        福利好、定期团建、环境氛围好  移动互联网,硬件     C轮  500-2000人   \n",
       "\n",
       "       起薪     上限  城市   区域  \n",
       "序号                         \n",
       "1   20000  40000  北京  大望路  \n",
       "2   25000  35000  北京   望京  \n",
       "3   20000  40000  北京  东城区  \n",
       "4   18000  30000  上海  虹梅路  \n",
       "5   20000  35000  杭州   西溪  "
      ]
     },
     "metadata": {},
     "output_type": "display_data"
    }
   ],
   "source": [
    "lg[['城市','区域']] = lg['地址'].str.split('·',expand = True)\n",
    "display(lg.head())"
   ]
  },
  {
   "cell_type": "markdown",
   "metadata": {},
   "source": [
    "# （3）数据分析 "
   ]
  },
  {
   "cell_type": "markdown",
   "metadata": {
    "heading_collapsed": true
   },
   "source": [
    "## 招聘需求最大岗位 "
   ]
  },
  {
   "cell_type": "code",
   "execution_count": 67,
   "metadata": {
    "hidden": true,
    "scrolled": false
   },
   "outputs": [
    {
     "data": {
      "text/html": [
       "<div>\n",
       "<style scoped>\n",
       "    .dataframe tbody tr th:only-of-type {\n",
       "        vertical-align: middle;\n",
       "    }\n",
       "\n",
       "    .dataframe tbody tr th {\n",
       "        vertical-align: top;\n",
       "    }\n",
       "\n",
       "    .dataframe thead th {\n",
       "        text-align: right;\n",
       "    }\n",
       "</style>\n",
       "<table border=\"1\" class=\"dataframe\">\n",
       "  <thead>\n",
       "    <tr style=\"text-align: right;\">\n",
       "      <th></th>\n",
       "      <th>number</th>\n",
       "    </tr>\n",
       "    <tr>\n",
       "      <th>工作</th>\n",
       "      <th></th>\n",
       "    </tr>\n",
       "  </thead>\n",
       "  <tbody>\n",
       "    <tr>\n",
       "      <th>产品经理</th>\n",
       "      <td>1222</td>\n",
       "    </tr>\n",
       "    <tr>\n",
       "      <th>交互设计师</th>\n",
       "      <td>974</td>\n",
       "    </tr>\n",
       "    <tr>\n",
       "      <th>销售经理</th>\n",
       "      <td>909</td>\n",
       "    </tr>\n",
       "    <tr>\n",
       "      <th>测试工程师</th>\n",
       "      <td>776</td>\n",
       "    </tr>\n",
       "    <tr>\n",
       "      <th>销售专员</th>\n",
       "      <td>664</td>\n",
       "    </tr>\n",
       "    <tr>\n",
       "      <th>销售</th>\n",
       "      <td>638</td>\n",
       "    </tr>\n",
       "    <tr>\n",
       "      <th>运维工程师</th>\n",
       "      <td>634</td>\n",
       "    </tr>\n",
       "    <tr>\n",
       "      <th>游戏策划</th>\n",
       "      <td>616</td>\n",
       "    </tr>\n",
       "    <tr>\n",
       "      <th>视觉设计师</th>\n",
       "      <td>596</td>\n",
       "    </tr>\n",
       "    <tr>\n",
       "      <th>项目经理</th>\n",
       "      <td>577</td>\n",
       "    </tr>\n",
       "  </tbody>\n",
       "</table>\n",
       "</div>"
      ],
      "text/plain": [
       "       number\n",
       "工作           \n",
       "产品经理     1222\n",
       "交互设计师     974\n",
       "销售经理      909\n",
       "测试工程师     776\n",
       "销售专员      664\n",
       "销售        638\n",
       "运维工程师     634\n",
       "游戏策划      616\n",
       "视觉设计师     596\n",
       "项目经理      577"
      ]
     },
     "execution_count": 67,
     "metadata": {},
     "output_type": "execute_result"
    }
   ],
   "source": [
    "lg['number']=1\n",
    "result = lg[['工作','number']].groupby('工作').agg({'number':'count'})\n",
    "t1=result.sort_values('number',ascending = False).head(10)\n",
    "t1"
   ]
  },
  {
   "cell_type": "markdown",
   "metadata": {
    "heading_collapsed": true
   },
   "source": [
    "## 北京地区招聘需求最大岗位"
   ]
  },
  {
   "cell_type": "code",
   "execution_count": 57,
   "metadata": {
    "hidden": true
   },
   "outputs": [
    {
     "data": {
      "text/html": [
       "<div>\n",
       "<style scoped>\n",
       "    .dataframe tbody tr th:only-of-type {\n",
       "        vertical-align: middle;\n",
       "    }\n",
       "\n",
       "    .dataframe tbody tr th {\n",
       "        vertical-align: top;\n",
       "    }\n",
       "\n",
       "    .dataframe thead th {\n",
       "        text-align: right;\n",
       "    }\n",
       "</style>\n",
       "<table border=\"1\" class=\"dataframe\">\n",
       "  <thead>\n",
       "    <tr style=\"text-align: right;\">\n",
       "      <th></th>\n",
       "      <th>number</th>\n",
       "    </tr>\n",
       "    <tr>\n",
       "      <th>工作</th>\n",
       "      <th></th>\n",
       "    </tr>\n",
       "  </thead>\n",
       "  <tbody>\n",
       "    <tr>\n",
       "      <th>交互设计师</th>\n",
       "      <td>240</td>\n",
       "    </tr>\n",
       "    <tr>\n",
       "      <th>产品经理</th>\n",
       "      <td>219</td>\n",
       "    </tr>\n",
       "    <tr>\n",
       "      <th>测试工程师</th>\n",
       "      <td>201</td>\n",
       "    </tr>\n",
       "    <tr>\n",
       "      <th>数据分析师</th>\n",
       "      <td>177</td>\n",
       "    </tr>\n",
       "    <tr>\n",
       "      <th>测试开发工程师</th>\n",
       "      <td>163</td>\n",
       "    </tr>\n",
       "    <tr>\n",
       "      <th>销售经理</th>\n",
       "      <td>149</td>\n",
       "    </tr>\n",
       "    <tr>\n",
       "      <th>游戏策划</th>\n",
       "      <td>128</td>\n",
       "    </tr>\n",
       "    <tr>\n",
       "      <th>高级交互设计师</th>\n",
       "      <td>127</td>\n",
       "    </tr>\n",
       "    <tr>\n",
       "      <th>数据产品经理</th>\n",
       "      <td>123</td>\n",
       "    </tr>\n",
       "    <tr>\n",
       "      <th>项目经理</th>\n",
       "      <td>118</td>\n",
       "    </tr>\n",
       "  </tbody>\n",
       "</table>\n",
       "</div>"
      ],
      "text/plain": [
       "         number\n",
       "工作             \n",
       "交互设计师       240\n",
       "产品经理        219\n",
       "测试工程师       201\n",
       "数据分析师       177\n",
       "测试开发工程师     163\n",
       "销售经理        149\n",
       "游戏策划        128\n",
       "高级交互设计师     127\n",
       "数据产品经理      123\n",
       "项目经理        118"
      ]
     },
     "execution_count": 57,
     "metadata": {},
     "output_type": "execute_result"
    }
   ],
   "source": [
    "result = lg[(lg['城市']=='北京')]\n",
    "result = result[['工作','number']].groupby('工作').agg({'number':'count'})\n",
    "result.sort_values('number',ascending = False).head(10)"
   ]
  },
  {
   "cell_type": "markdown",
   "metadata": {
    "heading_collapsed": true
   },
   "source": [
    "## 产品经理岗位全国需求 "
   ]
  },
  {
   "cell_type": "code",
   "execution_count": 60,
   "metadata": {
    "hidden": true
   },
   "outputs": [
    {
     "data": {
      "text/plain": [
       "深圳    245\n",
       "上海    226\n",
       "北京    219\n",
       "广州    153\n",
       "杭州    141\n",
       "成都     49\n",
       "武汉     48\n",
       "南京     16\n",
       "重庆     16\n",
       "郑州     13\n",
       "Name: 城市, dtype: int64"
      ]
     },
     "execution_count": 60,
     "metadata": {},
     "output_type": "execute_result"
    }
   ],
   "source": [
    "result = lg[(lg['工作']=='产品经理')]\n",
    "result['城市'].value_counts().head(10)"
   ]
  },
  {
   "cell_type": "markdown",
   "metadata": {
    "heading_collapsed": true
   },
   "source": [
    "## 起薪最高和最低的招聘详情"
   ]
  },
  {
   "cell_type": "code",
   "execution_count": 12,
   "metadata": {
    "hidden": true
   },
   "outputs": [
    {
     "data": {
      "text/html": [
       "<div>\n",
       "<style scoped>\n",
       "    .dataframe tbody tr th:only-of-type {\n",
       "        vertical-align: middle;\n",
       "    }\n",
       "\n",
       "    .dataframe tbody tr th {\n",
       "        vertical-align: top;\n",
       "    }\n",
       "\n",
       "    .dataframe thead th {\n",
       "        text-align: right;\n",
       "    }\n",
       "</style>\n",
       "<table border=\"1\" class=\"dataframe\">\n",
       "  <thead>\n",
       "    <tr style=\"text-align: right;\">\n",
       "      <th></th>\n",
       "      <th>工作</th>\n",
       "      <th>标签</th>\n",
       "      <th>学历</th>\n",
       "      <th>工作经验</th>\n",
       "      <th>公司</th>\n",
       "      <th>发布时间</th>\n",
       "      <th>地址</th>\n",
       "      <th>福利</th>\n",
       "      <th>类型</th>\n",
       "      <th>财政</th>\n",
       "      <th>规模</th>\n",
       "      <th>起薪</th>\n",
       "      <th>上限</th>\n",
       "    </tr>\n",
       "    <tr>\n",
       "      <th>序号</th>\n",
       "      <th></th>\n",
       "      <th></th>\n",
       "      <th></th>\n",
       "      <th></th>\n",
       "      <th></th>\n",
       "      <th></th>\n",
       "      <th></th>\n",
       "      <th></th>\n",
       "      <th></th>\n",
       "      <th></th>\n",
       "      <th></th>\n",
       "      <th></th>\n",
       "      <th></th>\n",
       "    </tr>\n",
       "  </thead>\n",
       "  <tbody>\n",
       "    <tr>\n",
       "      <th>23738</th>\n",
       "      <td>网站运营副总/合伙人</td>\n",
       "      <td>移动互联网,合伙人,团队建设,区域管理,领导力</td>\n",
       "      <td>本科</td>\n",
       "      <td>经验5-10年</td>\n",
       "      <td>玉鼎裕</td>\n",
       "      <td>2019-08-17</td>\n",
       "      <td>金华·义乌市</td>\n",
       "      <td>带薪年假、五险一金、交通补贴、住房补贴</td>\n",
       "      <td>企业服务,软件开发</td>\n",
       "      <td>A轮</td>\n",
       "      <td>50-150人</td>\n",
       "      <td>499000</td>\n",
       "      <td>500000</td>\n",
       "    </tr>\n",
       "  </tbody>\n",
       "</table>\n",
       "</div>"
      ],
      "text/plain": [
       "               工作                       标签  学历     工作经验   公司        发布时间  \\\n",
       "序号                                                                         \n",
       "23738  网站运营副总/合伙人  移动互联网,合伙人,团队建设,区域管理,领导力  本科  经验5-10年  玉鼎裕  2019-08-17   \n",
       "\n",
       "           地址                   福利         类型  财政       规模      起薪      上限  \n",
       "序号                                                                          \n",
       "23738  金华·义乌市  带薪年假、五险一金、交通补贴、住房补贴  企业服务,软件开发  A轮  50-150人  499000  500000  "
      ]
     },
     "execution_count": 12,
     "metadata": {},
     "output_type": "execute_result"
    }
   ],
   "source": [
    "lg.loc[[lg['起薪'].idxmax()]]"
   ]
  },
  {
   "cell_type": "code",
   "execution_count": 13,
   "metadata": {
    "hidden": true
   },
   "outputs": [
    {
     "data": {
      "text/html": [
       "<div>\n",
       "<style scoped>\n",
       "    .dataframe tbody tr th:only-of-type {\n",
       "        vertical-align: middle;\n",
       "    }\n",
       "\n",
       "    .dataframe tbody tr th {\n",
       "        vertical-align: top;\n",
       "    }\n",
       "\n",
       "    .dataframe thead th {\n",
       "        text-align: right;\n",
       "    }\n",
       "</style>\n",
       "<table border=\"1\" class=\"dataframe\">\n",
       "  <thead>\n",
       "    <tr style=\"text-align: right;\">\n",
       "      <th></th>\n",
       "      <th>工作</th>\n",
       "      <th>标签</th>\n",
       "      <th>学历</th>\n",
       "      <th>工作经验</th>\n",
       "      <th>公司</th>\n",
       "      <th>发布时间</th>\n",
       "      <th>地址</th>\n",
       "      <th>福利</th>\n",
       "      <th>类型</th>\n",
       "      <th>财政</th>\n",
       "      <th>规模</th>\n",
       "      <th>起薪</th>\n",
       "      <th>上限</th>\n",
       "    </tr>\n",
       "    <tr>\n",
       "      <th>序号</th>\n",
       "      <th></th>\n",
       "      <th></th>\n",
       "      <th></th>\n",
       "      <th></th>\n",
       "      <th></th>\n",
       "      <th></th>\n",
       "      <th></th>\n",
       "      <th></th>\n",
       "      <th></th>\n",
       "      <th></th>\n",
       "      <th></th>\n",
       "      <th></th>\n",
       "      <th></th>\n",
       "    </tr>\n",
       "  </thead>\n",
       "  <tbody>\n",
       "    <tr>\n",
       "      <th>983</th>\n",
       "      <td>PHP兼职</td>\n",
       "      <td>电商</td>\n",
       "      <td>本科</td>\n",
       "      <td>经验3-5年</td>\n",
       "      <td>讯实科技</td>\n",
       "      <td>2019-08-20</td>\n",
       "      <td>南京·宁南</td>\n",
       "      <td>双休</td>\n",
       "      <td>数据服务</td>\n",
       "      <td>B轮</td>\n",
       "      <td>15-50人</td>\n",
       "      <td>1000</td>\n",
       "      <td>2000</td>\n",
       "    </tr>\n",
       "  </tbody>\n",
       "</table>\n",
       "</div>"
      ],
      "text/plain": [
       "        工作  标签  学历    工作经验    公司        发布时间     地址  福利    类型  财政      规模  \\\n",
       "序号                                                                          \n",
       "983  PHP兼职  电商  本科  经验3-5年  讯实科技  2019-08-20  南京·宁南  双休  数据服务  B轮  15-50人   \n",
       "\n",
       "       起薪    上限  \n",
       "序号               \n",
       "983  1000  2000  "
      ]
     },
     "execution_count": 13,
     "metadata": {},
     "output_type": "execute_result"
    }
   ],
   "source": [
    "lg.loc[[lg['起薪'].idxmin()]]"
   ]
  },
  {
   "cell_type": "markdown",
   "metadata": {
    "heading_collapsed": true
   },
   "source": [
    "## 各学历招聘数量"
   ]
  },
  {
   "cell_type": "code",
   "execution_count": 14,
   "metadata": {
    "hidden": true
   },
   "outputs": [
    {
     "data": {
      "text/plain": [
       "本科    59339\n",
       "大专    25680\n",
       "不限    14294\n",
       "硕士     2068\n",
       "博士       49\n",
       "Name: 学历, dtype: int64"
      ]
     },
     "execution_count": 14,
     "metadata": {},
     "output_type": "execute_result"
    }
   ],
   "source": [
    "# value_counts()是一种查看表格某列中有多少个不同值的快捷方法,并统计有多少个重复值\n",
    "lg['学历'].value_counts().head(10)"
   ]
  },
  {
   "cell_type": "markdown",
   "metadata": {
    "heading_collapsed": true
   },
   "source": [
    "## 北京地区本科应届毕业生工作"
   ]
  },
  {
   "cell_type": "code",
   "execution_count": 15,
   "metadata": {
    "hidden": true
   },
   "outputs": [
    {
     "data": {
      "text/html": [
       "<div>\n",
       "<style scoped>\n",
       "    .dataframe tbody tr th:only-of-type {\n",
       "        vertical-align: middle;\n",
       "    }\n",
       "\n",
       "    .dataframe tbody tr th {\n",
       "        vertical-align: top;\n",
       "    }\n",
       "\n",
       "    .dataframe thead th {\n",
       "        text-align: right;\n",
       "    }\n",
       "</style>\n",
       "<table border=\"1\" class=\"dataframe\">\n",
       "  <thead>\n",
       "    <tr style=\"text-align: right;\">\n",
       "      <th></th>\n",
       "      <th>工作</th>\n",
       "      <th>标签</th>\n",
       "      <th>公司</th>\n",
       "      <th>学历</th>\n",
       "      <th>类型</th>\n",
       "      <th>起薪</th>\n",
       "    </tr>\n",
       "    <tr>\n",
       "      <th>序号</th>\n",
       "      <th></th>\n",
       "      <th></th>\n",
       "      <th></th>\n",
       "      <th></th>\n",
       "      <th></th>\n",
       "      <th></th>\n",
       "    </tr>\n",
       "  </thead>\n",
       "  <tbody>\n",
       "    <tr>\n",
       "      <th>270</th>\n",
       "      <td>Java开发工程师</td>\n",
       "      <td>后端,Linux/Unix,Java</td>\n",
       "      <td>绿湾科技</td>\n",
       "      <td>本科</td>\n",
       "      <td>企业服务,数据服务</td>\n",
       "      <td>15000</td>\n",
       "    </tr>\n",
       "    <tr>\n",
       "      <th>301</th>\n",
       "      <td>Java开发工程师</td>\n",
       "      <td>Java,软件开发,Linux/Unix</td>\n",
       "      <td>绿湾科技</td>\n",
       "      <td>本科</td>\n",
       "      <td>企业服务,数据服务</td>\n",
       "      <td>15000</td>\n",
       "    </tr>\n",
       "    <tr>\n",
       "      <th>800</th>\n",
       "      <td>【2020校招】C++开发工程师（推荐方向）</td>\n",
       "      <td>C,C++,Linux/Unix</td>\n",
       "      <td>陌陌</td>\n",
       "      <td>本科</td>\n",
       "      <td>社交</td>\n",
       "      <td>15000</td>\n",
       "    </tr>\n",
       "    <tr>\n",
       "      <th>977</th>\n",
       "      <td>PHP实习研发工程师</td>\n",
       "      <td>C++</td>\n",
       "      <td>百度</td>\n",
       "      <td>本科</td>\n",
       "      <td>工具</td>\n",
       "      <td>150000</td>\n",
       "    </tr>\n",
       "    <tr>\n",
       "      <th>993</th>\n",
       "      <td>php开发工程师</td>\n",
       "      <td>移动互联网,教育,后端,PHP</td>\n",
       "      <td>好未来</td>\n",
       "      <td>本科</td>\n",
       "      <td>教育</td>\n",
       "      <td>10000</td>\n",
       "    </tr>\n",
       "  </tbody>\n",
       "</table>\n",
       "</div>"
      ],
      "text/plain": [
       "                         工作                    标签    公司  学历         类型      起薪\n",
       "序号                                                                            \n",
       "270               Java开发工程师    后端,Linux/Unix,Java  绿湾科技  本科  企业服务,数据服务   15000\n",
       "301               Java开发工程师  Java,软件开发,Linux/Unix  绿湾科技  本科  企业服务,数据服务   15000\n",
       "800  【2020校招】C++开发工程师（推荐方向）      C,C++,Linux/Unix    陌陌  本科         社交   15000\n",
       "977              PHP实习研发工程师                   C++    百度  本科         工具  150000\n",
       "993                php开发工程师       移动互联网,教育,后端,PHP   好未来  本科         教育   10000"
      ]
     },
     "execution_count": 15,
     "metadata": {},
     "output_type": "execute_result"
    }
   ],
   "source": [
    "result = lg[(lg['学历']=='本科') & (lg['地址'].str.contains('北京'))&(lg['工作经验'].str.contains('应届毕业生'))]\n",
    "result[['工作','标签','公司','学历','类型','起薪']].head(5)"
   ]
  },
  {
   "cell_type": "markdown",
   "metadata": {
    "heading_collapsed": true
   },
   "source": [
    "## 北京各区招聘情况 "
   ]
  },
  {
   "cell_type": "code",
   "execution_count": 68,
   "metadata": {
    "hidden": true,
    "scrolled": true
   },
   "outputs": [
    {
     "data": {
      "text/plain": [
       "海淀区    3349\n",
       "朝阳区    3321\n",
       "望京     2407\n",
       "中关村    1289\n",
       "西北旺     817\n",
       "西二旗     741\n",
       "上地      577\n",
       "学院路     535\n",
       "酒仙桥     508\n",
       "西三旗     500\n",
       "Name: 区域, dtype: int64"
      ]
     },
     "execution_count": 68,
     "metadata": {},
     "output_type": "execute_result"
    }
   ],
   "source": [
    "result = lg[(lg['城市']=='北京')]\n",
    "t2=result['区域'].value_counts().head(10)\n",
    "t2"
   ]
  },
  {
   "cell_type": "markdown",
   "metadata": {
    "heading_collapsed": true
   },
   "source": [
    "## 北京本科学历平均工资 "
   ]
  },
  {
   "cell_type": "code",
   "execution_count": 56,
   "metadata": {
    "hidden": true
   },
   "outputs": [
    {
     "data": {
      "text/plain": [
       "22321.325184946927"
      ]
     },
     "execution_count": 56,
     "metadata": {},
     "output_type": "execute_result"
    }
   ],
   "source": [
    "lg['salary_avg'] = (result['起薪'] + result['上限']) / 2\n",
    "result = lg[(lg['学历']=='本科') & (lg['地址'].str.contains('北京'))]\n",
    "result['salary_avg'].mean()"
   ]
  },
  {
   "cell_type": "markdown",
   "metadata": {},
   "source": [
    "## 互联网方向Java职位"
   ]
  },
  {
   "cell_type": "code",
   "execution_count": 88,
   "metadata": {},
   "outputs": [
    {
     "data": {
      "text/html": [
       "<div>\n",
       "<style scoped>\n",
       "    .dataframe tbody tr th:only-of-type {\n",
       "        vertical-align: middle;\n",
       "    }\n",
       "\n",
       "    .dataframe tbody tr th {\n",
       "        vertical-align: top;\n",
       "    }\n",
       "\n",
       "    .dataframe thead th {\n",
       "        text-align: right;\n",
       "    }\n",
       "</style>\n",
       "<table border=\"1\" class=\"dataframe\">\n",
       "  <thead>\n",
       "    <tr style=\"text-align: right;\">\n",
       "      <th></th>\n",
       "      <th>number</th>\n",
       "    </tr>\n",
       "    <tr>\n",
       "      <th>工作</th>\n",
       "      <th></th>\n",
       "    </tr>\n",
       "  </thead>\n",
       "  <tbody>\n",
       "    <tr>\n",
       "      <th>java开发工程师</th>\n",
       "      <td>154</td>\n",
       "    </tr>\n",
       "    <tr>\n",
       "      <th>Java开发工程师</th>\n",
       "      <td>78</td>\n",
       "    </tr>\n",
       "    <tr>\n",
       "      <th>java</th>\n",
       "      <td>24</td>\n",
       "    </tr>\n",
       "    <tr>\n",
       "      <th>java工程师</th>\n",
       "      <td>22</td>\n",
       "    </tr>\n",
       "    <tr>\n",
       "      <th>java开发</th>\n",
       "      <td>14</td>\n",
       "    </tr>\n",
       "    <tr>\n",
       "      <th>JAVA开发工程师</th>\n",
       "      <td>9</td>\n",
       "    </tr>\n",
       "    <tr>\n",
       "      <th>java高级开发工程师</th>\n",
       "      <td>9</td>\n",
       "    </tr>\n",
       "    <tr>\n",
       "      <th>Java</th>\n",
       "      <td>7</td>\n",
       "    </tr>\n",
       "    <tr>\n",
       "      <th>Java工程师</th>\n",
       "      <td>7</td>\n",
       "    </tr>\n",
       "    <tr>\n",
       "      <th>java技术经理</th>\n",
       "      <td>7</td>\n",
       "    </tr>\n",
       "  </tbody>\n",
       "</table>\n",
       "</div>"
      ],
      "text/plain": [
       "             number\n",
       "工作                 \n",
       "java开发工程师       154\n",
       "Java开发工程师        78\n",
       "java             24\n",
       "java工程师          22\n",
       "java开发           14\n",
       "JAVA开发工程师         9\n",
       "java高级开发工程师       9\n",
       "Java              7\n",
       "Java工程师           7\n",
       "java技术经理          7"
      ]
     },
     "execution_count": 88,
     "metadata": {},
     "output_type": "execute_result"
    }
   ],
   "source": [
    "result = lg[(lg['工作'].str.lower().str.startswith('java') & (lg['类型'].str.contains('互联网')))]\n",
    "t3=result.groupby('工作').agg({'number':'count'}).sort_values(['number'],ascending = False).head(10)\n",
    "t3"
   ]
  },
  {
   "cell_type": "markdown",
   "metadata": {},
   "source": [
    "# （4）数据展示 "
   ]
  },
  {
   "cell_type": "code",
   "execution_count": 66,
   "metadata": {},
   "outputs": [],
   "source": [
    "import matplotlib as mpl\n",
    "%matplotlib inline\n",
    "\n",
    "# 设置字体支持\n",
    "mpl.rcParams[\"font.family\"] = \"SimHei\"\n",
    "mpl.rcParams[\"axes.unicode_minus\"]=False"
   ]
  },
  {
   "cell_type": "markdown",
   "metadata": {
    "heading_collapsed": true
   },
   "source": [
    "## 招聘需求最大岗位 "
   ]
  },
  {
   "cell_type": "code",
   "execution_count": 70,
   "metadata": {
    "hidden": true
   },
   "outputs": [
    {
     "data": {
      "text/plain": [
       "<AxesSubplot:xlabel='工作'>"
      ]
     },
     "execution_count": 70,
     "metadata": {},
     "output_type": "execute_result"
    },
    {
     "data": {
      "image/png": "[encoded data removed]",
      "text/plain": [
       "<Figure size 432x288 with 1 Axes>"
      ]
     },
     "metadata": {
      "needs_background": "light"
     },
     "output_type": "display_data"
    }
   ],
   "source": [
    "t1.head(10).plot(kind = 'bar')"
   ]
  },
  {
   "cell_type": "markdown",
   "metadata": {},
   "source": [
    "## 北京各区招聘情况 "
   ]
  },
  {
   "cell_type": "code",
   "execution_count": 65,
   "metadata": {},
   "outputs": [
    {
     "data": {
      "text/plain": [
       "<AxesSubplot:ylabel='区域'>"
      ]
     },
     "execution_count": 65,
     "metadata": {},
     "output_type": "execute_result"
    },
    {
     "data": {
      "image/png": "[encoded data removed]",
      "text/plain": [
       "<Figure size 432x288 with 1 Axes>"
      ]
     },
     "metadata": {},
     "output_type": "display_data"
    }
   ],
   "source": [
    "t2.head(10).plot(kind = 'pie')"
   ]
  },
  {
   "cell_type": "markdown",
   "metadata": {},
   "source": [
    "## 互联网方向Java职位"
   ]
  },
  {
   "cell_type": "code",
   "execution_count": 89,
   "metadata": {},
   "outputs": [
    {
     "data": {
      "text/plain": [
       "<AxesSubplot:xlabel='工作'>"
      ]
     },
     "execution_count": 89,
     "metadata": {},
     "output_type": "execute_result"
    },
    {
     "data": {
      "image/png": "[encoded data removed]",
      "text/plain": [
       "<Figure size 432x288 with 1 Axes>"
      ]
     },
     "metadata": {
      "needs_background": "light"
     },
     "output_type": "display_data"
    }
   ],
   "source": [
    "t3.plot()"
   ]
  },
  {
   "cell_type": "code",
   "execution_count": null,
   "metadata": {},
   "outputs": [],
   "source": []
  }
 ],
 "metadata": {
  "kernelspec": {
   "display_name": "Python 3",
   "language": "python",
   "name": "python3"
  },
  "language_info": {
   "codemirror_mode": {
    "name": "ipython",
    "version": 3
   },
   "file_extension": ".py",
   "mimetype": "text/x-python",
   "name": "python",
   "nbconvert_exporter": "python",
   "pygments_lexer": "ipython3",
   "version": "3.8.5"
  },
  "varInspector": {
   "cols": {
    "lenName": 16,
    "lenType": 16,
    "lenVar": 40
   },
   "kernels_config": {
    "python": {
     "delete_cmd_postfix": "",
     "delete_cmd_prefix": "del ",
     "library": "var_list.py",
     "varRefreshCmd": "print(var_dic_list())"
    },
    "r": {
     "delete_cmd_postfix": ") ",
     "delete_cmd_prefix": "rm(",
     "library": "var_list.r",
     "varRefreshCmd": "cat(var_dic_list()) "
    }
   },
   "types_to_exclude": [
    "module",
    "function",
    "builtin_function_or_method",
    "instance",
    "_Feature"
   ],
   "window_display": false
  }
 },
 "nbformat": 4,
 "nbformat_minor": 4
}
