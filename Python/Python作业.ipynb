{
 "cells": [
  {
   "cell_type": "code",
   "execution_count": 1,
   "metadata": {},
   "outputs": [
    {
     "name": "stdout",
     "output_type": "stream",
     "text": [
      "5050\n"
     ]
    }
   ],
   "source": [
    "s=0\n",
    "for i in range(1,101):\n",
    "    s+=i\n",
    "print(s)"
   ]
  },
  {
   "cell_type": "code",
   "execution_count": 8,
   "metadata": {},
   "outputs": [
    {
     "name": "stdout",
     "output_type": "stream",
     "text": [
      "输入正整数：13\n",
      "6\n"
     ]
    }
   ],
   "source": [
    "a=0\n",
    "n = int(input('输入正整数：'))\n",
    "for i in range(1,n+1):\n",
    "    while i:\n",
    "        t=i%10\n",
    "        if t==1:\n",
    "            a+=1\n",
    "        i//=10\n",
    "print(a)"
   ]
  },
  {
   "cell_type": "code",
   "execution_count": 14,
   "metadata": {},
   "outputs": [
    {
     "ename": "SyntaxError",
     "evalue": "invalid syntax (<ipython-input-14-c74d7349818b>, line 2)",
     "output_type": "error",
     "traceback": [
      "\u001b[1;36m  File \u001b[1;32m\"<ipython-input-14-c74d7349818b>\"\u001b[1;36m, line \u001b[1;32m2\u001b[0m\n\u001b[1;33m    print(b//=10)\u001b[0m\n\u001b[1;37m           ^\u001b[0m\n\u001b[1;31mSyntaxError\u001b[0m\u001b[1;31m:\u001b[0m invalid syntax\n"
     ]
    }
   ],
   "source": [
    "b = int(input('输入正整数：'))\n",
    "print(b//=10)"
   ]
  },
  {
   "cell_type": "code",
   "execution_count": 10,
   "metadata": {},
   "outputs": [
    {
     "name": "stdout",
     "output_type": "stream",
     "text": [
      "请输入第1个数字: 1\n",
      "请输入第2个数字: 2\n",
      "请输入第3个数字: 3\n",
      "[3, 2, 1]\n"
     ]
    }
   ],
   "source": [
    "ls=[]\n",
    "for i in range(1,4):\n",
    "    ls.append(int(input('请输入第{}个数字: '.format(i))))\n",
    "for i in range(1, len(ls)):\n",
    "        for j in range(0, len(ls)-i):\n",
    "            if ls[j] < ls[j+1]:\n",
    "                temp=ls[j+1]\n",
    "                ls[j+1]=ls[j]\n",
    "                ls[j]=temp\n",
    "print(ls)"
   ]
  },
  {
   "cell_type": "code",
   "execution_count": 17,
   "metadata": {},
   "outputs": [
    {
     "name": "stdout",
     "output_type": "stream",
     "text": [
      "123 124 132 134 142 143 213 214 231 234 241 243 312 314 321 324 341 342 412 413 421 423 431 432 "
     ]
    }
   ],
   "source": [
    "arr=[1,2,3,4]\n",
    "for i in arr:\n",
    "    for j in arr:\n",
    "        for z in arr:\n",
    "            if i != j and i!=z and j!=z:\n",
    "                print(i*100+j*10+z,end=' ')"
   ]
  },
  {
   "cell_type": "code",
   "execution_count": 13,
   "metadata": {},
   "outputs": [
    {
     "name": "stdout",
     "output_type": "stream",
     "text": [
      "173\n"
     ]
    }
   ],
   "source": [
    "while i>=100:\n",
    "    i=i+1\n",
    "    if i%3==2 and i%5==3 and i%7==5:\n",
    "        break\n",
    "print(i)"
   ]
  },
  {
   "cell_type": "code",
   "execution_count": 15,
   "metadata": {},
   "outputs": [
    {
     "name": "stdout",
     "output_type": "stream",
     "text": [
      "6 是完数\n",
      "28 是完数\n",
      "496 是完数\n"
     ]
    }
   ],
   "source": [
    "for i in range(1,1001):\n",
    "    sum=0\n",
    "    for j in range(1,i//2+1):\n",
    "        if i%j==0:\n",
    "            sum+=j\n",
    "    if sum==i:\n",
    "        print(i,\"是完数\")"
   ]
  },
  {
   "cell_type": "code",
   "execution_count": 2,
   "metadata": {},
   "outputs": [
    {
     "name": "stdout",
     "output_type": "stream",
     "text": [
      "共经过199.8046875米 第10次反弹0.09765625米\n"
     ]
    }
   ],
   "source": [
    "height=100\n",
    "sum=0\n",
    "for i in range(1,11):\n",
    "    if i>1:\n",
    "        height*=2\n",
    "    sum+=height\n",
    "    \n",
    "    height/=2\n",
    "print(\"共经过{}米 第10次反弹{}米\".format(sum,height))"
   ]
  },
  {
   "cell_type": "markdown",
   "metadata": {},
   "source": [
    "# 2.四月六日 "
   ]
  },
  {
   "cell_type": "code",
   "execution_count": 2,
   "metadata": {},
   "outputs": [
    {
     "name": "stdout",
     "output_type": "stream",
     "text": [
      "输入成绩：10\n",
      "C\n"
     ]
    }
   ],
   "source": [
    "sc=eval(input('输入成绩：'))   \n",
    "if sc > 100 or sc < 0:\n",
    "    print('输入错误！')\n",
    "elif sc>=90:\n",
    "    print('A')\n",
    "elif sc>=60:\n",
    "    print('B')\n",
    "else:\n",
    "    print('C')"
   ]
  },
  {
   "cell_type": "code",
   "execution_count": 6,
   "metadata": {
    "scrolled": true
   },
   "outputs": [
    {
     "name": "stdout",
     "output_type": "stream",
     "text": [
      "16\n",
      "18\n",
      "156\n"
     ]
    }
   ],
   "source": [
    "for i in range(1,1000):\n",
    "    for j in range(1,1000):\n",
    "        if i+100==j*j:\n",
    "            for k in range(1,1000):\n",
    "                if i+168==k*k:\n",
    "                    print(j)\n",
    "                    print(k)\n",
    "                    print(i)"
   ]
  },
  {
   "cell_type": "code",
   "execution_count": 2,
   "metadata": {},
   "outputs": [
    {
     "name": "stdout",
     "output_type": "stream",
     "text": [
      "156\n"
     ]
    }
   ],
   "source": [
    "import math\n",
    "x =0\n",
    "while True:\n",
    "    if (math.sqrt(x +100) % 1 == 0 and math.sqrt(x +168)%1 == 0):\n",
    "        print(x)\n",
    "        break\n",
    "    else:\n",
    "            x+=1"
   ]
  },
  {
   "cell_type": "code",
   "execution_count": 7,
   "metadata": {},
   "outputs": [
    {
     "name": "stdout",
     "output_type": "stream",
     "text": [
      "153 370 371 407 "
     ]
    }
   ],
   "source": [
    "for n in range(100,1000):\n",
    "    a= n%10\n",
    "    b= n//10%10\n",
    "    c= n//100\n",
    "    if pow(a,3)+pow(b,3)+pow(c,3)== n:\n",
    "        print(n,end=' ')"
   ]
  },
  {
   "cell_type": "code",
   "execution_count": 11,
   "metadata": {},
   "outputs": [
    {
     "name": "stdout",
     "output_type": "stream",
     "text": [
      "请输入一个整数：90\n",
      "90=2*3*3*5"
     ]
    }
   ],
   "source": [
    "n = eval(input('请输入一个整数：'))\n",
    "print('%d='%n,end='')\n",
    "while n>1:\n",
    "    for i in range(2,n+1):\n",
    "        if n%i==0:\n",
    "                n//=i\n",
    "                if n==1:\n",
    "                    print('%d'%i,end='')\n",
    "                else:\n",
    "                    print('%d*'%i,end='')\n",
    "                break"
   ]
  },
  {
   "cell_type": "code",
   "execution_count": 5,
   "metadata": {},
   "outputs": [
    {
     "name": "stdout",
     "output_type": "stream",
     "text": [
      "请输入一个整数：2\n",
      "['2']\n",
      "2=1*2\n"
     ]
    }
   ],
   "source": [
    "n = eval(input('请输入一个整数：'))\n",
    "m=n\n",
    "ls=[]\n",
    "while n!=1:\n",
    "       for i in range(2,n+1):\n",
    "            if n%i==0:\n",
    "                ls.append(str(i))\n",
    "                n//=i\n",
    "                break\n",
    "print(ls)\n",
    "s='*'.join(ls)\n",
    "if len(ls)==1:\n",
    "    print('{}=1*{}'.format(m,m))\n",
    "else:\n",
    "    print('{}={}'.format(m,s))"
   ]
  },
  {
   "cell_type": "code",
   "execution_count": 13,
   "metadata": {},
   "outputs": [
    {
     "name": "stdout",
     "output_type": "stream",
     "text": [
      "请输入一个整数：4\n",
      "   *\n",
      "  ***\n",
      " *****\n",
      "*******\n"
     ]
    }
   ],
   "source": [
    "n = int(input('请输入一个整数：'))\n",
    "for i in range(1,n+1):\n",
    "    for j in range(1,n - i+1):\n",
    "        print(' ',end='')\n",
    "    for k in range(1,2 * i-1+1):\n",
    "        print('*',end='')\n",
    "    print()"
   ]
  },
  {
   "cell_type": "code",
   "execution_count": 19,
   "metadata": {},
   "outputs": [
    {
     "name": "stdout",
     "output_type": "stream",
     "text": [
      "32.66026079864164\n"
     ]
    }
   ],
   "source": [
    "sum = 0\n",
    "a, b = 2, 1\n",
    "for i in range(20):\n",
    "    sum = sum + a/b\n",
    "    a = a + b\n",
    "    b = a - b\n",
    "print(sum)"
   ]
  },
  {
   "cell_type": "code",
   "execution_count": 10,
   "metadata": {},
   "outputs": [],
   "source": [
    "#自定义异常\n",
    "#圆的半径不能为负\n",
    "import math\n",
    "class RoundException(Exception):\n",
    "    def __init__(self,r):\n",
    "        self.r=r\n",
    "    def __str__(self):\n",
    "        return \"{}\".format(self.r*self.r*math.pi) if self.r>0 else \"圆的半径不能为负\""
   ]
  },
  {
   "cell_type": "code",
   "execution_count": 14,
   "metadata": {},
   "outputs": [
    {
     "name": "stdout",
     "output_type": "stream",
     "text": [
      "圆的半径不能为负\n"
     ]
    }
   ],
   "source": [
    "try:\n",
    "    raise RoundException(-10)\n",
    "except RoundException as e:\n",
    "    print(e)"
   ]
  },
  {
   "cell_type": "code",
   "execution_count": 27,
   "metadata": {},
   "outputs": [],
   "source": [
    "#三角形不能构成\n",
    "class TriException(Exception):\n",
    "    def __init__(self,a,b,c):\n",
    "        self.a=a\n",
    "        self.b=b\n",
    "        self.c=c\n",
    "    def __str__(self):\n",
    "        if self.a+self.b>self.c and self.b+self.c>self.a and self.a+self.c>self.b:\n",
    "            return \"构成的三角形周长为：{}\".format(self.a+self.b+self.c)\n",
    "        else:\n",
    "            return \"不能构成三角形\""
   ]
  },
  {
   "cell_type": "code",
   "execution_count": 29,
   "metadata": {},
   "outputs": [
    {
     "name": "stdout",
     "output_type": "stream",
     "text": [
      "构成的三角形周长为：11\n"
     ]
    }
   ],
   "source": [
    "try:\n",
    "    raise TriException(2,4,5)\n",
    "except TriException as e:\n",
    "    print(e)"
   ]
  },
  {
   "cell_type": "code",
   "execution_count": 7,
   "metadata": {},
   "outputs": [],
   "source": [
    "import pymysql\n",
    "sjk=pymysql.connect(host=\"localhost\",user=\"root\",passwd=\"nzzfl2\",db=\"python\",port=3306)\n",
    "c=sjk.cursor()\n",
    "sql=\"INSERT INTO redcow(name,loca,height,weight,date,school) VALUES('{}','{}','{}','{}','{}','{}')\".format(\"1\",\"2\",\"2\",\"2\",\"2\",\"2\")\n",
    "try:\n",
    "    c.execute(sql)\n",
    "    sjk.commit()\n",
    "except Exception as e:\n",
    "    sjk.rollback()\n",
    "    print(e)\n",
    "sjk.close()"
   ]
  },
  {
   "cell_type": "code",
   "execution_count": null,
   "metadata": {},
   "outputs": [],
   "source": []
  }
 ],
 "metadata": {
  "kernelspec": {
   "display_name": "Python 3",
   "language": "python",
   "name": "python3"
  },
  "language_info": {
   "codemirror_mode": {
    "name": "ipython",
    "version": 3
   },
   "file_extension": ".py",
   "mimetype": "text/x-python",
   "name": "python",
   "nbconvert_exporter": "python",
   "pygments_lexer": "ipython3",
   "version": "3.8.5"
  }
 },
 "nbformat": 4,
 "nbformat_minor": 4
}
