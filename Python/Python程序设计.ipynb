{
 "cells": [
  {
   "cell_type": "markdown",
   "metadata": {},
   "source": [
    "# 命令模式 Esc 编辑模式Enter\n",
    "#命令模式下 代码---Markdown y m\n",
    "#运行 shift+Enter"
   ]
  },
  {
   "cell_type": "markdown",
   "metadata": {},
   "source": [
    "# 一 输入输出"
   ]
  },
  {
   "cell_type": "markdown",
   "metadata": {},
   "source": [
    "## 1.输出"
   ]
  },
  {
   "cell_type": "code",
   "execution_count": 5,
   "metadata": {},
   "outputs": [
    {
     "name": "stdout",
     "output_type": "stream",
     "text": [
      "hello,world\n"
     ]
    }
   ],
   "source": [
    "print('hello,world')"
   ]
  },
  {
   "cell_type": "code",
   "execution_count": 6,
   "metadata": {},
   "outputs": [
    {
     "name": "stdout",
     "output_type": "stream",
     "text": [
      "5\n"
     ]
    }
   ],
   "source": [
    "print(5)"
   ]
  },
  {
   "cell_type": "code",
   "execution_count": 7,
   "metadata": {},
   "outputs": [
    {
     "name": "stdout",
     "output_type": "stream",
     "text": [
      "7\n"
     ]
    }
   ],
   "source": [
    "print(3+4)"
   ]
  },
  {
   "cell_type": "code",
   "execution_count": 8,
   "metadata": {},
   "outputs": [
    {
     "name": "stdout",
     "output_type": "stream",
     "text": [
      "age= 18\n"
     ]
    }
   ],
   "source": [
    "print('age=',18)"
   ]
  },
  {
   "cell_type": "code",
   "execution_count": 9,
   "metadata": {},
   "outputs": [
    {
     "name": "stdout",
     "output_type": "stream",
     "text": [
      "hello,world\n"
     ]
    }
   ],
   "source": [
    "print('hello',end=',')#end默认\\n\n",
    "print('world')"
   ]
  },
  {
   "cell_type": "code",
   "execution_count": 10,
   "metadata": {},
   "outputs": [
    {
     "name": "stdout",
     "output_type": "stream",
     "text": [
      "zhangsan,18\n"
     ]
    }
   ],
   "source": [
    "print('%s,%d' % ('zhangsan',18)) #格式控制输出:格式控制部分%s %d %f +间隔% +（输出列表）"
   ]
  },
  {
   "cell_type": "code",
   "execution_count": 12,
   "metadata": {},
   "outputs": [
    {
     "name": "stdout",
     "output_type": "stream",
     "text": [
      "姓名:张三，年龄:18，身高:180.6\n"
     ]
    }
   ],
   "source": [
    "print(\"姓名:{}，年龄:{}，身高:{:.1f}\".format(\"张三\",18,180.63))"
   ]
  },
  {
   "cell_type": "markdown",
   "metadata": {},
   "source": [
    "## 2.输入"
   ]
  },
  {
   "cell_type": "code",
   "execution_count": 13,
   "metadata": {},
   "outputs": [],
   "source": [
    "#input\n",
    "#查看函数原型函数名? -->运行\n",
    "input?"
   ]
  },
  {
   "cell_type": "code",
   "execution_count": 15,
   "metadata": {},
   "outputs": [
    {
     "name": "stdout",
     "output_type": "stream",
     "text": [
      "43\n",
      "a= 43\n"
     ]
    },
    {
     "data": {
      "text/plain": [
       "str"
      ]
     },
     "execution_count": 15,
     "metadata": {},
     "output_type": "execute_result"
    }
   ],
   "source": [
    "a = input()\n",
    "print(\"a=\",a)\n",
    "type(a)"
   ]
  },
  {
   "cell_type": "code",
   "execution_count": 16,
   "metadata": {},
   "outputs": [
    {
     "name": "stdout",
     "output_type": "stream",
     "text": [
      "5\n",
      "sc= 7\n"
     ]
    },
    {
     "data": {
      "text/plain": [
       "int"
      ]
     },
     "execution_count": 16,
     "metadata": {},
     "output_type": "execute_result"
    }
   ],
   "source": [
    "sc=int(input())#强转把字符串转换成整形\n",
    "sc+=2;\n",
    "print(\"sc=\",sc)\n",
    "type(sc)"
   ]
  },
  {
   "cell_type": "code",
   "execution_count": null,
   "metadata": {},
   "outputs": [],
   "source": [
    "a=int('50')#只能转换整数串\n",
    "type(a)"
   ]
  },
  {
   "cell_type": "code",
   "execution_count": 17,
   "metadata": {},
   "outputs": [
    {
     "name": "stdout",
     "output_type": "stream",
     "text": [
      "5\n",
      "sc= 7\n"
     ]
    },
    {
     "data": {
      "text/plain": [
       "int"
      ]
     },
     "execution_count": 17,
     "metadata": {},
     "output_type": "execute_result"
    }
   ],
   "source": [
    "sc=eval(input())#强转成数值类型\n",
    "sc+=2;\n",
    "print(\"sc=\",sc)\n",
    "type(sc)"
   ]
  },
  {
   "cell_type": "markdown",
   "metadata": {},
   "source": [
    "### 带参数的input"
   ]
  },
  {
   "cell_type": "code",
   "execution_count": 20,
   "metadata": {},
   "outputs": [
    {
     "name": "stdout",
     "output_type": "stream",
     "text": [
      "输入姓名：cc\n",
      "输入成绩2\n",
      "Name:cc,Score:2\n"
     ]
    }
   ],
   "source": [
    "name=input('输入姓名：')\n",
    "sc=eval(input('输入成绩'))\n",
    "print('Name:%s,Score:%d' % (name,sc))"
   ]
  },
  {
   "cell_type": "markdown",
   "metadata": {},
   "source": [
    "# 二 模块导入"
   ]
  },
  {
   "cell_type": "markdown",
   "metadata": {},
   "source": [
    "## 1.import 模块名"
   ]
  },
  {
   "cell_type": "code",
   "execution_count": 22,
   "metadata": {},
   "outputs": [
    {
     "data": {
      "text/plain": [
       "2.0"
      ]
     },
     "execution_count": 22,
     "metadata": {},
     "output_type": "execute_result"
    }
   ],
   "source": [
    "import math\n",
    "math.sqrt(4) #模块名.函数名（） 不能直接调用函数名 sqrt() 需要导入模块"
   ]
  },
  {
   "cell_type": "markdown",
   "metadata": {},
   "source": [
    "## 2.from 模块名 import 函数名"
   ]
  },
  {
   "cell_type": "code",
   "execution_count": 24,
   "metadata": {},
   "outputs": [],
   "source": [
    "del math #删除导入"
   ]
  },
  {
   "cell_type": "code",
   "execution_count": 25,
   "metadata": {},
   "outputs": [
    {
     "data": {
      "text/plain": [
       "3.0"
      ]
     },
     "execution_count": 25,
     "metadata": {},
     "output_type": "execute_result"
    }
   ],
   "source": [
    "from math import sqrt\n",
    "sqrt(9) #只能直接调用函数名 sqrt() 不能math.sqrt"
   ]
  },
  {
   "cell_type": "markdown",
   "metadata": {},
   "source": [
    "# 三 数据类型"
   ]
  },
  {
   "cell_type": "code",
   "execution_count": 26,
   "metadata": {},
   "outputs": [],
   "source": [
    "#数组、字符串、列表、元组、集合、字典\n",
    "#数据结构:数据的存储和表示＋对该数据结构的常见操作"
   ]
  },
  {
   "cell_type": "markdown",
   "metadata": {},
   "source": [
    "## 1.数值"
   ]
  },
  {
   "cell_type": "code",
   "execution_count": 27,
   "metadata": {},
   "outputs": [
    {
     "data": {
      "text/plain": [
       "8"
      ]
     },
     "execution_count": 27,
     "metadata": {},
     "output_type": "execute_result"
    }
   ],
   "source": [
    "#整数 浮点数\n",
    "2**3 #2的三次方"
   ]
  },
  {
   "cell_type": "code",
   "execution_count": 30,
   "metadata": {},
   "outputs": [
    {
     "data": {
      "text/plain": [
       "1024.0"
      ]
     },
     "execution_count": 30,
     "metadata": {},
     "output_type": "execute_result"
    }
   ],
   "source": [
    "import math\n",
    "math.pow(2,10)"
   ]
  },
  {
   "cell_type": "code",
   "execution_count": 31,
   "metadata": {},
   "outputs": [
    {
     "data": {
      "text/plain": [
       "7.2"
      ]
     },
     "execution_count": 31,
     "metadata": {},
     "output_type": "execute_result"
    }
   ],
   "source": [
    "3+4.2\n"
   ]
  },
  {
   "cell_type": "markdown",
   "metadata": {},
   "source": [
    "## 2.字符串"
   ]
  },
  {
   "cell_type": "markdown",
   "metadata": {},
   "source": [
    "### 2.1字符串表示 "
   ]
  },
  {
   "cell_type": "code",
   "execution_count": 32,
   "metadata": {},
   "outputs": [
    {
     "name": "stdout",
     "output_type": "stream",
     "text": [
      "1\n",
      "1\n"
     ]
    }
   ],
   "source": [
    "#单引号、双引号\n",
    "print('1')\n",
    "print(\"1\")"
   ]
  },
  {
   "cell_type": "code",
   "execution_count": 33,
   "metadata": {},
   "outputs": [
    {
     "ename": "SyntaxError",
     "evalue": "invalid syntax (<ipython-input-33-93fd92ea7acf>, line 1)",
     "output_type": "error",
     "traceback": [
      "\u001b[1;36m  File \u001b[1;32m\"<ipython-input-33-93fd92ea7acf>\"\u001b[1;36m, line \u001b[1;32m1\u001b[0m\n\u001b[1;33m    s='It's a book' #起止边界为单引号的串内，不能直接再含有单引号\u001b[0m\n\u001b[1;37m          ^\u001b[0m\n\u001b[1;31mSyntaxError\u001b[0m\u001b[1;31m:\u001b[0m invalid syntax\n"
     ]
    }
   ],
   "source": [
    "s='It's a book' #起止边界为单引号的串内，不能直接再含有单引号"
   ]
  },
  {
   "cell_type": "code",
   "execution_count": 36,
   "metadata": {},
   "outputs": [
    {
     "name": "stdout",
     "output_type": "stream",
     "text": [
      "It's a book\n"
     ]
    }
   ],
   "source": [
    "s = 'It\\'s a book' #字符串中含有的单引号或双引号，最好使用转义字符形式\\' \\\"\n",
    "print(s)"
   ]
  },
  {
   "cell_type": "code",
   "execution_count": 38,
   "metadata": {},
   "outputs": [
    {
     "name": "stdout",
     "output_type": "stream",
     "text": [
      "It's a book\n"
     ]
    }
   ],
   "source": [
    "s = \"It's a book\" ##字符串起止边界为双引号，其内可直接含单引号’或转义形式单引号\\'\n",
    "print(s)"
   ]
  },
  {
   "cell_type": "code",
   "execution_count": 42,
   "metadata": {},
   "outputs": [
    {
     "name": "stdout",
     "output_type": "stream",
     "text": [
      "D:\\Code\\Python\n"
     ]
    }
   ],
   "source": [
    "path='D:\\Code\\Python' #文件路径 双斜杠或原生串R\\r\n",
    "path='D:\\\\Code\\\\Python'\n",
    "path=r'D:\\Code\\Python'\n",
    "print(path)"
   ]
  },
  {
   "cell_type": "markdown",
   "metadata": {},
   "source": [
    "### 2.2字符串常见操作"
   ]
  },
  {
   "cell_type": "code",
   "execution_count": 43,
   "metadata": {},
   "outputs": [
    {
     "name": "stdout",
     "output_type": "stream",
     "text": [
      "a\n",
      "b\n",
      "f\n",
      "e\n"
     ]
    }
   ],
   "source": [
    "#单个字符的访问\n",
    "s ='abcdef' #字符串中的字符从左向右编号0，1，2，3,.....从右向左编号-1，-2-3，...\n",
    "#切片\n",
    "print(s[0])#’a'\n",
    "print(s[1])#’b’\n",
    "print(s[-1])#’f'\n",
    "print(s[-2])#'e'\n"
   ]
  },
  {
   "cell_type": "code",
   "execution_count": 51,
   "metadata": {},
   "outputs": [
    {
     "name": "stdout",
     "output_type": "stream",
     "text": [
      "abc\n",
      "abc\n",
      "bc\n",
      "def\n",
      "fgh\n",
      "fgh\n",
      "abcdefgh\n",
      "adg\n",
      "ce\n"
     ]
    }
   ],
   "source": [
    "#子串的访问或区间访问\n",
    "s = 'abcdefgh'\n",
    "print(s[0:3])#s[o] s[li] s[2]注意:不包含尾‘abc'\n",
    "print (s[:3])#s[o] s[i] s[2]注意:不包含尾 'abc'\n",
    "print(s[1:3])#s[1] s[2]注意:不包含尾’bc'\n",
    "print(s[3:6])# 'def'\n",
    "print(s[-3:])#从倒数第3个开始一直到结束\n",
    "print(s[5:])#从倒数第3个开始一直到结束\n",
    "print(s[:])#全部\n",
    "print(s[::3])#指定间隔 默认为1\n",
    "print(s[2:6:2])#'ce'"
   ]
  },
  {
   "cell_type": "markdown",
   "metadata": {},
   "source": [
    "### 2.3字符串常见内置函数"
   ]
  },
  {
   "cell_type": "code",
   "execution_count": 57,
   "metadata": {},
   "outputs": [
    {
     "data": {
      "text/plain": [
       "-1"
      ]
     },
     "execution_count": 57,
     "metadata": {},
     "output_type": "execute_result"
    }
   ],
   "source": [
    "s='hello world'\n",
    "s.find('e1') #查询某个子串是否存在，若存在返回第一次出现子串的下标 否则返回-1"
   ]
  },
  {
   "cell_type": "code",
   "execution_count": null,
   "metadata": {},
   "outputs": [],
   "source": [
    "s.find('e1',3,8) #find(txt,[start,end])"
   ]
  },
  {
   "cell_type": "code",
   "execution_count": 53,
   "metadata": {},
   "outputs": [
    {
     "data": {
      "text/plain": [
       "1"
      ]
     },
     "execution_count": 53,
     "metadata": {},
     "output_type": "execute_result"
    }
   ],
   "source": [
    "s.count('llo') #统计某个字符或子串出现的次数"
   ]
  },
  {
   "cell_type": "code",
   "execution_count": 54,
   "metadata": {},
   "outputs": [
    {
     "ename": "ValueError",
     "evalue": "substring not found",
     "output_type": "error",
     "traceback": [
      "\u001b[1;31m---------------------------------------------------------------------------\u001b[0m",
      "\u001b[1;31mValueError\u001b[0m                                Traceback (most recent call last)",
      "\u001b[1;32m<ipython-input-54-7c8c154a84cb>\u001b[0m in \u001b[0;36m<module>\u001b[1;34m\u001b[0m\n\u001b[1;32m----> 1\u001b[1;33m \u001b[0ms\u001b[0m\u001b[1;33m.\u001b[0m\u001b[0mindex\u001b[0m\u001b[1;33m(\u001b[0m\u001b[1;34m'x'\u001b[0m\u001b[1;33m)\u001b[0m \u001b[1;31m#如含有子串和find类似 否则报错\u001b[0m\u001b[1;33m\u001b[0m\u001b[1;33m\u001b[0m\u001b[0m\n\u001b[0m",
      "\u001b[1;31mValueError\u001b[0m: substring not found"
     ]
    }
   ],
   "source": [
    "s.index('x') #如含有子串和find类似 否则报错"
   ]
  },
  {
   "cell_type": "code",
   "execution_count": 60,
   "metadata": {},
   "outputs": [
    {
     "data": {
      "text/plain": [
       "True"
      ]
     },
     "execution_count": 60,
     "metadata": {},
     "output_type": "execute_result"
    }
   ],
   "source": [
    "\"or\" in s"
   ]
  },
  {
   "cell_type": "code",
   "execution_count": 61,
   "metadata": {},
   "outputs": [
    {
     "data": {
      "text/plain": [
       "False"
      ]
     },
     "execution_count": 61,
     "metadata": {},
     "output_type": "execute_result"
    }
   ],
   "source": [
    "\"ex\" in s"
   ]
  },
  {
   "cell_type": "code",
   "execution_count": 62,
   "metadata": {},
   "outputs": [
    {
     "data": {
      "text/plain": [
       "True"
      ]
     },
     "execution_count": 62,
     "metadata": {},
     "output_type": "execute_result"
    }
   ],
   "source": [
    "\"ex\" not in s"
   ]
  },
  {
   "cell_type": "markdown",
   "metadata": {},
   "source": [
    "## 3.列表"
   ]
  },
  {
   "cell_type": "markdown",
   "metadata": {},
   "source": [
    "### 3.1列表创建"
   ]
  },
  {
   "cell_type": "code",
   "execution_count": 63,
   "metadata": {},
   "outputs": [],
   "source": [
    "ls=[] #空列表"
   ]
  },
  {
   "cell_type": "code",
   "execution_count": 71,
   "metadata": {},
   "outputs": [
    {
     "name": "stdout",
     "output_type": "stream",
     "text": [
      "[1, 2, 3]\n"
     ]
    }
   ],
   "source": [
    "ls=[1,2,3]\n",
    "print(ls)"
   ]
  },
  {
   "cell_type": "code",
   "execution_count": 64,
   "metadata": {},
   "outputs": [
    {
     "name": "stdout",
     "output_type": "stream",
     "text": [
      "[]\n"
     ]
    }
   ],
   "source": [
    "ls=list()\n",
    "print(ls)"
   ]
  },
  {
   "cell_type": "code",
   "execution_count": 66,
   "metadata": {},
   "outputs": [
    {
     "ename": "TypeError",
     "evalue": "list expected at most 1 argument, got 3",
     "output_type": "error",
     "traceback": [
      "\u001b[1;31m---------------------------------------------------------------------------\u001b[0m",
      "\u001b[1;31mTypeError\u001b[0m                                 Traceback (most recent call last)",
      "\u001b[1;32m<ipython-input-66-014bdc5bc663>\u001b[0m in \u001b[0;36m<module>\u001b[1;34m\u001b[0m\n\u001b[1;32m----> 1\u001b[1;33m \u001b[0mls\u001b[0m\u001b[1;33m=\u001b[0m\u001b[0mlist\u001b[0m\u001b[1;33m(\u001b[0m\u001b[1;36m1\u001b[0m\u001b[1;33m,\u001b[0m\u001b[1;36m2\u001b[0m\u001b[1;33m,\u001b[0m\u001b[1;36m3\u001b[0m\u001b[1;33m)\u001b[0m\u001b[1;33m\u001b[0m\u001b[1;33m\u001b[0m\u001b[0m\n\u001b[0m\u001b[0;32m      2\u001b[0m \u001b[0mprint\u001b[0m\u001b[1;33m(\u001b[0m\u001b[0mls\u001b[0m\u001b[1;33m)\u001b[0m\u001b[1;33m\u001b[0m\u001b[1;33m\u001b[0m\u001b[0m\n",
      "\u001b[1;31mTypeError\u001b[0m: list expected at most 1 argument, got 3"
     ]
    }
   ],
   "source": [
    "ls=list(1,2,3)\n",
    "print(ls)"
   ]
  },
  {
   "cell_type": "code",
   "execution_count": 68,
   "metadata": {},
   "outputs": [
    {
     "name": "stdout",
     "output_type": "stream",
     "text": [
      "[1, 2, 3]\n"
     ]
    }
   ],
   "source": [
    "ls=list((1,2,3))\n",
    "print(ls)"
   ]
  },
  {
   "cell_type": "markdown",
   "metadata": {},
   "source": [
    "### 3.1字符串常见内置函数"
   ]
  },
  {
   "cell_type": "code",
   "execution_count": 75,
   "metadata": {},
   "outputs": [
    {
     "name": "stdout",
     "output_type": "stream",
     "text": [
      "[1, 2, 3, 5]\n"
     ]
    }
   ],
   "source": [
    "ls=[1,2,3]\n",
    "ls.append(5) #附加到后面\n",
    "print(ls)"
   ]
  },
  {
   "cell_type": "code",
   "execution_count": 76,
   "metadata": {},
   "outputs": [
    {
     "name": "stdout",
     "output_type": "stream",
     "text": [
      "[1, 7, 2, 3, 5]\n"
     ]
    }
   ],
   "source": [
    "ls.insert(1,7) #insert(index,value)\n",
    "print(ls)"
   ]
  },
  {
   "cell_type": "code",
   "execution_count": 77,
   "metadata": {},
   "outputs": [
    {
     "data": {
      "text/plain": [
       "5"
      ]
     },
     "execution_count": 77,
     "metadata": {},
     "output_type": "execute_result"
    }
   ],
   "source": [
    "ls.pop() #删除末尾元素"
   ]
  },
  {
   "cell_type": "code",
   "execution_count": 78,
   "metadata": {},
   "outputs": [
    {
     "name": "stdout",
     "output_type": "stream",
     "text": [
      "[1, 7, 2, 3]\n"
     ]
    }
   ],
   "source": [
    "print(ls)"
   ]
  },
  {
   "cell_type": "code",
   "execution_count": 7,
   "metadata": {},
   "outputs": [],
   "source": [
    "a=[1,2,3,4]\n",
    "b=[5,6]"
   ]
  },
  {
   "cell_type": "code",
   "execution_count": 2,
   "metadata": {},
   "outputs": [
    {
     "name": "stdout",
     "output_type": "stream",
     "text": [
      "[1, 2, 3, 4, [5, 6]]\n"
     ]
    }
   ],
   "source": [
    "a.append(b)\n",
    "print(a)"
   ]
  },
  {
   "cell_type": "code",
   "execution_count": 3,
   "metadata": {},
   "outputs": [
    {
     "data": {
      "text/plain": [
       "5"
      ]
     },
     "execution_count": 3,
     "metadata": {},
     "output_type": "execute_result"
    }
   ],
   "source": [
    "len(a) #求列表长度"
   ]
  },
  {
   "cell_type": "code",
   "execution_count": 8,
   "metadata": {},
   "outputs": [
    {
     "name": "stdout",
     "output_type": "stream",
     "text": [
      "[1, 2, 3, 4, 5, 6]\n"
     ]
    },
    {
     "data": {
      "text/plain": [
       "6"
      ]
     },
     "execution_count": 8,
     "metadata": {},
     "output_type": "execute_result"
    }
   ],
   "source": [
    "a.extend(b) #扩展附加\n",
    "print(a)\n",
    "len(a)"
   ]
  },
  {
   "cell_type": "code",
   "execution_count": 9,
   "metadata": {},
   "outputs": [],
   "source": [
    "del a[2] #删除第几个\n",
    "print(a)"
   ]
  },
  {
   "cell_type": "code",
   "execution_count": 11,
   "metadata": {},
   "outputs": [
    {
     "name": "stdout",
     "output_type": "stream",
     "text": [
      "[1, 2, 5, 3, 2, 7, 2]\n"
     ]
    }
   ],
   "source": [
    "c=[1,2,5,3,2,7,2]\n",
    "print(c)"
   ]
  },
  {
   "cell_type": "code",
   "execution_count": 12,
   "metadata": {},
   "outputs": [],
   "source": [
    "c.remove(5) #删除数值"
   ]
  },
  {
   "cell_type": "code",
   "execution_count": 13,
   "metadata": {},
   "outputs": [
    {
     "name": "stdout",
     "output_type": "stream",
     "text": [
      "[1, 2, 3, 2, 7, 2]\n"
     ]
    }
   ],
   "source": [
    "print(c)"
   ]
  },
  {
   "cell_type": "code",
   "execution_count": 14,
   "metadata": {},
   "outputs": [
    {
     "name": "stdout",
     "output_type": "stream",
     "text": [
      "[1, 3, 2, 7, 2]\n"
     ]
    }
   ],
   "source": [
    "c.remove(2)\n",
    "print(c)"
   ]
  },
  {
   "cell_type": "code",
   "execution_count": 15,
   "metadata": {},
   "outputs": [],
   "source": [
    "a=[3,1,4,7,-3,5]"
   ]
  },
  {
   "cell_type": "code",
   "execution_count": 16,
   "metadata": {},
   "outputs": [
    {
     "data": {
      "text/plain": [
       "[3, 1, 4, 7, -3, 5]"
      ]
     },
     "execution_count": 16,
     "metadata": {},
     "output_type": "execute_result"
    }
   ],
   "source": [
    "a"
   ]
  },
  {
   "cell_type": "code",
   "execution_count": 19,
   "metadata": {},
   "outputs": [
    {
     "data": {
      "text/plain": [
       "[-3, 1, 3, 4, 5, 7]"
      ]
     },
     "execution_count": 19,
     "metadata": {},
     "output_type": "execute_result"
    }
   ],
   "source": [
    "a.sort() #默认升序\n",
    "a"
   ]
  },
  {
   "cell_type": "code",
   "execution_count": 20,
   "metadata": {},
   "outputs": [
    {
     "data": {
      "text/plain": [
       "[7, 5, 4, 3, 1, -3]"
      ]
     },
     "execution_count": 20,
     "metadata": {},
     "output_type": "execute_result"
    }
   ],
   "source": [
    "a.sort(reverse=True)\n",
    "a"
   ]
  },
  {
   "cell_type": "markdown",
   "metadata": {},
   "source": [
    "### 3.2 列表嵌套 "
   ]
  },
  {
   "cell_type": "code",
   "execution_count": 2,
   "metadata": {},
   "outputs": [
    {
     "data": {
      "text/plain": [
       "[['北京大学', '清华大学'], ['复旦大学', '上海交通大学'], ['南京工业大学', '南京工业职业技术大学']]"
      ]
     },
     "execution_count": 2,
     "metadata": {},
     "output_type": "execute_result"
    }
   ],
   "source": [
    "school=[['北京大学','清华大学'],['复旦大学','上海交通大学'],['南京工业大学','南京工业职业技术大学']]\n",
    "school"
   ]
  },
  {
   "cell_type": "markdown",
   "metadata": {},
   "source": [
    "### 3.3列表的统计特性"
   ]
  },
  {
   "cell_type": "code",
   "execution_count": 36,
   "metadata": {},
   "outputs": [
    {
     "name": "stdout",
     "output_type": "stream",
     "text": [
      "[89, 78, 96, 92, 68, 57]\n"
     ]
    },
    {
     "data": {
      "text/plain": [
       "list"
      ]
     },
     "execution_count": 36,
     "metadata": {},
     "output_type": "execute_result"
    }
   ],
   "source": [
    "sc=[89,78,96,92,68,57]\n",
    "print(sc)\n",
    "type(sc)"
   ]
  },
  {
   "cell_type": "code",
   "execution_count": null,
   "metadata": {},
   "outputs": [],
   "source": [
    "max(sc)"
   ]
  },
  {
   "cell_type": "code",
   "execution_count": 9,
   "metadata": {},
   "outputs": [
    {
     "data": {
      "text/plain": [
       "57"
      ]
     },
     "execution_count": 9,
     "metadata": {},
     "output_type": "execute_result"
    }
   ],
   "source": [
    "min(sc)"
   ]
  },
  {
   "cell_type": "code",
   "execution_count": 33,
   "metadata": {},
   "outputs": [
    {
     "data": {
      "text/plain": [
       "480"
      ]
     },
     "execution_count": 33,
     "metadata": {},
     "output_type": "execute_result"
    }
   ],
   "source": [
    "sum(sc)"
   ]
  },
  {
   "cell_type": "code",
   "execution_count": 37,
   "metadata": {},
   "outputs": [
    {
     "data": {
      "text/plain": [
       "1"
      ]
     },
     "execution_count": 37,
     "metadata": {},
     "output_type": "execute_result"
    }
   ],
   "source": [
    "sc.count(78)"
   ]
  },
  {
   "cell_type": "markdown",
   "metadata": {},
   "source": [
    "# 第二节课"
   ]
  },
  {
   "cell_type": "markdown",
   "metadata": {},
   "source": [
    "# 四、流程控制结构"
   ]
  },
  {
   "cell_type": "markdown",
   "metadata": {},
   "source": [
    "## 4.1 分支结构 "
   ]
  },
  {
   "cell_type": "markdown",
   "metadata": {},
   "source": [
    "### 4.1.1 if 分支 "
   ]
  },
  {
   "cell_type": "code",
   "execution_count": 26,
   "metadata": {},
   "outputs": [
    {
     "name": "stdout",
     "output_type": "stream",
     "text": [
      "输出成绩:99\n",
      "祝贺！\n"
     ]
    }
   ],
   "source": [
    "sc=eval(input('输入成绩:'))\n",
    "if(sc>=90):\n",
    "    print(\"祝贺！\")\n",
    "print('再接再厉')"
   ]
  },
  {
   "cell_type": "markdown",
   "metadata": {},
   "source": [
    "### 4.1.2 if-else"
   ]
  },
  {
   "cell_type": "code",
   "execution_count": 34,
   "metadata": {
    "scrolled": true
   },
   "outputs": [
    {
     "name": "stdout",
     "output_type": "stream",
     "text": [
      "输出成绩:55\n",
      "很遗憾\n",
      "继续努力\n"
     ]
    }
   ],
   "source": [
    "sc=eval(input('输入成绩:'))\n",
    "if(sc>=60):\n",
    "    print(\"祝贺！\")\n",
    "    print(\"通过！\")\n",
    "else:\n",
    "    print('很遗憾')\n",
    "    print('继续努力')"
   ]
  },
  {
   "cell_type": "markdown",
   "metadata": {},
   "source": [
    "### 4.1.3 if-elif-else"
   ]
  },
  {
   "cell_type": "code",
   "execution_count": 41,
   "metadata": {},
   "outputs": [
    {
     "name": "stdout",
     "output_type": "stream",
     "text": [
      "输入成绩:555\n",
      "输入错误！\n",
      "优秀！\n"
     ]
    }
   ],
   "source": [
    "sc=eval(input('输入成绩:'))\n",
    "if sc>=100 or sc<0:\n",
    "    print(\"输入错误！\")\n",
    "elif sc >= 90:\n",
    "    print(\"优秀！\")\n",
    "elif sc>=80:\n",
    "    print('良好')\n",
    "elif sc>=60:\n",
    "    print('合格')\n",
    "else:\n",
    "    print('不合格')"
   ]
  },
  {
   "cell_type": "markdown",
   "metadata": {},
   "source": [
    "###  4.1.4 分支案例解析"
   ]
  },
  {
   "cell_type": "code",
   "execution_count": 43,
   "metadata": {},
   "outputs": [
    {
     "name": "stdout",
     "output_type": "stream",
     "text": [
      "输入一个三位数：153\n",
      "153是水仙花数\n"
     ]
    }
   ],
   "source": [
    "#判断水仙花数，三位数 个位十位百位的立方和等于本身\n",
    "n=eval(input(\"输入一个三位数：\")) #123\n",
    "g=n % 10 \n",
    "s=n // 10 % 10  #//取整\n",
    "b=n//100\n",
    "if pow(g,3)+pow(s,3)+pow(b,3)==n:\n",
    "    print(\"%d是水仙花数\"% n)\n",
    "else:\n",
    "    print(\"%d不是水仙花数\"% n)\n"
   ]
  },
  {
   "cell_type": "code",
   "execution_count": 44,
   "metadata": {},
   "outputs": [
    {
     "data": {
      "text/plain": [
       "2.3333333333333335"
      ]
     },
     "execution_count": 44,
     "metadata": {},
     "output_type": "execute_result"
    }
   ],
   "source": [
    "#算数运算符\n",
    "7/3"
   ]
  },
  {
   "cell_type": "code",
   "execution_count": 45,
   "metadata": {},
   "outputs": [
    {
     "data": {
      "text/plain": [
       "2"
      ]
     },
     "execution_count": 45,
     "metadata": {},
     "output_type": "execute_result"
    }
   ],
   "source": [
    "7//3 # // 取商"
   ]
  },
  {
   "cell_type": "code",
   "execution_count": 47,
   "metadata": {},
   "outputs": [
    {
     "data": {
      "text/plain": [
       "1"
      ]
     },
     "execution_count": 47,
     "metadata": {},
     "output_type": "execute_result"
    }
   ],
   "source": [
    "7%3 # % 取余数"
   ]
  },
  {
   "cell_type": "code",
   "execution_count": 51,
   "metadata": {},
   "outputs": [
    {
     "data": {
      "text/plain": [
       "2"
      ]
     },
     "execution_count": 51,
     "metadata": {},
     "output_type": "execute_result"
    }
   ],
   "source": [
    "pow? #n内置函数 "
   ]
  },
  {
   "cell_type": "code",
   "execution_count": 52,
   "metadata": {},
   "outputs": [
    {
     "data": {
      "text/plain": [
       "2"
      ]
     },
     "execution_count": 52,
     "metadata": {},
     "output_type": "execute_result"
    }
   ],
   "source": [
    "pow(2,5) #2**5\n",
    "pow(2,5,3) #2**5%3 "
   ]
  },
  {
   "cell_type": "code",
   "execution_count": 53,
   "metadata": {},
   "outputs": [],
   "source": [
    "import math"
   ]
  },
  {
   "cell_type": "code",
   "execution_count": 56,
   "metadata": {},
   "outputs": [
    {
     "data": {
      "text/plain": [
       "1024.0"
      ]
     },
     "execution_count": 56,
     "metadata": {},
     "output_type": "execute_result"
    }
   ],
   "source": [
    "math.pow(2,10)"
   ]
  },
  {
   "cell_type": "markdown",
   "metadata": {},
   "source": [
    "# 第3节"
   ]
  },
  {
   "cell_type": "markdown",
   "metadata": {},
   "source": [
    "## 4.2 循环结构 "
   ]
  },
  {
   "cell_type": "markdown",
   "metadata": {},
   "source": [
    "### 4.2.1 while、while else"
   ]
  },
  {
   "cell_type": "code",
   "execution_count": 1,
   "metadata": {},
   "outputs": [
    {
     "name": "stdout",
     "output_type": "stream",
     "text": [
      "s= 5050\n"
     ]
    }
   ],
   "source": [
    "s=0\n",
    "i=1\n",
    "while i<=100:\n",
    "    s+=i\n",
    "    i+=1\n",
    "print('s=',s)"
   ]
  },
  {
   "cell_type": "code",
   "execution_count": 2,
   "metadata": {},
   "outputs": [],
   "source": [
    "s,i=0,1"
   ]
  },
  {
   "cell_type": "code",
   "execution_count": null,
   "metadata": {},
   "outputs": [],
   "source": [
    "n=0\n",
    "while n<5:\n",
    "    print(n,'小于5')\n",
    "    n+=1\n",
    "else:\n",
    "    print(n,'不再小于5')"
   ]
  },
  {
   "cell_type": "markdown",
   "metadata": {},
   "source": [
    "### 补充序列生成函数range"
   ]
  },
  {
   "cell_type": "code",
   "execution_count": 5,
   "metadata": {},
   "outputs": [
    {
     "data": {
      "text/plain": [
       "range(0, 10)"
      ]
     },
     "execution_count": 5,
     "metadata": {},
     "output_type": "execute_result"
    }
   ],
   "source": [
    "range(10)"
   ]
  },
  {
   "cell_type": "code",
   "execution_count": 6,
   "metadata": {},
   "outputs": [
    {
     "data": {
      "text/plain": [
       "[0, 1, 2, 3, 4, 5, 6, 7, 8, 9]"
      ]
     },
     "execution_count": 6,
     "metadata": {},
     "output_type": "execute_result"
    }
   ],
   "source": [
    "list(range(10))#通过list函数让其以列表的形式呈现"
   ]
  },
  {
   "cell_type": "code",
   "execution_count": 10,
   "metadata": {},
   "outputs": [
    {
     "data": {
      "text/plain": [
       "[3, 4, 5, 6, 7, 8, 9]"
      ]
     },
     "execution_count": 10,
     "metadata": {},
     "output_type": "execute_result"
    }
   ],
   "source": [
    " list(range(3,9+1))"
   ]
  },
  {
   "cell_type": "code",
   "execution_count": 12,
   "metadata": {},
   "outputs": [
    {
     "data": {
      "text/plain": [
       "[1, 4, 7, 10]"
      ]
     },
     "execution_count": 12,
     "metadata": {},
     "output_type": "execute_result"
    }
   ],
   "source": [
    " list(range(1,10+1,3))"
   ]
  },
  {
   "cell_type": "markdown",
   "metadata": {},
   "source": [
    "### 4.2.2 for、for-else "
   ]
  },
  {
   "cell_type": "code",
   "execution_count": 14,
   "metadata": {},
   "outputs": [
    {
     "name": "stdout",
     "output_type": "stream",
     "text": [
      "s= 5050\n"
     ]
    }
   ],
   "source": [
    "s=0\n",
    "for i in range(1,100+1): #for 变量 in 序列\n",
    "    s+=i\n",
    "print('s=',s)"
   ]
  },
  {
   "cell_type": "code",
   "execution_count": 16,
   "metadata": {},
   "outputs": [
    {
     "name": "stdout",
     "output_type": "stream",
     "text": [
      "h\n",
      "e\n",
      "l\n",
      "l\n",
      "o\n"
     ]
    }
   ],
   "source": [
    "for a in 'hello':\n",
    "    print(a)"
   ]
  },
  {
   "cell_type": "code",
   "execution_count": 18,
   "metadata": {},
   "outputs": [
    {
     "name": "stdout",
     "output_type": "stream",
     "text": [
      "2 5 9 0 end\n"
     ]
    }
   ],
   "source": [
    "for i in [2,5,9,0]:\n",
    "    print(i,end=\" \")\n",
    "else:\n",
    "    print('end')"
   ]
  },
  {
   "cell_type": "markdown",
   "metadata": {},
   "source": [
    "### 4.2.3 循环案例"
   ]
  },
  {
   "cell_type": "code",
   "execution_count": 20,
   "metadata": {},
   "outputs": [
    {
     "name": "stdout",
     "output_type": "stream",
     "text": [
      "153是水仙花数\n",
      "370是水仙花数\n",
      "371是水仙花数\n",
      "407是水仙花数\n"
     ]
    }
   ],
   "source": [
    "#输出所有的水仙花数\n",
    "for n in range(100,1000):\n",
    "    g=n % 10 \n",
    "    s=n // 10 % 10  #//取整\n",
    "    b=n//100\n",
    "    if pow(g,3)+pow(s,3)+pow(b,3)==n:\n",
    "        print(\"%d是水仙花数\"% n)"
   ]
  },
  {
   "cell_type": "markdown",
   "metadata": {},
   "source": [
    "### 4.2.4 循环的嵌套"
   ]
  },
  {
   "cell_type": "code",
   "execution_count": 22,
   "metadata": {},
   "outputs": [
    {
     "name": "stdout",
     "output_type": "stream",
     "text": [
      "1\t2\t3\t4\t\n",
      "2\t4\t6\t8\t\n",
      "3\t6\t9\t12\t\n"
     ]
    }
   ],
   "source": [
    "for i in range(1,3+1):\n",
    "    for j in range(1,4+1):\n",
    "        print(i*j,end='\\t')\n",
    "    print()"
   ]
  },
  {
   "cell_type": "code",
   "execution_count": 34,
   "metadata": {},
   "outputs": [
    {
     "name": "stdout",
     "output_type": "stream",
     "text": [
      "1 * 1 = 1  \n",
      "2 * 1 = 2  2 * 2 = 4  \n",
      "3 * 1 = 3  3 * 2 = 6  3 * 3 = 9  \n",
      "4 * 1 = 4  4 * 2 = 8  4 * 3 = 12  4 * 4 = 16  \n",
      "5 * 1 = 5  5 * 2 = 10  5 * 3 = 15  5 * 4 = 20  5 * 5 = 25  \n",
      "6 * 1 = 6  6 * 2 = 12  6 * 3 = 18  6 * 4 = 24  6 * 5 = 30  6 * 6 = 36  \n",
      "7 * 1 = 7  7 * 2 = 14  7 * 3 = 21  7 * 4 = 28  7 * 5 = 35  7 * 6 = 42  7 * 7 = 49  \n",
      "8 * 1 = 8  8 * 2 = 16  8 * 3 = 24  8 * 4 = 32  8 * 5 = 40  8 * 6 = 48  8 * 7 = 56  8 * 8 = 64  \n",
      "9 * 1 = 9  9 * 2 = 18  9 * 3 = 27  9 * 4 = 36  9 * 5 = 45  9 * 6 = 54  9 * 7 = 63  9 * 8 = 72  9 * 9 = 81  \n"
     ]
    }
   ],
   "source": [
    "for i in range(1,10):\n",
    "    for j in range(1,i+1):\n",
    "        print(i,'*',j,'=',i*j,end='  ')\n",
    "    print()"
   ]
  },
  {
   "cell_type": "code",
   "execution_count": 35,
   "metadata": {},
   "outputs": [
    {
     "name": "stdout",
     "output_type": "stream",
     "text": [
      "1 * 1 = 1 \n",
      "2 * 1 = 2 2 * 2 = 4 \n",
      "3 * 1 = 3 3 * 2 = 6 3 * 3 = 9 \n",
      "4 * 1 = 4 4 * 2 = 8 4 * 3 = 12 4 * 4 = 16 \n",
      "5 * 1 = 5 5 * 2 = 10 5 * 3 = 15 5 * 4 = 20 5 * 5 = 25 \n",
      "6 * 1 = 6 6 * 2 = 12 6 * 3 = 18 6 * 4 = 24 6 * 5 = 30 6 * 6 = 36 \n",
      "7 * 1 = 7 7 * 2 = 14 7 * 3 = 21 7 * 4 = 28 7 * 5 = 35 7 * 6 = 42 7 * 7 = 49 \n",
      "8 * 1 = 8 8 * 2 = 16 8 * 3 = 24 8 * 4 = 32 8 * 5 = 40 8 * 6 = 48 8 * 7 = 56 8 * 8 = 64 \n",
      "9 * 1 = 9 9 * 2 = 18 9 * 3 = 27 9 * 4 = 36 9 * 5 = 45 9 * 6 = 54 9 * 7 = 63 9 * 8 = 72 9 * 9 = 81 \n"
     ]
    }
   ],
   "source": [
    "for i in range(1,10):\n",
    "    for j in range(1,i + 1):\n",
    "        print('{} * {} = {}'.format(i,j,i*j),end=\" \")\n",
    "    print();"
   ]
  },
  {
   "cell_type": "code",
   "execution_count": 36,
   "metadata": {},
   "outputs": [
    {
     "data": {
      "text/plain": [
       "'姓名：张三 年龄：18'"
      ]
     },
     "execution_count": 36,
     "metadata": {},
     "output_type": "execute_result"
    }
   ],
   "source": [
    "\"姓名：{} 年龄：{}\".format('张三',18)"
   ]
  },
  {
   "cell_type": "code",
   "execution_count": 37,
   "metadata": {},
   "outputs": [
    {
     "name": "stdout",
     "output_type": "stream",
     "text": [
      "2 3 5 7 11 13 17 19 23 29 31 37 41 43 47 53 59 61 67 71 73 79 83 89 97 "
     ]
    }
   ],
   "source": [
    "#100以内的所有素数\n",
    "for n in range(2,101):\n",
    "    flag=1\n",
    "    for i in range(2,n):\n",
    "        if(n%i==0):\n",
    "            flag=0\n",
    "            break\n",
    "    if flag==1:\n",
    "        print(n,end=' ')\n",
    "    "
   ]
  },
  {
   "cell_type": "markdown",
   "metadata": {},
   "source": [
    "### 4.2.5 循环流程的改变 contine break "
   ]
  },
  {
   "cell_type": "code",
   "execution_count": 39,
   "metadata": {},
   "outputs": [
    {
     "name": "stdout",
     "output_type": "stream",
     "text": [
      "s= 30\n"
     ]
    }
   ],
   "source": [
    "s=0\n",
    "for i in range(11):\n",
    "    if i % 2 ==1:\n",
    "        continue #进入下一轮\n",
    "    s+=i\n",
    "print('s=',s)"
   ]
  },
  {
   "cell_type": "code",
   "execution_count": 40,
   "metadata": {},
   "outputs": [
    {
     "name": "stdout",
     "output_type": "stream",
     "text": [
      "s= 0\n"
     ]
    }
   ],
   "source": [
    "s=0\n",
    "for i in range(11):\n",
    "    if i % 2 ==1:\n",
    "        break #循环结束\n",
    "    s+=i\n",
    "print('s=',s)"
   ]
  },
  {
   "cell_type": "code",
   "execution_count": 43,
   "metadata": {},
   "outputs": [
    {
     "name": "stdout",
     "output_type": "stream",
     "text": [
      "s= 10\n"
     ]
    }
   ],
   "source": [
    "s=0\n",
    "for i in range(1,11):\n",
    "    if i==5:\n",
    "        break #循环结束\n",
    "    s+=i\n",
    "print('s=',s)"
   ]
  },
  {
   "cell_type": "code",
   "execution_count": 44,
   "metadata": {},
   "outputs": [
    {
     "name": "stdout",
     "output_type": "stream",
     "text": [
      "s= 50\n"
     ]
    }
   ],
   "source": [
    "s=0\n",
    "for i in range(1,11):\n",
    "    if i==5:\n",
    "        continue #循环结束\n",
    "    s+=i\n",
    "print('s=',s)"
   ]
  },
  {
   "cell_type": "markdown",
   "metadata": {},
   "source": [
    "### continue break 应用 "
   ]
  },
  {
   "cell_type": "code",
   "execution_count": 1,
   "metadata": {},
   "outputs": [
    {
     "name": "stdout",
     "output_type": "stream",
     "text": [
      "*****"
     ]
    }
   ],
   "source": [
    "for i in range(1,6):\n",
    "    print('*',end='')"
   ]
  },
  {
   "cell_type": "code",
   "execution_count": 3,
   "metadata": {},
   "outputs": [
    {
     "name": "stdout",
     "output_type": "stream",
     "text": [
      "* * * * * \n",
      "* * * * * \n",
      "* * * * * \n",
      "* * * * * \n"
     ]
    }
   ],
   "source": [
    "for i in range(1,5):\n",
    "    for i in range(1,6): \n",
    "        print('*',end=' ')\n",
    "    print()"
   ]
  },
  {
   "cell_type": "code",
   "execution_count": 5,
   "metadata": {},
   "outputs": [
    {
     "name": "stdout",
     "output_type": "stream",
     "text": [
      "* * * * * \n",
      "* * * \n",
      "* * * * * \n",
      "* * * * * \n"
     ]
    }
   ],
   "source": [
    "for i in range(1,5):\n",
    "    for j in range(1,6): \n",
    "        if i==2 and j==4:\n",
    "            break\n",
    "        print('*',end=' ')\n",
    "    print()"
   ]
  },
  {
   "cell_type": "code",
   "execution_count": 6,
   "metadata": {},
   "outputs": [
    {
     "name": "stdout",
     "output_type": "stream",
     "text": [
      "* * * * * \n",
      "\n",
      "* * * * * \n",
      "* * * * * \n"
     ]
    }
   ],
   "source": [
    "for i in range(1,5):\n",
    "    for j in range(1,6): \n",
    "        if i==2 and j==1:\n",
    "            break\n",
    "        print('*',end=' ')\n",
    "    print()"
   ]
  },
  {
   "cell_type": "code",
   "execution_count": 7,
   "metadata": {},
   "outputs": [
    {
     "name": "stdout",
     "output_type": "stream",
     "text": [
      "* * * * * \n",
      "\n",
      "* * * * * \n",
      "* * * * * \n"
     ]
    }
   ],
   "source": [
    "for i in range(1,5):\n",
    "    if i==2:\n",
    "        print()\n",
    "        continue\n",
    "    for j in range(1,6): \n",
    "        print('*',end=' ')\n",
    "    print()"
   ]
  },
  {
   "cell_type": "code",
   "execution_count": 8,
   "metadata": {},
   "outputs": [
    {
     "name": "stdout",
     "output_type": "stream",
     "text": [
      "* * * * * \n"
     ]
    }
   ],
   "source": [
    "for i in range(1,5):\n",
    "    if i==2:\n",
    "        break\n",
    "    for j in range(1,6): \n",
    "        print('*',end=' ')\n",
    "    print()"
   ]
  },
  {
   "cell_type": "markdown",
   "metadata": {},
   "source": [
    "### 3.4.1 创建元组"
   ]
  },
  {
   "cell_type": "code",
   "execution_count": 9,
   "metadata": {},
   "outputs": [
    {
     "name": "stdout",
     "output_type": "stream",
     "text": [
      "()\n",
      "<class 'tuple'>\n"
     ]
    }
   ],
   "source": [
    "tup=() #手工空元祖\n",
    "print(tup)\n",
    "print(type(tup))"
   ]
  },
  {
   "cell_type": "code",
   "execution_count": 10,
   "metadata": {},
   "outputs": [
    {
     "data": {
      "text/plain": [
       "()"
      ]
     },
     "execution_count": 10,
     "metadata": {},
     "output_type": "execute_result"
    }
   ],
   "source": [
    "tup=tuple()#调用空元组函数\n",
    "tup"
   ]
  },
  {
   "cell_type": "code",
   "execution_count": 11,
   "metadata": {},
   "outputs": [
    {
     "name": "stdout",
     "output_type": "stream",
     "text": [
      "(1, 2, 3)\n",
      "<class 'tuple'>\n"
     ]
    }
   ],
   "source": [
    "tup1=(1,2,3)\n",
    "print(tup1)\n",
    "print(type(tup1))"
   ]
  },
  {
   "cell_type": "code",
   "execution_count": 13,
   "metadata": {},
   "outputs": [
    {
     "name": "stdout",
     "output_type": "stream",
     "text": [
      "(4, 5, 6)\n",
      "<class 'tuple'>\n"
     ]
    }
   ],
   "source": [
    "tup2=4,5,6 #当元素个数超过两个时 小括号可省略 不推荐\n",
    "print(tup2)\n",
    "print(type(tup2))"
   ]
  },
  {
   "cell_type": "code",
   "execution_count": 14,
   "metadata": {},
   "outputs": [
    {
     "name": "stdout",
     "output_type": "stream",
     "text": [
      "(3,)\n",
      "<class 'tuple'>\n"
     ]
    }
   ],
   "source": [
    "tup=(3,)#当元组仅一个元素时 应加个逗号 (元素,) 与整形区别\n",
    "print(tup)\n",
    "print(type(tup))"
   ]
  },
  {
   "cell_type": "code",
   "execution_count": 15,
   "metadata": {},
   "outputs": [
    {
     "name": "stdout",
     "output_type": "stream",
     "text": [
      "('hello', 2021)\n",
      "<class 'tuple'>\n"
     ]
    }
   ],
   "source": [
    "#列表与元组的相互转换\n",
    "ls=['hello',2021]\n",
    "tup=(1,2,3)\n",
    "tup2=tuple(ls)#列表ls转换成了元组tup2\n",
    "print(tup2)\n",
    "print(type(tup2))"
   ]
  },
  {
   "cell_type": "code",
   "execution_count": 16,
   "metadata": {},
   "outputs": [
    {
     "name": "stdout",
     "output_type": "stream",
     "text": [
      "[1, 2, 3, 4]\n",
      "<class 'list'>\n"
     ]
    }
   ],
   "source": [
    "a=(1,2,3,4)#元组\n",
    "ls=list(a)#元组a转换成了列表ls\n",
    "print(ls)\n",
    "print(type(ls))"
   ]
  },
  {
   "cell_type": "markdown",
   "metadata": {},
   "source": [
    "### 3.4.2 访问元组的元素"
   ]
  },
  {
   "cell_type": "code",
   "execution_count": 17,
   "metadata": {},
   "outputs": [
    {
     "name": "stdout",
     "output_type": "stream",
     "text": [
      "3\n",
      "2\n"
     ]
    }
   ],
   "source": [
    "a=(5,8,3,2)\n",
    "#单个元素访问：元组名[下标]\n",
    "print(a[2])\n",
    "print(a[-1])"
   ]
  },
  {
   "cell_type": "code",
   "execution_count": 25,
   "metadata": {},
   "outputs": [
    {
     "name": "stdout",
     "output_type": "stream",
     "text": [
      "('Baidu', 'Huawei', 2021, [1, 2, 3, 4])\n",
      "Huawei\n",
      "('Huawei', 2021)\n",
      "[1, 2, 3, 4]\n"
     ]
    },
    {
     "data": {
      "text/plain": [
       "4"
      ]
     },
     "execution_count": 25,
     "metadata": {},
     "output_type": "execute_result"
    }
   ],
   "source": [
    "tup1=('Baidu','Huawei',2021,[1,2,3,4])#不同元素类型\n",
    "print(tup1)\n",
    "print(tup1[1])\n",
    "print(tup1[1:3])#切片\n",
    "print(tup1[-1])\n",
    "len(tup1) #求长度函数"
   ]
  },
  {
   "cell_type": "markdown",
   "metadata": {},
   "source": [
    "### 3.4.3 元组运算符"
   ]
  },
  {
   "cell_type": "code",
   "execution_count": 27,
   "metadata": {},
   "outputs": [
    {
     "data": {
      "text/plain": [
       "(1, 2, 3, 4, 5, 6, 7)"
      ]
     },
     "execution_count": 27,
     "metadata": {},
     "output_type": "execute_result"
    }
   ],
   "source": [
    "#链接\n",
    "tup1=(1,2,3)\n",
    "tup2=(4,5,6,7)\n",
    "tup3=tup1+tup2\n",
    "tup3"
   ]
  },
  {
   "cell_type": "code",
   "execution_count": 31,
   "metadata": {},
   "outputs": [
    {
     "data": {
      "text/plain": [
       "'hello hello hello hello hello '"
      ]
     },
     "execution_count": 31,
     "metadata": {},
     "output_type": "execute_result"
    }
   ],
   "source": [
    "#重复 *\n",
    "'hello ' *5"
   ]
  },
  {
   "cell_type": "code",
   "execution_count": 32,
   "metadata": {},
   "outputs": [
    {
     "data": {
      "text/plain": [
       "('hello', 'hello', 'hello', 'hello', 'hello')"
      ]
     },
     "execution_count": 32,
     "metadata": {},
     "output_type": "execute_result"
    }
   ],
   "source": [
    "('hello',) *5"
   ]
  },
  {
   "cell_type": "code",
   "execution_count": 34,
   "metadata": {},
   "outputs": [
    {
     "data": {
      "text/plain": [
       "True"
      ]
     },
     "execution_count": 34,
     "metadata": {},
     "output_type": "execute_result"
    }
   ],
   "source": [
    "#in 运算符 /not in\n",
    "7 not in (1,2,3,4,5)"
   ]
  },
  {
   "cell_type": "code",
   "execution_count": 35,
   "metadata": {},
   "outputs": [
    {
     "name": "stdout",
     "output_type": "stream",
     "text": [
      "hello\n",
      "hello\n",
      "hello\n",
      "hello\n"
     ]
    }
   ],
   "source": [
    "#遍历元组\n",
    "for x in (1,2,5,8):\n",
    "    print('hello')"
   ]
  },
  {
   "cell_type": "markdown",
   "metadata": {},
   "source": [
    "### 3.4.4 生成器 "
   ]
  },
  {
   "cell_type": "code",
   "execution_count": 36,
   "metadata": {},
   "outputs": [
    {
     "name": "stdout",
     "output_type": "stream",
     "text": [
      "[0, 2, 4, 6, 8]\n"
     ]
    }
   ],
   "source": [
    "#列表\n",
    "#手工[1,2,3]\n",
    "#list((1,2,3,4,5))\n",
    "#range(1,101) 对象 list(range(1,101))\n",
    "#列表的推导式\n",
    "a=[x*2 for x in range(5)] #x:[0,1,2,3,4] x*2:[0,2,4,6,8]\n",
    "print(a)"
   ]
  },
  {
   "cell_type": "code",
   "execution_count": 42,
   "metadata": {},
   "outputs": [
    {
     "name": "stdout",
     "output_type": "stream",
     "text": [
      "[3, 6, 9, 12]\n"
     ]
    }
   ],
   "source": [
    "#元组的生成器\n",
    "b=(x*3 for x in range(1,5)) #b是对象\n",
    "print(list(b)) #列表形式"
   ]
  },
  {
   "cell_type": "code",
   "execution_count": 43,
   "metadata": {},
   "outputs": [
    {
     "name": "stdout",
     "output_type": "stream",
     "text": [
      "(3, 6, 9, 12)\n"
     ]
    }
   ],
   "source": [
    "b=(x*3 for x in range(1,5)) #b是对象\n",
    "print(tuple(b)) #元组形式"
   ]
  },
  {
   "cell_type": "code",
   "execution_count": 45,
   "metadata": {},
   "outputs": [
    {
     "name": "stdout",
     "output_type": "stream",
     "text": [
      "(1, 2, 3, 4, 5)\n"
     ]
    }
   ],
   "source": [
    "#元组中的元素不能改变\n",
    "a=(1,2,3)\n",
    "b=(4,5)\n",
    "c=a+b\n",
    "print(c)"
   ]
  },
  {
   "cell_type": "markdown",
   "metadata": {},
   "source": [
    "# 六 函数 "
   ]
  },
  {
   "cell_type": "markdown",
   "metadata": {},
   "source": [
    "## 6.1 函数的定义和调用 "
   ]
  },
  {
   "cell_type": "markdown",
   "metadata": {},
   "source": [
    "### 6.1.1 无参函数调用"
   ]
  },
  {
   "cell_type": "code",
   "execution_count": 50,
   "metadata": {},
   "outputs": [],
   "source": [
    "#九九乘法表的函数\n",
    "def print99():\n",
    "    for i in range(1,10):\n",
    "        for j in range(1,i+1):\n",
    "            print(\"{}*{}={}\".format(i,j,i*j),end='\\t')\n",
    "        print()\n",
    "#把一个完整的功能单元抽象为函数"
   ]
  },
  {
   "cell_type": "code",
   "execution_count": 52,
   "metadata": {},
   "outputs": [
    {
     "name": "stdout",
     "output_type": "stream",
     "text": [
      "1*1=1\t\n",
      "2*1=2\t2*2=4\t\n",
      "3*1=3\t3*2=6\t3*3=9\t\n",
      "4*1=4\t4*2=8\t4*3=12\t4*4=16\t\n",
      "5*1=5\t5*2=10\t5*3=15\t5*4=20\t5*5=25\t\n",
      "6*1=6\t6*2=12\t6*3=18\t6*4=24\t6*5=30\t6*6=36\t\n",
      "7*1=7\t7*2=14\t7*3=21\t7*4=28\t7*5=35\t7*6=42\t7*7=49\t\n",
      "8*1=8\t8*2=16\t8*3=24\t8*4=32\t8*5=40\t8*6=48\t8*7=56\t8*8=64\t\n",
      "9*1=9\t9*2=18\t9*3=27\t9*4=36\t9*5=45\t9*6=54\t9*7=63\t9*8=72\t9*9=81\t\n"
     ]
    }
   ],
   "source": [
    "print99() #函数调用"
   ]
  },
  {
   "cell_type": "markdown",
   "metadata": {},
   "source": [
    "### 6.1.2 带参函数定义调用"
   ]
  },
  {
   "cell_type": "code",
   "execution_count": 2,
   "metadata": {},
   "outputs": [],
   "source": [
    "#带参数的函数定义和调用\n",
    "def print_welcome(name):\n",
    "    print('Welcome',name)"
   ]
  },
  {
   "cell_type": "code",
   "execution_count": 3,
   "metadata": {
    "scrolled": true
   },
   "outputs": [
    {
     "name": "stdout",
     "output_type": "stream",
     "text": [
      "Welcome xx\n"
     ]
    }
   ],
   "source": [
    "print_welcome(\"xx\")"
   ]
  },
  {
   "cell_type": "markdown",
   "metadata": {},
   "source": [
    "### 6.1.3 带返回值的函数 "
   ]
  },
  {
   "cell_type": "code",
   "execution_count": 57,
   "metadata": {},
   "outputs": [],
   "source": [
    "#定义1+2+3+...+n的函数\n",
    "def add(n):\n",
    "    s=0\n",
    "    for i in range(1,n+1):\n",
    "        s+=i\n",
    "    return s #返回值"
   ]
  },
  {
   "cell_type": "code",
   "execution_count": 58,
   "metadata": {},
   "outputs": [
    {
     "name": "stdout",
     "output_type": "stream",
     "text": [
      "5050\n"
     ]
    }
   ],
   "source": [
    "print(add(100))"
   ]
  },
  {
   "cell_type": "code",
   "execution_count": 65,
   "metadata": {},
   "outputs": [],
   "source": [
    "#定义阶乘的函数\n",
    "def JC(n):\n",
    "    s=1\n",
    "    for i in range(1,n+1):\n",
    "        s*=i\n",
    "    return s #返回值"
   ]
  },
  {
   "cell_type": "code",
   "execution_count": 66,
   "metadata": {},
   "outputs": [
    {
     "name": "stdout",
     "output_type": "stream",
     "text": [
      "120\n"
     ]
    }
   ],
   "source": [
    "print(JC(5))"
   ]
  },
  {
   "cell_type": "code",
   "execution_count": 74,
   "metadata": {},
   "outputs": [],
   "source": [
    "#斐波那契数列\n",
    "def FB(num):\n",
    "    if num<1:\n",
    "        return -1\n",
    "    if num==1 or num==2:\n",
    "        return 1\n",
    "    ls=[1,1]\n",
    "    for i in range(2,num):\n",
    "        ls.append(ls[i-2]+ls[i-1])\n",
    "    return ls"
   ]
  },
  {
   "cell_type": "code",
   "execution_count": 77,
   "metadata": {},
   "outputs": [
    {
     "name": "stdout",
     "output_type": "stream",
     "text": [
      "[1, 1, 2, 3, 5, 8, 13, 21, 34, 55, 89, 144, 233, 377, 610, 987, 1597, 2584, 4181, 6765, 10946, 17711, 28657, 46368, 75025, 121393, 196418, 317811, 514229, 832040, 1346269, 2178309, 3524578, 5702887, 9227465, 14930352, 24157817, 39088169, 63245986, 102334155, 165580141, 267914296, 433494437, 701408733, 1134903170, 1836311903, 2971215073, 4807526976, 7778742049, 12586269025, 20365011074]\n"
     ]
    }
   ],
   "source": [
    "print(FB(50))"
   ]
  },
  {
   "cell_type": "markdown",
   "metadata": {},
   "source": [
    "###  6.1.4 含默认参数的函数"
   ]
  },
  {
   "cell_type": "code",
   "execution_count": 84,
   "metadata": {},
   "outputs": [],
   "source": [
    "def print_info(name,age=20,clas='软件38'):#默认参数要放在所有非默认的后面\n",
    "    print('姓名:',name)\n",
    "    print('年龄:',age)\n",
    "    print('班级:',clas)"
   ]
  },
  {
   "cell_type": "code",
   "execution_count": 85,
   "metadata": {},
   "outputs": [
    {
     "name": "stdout",
     "output_type": "stream",
     "text": [
      "姓名: 张三\n",
      "年龄: 20\n",
      "班级: 软件38\n",
      "姓名: 李四\n",
      "年龄: 11\n",
      "班级: 18\n"
     ]
    }
   ],
   "source": [
    "print_info('张三')\n",
    "print_info('李四',11,'18')#若参数位置与定义位置不符时 要写全参数名"
   ]
  },
  {
   "cell_type": "code",
   "execution_count": 86,
   "metadata": {},
   "outputs": [
    {
     "data": {
      "text/plain": [
       "12"
      ]
     },
     "execution_count": 86,
     "metadata": {},
     "output_type": "execute_result"
    }
   ],
   "source": [
    "def area(w,h):\n",
    "    return w*h\n",
    "area(3,4)"
   ]
  },
  {
   "cell_type": "markdown",
   "metadata": {},
   "source": [
    "### 6.1.5可变参数函数定义 "
   ]
  },
  {
   "cell_type": "code",
   "execution_count": 97,
   "metadata": {},
   "outputs": [],
   "source": [
    "def fun(lst):#参数为列表\n",
    "    #lst.append([1,2,3,4])\n",
    "    lst.extend([1,2,3,4])\n",
    "    print('函数内的列表：',lst)"
   ]
  },
  {
   "cell_type": "code",
   "execution_count": null,
   "metadata": {},
   "outputs": [],
   "source": [
    "## mylst=[10,20,30]\n",
    "fun(mylst)\n",
    "print('函数外的列表：',mylst)"
   ]
  },
  {
   "cell_type": "markdown",
   "metadata": {},
   "source": [
    "## 6.2 变量的作用域 "
   ]
  },
  {
   "cell_type": "code",
   "execution_count": 87,
   "metadata": {},
   "outputs": [],
   "source": [
    "a=2  #全局\n",
    "def change():\n",
    "    a=10 #局部\n",
    "    print('a=',a)"
   ]
  },
  {
   "cell_type": "code",
   "execution_count": 90,
   "metadata": {},
   "outputs": [
    {
     "name": "stdout",
     "output_type": "stream",
     "text": [
      "a= 10\n",
      "a= 2\n"
     ]
    }
   ],
   "source": [
    "change()\n",
    "print('a=',a)"
   ]
  },
  {
   "cell_type": "code",
   "execution_count": 91,
   "metadata": {},
   "outputs": [],
   "source": [
    "a=2  #全局\n",
    "def change():\n",
    "    global a #强制全局\n",
    "    a=10 \n",
    "    print('a=',a)"
   ]
  },
  {
   "cell_type": "code",
   "execution_count": 92,
   "metadata": {},
   "outputs": [
    {
     "name": "stdout",
     "output_type": "stream",
     "text": [
      "a= 10\n",
      "a= 10\n"
     ]
    }
   ],
   "source": [
    "change()\n",
    "print('a=',a)"
   ]
  },
  {
   "cell_type": "markdown",
   "metadata": {},
   "source": [
    "## 6.3 lambda函数 "
   ]
  },
  {
   "cell_type": "code",
   "execution_count": 99,
   "metadata": {},
   "outputs": [
    {
     "data": {
      "text/plain": [
       "7"
      ]
     },
     "execution_count": 99,
     "metadata": {},
     "output_type": "execute_result"
    }
   ],
   "source": [
    "def add(x,y): #函数定义\n",
    "    return x+y\n",
    "add(3,4)"
   ]
  },
  {
   "cell_type": "code",
   "execution_count": 100,
   "metadata": {},
   "outputs": [
    {
     "data": {
      "text/plain": [
       "11"
      ]
     },
     "execution_count": 100,
     "metadata": {},
     "output_type": "execute_result"
    }
   ],
   "source": [
    "p=lambda x,y:x+y\n",
    "p(4,7)"
   ]
  },
  {
   "cell_type": "code",
   "execution_count": 3,
   "metadata": {
    "scrolled": true
   },
   "outputs": [
    {
     "name": "stdout",
     "output_type": "stream",
     "text": [
      "[6, 8, 10, 12]\n"
     ]
    }
   ],
   "source": [
    "f=map(lambda x,y:x+y,[1,2,3,4],[5,6,7,8])\n",
    "print(list(f))"
   ]
  },
  {
   "cell_type": "code",
   "execution_count": 7,
   "metadata": {},
   "outputs": [],
   "source": [
    "def fun(x):\n",
    "    return x<60"
   ]
  },
  {
   "cell_type": "code",
   "execution_count": 5,
   "metadata": {},
   "outputs": [
    {
     "name": "stdout",
     "output_type": "stream",
     "text": [
      "[57, 45]\n"
     ]
    }
   ],
   "source": [
    "#filter\n",
    "f=filter(lambda x:x<60 ,[68,93,89,57,79,45])\n",
    "print(list(f))"
   ]
  },
  {
   "cell_type": "code",
   "execution_count": 8,
   "metadata": {},
   "outputs": [
    {
     "name": "stdout",
     "output_type": "stream",
     "text": [
      "[57, 45]\n"
     ]
    }
   ],
   "source": [
    "f=filter(fun ,[68,93,89,57,79,45])\n",
    "print(list(f))"
   ]
  },
  {
   "cell_type": "code",
   "execution_count": 9,
   "metadata": {},
   "outputs": [
    {
     "name": "stdout",
     "output_type": "stream",
     "text": [
      "15\n"
     ]
    }
   ],
   "source": [
    "#reduce 元素累计相加 第三元素初始值\n",
    "from functools import reduce\n",
    "s=reduce(lambda x,y:x+y,[1,2,3,4,5])\n",
    "print(s)"
   ]
  },
  {
   "cell_type": "code",
   "execution_count": 11,
   "metadata": {},
   "outputs": [
    {
     "name": "stdout",
     "output_type": "stream",
     "text": [
      "5050\n"
     ]
    }
   ],
   "source": [
    "print(reduce(lambda x,y:x+y,range(1,101)))"
   ]
  },
  {
   "cell_type": "code",
   "execution_count": 12,
   "metadata": {},
   "outputs": [
    {
     "name": "stdout",
     "output_type": "stream",
     "text": [
      "3628800\n"
     ]
    }
   ],
   "source": [
    "print(reduce(lambda x,y:x*y,range(1,11)))"
   ]
  },
  {
   "cell_type": "markdown",
   "metadata": {},
   "source": [
    "# 七 面向对象"
   ]
  },
  {
   "cell_type": "markdown",
   "metadata": {},
   "source": [
    "## 7.1 类及对象 "
   ]
  },
  {
   "cell_type": "code",
   "execution_count": 13,
   "metadata": {},
   "outputs": [],
   "source": [
    "#类定义\n",
    "class Myclass:\n",
    "    i = 1234   #属性\n",
    "    def fun(self):   #方法\n",
    "        return 'Hello world.'"
   ]
  },
  {
   "cell_type": "code",
   "execution_count": 14,
   "metadata": {},
   "outputs": [],
   "source": [
    "obj=Myclass() #创建实例化对象"
   ]
  },
  {
   "cell_type": "code",
   "execution_count": 19,
   "metadata": {},
   "outputs": [
    {
     "name": "stdout",
     "output_type": "stream",
     "text": [
      "1234\n"
     ]
    }
   ],
   "source": [
    "print(obj.i) #通过对象来访问对象的属性 对象名.属性名"
   ]
  },
  {
   "cell_type": "code",
   "execution_count": 22,
   "metadata": {},
   "outputs": [
    {
     "name": "stdout",
     "output_type": "stream",
     "text": [
      "Hello world.\n",
      "类MyClass的方法fun None\n"
     ]
    }
   ],
   "source": [
    "print('类MyClass的方法fun',obj.fun())"
   ]
  },
  {
   "cell_type": "code",
   "execution_count": 24,
   "metadata": {},
   "outputs": [
    {
     "name": "stdout",
     "output_type": "stream",
     "text": [
      "泰迪\n",
      "I am eating\n"
     ]
    }
   ],
   "source": [
    "class Dog:\n",
    "    name='泰迪'\n",
    "    def eat(self):\n",
    "        print('I am eating')\n",
    "d = Dog()\n",
    "print(d.name)\n",
    "d.eat()"
   ]
  },
  {
   "cell_type": "markdown",
   "metadata": {},
   "source": [
    "## 7.2 构造方法 "
   ]
  },
  {
   "cell_type": "code",
   "execution_count": 38,
   "metadata": {},
   "outputs": [],
   "source": [
    "import math\n",
    "class Circle:\n",
    "    def __init__(self,r):  #构造方法\n",
    "        self.r=r\n",
    "    def area(self):\n",
    "        return self.r*self.r*math.pi\n",
    "    def perimeter(self):\n",
    "        return 2*math.pi*self.r"
   ]
  },
  {
   "cell_type": "code",
   "execution_count": 45,
   "metadata": {},
   "outputs": [
    {
     "name": "stdout",
     "output_type": "stream",
     "text": [
      "面积为：314.159\n",
      "周长为：62.832\n"
     ]
    }
   ],
   "source": [
    "c1=Circle(10) #间接调用\n",
    "print('面积为：{:.3f}'.format(c1.area()))\n",
    "print('周长为：%.3f' % (c1.perimeter()))"
   ]
  },
  {
   "cell_type": "code",
   "execution_count": 47,
   "metadata": {},
   "outputs": [],
   "source": [
    "class Dog:\n",
    "    def __init__(self,name,age,color):\n",
    "        self.name=name\n",
    "        self.age=age\n",
    "        self.color=color\n",
    "    def speak(self):\n",
    "        print(\"Hi，我是{}的{},今年{}岁了\".format(self.color,self.name,self.age))\n",
    "    def eat(self):\n",
    "        print(\"I am eating\")\n",
    "    def run(self):\n",
    "        print(\"I am running\")\n",
    "    def add(self,x,y):\n",
    "        print('{}+{}={}'.format(x,y,x+y))"
   ]
  },
  {
   "cell_type": "code",
   "execution_count": 50,
   "metadata": {},
   "outputs": [
    {
     "name": "stdout",
     "output_type": "stream",
     "text": [
      "Hi，我是屎黄的昱昱,今年2岁了\n",
      "I am eating\n",
      "I am running\n",
      "2+3=5\n"
     ]
    }
   ],
   "source": [
    "d1=Dog('昱昱',2,'屎黄')\n",
    "d1.speak()\n",
    "d1.eat()\n",
    "d1.run()\n",
    "d1.add(2,3)"
   ]
  },
  {
   "cell_type": "markdown",
   "metadata": {},
   "source": [
    "## 7.3 类的变量和实例变量 "
   ]
  },
  {
   "cell_type": "code",
   "execution_count": 54,
   "metadata": {},
   "outputs": [],
   "source": [
    "#定义矩形类\n",
    "class Rect:\n",
    "    cut = 0  #类变量\n",
    "    def __init__(self,height,width):\n",
    "        self.height=height  #实例变量\n",
    "        self.width=width\n",
    "        Rect.cut+=1\n",
    "        print('第{}个矩形'.format(Rect.cut))\n",
    "    def area(self):\n",
    "        return self.height*self.width\n",
    "    def perimeter(self):\n",
    "        return 2*(self.height+self.width)"
   ]
  },
  {
   "cell_type": "code",
   "execution_count": 55,
   "metadata": {},
   "outputs": [
    {
     "name": "stdout",
     "output_type": "stream",
     "text": [
      "第1个矩形\n"
     ]
    }
   ],
   "source": [
    "r1 = Rect(2,3)"
   ]
  },
  {
   "cell_type": "code",
   "execution_count": 60,
   "metadata": {},
   "outputs": [
    {
     "name": "stdout",
     "output_type": "stream",
     "text": [
      "第3个矩形\n"
     ]
    }
   ],
   "source": [
    "r2 = Rect(3,4)"
   ]
  },
  {
   "cell_type": "code",
   "execution_count": 58,
   "metadata": {},
   "outputs": [
    {
     "name": "stdout",
     "output_type": "stream",
     "text": [
      "2\n",
      "2\n"
     ]
    }
   ],
   "source": [
    "#类变量既可以通过 类名.变量名 也可以 对象.变量名\n",
    "print(Rect.cut)\n",
    "print(r1.cut)"
   ]
  },
  {
   "cell_type": "code",
   "execution_count": 63,
   "metadata": {},
   "outputs": [
    {
     "name": "stdout",
     "output_type": "stream",
     "text": [
      "4\n",
      "3\n"
     ]
    }
   ],
   "source": [
    "#访问类的实例变量 例如r1对象的宽和高\n",
    "print(r1.width)\n",
    "print(r2.height)"
   ]
  },
  {
   "cell_type": "code",
   "execution_count": 4,
   "metadata": {},
   "outputs": [],
   "source": [
    "#家庭类\n",
    "class Family:\n",
    "    total=10000 #类变量\n",
    "    def __init__(self,name):\n",
    "        self.name=name\n",
    "    def spend(self,n):\n",
    "        print(\"{}花了{}元\".format(self.name,n))\n",
    "        Family.total-=n\n",
    "    def earn(self,n):\n",
    "        print(\"{}赚了{}元\".format(self.name,n))\n",
    "        Family.total+=n\n",
    "    def show(self):\n",
    "        print(\"当前余额：{}\".format(Family.total))"
   ]
  },
  {
   "cell_type": "code",
   "execution_count": 5,
   "metadata": {},
   "outputs": [
    {
     "name": "stdout",
     "output_type": "stream",
     "text": [
      "张三花了100元\n",
      "周Y花了8888元\n",
      "当前余额：1012\n",
      "张三赚了2000元\n",
      "当前余额：3012\n"
     ]
    }
   ],
   "source": [
    "p1 = Family(\"张三\")\n",
    "p2 = Family(\"周Y\")\n",
    "p1.spend(100)\n",
    "p2.spend(8888)\n",
    "p1.show()\n",
    "p1.earn(2000)\n",
    "p1.show()"
   ]
  },
  {
   "cell_type": "markdown",
   "metadata": {},
   "source": [
    "## 7.4 私有属性变量访问 "
   ]
  },
  {
   "cell_type": "code",
   "execution_count": 14,
   "metadata": {},
   "outputs": [],
   "source": [
    "#家庭类\n",
    "class Family:\n",
    "    __total=10000 #类变量 加两个下划线变成私有变量\n",
    "    def __init__(self,name):\n",
    "        self.name=name\n",
    "    def spend(self,n):\n",
    "        print(\"{}花了{}元\".format(self.name,n))\n",
    "        Family.total-=n\n",
    "    def earn(self,n):\n",
    "        print(\"{}赚了{}元\".format(self.name,n))\n",
    "        Family.total+=n\n",
    "    def show(self):\n",
    "        print(\"当前余额：{}\".format(Family.total))"
   ]
  },
  {
   "cell_type": "code",
   "execution_count": 15,
   "metadata": {},
   "outputs": [
    {
     "ename": "AttributeError",
     "evalue": "'Family' object has no attribute 'total'",
     "output_type": "error",
     "traceback": [
      "\u001b[1;31m---------------------------------------------------------------------------\u001b[0m",
      "\u001b[1;31mAttributeError\u001b[0m                            Traceback (most recent call last)",
      "\u001b[1;32m<ipython-input-15-54f22b63848c>\u001b[0m in \u001b[0;36m<module>\u001b[1;34m\u001b[0m\n\u001b[0;32m      1\u001b[0m \u001b[0mp\u001b[0m \u001b[1;33m=\u001b[0m \u001b[0mFamily\u001b[0m\u001b[1;33m(\u001b[0m\u001b[1;34m\"张三\"\u001b[0m\u001b[1;33m)\u001b[0m\u001b[1;33m\u001b[0m\u001b[1;33m\u001b[0m\u001b[0m\n\u001b[1;32m----> 2\u001b[1;33m \u001b[0mp\u001b[0m\u001b[1;33m.\u001b[0m\u001b[0mtotal\u001b[0m\u001b[1;33m\u001b[0m\u001b[1;33m\u001b[0m\u001b[0m\n\u001b[0m",
      "\u001b[1;31mAttributeError\u001b[0m: 'Family' object has no attribute 'total'"
     ]
    }
   ],
   "source": [
    "p = Family(\"张三\")\n",
    "p.total  #私有变量在类外不能直接访问"
   ]
  },
  {
   "cell_type": "code",
   "execution_count": 23,
   "metadata": {},
   "outputs": [],
   "source": [
    "#间接访问类中的私有变量\n",
    "class Person:\n",
    "    def __init__(self,name,age,sc):\n",
    "        self.name=name\n",
    "        self.__age=age\n",
    "        self.__sc=sc\n",
    "    def speak(self):\n",
    "        print(\"我是{}\".format(self.name))\n",
    "    def getAge(self):\n",
    "        return self.__age\n",
    "    def setAge(self,newAge):\n",
    "        self.__age=newAge"
   ]
  },
  {
   "cell_type": "code",
   "execution_count": 25,
   "metadata": {},
   "outputs": [
    {
     "name": "stdout",
     "output_type": "stream",
     "text": [
      "我是张三\n"
     ]
    },
    {
     "data": {
      "text/plain": [
       "20"
      ]
     },
     "execution_count": 25,
     "metadata": {},
     "output_type": "execute_result"
    }
   ],
   "source": [
    "p = Person(\"张三\",19,87)\n",
    "p.speak()\n",
    "p.setAge(20)\n",
    "p.getAge()"
   ]
  },
  {
   "cell_type": "markdown",
   "metadata": {},
   "source": [
    "## 7.5 继承"
   ]
  },
  {
   "cell_type": "code",
   "execution_count": 41,
   "metadata": {},
   "outputs": [],
   "source": [
    "class Person:\n",
    "    def __init__(self,name,age):\n",
    "        self.name=name\n",
    "        self.age=age\n",
    "    def speak(self):\n",
    "        print('我是{}今年{}'.format(self.name,self.age))"
   ]
  },
  {
   "cell_type": "code",
   "execution_count": 30,
   "metadata": {},
   "outputs": [],
   "source": [
    "class Studnet(Person):\n",
    "    def __init__(self,name,age,grade):\n",
    "        Person.__init__(self,name,age) #调用父类的构造方法 进行初始化\n",
    "        self.grade=grade#子类新增实例变量"
   ]
  },
  {
   "cell_type": "code",
   "execution_count": 31,
   "metadata": {},
   "outputs": [
    {
     "name": "stdout",
     "output_type": "stream",
     "text": [
      "我是张三今年18\n"
     ]
    }
   ],
   "source": [
    "s1=Studnet(\"张三\",18,2)\n",
    "s1.speak()"
   ]
  },
  {
   "cell_type": "code",
   "execution_count": 50,
   "metadata": {},
   "outputs": [],
   "source": [
    "#方法的重写 override\n",
    "class Studnet(Person):\n",
    "    def __init__(self,name,age,grade):\n",
    "        Person.__init__(self,name,age)\n",
    "        self.grade=grade\n",
    "    def speak(self):\n",
    "        super().speak()\n",
    "        print('我是{}今年{}岁上{}年纪了'.format(self.name,self.age,self.grade))"
   ]
  },
  {
   "cell_type": "code",
   "execution_count": 51,
   "metadata": {},
   "outputs": [
    {
     "name": "stdout",
     "output_type": "stream",
     "text": [
      "我是李四今年20\n",
      "我是李四今年20岁上4年纪了\n"
     ]
    }
   ],
   "source": [
    "s2 = Studnet('李四',20,4)\n",
    "s2.speak()"
   ]
  },
  {
   "cell_type": "markdown",
   "metadata": {},
   "source": [
    "## 7.6 运算符重载"
   ]
  },
  {
   "cell_type": "code",
   "execution_count": 1,
   "metadata": {},
   "outputs": [],
   "source": [
    "class Vector():\n",
    "    def __init__(self,a,b):\n",
    "        self.a=a\n",
    "        self.b=b"
   ]
  },
  {
   "cell_type": "code",
   "execution_count": 3,
   "metadata": {},
   "outputs": [],
   "source": [
    "#创建对象\n",
    "v1=Vector(2,3)\n",
    "v2=Vector(4,5)"
   ]
  },
  {
   "cell_type": "code",
   "execution_count": 4,
   "metadata": {},
   "outputs": [
    {
     "name": "stdout",
     "output_type": "stream",
     "text": [
      "<__main__.Vector object at 0x00000239CB924EE0> <__main__.Vector object at 0x00000239CB924BE0>\n"
     ]
    }
   ],
   "source": [
    "print(v1,v2)"
   ]
  },
  {
   "cell_type": "code",
   "execution_count": 5,
   "metadata": {},
   "outputs": [
    {
     "ename": "TypeError",
     "evalue": "unsupported operand type(s) for +: 'Vector' and 'Vector'",
     "output_type": "error",
     "traceback": [
      "\u001b[1;31m---------------------------------------------------------------------------\u001b[0m",
      "\u001b[1;31mTypeError\u001b[0m                                 Traceback (most recent call last)",
      "\u001b[1;32m<ipython-input-5-d5c43dac28db>\u001b[0m in \u001b[0;36m<module>\u001b[1;34m\u001b[0m\n\u001b[1;32m----> 1\u001b[1;33m \u001b[0mv1\u001b[0m\u001b[1;33m+\u001b[0m\u001b[0mv2\u001b[0m\u001b[1;33m\u001b[0m\u001b[1;33m\u001b[0m\u001b[0m\n\u001b[0m",
      "\u001b[1;31mTypeError\u001b[0m: unsupported operand type(s) for +: 'Vector' and 'Vector'"
     ]
    }
   ],
   "source": [
    "v1+v2"
   ]
  },
  {
   "cell_type": "code",
   "execution_count": null,
   "metadata": {},
   "outputs": [],
   "source": [
    "## class Vector():\n",
    "    def __init__(self,a,b):\n",
    "        self.a=a\n",
    "        self.b=b\n",
    "    def __add__(self,other):\n",
    "        return Vector(self.a+other.a,self.b+other.b)\n",
    "    def __str__(self):  #对象的呈现形式 等同于.toString\n",
    "        return 'Vect({},{})'.format(self.a,self.b)\n",
    "    def __sub__(self,other):\n",
    "        return Vector(self.a-other.a,self.b-other.b)"
   ]
  },
  {
   "cell_type": "code",
   "execution_count": 14,
   "metadata": {},
   "outputs": [],
   "source": [
    "v1=Vector(1,2)\n",
    "v2=Vector(3,4)"
   ]
  },
  {
   "cell_type": "code",
   "execution_count": 11,
   "metadata": {
    "scrolled": true
   },
   "outputs": [
    {
     "name": "stdout",
     "output_type": "stream",
     "text": [
      "Vect(4,6)\n"
     ]
    }
   ],
   "source": [
    "print(v1+v2)"
   ]
  },
  {
   "cell_type": "code",
   "execution_count": 15,
   "metadata": {},
   "outputs": [
    {
     "name": "stdout",
     "output_type": "stream",
     "text": [
      "Vect(-2,-2)\n"
     ]
    }
   ],
   "source": [
    "print(v1-v2)"
   ]
  },
  {
   "cell_type": "markdown",
   "metadata": {},
   "source": [
    "## 补充字典"
   ]
  },
  {
   "cell_type": "code",
   "execution_count": 31,
   "metadata": {},
   "outputs": [],
   "source": [
    "#d={key1:value1,key2:value2,.....}\n",
    "d={'Name':'张三','Age':18,'Sex':'男'}"
   ]
  },
  {
   "cell_type": "code",
   "execution_count": 17,
   "metadata": {},
   "outputs": [
    {
     "name": "stdout",
     "output_type": "stream",
     "text": [
      "{'Name': '张三', 'Age': 18, 'Sex': '男'}\n"
     ]
    }
   ],
   "source": [
    "print(d)"
   ]
  },
  {
   "cell_type": "code",
   "execution_count": 22,
   "metadata": {},
   "outputs": [],
   "source": [
    "#删除\n",
    "del d['Sex']\n",
    "print(d)"
   ]
  },
  {
   "cell_type": "code",
   "execution_count": 25,
   "metadata": {},
   "outputs": [],
   "source": [
    "#修改/增加\n",
    "d['Score']=98\n",
    "d['性别']='男'\n",
    "print(d)"
   ]
  },
  {
   "cell_type": "code",
   "execution_count": 27,
   "metadata": {},
   "outputs": [
    {
     "name": "stdout",
     "output_type": "stream",
     "text": [
      "98\n"
     ]
    }
   ],
   "source": [
    "#查询\n",
    "print(d['Score'])"
   ]
  },
  {
   "cell_type": "code",
   "execution_count": 28,
   "metadata": {},
   "outputs": [
    {
     "name": "stdout",
     "output_type": "stream",
     "text": [
      "{}\n"
     ]
    }
   ],
   "source": [
    "d.clear()  #清空数据\n",
    "print(d)"
   ]
  },
  {
   "cell_type": "code",
   "execution_count": 29,
   "metadata": {},
   "outputs": [],
   "source": [
    "#删除字典\n",
    "del d"
   ]
  },
  {
   "cell_type": "code",
   "execution_count": 30,
   "metadata": {},
   "outputs": [
    {
     "ename": "NameError",
     "evalue": "name 'd' is not defined",
     "output_type": "error",
     "traceback": [
      "\u001b[1;31m---------------------------------------------------------------------------\u001b[0m",
      "\u001b[1;31mNameError\u001b[0m                                 Traceback (most recent call last)",
      "\u001b[1;32m<ipython-input-30-e983f374794d>\u001b[0m in \u001b[0;36m<module>\u001b[1;34m\u001b[0m\n\u001b[1;32m----> 1\u001b[1;33m \u001b[0md\u001b[0m\u001b[1;33m\u001b[0m\u001b[1;33m\u001b[0m\u001b[0m\n\u001b[0m",
      "\u001b[1;31mNameError\u001b[0m: name 'd' is not defined"
     ]
    }
   ],
   "source": [
    "d"
   ]
  },
  {
   "cell_type": "code",
   "execution_count": 32,
   "metadata": {},
   "outputs": [
    {
     "data": {
      "text/plain": [
       "False"
      ]
     },
     "execution_count": 32,
     "metadata": {},
     "output_type": "execute_result"
    }
   ],
   "source": [
    "'Score' in d"
   ]
  },
  {
   "cell_type": "code",
   "execution_count": 34,
   "metadata": {},
   "outputs": [
    {
     "data": {
      "text/plain": [
       "True"
      ]
     },
     "execution_count": 34,
     "metadata": {},
     "output_type": "execute_result"
    }
   ],
   "source": [
    "'Score' not in d"
   ]
  },
  {
   "cell_type": "markdown",
   "metadata": {},
   "source": [
    "# 人狗大战 "
   ]
  },
  {
   "cell_type": "code",
   "execution_count": 12,
   "metadata": {},
   "outputs": [],
   "source": [
    "attack_val={  #字典存储攻击力数据\n",
    "    '泰迪':30,\n",
    "    '藏獒':70\n",
    "}"
   ]
  },
  {
   "cell_type": "code",
   "execution_count": 11,
   "metadata": {},
   "outputs": [],
   "source": [
    "def dog(name,breed):\n",
    "    data={\n",
    "        'name':name,\n",
    "        'breed':breed,\n",
    "        'life_val':100\n",
    "    }\n",
    "    if breed in attack_val:\n",
    "        data['attack_val']=attack_val[breed]\n",
    "    else:\n",
    "        data['attack_val']=20\n",
    "    return data"
   ]
  },
  {
   "cell_type": "code",
   "execution_count": 13,
   "metadata": {},
   "outputs": [
    {
     "name": "stdout",
     "output_type": "stream",
     "text": [
      "{'name': '小黄', 'breed': '泰迪', 'life_val': 100, 'attack_val': 30}\n"
     ]
    }
   ],
   "source": [
    "d1=dog('小黄','泰迪')\n",
    "print(d1)"
   ]
  },
  {
   "cell_type": "code",
   "execution_count": 14,
   "metadata": {},
   "outputs": [
    {
     "name": "stdout",
     "output_type": "stream",
     "text": [
      "{'name': '大黑', 'breed': '藏獒', 'life_val': 100, 'attack_val': 70}\n"
     ]
    }
   ],
   "source": [
    "d2=dog('大黑','藏獒')\n",
    "print(d2)"
   ]
  },
  {
   "cell_type": "code",
   "execution_count": 7,
   "metadata": {},
   "outputs": [],
   "source": [
    "def person(name,age):\n",
    "    data={\n",
    "        'name':name,\n",
    "        'age':age,\n",
    "        'life_val':100\n",
    "    }\n",
    "    if  age >= 18:\n",
    "        data['attack_val']=50\n",
    "    else:\n",
    "        data['attack_val']=25\n",
    "    return data"
   ]
  },
  {
   "cell_type": "code",
   "execution_count": 8,
   "metadata": {},
   "outputs": [
    {
     "name": "stdout",
     "output_type": "stream",
     "text": [
      "{'name': 'ZC', 'age': 18, 'life_val': 100, 'attack_val': 50}\n"
     ]
    }
   ],
   "source": [
    "p1=person('ZC',18)\n",
    "print(p1)"
   ]
  },
  {
   "cell_type": "code",
   "execution_count": 9,
   "metadata": {},
   "outputs": [],
   "source": [
    "def dog_bite(dog_data,person_data):\n",
    "    person_data['life_val']-=dog_data['attack_val']\n",
    "    print('狗 {} 咬了人 {} ,人掉血 {} ,剩余血量为 {} '.format(dog_data['name'],\n",
    "                                          person_data['name'],\n",
    "                                          dog_data['attack_val'],\n",
    "                                          person_data['life_val'],\n",
    "                                         ))"
   ]
  },
  {
   "cell_type": "code",
   "execution_count": 15,
   "metadata": {
    "scrolled": true
   },
   "outputs": [
    {
     "name": "stdout",
     "output_type": "stream",
     "text": [
      "狗 小黄 咬了人 ZC ,人掉血 30 ,剩余血量为 70 \n"
     ]
    }
   ],
   "source": [
    "dog_bite(d1,p1)"
   ]
  },
  {
   "cell_type": "code",
   "execution_count": 16,
   "metadata": {},
   "outputs": [],
   "source": [
    "def person_beat(person_data,dog_data):\n",
    "    dog_data['life_val']-=person_data['attack_val']\n",
    "    print('人[{}]打狗[{}],狗掉血 {} ,剩余血量为 {} '.format(person_data['name'],\n",
    "                                          dog_data['name'],\n",
    "                                          person_data['attack_val'],\n",
    "                                          dog_data['life_val'],\n",
    "                                         ))"
   ]
  },
  {
   "cell_type": "code",
   "execution_count": 17,
   "metadata": {},
   "outputs": [
    {
     "name": "stdout",
     "output_type": "stream",
     "text": [
      "人[ZC]打狗[小黄],狗掉血 50 ,剩余血量为 50 \n"
     ]
    }
   ],
   "source": [
    "person_beat(p1,d1)"
   ]
  },
  {
   "cell_type": "markdown",
   "metadata": {},
   "source": [
    "## 人狗大战函数嵌套实现 "
   ]
  },
  {
   "cell_type": "code",
   "execution_count": 99,
   "metadata": {},
   "outputs": [],
   "source": [
    "attack_val={  #字典存储攻击力数据\n",
    "    '泰迪':30,\n",
    "    '藏獒':70\n",
    "}\n",
    "def dog(name,breed):\n",
    "    data={\n",
    "        'name':name,\n",
    "        'breed':breed,\n",
    "        'life_val':100\n",
    "    }\n",
    "    if breed in attack_val:\n",
    "        data['attack_val']=attack_val[breed]\n",
    "    else:\n",
    "        data['attack_val']=20\n",
    "    def dog_bite(person_data): #函数嵌套\n",
    "        person_data['life_val']-=data['attack_val']\n",
    "        print('狗 {} 咬了人 {} ,人掉血 {} ,剩余血量为 {} '.format(data['name'],\n",
    "                                              person_data['name'],\n",
    "                                              data['attack_val'],\n",
    "                                              person_data['life_val'],\n",
    "                                             ))\n",
    "    data['bite']=dog_bite\n",
    "    return data"
   ]
  },
  {
   "cell_type": "code",
   "execution_count": 100,
   "metadata": {},
   "outputs": [],
   "source": [
    "def person(name,age):\n",
    "    data={\n",
    "        'name':name,\n",
    "        'age':age,\n",
    "        'life_val':100\n",
    "    }\n",
    "    if  age >= 18:\n",
    "        data['attack_val']=50\n",
    "    else:\n",
    "        data['attack_val']=25\n",
    "    def person_beat(dog_data):\n",
    "        dog_data['life_val']-=data['attack_val']\n",
    "        print('人[{}]打狗[{}],狗掉血 {} ,剩余血量为 {} '.format(data['name'],\n",
    "                                              dog_data['name'],\n",
    "                                              data['attack_val'],\n",
    "                                              dog_data['life_val'],\n",
    "                                             ))\n",
    "    data['beat']=person_beat\n",
    "    return data"
   ]
  },
  {
   "cell_type": "code",
   "execution_count": 101,
   "metadata": {},
   "outputs": [
    {
     "name": "stdout",
     "output_type": "stream",
     "text": [
      "{'name': '瓶盖', 'breed': '泰迪', 'life_val': 100, 'attack_val': 30, 'bite': <function dog.<locals>.dog_bite at 0x00000239CE2221F0>}\n",
      "{'name': '李四', 'age': 18, 'life_val': 100, 'attack_val': 50, 'beat': <function person.<locals>.person_beat at 0x00000239CE222280>}\n"
     ]
    }
   ],
   "source": [
    "d1=dog('瓶盖','泰迪')\n",
    "p1=person('李四',18)\n",
    "print(d1)\n",
    "print(p1)"
   ]
  },
  {
   "cell_type": "code",
   "execution_count": 102,
   "metadata": {},
   "outputs": [
    {
     "name": "stdout",
     "output_type": "stream",
     "text": [
      "狗 瓶盖 咬了人 李四 ,人掉血 30 ,剩余血量为 70 \n"
     ]
    }
   ],
   "source": [
    "d1['bite'](p1)  #对象[函数列表名](对象)"
   ]
  },
  {
   "cell_type": "markdown",
   "metadata": {},
   "source": [
    "## 人狗大战面向对象"
   ]
  },
  {
   "cell_type": "code",
   "execution_count": 104,
   "metadata": {},
   "outputs": [],
   "source": [
    "class Dog:\n",
    "    role='dog'\n",
    "    def __init__(self,name,breed,attack_val):\n",
    "        self.name=name\n",
    "        self.breed=breed\n",
    "        self.attack_val=attack_val\n",
    "        self.life_val=100\n",
    "    def bite(self,person_obj):\n",
    "        person_obj.life_val-=self.attack_val\n",
    "        print('狗[{}]咬了人[{}]，掉血{}剩余血量{}'.format(self.name,person_obj.name,\n",
    "                                              self.attack_val,person_obj.life_val))"
   ]
  },
  {
   "cell_type": "code",
   "execution_count": 110,
   "metadata": {},
   "outputs": [],
   "source": [
    "class Person:\n",
    "    role='person'\n",
    "    def __init__(self,name,age,attack_val):\n",
    "        self.name=name\n",
    "        self.age=age\n",
    "        self.attack_val=attack_val\n",
    "        self.life_val=100\n",
    "    def beat(self,dog_obj):\n",
    "        dog_obj.life_val-=self.attack_val\n",
    "        print('人[{}]打了狗[{}]，掉血{}剩余血量{}'.format(self.name,dog_obj.name,\n",
    "                                              self.attack_val,dog_obj.life_val))"
   ]
  },
  {
   "cell_type": "code",
   "execution_count": 111,
   "metadata": {},
   "outputs": [
    {
     "name": "stdout",
     "output_type": "stream",
     "text": [
      "<__main__.Dog object at 0x00000239CE2AE220>\n",
      "<__main__.Person object at 0x00000239CE2AE8B0>\n"
     ]
    }
   ],
   "source": [
    "d1=Dog('小黄','泰迪',50)\n",
    "p1=Person(\"周灿\",22,66)\n",
    "print(d1)\n",
    "print(p1)"
   ]
  },
  {
   "cell_type": "code",
   "execution_count": 112,
   "metadata": {},
   "outputs": [
    {
     "name": "stdout",
     "output_type": "stream",
     "text": [
      "狗[小黄]咬了人[周灿]，掉血50剩余血量50\n",
      "人[周灿]打了狗[小黄]，掉血66剩余血量34\n"
     ]
    }
   ],
   "source": [
    "d1.bite(p1)\n",
    "p1.beat(d1)"
   ]
  },
  {
   "cell_type": "markdown",
   "metadata": {},
   "source": [
    "## isinstance issubclass"
   ]
  },
  {
   "cell_type": "code",
   "execution_count": 2,
   "metadata": {
    "scrolled": true
   },
   "outputs": [
    {
     "data": {
      "text/plain": [
       "True"
      ]
     },
     "execution_count": 2,
     "metadata": {},
     "output_type": "execute_result"
    }
   ],
   "source": [
    "class Foo:\n",
    "    pass\n",
    "class Stu:\n",
    "    pass\n",
    "obj = Foo()\n",
    "isinstance(obj,Foo)   #是否是实例"
   ]
  },
  {
   "cell_type": "code",
   "execution_count": 3,
   "metadata": {},
   "outputs": [],
   "source": [
    "class Person:\n",
    "    pass\n",
    "class Stu(Person):\n",
    "    pass"
   ]
  },
  {
   "cell_type": "code",
   "execution_count": 4,
   "metadata": {},
   "outputs": [
    {
     "data": {
      "text/plain": [
       "True"
      ]
     },
     "execution_count": 4,
     "metadata": {},
     "output_type": "execute_result"
    }
   ],
   "source": [
    "issubclass(Stu,Person)  #是否为子类"
   ]
  },
  {
   "cell_type": "code",
   "execution_count": 1,
   "metadata": {},
   "outputs": [
    {
     "ename": "NameError",
     "evalue": "name 'Stu' is not defined",
     "output_type": "error",
     "traceback": [
      "\u001b[1;31m---------------------------------------------------------------------------\u001b[0m",
      "\u001b[1;31mNameError\u001b[0m                                 Traceback (most recent call last)",
      "\u001b[1;32m<ipython-input-1-f2d399f31d27>\u001b[0m in \u001b[0;36m<module>\u001b[1;34m\u001b[0m\n\u001b[1;32m----> 1\u001b[1;33m \u001b[0missubclass\u001b[0m\u001b[1;33m(\u001b[0m\u001b[0mStu\u001b[0m\u001b[1;33m,\u001b[0m\u001b[0mFoo\u001b[0m\u001b[1;33m)\u001b[0m\u001b[1;33m\u001b[0m\u001b[1;33m\u001b[0m\u001b[0m\n\u001b[0m",
      "\u001b[1;31mNameError\u001b[0m: name 'Stu' is not defined"
     ]
    }
   ],
   "source": [
    "issubclass(Stu,Foo)"
   ]
  },
  {
   "cell_type": "markdown",
   "metadata": {},
   "source": [
    "# 异常 "
   ]
  },
  {
   "cell_type": "code",
   "execution_count": 3,
   "metadata": {},
   "outputs": [
    {
     "name": "stdout",
     "output_type": "stream",
     "text": [
      "输入整数:6\n",
      "输入整数:d\n",
      "invalid literal for int() with base 10: 'd'\n"
     ]
    }
   ],
   "source": [
    "try:\n",
    "    while True:\n",
    "        n1=int(input('输入整数:'))\n",
    "        n2=int(input('输入整数:'))\n",
    "        s=n1+n2\n",
    "        print(s)\n",
    "except ValueError as e:\n",
    "    print(e)"
   ]
  },
  {
   "cell_type": "code",
   "execution_count": 4,
   "metadata": {},
   "outputs": [
    {
     "name": "stdout",
     "output_type": "stream",
     "text": [
      "输入整数:d\n",
      "invalid literal for int() with base 10: 'd'\n",
      "输入整数:2\n",
      "输入整数:2\n",
      "4\n"
     ]
    },
    {
     "ename": "KeyboardInterrupt",
     "evalue": "Interrupted by user",
     "output_type": "error",
     "traceback": [
      "\u001b[1;31m---------------------------------------------------------------------------\u001b[0m",
      "\u001b[1;31mKeyboardInterrupt\u001b[0m                         Traceback (most recent call last)",
      "\u001b[1;32m<ipython-input-4-2132b1eec25b>\u001b[0m in \u001b[0;36m<module>\u001b[1;34m\u001b[0m\n\u001b[0;32m      1\u001b[0m \u001b[1;32mwhile\u001b[0m \u001b[1;32mTrue\u001b[0m\u001b[1;33m:\u001b[0m\u001b[1;33m\u001b[0m\u001b[1;33m\u001b[0m\u001b[0m\n\u001b[0;32m      2\u001b[0m     \u001b[1;32mtry\u001b[0m\u001b[1;33m:\u001b[0m\u001b[1;33m\u001b[0m\u001b[1;33m\u001b[0m\u001b[0m\n\u001b[1;32m----> 3\u001b[1;33m         \u001b[0mn1\u001b[0m\u001b[1;33m=\u001b[0m\u001b[0mint\u001b[0m\u001b[1;33m(\u001b[0m\u001b[0minput\u001b[0m\u001b[1;33m(\u001b[0m\u001b[1;34m'输入整数:'\u001b[0m\u001b[1;33m)\u001b[0m\u001b[1;33m)\u001b[0m\u001b[1;33m\u001b[0m\u001b[1;33m\u001b[0m\u001b[0m\n\u001b[0m\u001b[0;32m      4\u001b[0m         \u001b[0mn2\u001b[0m\u001b[1;33m=\u001b[0m\u001b[0mint\u001b[0m\u001b[1;33m(\u001b[0m\u001b[0minput\u001b[0m\u001b[1;33m(\u001b[0m\u001b[1;34m'输入整数:'\u001b[0m\u001b[1;33m)\u001b[0m\u001b[1;33m)\u001b[0m\u001b[1;33m\u001b[0m\u001b[1;33m\u001b[0m\u001b[0m\n\u001b[0;32m      5\u001b[0m         \u001b[0ms\u001b[0m\u001b[1;33m=\u001b[0m\u001b[0mn1\u001b[0m\u001b[1;33m+\u001b[0m\u001b[0mn2\u001b[0m\u001b[1;33m\u001b[0m\u001b[1;33m\u001b[0m\u001b[0m\n",
      "\u001b[1;32mC:\\Anaconda3\\lib\\site-packages\\ipykernel\\kernelbase.py\u001b[0m in \u001b[0;36mraw_input\u001b[1;34m(self, prompt)\u001b[0m\n\u001b[0;32m    858\u001b[0m                 \u001b[1;34m\"raw_input was called, but this frontend does not support input requests.\"\u001b[0m\u001b[1;33m\u001b[0m\u001b[1;33m\u001b[0m\u001b[0m\n\u001b[0;32m    859\u001b[0m             )\n\u001b[1;32m--> 860\u001b[1;33m         return self._input_request(str(prompt),\n\u001b[0m\u001b[0;32m    861\u001b[0m             \u001b[0mself\u001b[0m\u001b[1;33m.\u001b[0m\u001b[0m_parent_ident\u001b[0m\u001b[1;33m,\u001b[0m\u001b[1;33m\u001b[0m\u001b[1;33m\u001b[0m\u001b[0m\n\u001b[0;32m    862\u001b[0m             \u001b[0mself\u001b[0m\u001b[1;33m.\u001b[0m\u001b[0m_parent_header\u001b[0m\u001b[1;33m,\u001b[0m\u001b[1;33m\u001b[0m\u001b[1;33m\u001b[0m\u001b[0m\n",
      "\u001b[1;32mC:\\Anaconda3\\lib\\site-packages\\ipykernel\\kernelbase.py\u001b[0m in \u001b[0;36m_input_request\u001b[1;34m(self, prompt, ident, parent, password)\u001b[0m\n\u001b[0;32m    902\u001b[0m             \u001b[1;32mexcept\u001b[0m \u001b[0mKeyboardInterrupt\u001b[0m\u001b[1;33m:\u001b[0m\u001b[1;33m\u001b[0m\u001b[1;33m\u001b[0m\u001b[0m\n\u001b[0;32m    903\u001b[0m                 \u001b[1;31m# re-raise KeyboardInterrupt, to truncate traceback\u001b[0m\u001b[1;33m\u001b[0m\u001b[1;33m\u001b[0m\u001b[1;33m\u001b[0m\u001b[0m\n\u001b[1;32m--> 904\u001b[1;33m                 \u001b[1;32mraise\u001b[0m \u001b[0mKeyboardInterrupt\u001b[0m\u001b[1;33m(\u001b[0m\u001b[1;34m\"Interrupted by user\"\u001b[0m\u001b[1;33m)\u001b[0m \u001b[1;32mfrom\u001b[0m \u001b[1;32mNone\u001b[0m\u001b[1;33m\u001b[0m\u001b[1;33m\u001b[0m\u001b[0m\n\u001b[0m\u001b[0;32m    905\u001b[0m             \u001b[1;32mexcept\u001b[0m \u001b[0mException\u001b[0m \u001b[1;32mas\u001b[0m \u001b[0me\u001b[0m\u001b[1;33m:\u001b[0m\u001b[1;33m\u001b[0m\u001b[1;33m\u001b[0m\u001b[0m\n\u001b[0;32m    906\u001b[0m                 \u001b[0mself\u001b[0m\u001b[1;33m.\u001b[0m\u001b[0mlog\u001b[0m\u001b[1;33m.\u001b[0m\u001b[0mwarning\u001b[0m\u001b[1;33m(\u001b[0m\u001b[1;34m\"Invalid Message:\"\u001b[0m\u001b[1;33m,\u001b[0m \u001b[0mexc_info\u001b[0m\u001b[1;33m=\u001b[0m\u001b[1;32mTrue\u001b[0m\u001b[1;33m)\u001b[0m\u001b[1;33m\u001b[0m\u001b[1;33m\u001b[0m\u001b[0m\n",
      "\u001b[1;31mKeyboardInterrupt\u001b[0m: Interrupted by user"
     ]
    }
   ],
   "source": [
    "while True:\n",
    "    try:\n",
    "        n1=int(input('输入整数:'))\n",
    "        n2=int(input('输入整数:'))\n",
    "        s=n1+n2\n",
    "        print(s)\n",
    "    except ValueError as e:\n",
    "        print(e)"
   ]
  },
  {
   "cell_type": "code",
   "execution_count": 5,
   "metadata": {},
   "outputs": [
    {
     "ename": "ZeroDivisionError",
     "evalue": "division by zero",
     "output_type": "error",
     "traceback": [
      "\u001b[1;31m---------------------------------------------------------------------------\u001b[0m",
      "\u001b[1;31mZeroDivisionError\u001b[0m                         Traceback (most recent call last)",
      "\u001b[1;32m<ipython-input-5-9e1622b385b6>\u001b[0m in \u001b[0;36m<module>\u001b[1;34m\u001b[0m\n\u001b[1;32m----> 1\u001b[1;33m \u001b[1;36m1\u001b[0m\u001b[1;33m/\u001b[0m\u001b[1;36m0\u001b[0m\u001b[1;33m\u001b[0m\u001b[1;33m\u001b[0m\u001b[0m\n\u001b[0m",
      "\u001b[1;31mZeroDivisionError\u001b[0m: division by zero"
     ]
    }
   ],
   "source": [
    "1/0"
   ]
  },
  {
   "cell_type": "code",
   "execution_count": 9,
   "metadata": {},
   "outputs": [
    {
     "name": "stdout",
     "output_type": "stream",
     "text": [
      "输入整数:1\n",
      "输入整数:0\n",
      "division by zero\n"
     ]
    }
   ],
   "source": [
    "while True:\n",
    "    try:\n",
    "        a=int(input('输入整数:'))\n",
    "        b=int(input('输入整数:'))\n",
    "        rst=a/b\n",
    "        print('rst',rst) \n",
    "        break\n",
    "    except ZeroDivisionError as e:\n",
    "        print(e)"
   ]
  },
  {
   "cell_type": "code",
   "execution_count": 10,
   "metadata": {},
   "outputs": [
    {
     "name": "stdout",
     "output_type": "stream",
     "text": [
      "输入整数:5\n",
      "输入整数:0\n",
      "division by zero\n",
      "输入整数:s\n",
      "invalid literal for int() with base 10: 's'\n"
     ]
    },
    {
     "ename": "KeyboardInterrupt",
     "evalue": "Interrupted by user",
     "output_type": "error",
     "traceback": [
      "\u001b[1;31m--------------------------------------------------------------------------\u001b[0m",
      "\u001b[1;31mKeyboardInterrupt\u001b[0m                        Traceback (most recent call last)",
      "\u001b[1;32m<ipython-input-10-e46ba036f4c0>\u001b[0m in \u001b[0;36m<module>\u001b[1;34m\u001b[0m\n\u001b[0;32m      1\u001b[0m \u001b[1;32mwhile\u001b[0m \u001b[1;32mTrue\u001b[0m\u001b[1;33m:\u001b[0m\u001b[1;33m\u001b[0m\u001b[1;33m\u001b[0m\u001b[0m\n\u001b[0;32m      2\u001b[0m     \u001b[1;32mtry\u001b[0m\u001b[1;33m:\u001b[0m\u001b[1;33m\u001b[0m\u001b[1;33m\u001b[0m\u001b[0m\n\u001b[1;32m----> 3\u001b[1;33m         \u001b[0ma\u001b[0m\u001b[1;33m=\u001b[0m\u001b[0mint\u001b[0m\u001b[1;33m(\u001b[0m\u001b[0minput\u001b[0m\u001b[1;33m(\u001b[0m\u001b[1;34m'输入整数:'\u001b[0m\u001b[1;33m)\u001b[0m\u001b[1;33m)\u001b[0m\u001b[1;33m\u001b[0m\u001b[1;33m\u001b[0m\u001b[0m\n\u001b[0m\u001b[0;32m      4\u001b[0m         \u001b[0mb\u001b[0m\u001b[1;33m=\u001b[0m\u001b[0mint\u001b[0m\u001b[1;33m(\u001b[0m\u001b[0minput\u001b[0m\u001b[1;33m(\u001b[0m\u001b[1;34m'输入整数:'\u001b[0m\u001b[1;33m)\u001b[0m\u001b[1;33m)\u001b[0m\u001b[1;33m\u001b[0m\u001b[1;33m\u001b[0m\u001b[0m\n\u001b[0;32m      5\u001b[0m         \u001b[0mrst\u001b[0m\u001b[1;33m=\u001b[0m\u001b[0ma\u001b[0m\u001b[1;33m/\u001b[0m\u001b[0mb\u001b[0m\u001b[1;33m\u001b[0m\u001b[1;33m\u001b[0m\u001b[0m\n",
      "\u001b[1;32mC:\\Anaconda3\\lib\\site-packages\\ipykernel\\kernelbase.py\u001b[0m in \u001b[0;36mraw_input\u001b[1;34m(self, prompt)\u001b[0m\n\u001b[0;32m    858\u001b[0m                 \u001b[1;34m\"raw_input was called, but this frontend does not support input requests.\"\u001b[0m\u001b[1;33m\u001b[0m\u001b[1;33m\u001b[0m\u001b[0m\n\u001b[0;32m    859\u001b[0m             )\n\u001b[1;32m--> 860\u001b[1;33m         return self._input_request(str(prompt),\n\u001b[0m\u001b[0;32m    861\u001b[0m             \u001b[0mself\u001b[0m\u001b[1;33m.\u001b[0m\u001b[0m_parent_ident\u001b[0m\u001b[1;33m,\u001b[0m\u001b[1;33m\u001b[0m\u001b[1;33m\u001b[0m\u001b[0m\n\u001b[0;32m    862\u001b[0m             \u001b[0mself\u001b[0m\u001b[1;33m.\u001b[0m\u001b[0m_parent_header\u001b[0m\u001b[1;33m,\u001b[0m\u001b[1;33m\u001b[0m\u001b[1;33m\u001b[0m\u001b[0m\n",
      "\u001b[1;32mC:\\Anaconda3\\lib\\site-packages\\ipykernel\\kernelbase.py\u001b[0m in \u001b[0;36m_input_request\u001b[1;34m(self, prompt, ident, parent, password)\u001b[0m\n\u001b[0;32m    902\u001b[0m             \u001b[1;32mexcept\u001b[0m \u001b[0mKeyboardInterrupt\u001b[0m\u001b[1;33m:\u001b[0m\u001b[1;33m\u001b[0m\u001b[1;33m\u001b[0m\u001b[0m\n\u001b[0;32m    903\u001b[0m                 \u001b[1;31m# re-raise KeyboardInterrupt, to truncate traceback\u001b[0m\u001b[1;33m\u001b[0m\u001b[1;33m\u001b[0m\u001b[1;33m\u001b[0m\u001b[0m\n\u001b[1;32m--> 904\u001b[1;33m                 \u001b[1;32mraise\u001b[0m \u001b[0mKeyboardInterrupt\u001b[0m\u001b[1;33m(\u001b[0m\u001b[1;34m\"Interrupted by user\"\u001b[0m\u001b[1;33m)\u001b[0m \u001b[1;32mfrom\u001b[0m \u001b[1;32mNone\u001b[0m\u001b[1;33m\u001b[0m\u001b[1;33m\u001b[0m\u001b[0m\n\u001b[0m\u001b[0;32m    905\u001b[0m             \u001b[1;32mexcept\u001b[0m \u001b[0mException\u001b[0m \u001b[1;32mas\u001b[0m \u001b[0me\u001b[0m\u001b[1;33m:\u001b[0m\u001b[1;33m\u001b[0m\u001b[1;33m\u001b[0m\u001b[0m\n\u001b[0;32m    906\u001b[0m                 \u001b[0mself\u001b[0m\u001b[1;33m.\u001b[0m\u001b[0mlog\u001b[0m\u001b[1;33m.\u001b[0m\u001b[0mwarning\u001b[0m\u001b[1;33m(\u001b[0m\u001b[1;34m\"Invalid Message:\"\u001b[0m\u001b[1;33m,\u001b[0m \u001b[0mexc_info\u001b[0m\u001b[1;33m=\u001b[0m\u001b[1;32mTrue\u001b[0m\u001b[1;33m)\u001b[0m\u001b[1;33m\u001b[0m\u001b[1;33m\u001b[0m\u001b[0m\n",
      "\u001b[1;31mKeyboardInterrupt\u001b[0m: Interrupted by user"
     ]
    }
   ],
   "source": [
    "while True:\n",
    "    try:\n",
    "        a=int(input('输入整数:'))\n",
    "        b=int(input('输入整数:'))\n",
    "        rst=a/b\n",
    "        print('rst',rst) \n",
    "        break\n",
    "    except Exception as e:\n",
    "        print(e)"
   ]
  },
  {
   "cell_type": "code",
   "execution_count": null,
   "metadata": {},
   "outputs": [],
   "source": [
    "# 人为抛出异常raise\n",
    "try:\n",
    "    raise Exception('自己造的错误')\n",
    "except Exception as e:\n",
    "    print('生病了')\n",
    "    print(e)"
   ]
  },
  {
   "cell_type": "markdown",
   "metadata": {},
   "source": [
    "# 自定义异常类"
   ]
  },
  {
   "cell_type": "code",
   "execution_count": 13,
   "metadata": {},
   "outputs": [],
   "source": [
    "class MyException(Exception):\n",
    "    def __init__(self,msg):\n",
    "        self.msg=msg\n",
    "    def __str__(self):\n",
    "        return self.msg"
   ]
  },
  {
   "cell_type": "code",
   "execution_count": 17,
   "metadata": {},
   "outputs": [
    {
     "name": "stdout",
     "output_type": "stream",
     "text": [
      "吃饭\n"
     ]
    }
   ],
   "source": [
    "try:\n",
    "    raise MyException('吃饭')\n",
    "except MyException as e:\n",
    "    print(e)"
   ]
  },
  {
   "cell_type": "code",
   "execution_count": 24,
   "metadata": {},
   "outputs": [
    {
     "name": "stdout",
     "output_type": "stream",
     "text": [
      "输入整数:2\n",
      "输入整数:3\n",
      "2+3=5\n",
      "无错误\n",
      "运行结束\n"
     ]
    }
   ],
   "source": [
    "try:\n",
    "    a=int(input('输入整数:'))\n",
    "    b=int(input('输入整数:'))\n",
    "    rst=a+b\n",
    "    print('{}+{}={}'.format(a,b,rst)) \n",
    "except Exception as e:\n",
    "    print(e)\n",
    "else:\n",
    "    print(\"无错误\")\n",
    "finally: #不管有没有异常都会运行\n",
    "    print(\"运行结束\")"
   ]
  },
  {
   "cell_type": "code",
   "execution_count": null,
   "metadata": {},
   "outputs": [],
   "source": [
    "assert 1==2 #断言确保后面是真"
   ]
  },
  {
   "cell_type": "code",
   "execution_count": 18,
   "metadata": {},
   "outputs": [],
   "source": [
    "def fun(name,score):\n",
    "    assert type(name) is str\n",
    "    assert type(score) is int\n",
    "    print(\"姓名\",name)\n",
    "    print(\"成绩\",score)"
   ]
  },
  {
   "cell_type": "code",
   "execution_count": 19,
   "metadata": {},
   "outputs": [
    {
     "name": "stdout",
     "output_type": "stream",
     "text": [
      "姓名 ZC\n",
      "成绩 15\n"
     ]
    }
   ],
   "source": [
    "fun(\"ZC\",15)"
   ]
  },
  {
   "cell_type": "code",
   "execution_count": 20,
   "metadata": {},
   "outputs": [
    {
     "ename": "AssertionError",
     "evalue": "",
     "output_type": "error",
     "traceback": [
      "\u001b[1;31m---------------------------------------------------------------------------\u001b[0m",
      "\u001b[1;31mAssertionError\u001b[0m                            Traceback (most recent call last)",
      "\u001b[1;32m~\\AppData\\Local\\Temp/ipykernel_7756/2880031456.py\u001b[0m in \u001b[0;36m<module>\u001b[1;34m\u001b[0m\n\u001b[1;32m----> 1\u001b[1;33m \u001b[0mfun\u001b[0m\u001b[1;33m(\u001b[0m\u001b[1;34m\"ZC\"\u001b[0m\u001b[1;33m,\u001b[0m\u001b[1;34m\"d\"\u001b[0m\u001b[1;33m)\u001b[0m\u001b[1;33m\u001b[0m\u001b[1;33m\u001b[0m\u001b[0m\n\u001b[0m",
      "\u001b[1;32m~\\AppData\\Local\\Temp/ipykernel_7756/1771544577.py\u001b[0m in \u001b[0;36mfun\u001b[1;34m(name, score)\u001b[0m\n\u001b[0;32m      1\u001b[0m \u001b[1;32mdef\u001b[0m \u001b[0mfun\u001b[0m\u001b[1;33m(\u001b[0m\u001b[0mname\u001b[0m\u001b[1;33m,\u001b[0m\u001b[0mscore\u001b[0m\u001b[1;33m)\u001b[0m\u001b[1;33m:\u001b[0m\u001b[1;33m\u001b[0m\u001b[1;33m\u001b[0m\u001b[0m\n\u001b[0;32m      2\u001b[0m     \u001b[1;32massert\u001b[0m \u001b[0mtype\u001b[0m\u001b[1;33m(\u001b[0m\u001b[0mname\u001b[0m\u001b[1;33m)\u001b[0m \u001b[1;32mis\u001b[0m \u001b[0mstr\u001b[0m\u001b[1;33m\u001b[0m\u001b[1;33m\u001b[0m\u001b[0m\n\u001b[1;32m----> 3\u001b[1;33m     \u001b[1;32massert\u001b[0m \u001b[0mtype\u001b[0m\u001b[1;33m(\u001b[0m\u001b[0mscore\u001b[0m\u001b[1;33m)\u001b[0m \u001b[1;32mis\u001b[0m \u001b[0mint\u001b[0m\u001b[1;33m\u001b[0m\u001b[1;33m\u001b[0m\u001b[0m\n\u001b[0m\u001b[0;32m      4\u001b[0m     \u001b[0mprint\u001b[0m\u001b[1;33m(\u001b[0m\u001b[1;34m\"姓名\"\u001b[0m\u001b[1;33m,\u001b[0m\u001b[0mname\u001b[0m\u001b[1;33m)\u001b[0m\u001b[1;33m\u001b[0m\u001b[1;33m\u001b[0m\u001b[0m\n\u001b[0;32m      5\u001b[0m     \u001b[0mprint\u001b[0m\u001b[1;33m(\u001b[0m\u001b[1;34m\"成绩\"\u001b[0m\u001b[1;33m,\u001b[0m\u001b[0mscore\u001b[0m\u001b[1;33m)\u001b[0m\u001b[1;33m\u001b[0m\u001b[1;33m\u001b[0m\u001b[0m\n",
      "\u001b[1;31mAssertionError\u001b[0m: "
     ]
    }
   ],
   "source": [
    "fun(\"ZC\",\"d\")"
   ]
  },
  {
   "cell_type": "code",
   "execution_count": 8,
   "metadata": {},
   "outputs": [],
   "source": [
    "#圆的半径不能为负\n",
    "class CircleException(Exception):\n",
    "    def __init__(self,r):\n",
    "        self.r=r\n",
    "    def __str__(self):\n",
    "        return '异常：半径r={}是一个负值'.format(self.r)"
   ]
  },
  {
   "cell_type": "code",
   "execution_count": 5,
   "metadata": {},
   "outputs": [],
   "source": [
    "import math\n",
    "class Circle:\n",
    "    def __init__(self,r):\n",
    "        if r<1:\n",
    "            raise CircleException(r)\n",
    "        self.r=r\n",
    "    def getArea(self):\n",
    "        return math.pi*self.r*self.r"
   ]
  },
  {
   "cell_type": "code",
   "execution_count": 10,
   "metadata": {},
   "outputs": [
    {
     "name": "stdout",
     "output_type": "stream",
     "text": [
      "输入圆的半径：-10\n",
      "异常：半径r=-10是一个负值\n"
     ]
    }
   ],
   "source": [
    "try:\n",
    "    r=eval(input('输入圆的半径：'))\n",
    "    obj=Circle(r)\n",
    "    print(obj.getArea())\n",
    "except CircleException as e:\n",
    "    print(e)"
   ]
  },
  {
   "cell_type": "code",
   "execution_count": 11,
   "metadata": {},
   "outputs": [],
   "source": [
    "#三角形异常\n",
    "class TriangleException(Exception):\n",
    "    def __init__(self,a,b,c):\n",
    "        self.a=a\n",
    "        self.b=b\n",
    "        self.c=c\n",
    "    def __str__(self):\n",
    "        return '异常：边{},{},{}无法构成三角形'.format(self.a,self.b,self.c)"
   ]
  },
  {
   "cell_type": "code",
   "execution_count": 17,
   "metadata": {},
   "outputs": [],
   "source": [
    "class Triangle():\n",
    "    def __init__(self,a,b,c):\n",
    "        if a+b<=c or a+c<=b or b+c<=a:\n",
    "            raise TriangleException(a,b,c)\n",
    "        self.a=a\n",
    "        self.b=b\n",
    "        self.c=c\n",
    "    def ZC(self):\n",
    "        return self.a+self.b+self.c"
   ]
  },
  {
   "cell_type": "code",
   "execution_count": 18,
   "metadata": {
    "scrolled": true
   },
   "outputs": [
    {
     "name": "stdout",
     "output_type": "stream",
     "text": [
      "输入第一条边：1\n",
      "输入第二条边：3\n",
      "输入第三条边：6\n",
      "异常：边1,3,6无法构成三角形\n"
     ]
    }
   ],
   "source": [
    "try:\n",
    "    a=eval(input('输入第一条边：'))\n",
    "    b=eval(input('输入第二条边：'))\n",
    "    c=eval(input('输入第三条边：'))\n",
    "    obj=Triangle(a,b,c)\n",
    "    print(obj.ZC())\n",
    "except TriangleException as e:\n",
    "    print(e)"
   ]
  },
  {
   "cell_type": "markdown",
   "metadata": {},
   "source": [
    "# 第10章 Numpy "
   ]
  },
  {
   "cell_type": "code",
   "execution_count": null,
   "metadata": {},
   "outputs": [],
   "source": [
    "#numpy pandas matplotlib"
   ]
  },
  {
   "cell_type": "markdown",
   "metadata": {},
   "source": [
    "## 10.1 创建数组 "
   ]
  },
  {
   "cell_type": "code",
   "execution_count": 20,
   "metadata": {},
   "outputs": [],
   "source": [
    "import numpy as np"
   ]
  },
  {
   "cell_type": "code",
   "execution_count": 21,
   "metadata": {},
   "outputs": [
    {
     "data": {
      "text/plain": [
       "array([1, 2, 3])"
      ]
     },
     "execution_count": 21,
     "metadata": {},
     "output_type": "execute_result"
    }
   ],
   "source": [
    "#一维数组\n",
    "np.array([1,2,3])"
   ]
  },
  {
   "cell_type": "code",
   "execution_count": 40,
   "metadata": {},
   "outputs": [],
   "source": [
    "np?"
   ]
  },
  {
   "cell_type": "code",
   "execution_count": 36,
   "metadata": {},
   "outputs": [
    {
     "data": {
      "text/plain": [
       "array([1, 3, 5, 7, 9])"
      ]
     },
     "execution_count": 36,
     "metadata": {},
     "output_type": "execute_result"
    }
   ],
   "source": [
    "np.arange(1,10,2)"
   ]
  },
  {
   "cell_type": "code",
   "execution_count": 22,
   "metadata": {},
   "outputs": [
    {
     "data": {
      "text/plain": [
       "array([1., 2., 3.])"
      ]
     },
     "execution_count": 22,
     "metadata": {},
     "output_type": "execute_result"
    }
   ],
   "source": [
    "np.array([1,2,3.0])  #类型提升"
   ]
  },
  {
   "cell_type": "code",
   "execution_count": 23,
   "metadata": {},
   "outputs": [
    {
     "data": {
      "text/plain": [
       "array(['1', '2', '3'], dtype='<U1')"
      ]
     },
     "execution_count": 23,
     "metadata": {},
     "output_type": "execute_result"
    }
   ],
   "source": [
    "np.array([1,2,3],dtype=str)  #指定类型"
   ]
  },
  {
   "cell_type": "code",
   "execution_count": 26,
   "metadata": {},
   "outputs": [
    {
     "data": {
      "text/plain": [
       "array([[1, 2, 3],\n",
       "       [4, 5, 6]])"
      ]
     },
     "execution_count": 26,
     "metadata": {},
     "output_type": "execute_result"
    }
   ],
   "source": [
    "#二维数组\n",
    "np.array([[1,2,3],[4,5,6]])"
   ]
  },
  {
   "cell_type": "markdown",
   "metadata": {},
   "source": [
    "## 10.2特殊数组的创建"
   ]
  },
  {
   "cell_type": "code",
   "execution_count": 29,
   "metadata": {},
   "outputs": [
    {
     "data": {
      "text/plain": [
       "array([0, 0, 0, 0, 0])"
      ]
     },
     "execution_count": 29,
     "metadata": {},
     "output_type": "execute_result"
    }
   ],
   "source": [
    "#全零\n",
    "np.zeros(5,dtype=int) #默认float"
   ]
  },
  {
   "cell_type": "code",
   "execution_count": 31,
   "metadata": {},
   "outputs": [
    {
     "data": {
      "text/plain": [
       "array([[0., 0., 0., 0.],\n",
       "       [0., 0., 0., 0.],\n",
       "       [0., 0., 0., 0.]])"
      ]
     },
     "execution_count": 31,
     "metadata": {},
     "output_type": "execute_result"
    }
   ],
   "source": [
    "np.zeros((3,4))"
   ]
  },
  {
   "cell_type": "code",
   "execution_count": 32,
   "metadata": {},
   "outputs": [
    {
     "data": {
      "text/plain": [
       "array([[[0., 0., 0., 0.],\n",
       "        [0., 0., 0., 0.],\n",
       "        [0., 0., 0., 0.]],\n",
       "\n",
       "       [[0., 0., 0., 0.],\n",
       "        [0., 0., 0., 0.],\n",
       "        [0., 0., 0., 0.]]])"
      ]
     },
     "execution_count": 32,
     "metadata": {},
     "output_type": "execute_result"
    }
   ],
   "source": [
    "np.zeros((2,3,4))"
   ]
  },
  {
   "cell_type": "code",
   "execution_count": 33,
   "metadata": {},
   "outputs": [
    {
     "data": {
      "text/plain": [
       "array([1, 1, 1, 1, 1])"
      ]
     },
     "execution_count": 33,
     "metadata": {},
     "output_type": "execute_result"
    }
   ],
   "source": [
    "#全一\n",
    "np.ones(5,dtype=int) #默认float"
   ]
  },
  {
   "cell_type": "code",
   "execution_count": 34,
   "metadata": {},
   "outputs": [
    {
     "data": {
      "text/plain": [
       "array([[1., 1., 1., 1., 1.],\n",
       "       [1., 1., 1., 1., 1.],\n",
       "       [1., 1., 1., 1., 1.],\n",
       "       [1., 1., 1., 1., 1.]])"
      ]
     },
     "execution_count": 34,
     "metadata": {},
     "output_type": "execute_result"
    }
   ],
   "source": [
    "np.ones((4,5))"
   ]
  },
  {
   "cell_type": "code",
   "execution_count": 35,
   "metadata": {},
   "outputs": [
    {
     "data": {
      "text/plain": [
       "array([[1., 0., 0.],\n",
       "       [0., 1., 0.],\n",
       "       [0., 0., 1.]])"
      ]
     },
     "execution_count": 35,
     "metadata": {},
     "output_type": "execute_result"
    }
   ],
   "source": [
    "#单位矩阵\n",
    "np.eye(3)"
   ]
  },
  {
   "cell_type": "markdown",
   "metadata": {},
   "source": [
    "## 10.3切片"
   ]
  },
  {
   "cell_type": "code",
   "execution_count": 47,
   "metadata": {},
   "outputs": [
    {
     "name": "stdout",
     "output_type": "stream",
     "text": [
      "4\n",
      "10\n",
      "[4, 5, 6, 7, 8]\n",
      "[4, 6, 8]\n",
      "[1, 2, 3, 4, 5, 6, 7, 8, 9, 10]\n",
      "[1, 2, 3, 4, 5, 6, 7, 8, 9, 10]\n",
      "[10, 9, 8, 7, 6, 5, 4, 3, 2, 1]\n",
      "[5, 4, 3, 2, 1]\n"
     ]
    }
   ],
   "source": [
    "ls=[1,2,3,4,5,6,7,8,9,10]\n",
    "print(ls[3])\n",
    "print(ls[-1])\n",
    "print(ls[3:8])\n",
    "print(ls[3:8:2])\n",
    "print(ls[:])\n",
    "print(ls[::])\n",
    "print(ls[::-1])\n",
    "print(ls[4::-1])"
   ]
  },
  {
   "cell_type": "code",
   "execution_count": 49,
   "metadata": {},
   "outputs": [
    {
     "name": "stdout",
     "output_type": "stream",
     "text": [
      "[ 1  2  3  4  5  6  7  8  9 10]\n"
     ]
    }
   ],
   "source": [
    "#np.array数组切片\n",
    "import numpy as np\n",
    "a=np.arange(1,11)\n",
    "print(a)"
   ]
  },
  {
   "cell_type": "code",
   "execution_count": 54,
   "metadata": {},
   "outputs": [
    {
     "name": "stdout",
     "output_type": "stream",
     "text": [
      "5\n",
      "10\n",
      "[4 5 6 7]\n",
      "[ 1  2  3  4  5  6  7  8  9 10]\n",
      "[ 1  2  3  4  5  6  7  8  9 10]\n",
      "[1 3 5 7 9]\n",
      "[10  9  8  7  6  5  4  3  2  1]\n",
      "[6 5 4 3 2 1]\n"
     ]
    }
   ],
   "source": [
    "print(a[4])\n",
    "print(a[-1])\n",
    "print(a[3:7])\n",
    "print(a[:])\n",
    "print(a[::])\n",
    "print(a[::2])\n",
    "print(a[::-1])\n",
    "print(a[5::-1])"
   ]
  },
  {
   "cell_type": "code",
   "execution_count": 60,
   "metadata": {},
   "outputs": [
    {
     "data": {
      "text/plain": [
       "[4, 6, 8]"
      ]
     },
     "execution_count": 60,
     "metadata": {},
     "output_type": "execute_result"
    }
   ],
   "source": [
    "s0=slice(3,9,2)\n",
    "ls[s0]"
   ]
  },
  {
   "cell_type": "code",
   "execution_count": 58,
   "metadata": {},
   "outputs": [],
   "source": [
    "s=slice(3,7,2) #对象切片的位置"
   ]
  },
  {
   "cell_type": "code",
   "execution_count": 59,
   "metadata": {},
   "outputs": [
    {
     "name": "stdout",
     "output_type": "stream",
     "text": [
      "[4 6]\n",
      "[4 5 6 7]\n"
     ]
    }
   ],
   "source": [
    "print(a[s])\n",
    "print(a[3:7])"
   ]
  },
  {
   "cell_type": "markdown",
   "metadata": {},
   "source": [
    "## 10.4矩阵的常见运算"
   ]
  },
  {
   "cell_type": "code",
   "execution_count": 62,
   "metadata": {},
   "outputs": [
    {
     "name": "stdout",
     "output_type": "stream",
     "text": [
      "9\n",
      "2\n"
     ]
    }
   ],
   "source": [
    "import numpy as np\n",
    "a = np.array([[1,2,3],[4,5,6],[7,8,9]])\n",
    "print(a.size) #数组元素个数\n",
    "print(a.ndim) #返回数组的维度"
   ]
  },
  {
   "cell_type": "code",
   "execution_count": 66,
   "metadata": {},
   "outputs": [
    {
     "name": "stdout",
     "output_type": "stream",
     "text": [
      "[5 3 8 2 1 9 4]\n",
      "[1 2 3 4 5 8 9]\n"
     ]
    }
   ],
   "source": [
    "#sort 默认升序\n",
    "b=np.array([5,3,8,2,1,9,4])\n",
    "print(b)\n",
    "b.sort()\n",
    "print(b)"
   ]
  },
  {
   "cell_type": "code",
   "execution_count": 67,
   "metadata": {},
   "outputs": [
    {
     "name": "stdout",
     "output_type": "stream",
     "text": [
      "[5 3 8 2 1 9 4]\n",
      "[1 2 3 4 5 8 9]\n",
      "[9 8 5 4 3 2 1]\n"
     ]
    }
   ],
   "source": [
    "c=np.array([5,3,8,2,1,9,4])\n",
    "print(c)\n",
    "c.sort()\n",
    "print(c)\n",
    "d=c[::-1]\n",
    "print(d)"
   ]
  },
  {
   "cell_type": "code",
   "execution_count": 69,
   "metadata": {},
   "outputs": [
    {
     "name": "stdout",
     "output_type": "stream",
     "text": [
      "[[17]\n",
      " [39]]\n",
      "[[17]\n",
      " [39]]\n"
     ]
    }
   ],
   "source": [
    "a1 = np.array([[1,2],[3,4]])  #2*2\n",
    "a2 = np.array([[5],[6]])  #2*1\n",
    "print(np.dot(a1,a2))  #相乘\n",
    "print(np.matmul(a1,a2)) "
   ]
  },
  {
   "cell_type": "code",
   "execution_count": 70,
   "metadata": {},
   "outputs": [
    {
     "ename": "ValueError",
     "evalue": "shapes (2,3) and (1,2) not aligned: 3 (dim 1) != 1 (dim 0)",
     "output_type": "error",
     "traceback": [
      "\u001b[1;31m---------------------------------------------------------------------------\u001b[0m",
      "\u001b[1;31mValueError\u001b[0m                                Traceback (most recent call last)",
      "\u001b[1;32m<ipython-input-70-c18b80746554>\u001b[0m in \u001b[0;36m<module>\u001b[1;34m\u001b[0m\n\u001b[0;32m      1\u001b[0m \u001b[0ma1\u001b[0m \u001b[1;33m=\u001b[0m \u001b[0mnp\u001b[0m\u001b[1;33m.\u001b[0m\u001b[0marray\u001b[0m\u001b[1;33m(\u001b[0m\u001b[1;33m[\u001b[0m\u001b[1;33m[\u001b[0m\u001b[1;36m1\u001b[0m\u001b[1;33m,\u001b[0m\u001b[1;36m2\u001b[0m\u001b[1;33m,\u001b[0m\u001b[1;36m3\u001b[0m\u001b[1;33m]\u001b[0m\u001b[1;33m,\u001b[0m\u001b[1;33m[\u001b[0m\u001b[1;36m4\u001b[0m\u001b[1;33m,\u001b[0m\u001b[1;36m5\u001b[0m\u001b[1;33m,\u001b[0m\u001b[1;36m6\u001b[0m\u001b[1;33m]\u001b[0m\u001b[1;33m]\u001b[0m\u001b[1;33m)\u001b[0m  \u001b[1;31m#2*2\u001b[0m\u001b[1;33m\u001b[0m\u001b[1;33m\u001b[0m\u001b[0m\n\u001b[0;32m      2\u001b[0m \u001b[0ma2\u001b[0m \u001b[1;33m=\u001b[0m \u001b[0mnp\u001b[0m\u001b[1;33m.\u001b[0m\u001b[0marray\u001b[0m\u001b[1;33m(\u001b[0m\u001b[1;33m[\u001b[0m\u001b[1;33m[\u001b[0m\u001b[1;36m5\u001b[0m\u001b[1;33m,\u001b[0m\u001b[1;36m6\u001b[0m\u001b[1;33m]\u001b[0m\u001b[1;33m]\u001b[0m\u001b[1;33m)\u001b[0m  \u001b[1;31m#2*1\u001b[0m\u001b[1;33m\u001b[0m\u001b[1;33m\u001b[0m\u001b[0m\n\u001b[1;32m----> 3\u001b[1;33m \u001b[0mprint\u001b[0m\u001b[1;33m(\u001b[0m\u001b[0mnp\u001b[0m\u001b[1;33m.\u001b[0m\u001b[0mdot\u001b[0m\u001b[1;33m(\u001b[0m\u001b[0ma1\u001b[0m\u001b[1;33m,\u001b[0m\u001b[0ma2\u001b[0m\u001b[1;33m)\u001b[0m\u001b[1;33m)\u001b[0m  \u001b[1;31m#相乘\u001b[0m\u001b[1;33m\u001b[0m\u001b[1;33m\u001b[0m\u001b[0m\n\u001b[0m\u001b[0;32m      4\u001b[0m \u001b[0mprint\u001b[0m\u001b[1;33m(\u001b[0m\u001b[0mnp\u001b[0m\u001b[1;33m.\u001b[0m\u001b[0mmatmul\u001b[0m\u001b[1;33m(\u001b[0m\u001b[0ma1\u001b[0m\u001b[1;33m,\u001b[0m\u001b[0ma2\u001b[0m\u001b[1;33m)\u001b[0m\u001b[1;33m)\u001b[0m\u001b[1;33m\u001b[0m\u001b[1;33m\u001b[0m\u001b[0m\n",
      "\u001b[1;32m<__array_function__ internals>\u001b[0m in \u001b[0;36mdot\u001b[1;34m(*args, **kwargs)\u001b[0m\n",
      "\u001b[1;31mValueError\u001b[0m: shapes (2,3) and (1,2) not aligned: 3 (dim 1) != 1 (dim 0)"
     ]
    }
   ],
   "source": [
    "a1 = np.array([[1,2,3],[4,5,6]])  #2*2\n",
    "a2 = np.array([[5,6]])  #2*1\n",
    "print(np.dot(a1,a2))  #相乘\n",
    "print(np.matmul(a1,a2)) "
   ]
  },
  {
   "cell_type": "markdown",
   "metadata": {},
   "source": [
    "## 10.5常见统计方法"
   ]
  },
  {
   "cell_type": "code",
   "execution_count": 75,
   "metadata": {},
   "outputs": [
    {
     "name": "stdout",
     "output_type": "stream",
     "text": [
      "97\n",
      "97\n",
      "56\n",
      "56\n",
      "85.0\n",
      "80.28571428571429\n",
      "80.28571428571429\n",
      "13.853460482743609\n",
      "191.9183673469388\n"
     ]
    }
   ],
   "source": [
    "a = np.array([89,78,65,97,56,85,92])\n",
    "print(np.max(a))\n",
    "print(a.max())\n",
    "print(np.min(a))\n",
    "print(a.min())\n",
    "print(np.median(a))\n",
    "print(np.mean(a))  #算术平均值\n",
    "print(np.average(a))\n",
    "print(np.std(a)) #标准差\n",
    "print(np.var(a))  #方差"
   ]
  },
  {
   "cell_type": "code",
   "execution_count": 80,
   "metadata": {},
   "outputs": [
    {
     "name": "stdout",
     "output_type": "stream",
     "text": [
      "97\n",
      "56\n"
     ]
    },
    {
     "data": {
      "text/plain": [
       "191.9183673469388"
      ]
     },
     "execution_count": 80,
     "metadata": {},
     "output_type": "execute_result"
    }
   ],
   "source": [
    "ls=[89,78,65,97,56,85,92]\n",
    "print(max(ls))\n",
    "print(min(ls))\n",
    "np.mean(ls)\n",
    "np.std(ls)\n",
    "np.var(ls)"
   ]
  },
  {
   "cell_type": "markdown",
   "metadata": {},
   "source": [
    "## 10.6 排序"
   ]
  },
  {
   "cell_type": "code",
   "execution_count": 4,
   "metadata": {},
   "outputs": [
    {
     "name": "stdout",
     "output_type": "stream",
     "text": [
      "[7 4 8 0 2 5 1]\n",
      "[0 1 2 4 5 7 8]\n"
     ]
    }
   ],
   "source": [
    "#升序\n",
    "a = np.array([7,4,8,0,2,5,1])\n",
    "print(a)\n",
    "a.sort()\n",
    "print(a)"
   ]
  },
  {
   "cell_type": "code",
   "execution_count": 5,
   "metadata": {},
   "outputs": [
    {
     "name": "stdout",
     "output_type": "stream",
     "text": [
      "[7 4 8 0 2 5 1]\n",
      "[0 1 2 4 5 7 8]\n",
      "[8 7 5 4 2 1 0]\n"
     ]
    }
   ],
   "source": [
    "#降序\n",
    "a = np.array([7,4,8,0,2,5,1])\n",
    "print(a)\n",
    "a.sort()\n",
    "print(a)\n",
    "b = a[::-1]\n",
    "print(b)"
   ]
  },
  {
   "cell_type": "code",
   "execution_count": 6,
   "metadata": {},
   "outputs": [
    {
     "name": "stdout",
     "output_type": "stream",
     "text": [
      "[7 4 8 0 2 5 1]\n",
      "[3 6 4 1 5 0 2]\n",
      "[7 4 8 0 2 5 1]\n"
     ]
    }
   ],
   "source": [
    "#argsort 返回升序排列的索引\n",
    "a = np.array([7,4,8,0,2,5,1])\n",
    "print(a)\n",
    "index = a.argsort()\n",
    "print(index)\n",
    "print(a)"
   ]
  },
  {
   "cell_type": "markdown",
   "metadata": {},
   "source": [
    "## 10.7 数组运算"
   ]
  },
  {
   "cell_type": "code",
   "execution_count": 7,
   "metadata": {},
   "outputs": [
    {
     "name": "stdout",
     "output_type": "stream",
     "text": [
      "[[1 2]\n",
      " [3 4]]\n",
      "[[5 6]\n",
      " [7 8]]\n"
     ]
    }
   ],
   "source": [
    "import numpy as np\n",
    "a = np.array([[1,2],[3,4]])\n",
    "b = np.array([[5,6],[7,8]])\n",
    "print(a)\n",
    "print(b)"
   ]
  },
  {
   "cell_type": "code",
   "execution_count": 8,
   "metadata": {},
   "outputs": [
    {
     "data": {
      "text/plain": [
       "array([[19, 22],\n",
       "       [43, 50]])"
      ]
     },
     "execution_count": 8,
     "metadata": {},
     "output_type": "execute_result"
    }
   ],
   "source": [
    "np.dot(a,b)"
   ]
  },
  {
   "cell_type": "code",
   "execution_count": 9,
   "metadata": {},
   "outputs": [
    {
     "data": {
      "text/plain": [
       "array([[19, 22],\n",
       "       [43, 50]])"
      ]
     },
     "execution_count": 9,
     "metadata": {},
     "output_type": "execute_result"
    }
   ],
   "source": [
    "np.matmul(a,b)"
   ]
  },
  {
   "cell_type": "markdown",
   "metadata": {},
   "source": [
    "# 第11章 数据可视化 matplotlib"
   ]
  },
  {
   "cell_type": "markdown",
   "metadata": {},
   "source": [
    "## 11.1简单折线图"
   ]
  },
  {
   "cell_type": "code",
   "execution_count": 82,
   "metadata": {},
   "outputs": [],
   "source": [
    "import matplotlib.pyplot as plt\n",
    "from matplotlib import pyplot as plt"
   ]
  },
  {
   "cell_type": "code",
   "execution_count": 101,
   "metadata": {},
   "outputs": [
    {
     "data": {
      "image/png": "[encoded data removed]",
      "text/plain": [
       "<Figure size 432x288 with 1 Axes>"
      ]
     },
     "metadata": {
      "needs_background": "light"
     },
     "output_type": "display_data"
    }
   ],
   "source": [
    "plt.rcParams['font.family']='SimHei'\n",
    "plt.rcParams['font.sans-serif']='SimHei'\n",
    "years_old=[7,10,13,15,18]\n",
    "height=[135,143,150,168,178]\n",
    "plt.plot(years_old,height,marker='*',color=\"green\",linestyle=\"--\")\n",
    "plt.xlabel('years old(岁)')\n",
    "plt.ylabel('Height(cm)')\n",
    "plt.title('身高折线图')\n",
    "plt.show()"
   ]
  },
  {
   "cell_type": "markdown",
   "metadata": {},
   "source": [
    "## 11.2 条形图bar"
   ]
  },
  {
   "cell_type": "code",
   "execution_count": 2,
   "metadata": {
    "scrolled": true
   },
   "outputs": [
    {
     "name": "stderr",
     "output_type": "stream",
     "text": [
      "No handles with labels found to put in legend.\n"
     ]
    },
    {
     "data": {
      "image/png": "[encoded data removed]",
      "text/plain": [
       "<Figure size 432x288 with 1 Axes>"
      ]
     },
     "metadata": {
      "needs_background": "light"
     },
     "output_type": "display_data"
    }
   ],
   "source": [
    "import matplotlib.pyplot as plt\n",
    "plt.rcParams['font.family']='SimHei'\n",
    "fruit=['Apple','Banana','Pear','Peach','Grape']\n",
    "weight=[200,50,170,150,180]\n",
    "plt.bar(range(len(fruit)),weight,width=0.3)\n",
    "plt.ylabel('重量(KG)')\n",
    "plt.xticks(range(len(fruit)),fruit)\n",
    "plt.title(\"水果库存\")\n",
    "plt.legend()\n",
    "plt.show()"
   ]
  },
  {
   "cell_type": "markdown",
   "metadata": {},
   "source": [
    "## 11.3直方图"
   ]
  },
  {
   "cell_type": "code",
   "execution_count": 3,
   "metadata": {},
   "outputs": [
    {
     "name": "stderr",
     "output_type": "stream",
     "text": [
      "No handles with labels found to put in legend.\n"
     ]
    },
    {
     "data": {
      "image/png": "[encoded data removed]",
      "text/plain": [
       "<Figure size 432x288 with 1 Axes>"
      ]
     },
     "metadata": {
      "needs_background": "light"
     },
     "output_type": "display_data"
    }
   ],
   "source": [
    "data=[67,53,86,85,89,93,59,79,51]\n",
    "plt.hist(data,width=2)\n",
    "plt.legend()\n",
    "plt.show()"
   ]
  },
  {
   "cell_type": "markdown",
   "metadata": {},
   "source": [
    "## 11.4 多线图"
   ]
  },
  {
   "cell_type": "code",
   "execution_count": 10,
   "metadata": {},
   "outputs": [],
   "source": [
    "import numpy as np\n",
    "import matplotlib.pyplot as plt\n",
    "x=np.linspace(0,2,100)"
   ]
  },
  {
   "cell_type": "code",
   "execution_count": 11,
   "metadata": {},
   "outputs": [],
   "source": [
    "y1=x\n",
    "y2=x**2\n",
    "y3=x**3"
   ]
  },
  {
   "cell_type": "code",
   "execution_count": 12,
   "metadata": {},
   "outputs": [
    {
     "data": {
      "image/png": "[encoded data removed]",
      "text/plain": [
       "<Figure size 432x288 with 1 Axes>"
      ]
     },
     "metadata": {
      "needs_background": "light"
     },
     "output_type": "display_data"
    }
   ],
   "source": [
    "plt.plot(x,y1,color='r',label='line')\n",
    "plt.plot(x,y2,color='b',label='line')\n",
    "plt.plot(x,y3,color='y',label='line')\n",
    "plt.legend()\n",
    "plt.show()"
   ]
  },
  {
   "cell_type": "markdown",
   "metadata": {},
   "source": [
    "## 11.5 散点图 Scatter"
   ]
  },
  {
   "cell_type": "code",
   "execution_count": 1,
   "metadata": {},
   "outputs": [
    {
     "data": {
      "text/plain": [
       "3"
      ]
     },
     "execution_count": 1,
     "metadata": {},
     "output_type": "execute_result"
    }
   ],
   "source": [
    "import numpy as np\n",
    "\n",
    "np.random.randint(2,5) #随机整数"
   ]
  },
  {
   "cell_type": "code",
   "execution_count": 2,
   "metadata": {},
   "outputs": [
    {
     "data": {
      "text/plain": [
       "array([0.82680927, 0.48603988, 0.71893423])"
      ]
     },
     "execution_count": 2,
     "metadata": {},
     "output_type": "execute_result"
    }
   ],
   "source": [
    "np.random.rand(2,5)\n",
    "np.random.rand(3)"
   ]
  },
  {
   "cell_type": "code",
   "execution_count": 13,
   "metadata": {
    "scrolled": true
   },
   "outputs": [
    {
     "name": "stderr",
     "output_type": "stream",
     "text": [
      "No handles with labels found to put in legend.\n"
     ]
    },
    {
     "data": {
      "image/png": "[encoded data removed]",
      "text/plain": [
       "<Figure size 432x288 with 1 Axes>"
      ]
     },
     "metadata": {
      "needs_background": "light"
     },
     "output_type": "display_data"
    }
   ],
   "source": [
    "N=10\n",
    "x1=np.random.rand(N)\n",
    "y1=np.random.rand(N)\n",
    "plt.scatter(x1,y1,marker='o')\n",
    "plt.legend()\n",
    "plt.show()"
   ]
  },
  {
   "cell_type": "code",
   "execution_count": 55,
   "metadata": {},
   "outputs": [
    {
     "data": {
      "image/png": "[encoded data removed]",
      "text/plain": [
       "<Figure size 432x288 with 1 Axes>"
      ]
     },
     "metadata": {},
     "output_type": "display_data"
    }
   ],
   "source": [
    "import matplotlib.pyplot as plt\n",
    "\n",
    "%matplotlib inline\n",
    "\n",
    "# 设置字体支持\n",
    "mpl.rcParams[\"font.family\"] = \"SimHei\"\n",
    "mpl.rcParams[\"axes.unicode_minus\"]=False\n",
    "\n",
    "slices=[7,2,2,17]\n",
    "activities=['sleeping','eating','working','playing']\n",
    "plt.pie(slices,labels=activities,explode=[0,0.1,0.2,0],\n",
    "       autopct='%.2f%%',\n",
    "       shadow=True)\n",
    "plt.show()"
   ]
  },
  {
   "cell_type": "code",
   "execution_count": 44,
   "metadata": {},
   "outputs": [],
   "source": [
    "plt.pie?"
   ]
  },
  {
   "cell_type": "markdown",
   "metadata": {},
   "source": [
    "## 抓怪游戏"
   ]
  },
  {
   "cell_type": "code",
   "execution_count": 4,
   "metadata": {
    "code_folding": [
     6,
     11,
     29,
     38
    ]
   },
   "outputs": [
    {
     "name": "stdout",
     "output_type": "stream",
     "text": [
      "🐢爬到了(7, 2)\n",
      "🐢爬到了(6, 3)\n",
      "0号🐠在(6, 3)被🐢抓住吃掉了\n",
      "🐢爬到了(7, 1)\n",
      "🐢爬到了(9, 2)\n",
      "🐢爬到了(7, 1)\n",
      "🐢爬到了(8, 0)\n",
      "🐢爬到了(9, 2)\n",
      "🐢爬到了(9, 4)\n",
      "🐢爬到了(10, 6)\n",
      "9号🐠在(10, 6)被🐢抓住吃掉了\n",
      "🐢爬到了(8, 8)\n",
      "🐢爬到了(6, 10)\n",
      "🐢爬到了(8, 9)\n",
      "🐢爬到了(9, 8)\n",
      "🐢爬到了(7, 10)\n",
      "1号🐠在(7, 10)被🐢抓住吃掉了\n",
      "🐢爬到了(6, 9)\n",
      "2号🐠在(6, 9)被🐢抓住吃掉了\n",
      "🐢爬到了(4, 8)\n",
      "🐢爬到了(2, 7)\n",
      "🐢爬到了(0, 8)\n",
      "🐢爬到了(2, 7)\n",
      "🐢爬到了(4, 5)\n",
      "🐢爬到了(2, 6)\n",
      "🐢爬到了(0, 8)\n",
      "🐢爬到了(1, 9)\n",
      "🐢爬到了(2, 8)\n",
      "🐢爬到了(3, 10)\n",
      "🐢爬到了(1, 8)\n",
      "🐢爬到了(2, 10)\n",
      "🐢爬到了(0, 8)\n",
      "🐢爬到了(1, 6)\n",
      "🐢爬到了(3, 4)\n",
      "🐢爬到了(4, 2)\n",
      "🐢爬到了(2, 1)\n",
      "🐢爬到了(4, 0)\n",
      "🐢爬到了(2, 2)\n",
      "🐢爬到了(3, 1)\n",
      "🐢爬到了(2, 0)\n",
      "🐢爬到了(0, 1)\n",
      "🐢爬到了(2, 3)\n",
      "🐢爬到了(1, 1)\n",
      "🐢爬到了(3, 0)\n",
      "🐢爬到了(1, 2)\n",
      "🐢爬到了(2, 3)\n",
      "🐢爬到了(3, 4)\n",
      "🐢爬到了(5, 2)\n",
      "🐢爬到了(3, 4)\n",
      "🐢爬到了(2, 5)\n",
      "🐢爬到了(3, 4)\n",
      "🐢爬到了(4, 6)\n",
      "🐢爬到了(5, 7)\n",
      "🐢爬到了(3, 9)\n",
      "🐢爬到了(2, 7)\n",
      "🐢爬到了(1, 9)\n",
      "🐢爬到了(1, 8)\n",
      "🐢爬到了(0, 7)\n",
      "🐢爬到了(1, 9)\n",
      "🐢爬到了(3, 8)\n",
      "🐢爬到了(1, 6)\n",
      "🐢爬到了(2, 5)\n",
      "🐢爬到了(0, 7)\n",
      "🐢爬到了(2, 9)\n",
      "🐢爬到了(4, 7)\n",
      "🐢爬到了(6, 5)\n",
      "🐢爬到了(4, 3)\n",
      "🐢爬到了(2, 4)\n",
      "🐢爬到了(4, 5)\n",
      "🐢爬到了(6, 6)\n",
      "🐢爬到了(5, 8)\n",
      "🐢爬到了(3, 10)\n",
      "🐢爬到了(5, 8)\n",
      "🐢爬到了(7, 9)\n",
      "🐢爬到了(9, 10)\n",
      "🐢爬到了(10, 8)\n",
      "🐢爬到了(9, 7)\n",
      "🐢爬到了(7, 9)\n",
      "🐢爬到了(5, 7)\n",
      "3号🐠在(5, 7)被🐢抓住吃掉了\n",
      "5号🐠在(5, 7)被🐢抓住吃掉了\n",
      "🐢爬到了(4, 6)\n",
      "🐢爬到了(3, 8)\n",
      "🐢爬到了(1, 10)\n",
      "🐢爬到了(1, 9)\n",
      "🐢爬到了(2, 7)\n",
      "🐢爬到了(4, 5)\n",
      "🐢爬到了(2, 3)\n",
      "🐢爬到了(1, 2)\n",
      "🐢爬到了(0, 0)\n",
      "🐢爬到了(1, 1)\n",
      "🐢爬到了(2, 3)\n",
      "🐢爬到了(4, 5)\n",
      "🐢爬到了(2, 3)\n",
      "🐢爬到了(0, 5)\n",
      "🐢爬到了(1, 3)\n",
      "🐢爬到了(3, 5)\n",
      "🐢爬到了(1, 6)\n",
      "🐢爬到了(1, 5)\n",
      "🐢爬到了(2, 7)\n",
      "🐢爬到了(3, 6)\n",
      "🐢爬到了(4, 7)\n",
      "🐢爬到了(6, 8)\n",
      "🐢爬到了(4, 6)\n",
      "🐢爬到了(5, 8)\n",
      "🐢爬到了(3, 7)\n",
      "🐢爬到了(2, 5)\n",
      "🐢爬到了(4, 7)\n",
      "🐢爬到了(5, 5)\n",
      "🐢爬到了(4, 4)\n",
      "🐢爬到了(6, 3)\n",
      "🐢爬到了(5, 2)\n",
      "🐢爬到了(7, 0)\n",
      "🐢爬到了(8, 2)\n",
      "🐢爬到了(10, 4)\n",
      "🐢爬到了(8, 6)\n",
      "🐢爬到了(6, 7)\n",
      "🐢爬到了(7, 6)\n",
      "🐢爬到了(8, 5)\n",
      "🐢爬到了(10, 3)\n",
      "🐢爬到了(9, 2)\n",
      "🐢爬到了(9, 1)\n",
      "🐢爬到了(9, 1)\n",
      "🐢爬到了(9, 1)\n",
      "🐢爬到了(8, 3)\n",
      "🐢爬到了(9, 1)\n",
      "🐢爬到了(7, 2)\n",
      "🐢爬到了(8, 3)\n",
      "🐢爬到了(7, 4)\n",
      "🐢爬到了(8, 5)\n",
      "🐢爬到了(9, 4)\n",
      "🐢爬到了(10, 2)\n",
      "🐢爬到了(9, 3)\n",
      "🐢爬到了(9, 5)\n",
      "🐢爬到了(10, 6)\n",
      "🐢爬到了(9, 7)\n",
      "🐢爬到了(10, 8)\n",
      "🐢爬到了(8, 9)\n",
      "🐢爬到了(7, 10)\n",
      "🐢爬到了(8, 8)\n",
      "🐢爬到了(10, 9)\n",
      "🐢爬到了(9, 9)\n",
      "🐢爬到了(10, 8)\n",
      "🐢爬到了(8, 10)\n",
      "🐢爬到了(7, 9)\n",
      "🐢爬到了(5, 7)\n",
      "🐢爬到了(3, 9)\n",
      "🐢爬到了(4, 8)\n",
      "🐢爬到了(3, 9)\n",
      "🐢爬到了(1, 8)\n",
      "🐢爬到了(3, 10)\n",
      "🐢爬到了(1, 8)\n",
      "🐢爬到了(3, 9)\n",
      "🐢爬到了(2, 8)\n",
      "🐢爬到了(4, 9)\n",
      "7号🐠在(4, 9)被🐢抓住吃掉了\n",
      "🐢爬到了(5, 10)\n",
      "🐢爬到了(7, 9)\n",
      "🐢爬到了(9, 8)\n",
      "🐢爬到了(8, 9)\n",
      "🐢爬到了(9, 10)\n",
      "🐢爬到了(10, 8)\n",
      "🐢爬到了(8, 9)\n",
      "🐢爬到了(7, 9)\n",
      "🐢爬到了(8, 9)\n",
      "🐢爬到了(9, 9)\n",
      "🐢爬到了(9, 9)\n",
      "🐢爬到了(7, 8)\n",
      "🐢爬到了(6, 10)\n",
      "🐢爬到了(8, 9)\n",
      "🐢爬到了(9, 9)\n",
      "🐢爬到了(7, 9)\n",
      "🐢爬到了(8, 10)\n",
      "🐢爬到了(7, 9)\n",
      "🐢爬到了(5, 8)\n",
      "🐢爬到了(7, 6)\n",
      "🐢爬到了(6, 4)\n",
      "🐢爬到了(7, 2)\n",
      "🐢爬到了(5, 3)\n",
      "🐢爬到了(4, 1)\n",
      "🐢爬到了(3, 2)\n",
      "🐢爬到了(4, 3)\n",
      "🐢爬到了(6, 1)\n",
      "🐢爬到了(5, 1)\n",
      "🐢爬到了(7, 2)\n",
      "🐢爬到了(6, 4)\n",
      "🐢爬到了(5, 6)\n",
      "🐢爬到了(7, 4)\n",
      "🐢爬到了(9, 6)\n",
      "🐢爬到了(10, 4)\n",
      "🐢爬到了(9, 3)\n",
      "🐢爬到了(10, 1)\n",
      "🐢爬到了(8, 1)\n",
      "🐢爬到了(9, 2)\n",
      "🐢爬到了(10, 3)\n",
      "🐢爬到了(8, 4)\n",
      "🐢爬到了(7, 5)\n",
      "🐢爬到了(9, 7)\n",
      "🐢爬到了(8, 6)\n",
      "🐢爬到了(6, 4)\n",
      "🐢爬到了(8, 3)\n",
      "🐢爬到了(7, 5)\n",
      "🐢爬到了(8, 7)\n",
      "🐢爬到了(9, 9)\n",
      "🐢爬到了(10, 10)\n",
      "🐢爬到了(9, 9)\n",
      "🐢爬到了(8, 7)\n",
      "🐢爬到了(10, 5)\n",
      "🐢爬到了(8, 6)\n",
      "🐢爬到了(10, 5)\n",
      "🐢爬到了(8, 3)\n",
      "🐢爬到了(9, 1)\n",
      "🐢爬到了(8, 0)\n",
      "🐢爬到了(7, 2)\n",
      "🐢爬到了(5, 4)\n",
      "🐢爬到了(4, 2)\n",
      "🐢爬到了(5, 1)\n",
      "🐢爬到了(7, 1)\n",
      "🐢爬到了(9, 3)\n",
      "🐢爬到了(9, 4)\n",
      "🐢爬到了(8, 6)\n",
      "🐢爬到了(6, 7)\n",
      "🐢爬到了(8, 5)\n",
      "🐢爬到了(7, 7)\n",
      "🐢爬到了(8, 6)\n",
      "🐢爬到了(6, 5)\n",
      "🐢爬到了(4, 3)\n",
      "🐢爬到了(3, 5)\n",
      "🐢爬到了(5, 4)\n",
      "🐢爬到了(6, 3)\n",
      "🐢爬到了(7, 4)\n",
      "🐢爬到了(5, 5)\n",
      "🐢爬到了(7, 6)\n",
      "🐢爬到了(9, 7)\n",
      "🐢爬到了(7, 5)\n",
      "🐢爬到了(9, 7)\n",
      "🐢爬到了(9, 6)\n",
      "🐢爬到了(9, 5)\n",
      "🐢爬到了(8, 3)\n",
      "🐢爬到了(10, 4)\n",
      "🐢爬到了(8, 3)\n",
      "🐢爬到了(9, 4)\n",
      "🐢爬到了(9, 3)\n",
      "🐢爬到了(7, 5)\n",
      "🐢爬到了(5, 3)\n",
      "6号🐠在(5, 3)被🐢抓住吃掉了\n",
      "🐢爬到了(4, 2)\n",
      "🐢爬到了(2, 0)\n",
      "🐢爬到了(4, 2)\n",
      "🐢爬到了(5, 3)\n",
      "🐢爬到了(7, 5)\n",
      "🐢爬到了(9, 7)\n",
      "8号🐠在(9, 7)被🐢抓住吃掉了\n",
      "🐢爬到了(10, 5)\n",
      "🐢爬到了(8, 7)\n",
      "🐢爬到了(6, 9)\n",
      "🐢爬到了(4, 10)\n",
      "🐢爬到了(2, 8)\n",
      "🐢爬到了(4, 6)\n",
      "🐢爬到了(5, 5)\n",
      "🐢爬到了(3, 3)\n",
      "🐢爬到了(4, 1)\n",
      "🐢爬到了(3, 3)\n",
      "🐢爬到了(5, 1)\n",
      "🐢爬到了(6, 3)\n",
      "🐢爬到了(8, 1)\n",
      "🐢爬到了(6, 0)\n",
      "🐢爬到了(8, 2)\n",
      "🐢爬到了(10, 1)\n",
      "🐢爬到了(8, 1)\n",
      "🐢爬到了(6, 0)\n",
      "🐢爬到了(5, 1)\n",
      "🐢爬到了(7, 1)\n",
      "🐢爬到了(5, 0)\n",
      "🐢爬到了(6, 1)\n",
      "🐢爬到了(5, 1)\n",
      "🐢爬到了(3, 1)\n",
      "🐢爬到了(4, 3)\n",
      "🐢爬到了(2, 5)\n",
      "🐢爬到了(3, 4)\n",
      "🐢爬到了(2, 6)\n",
      "🐢爬到了(3, 4)\n",
      "🐢爬到了(2, 2)\n",
      "🐢爬到了(3, 4)\n",
      "🐢爬到了(5, 5)\n",
      "🐢爬到了(7, 4)\n",
      "🐢爬到了(6, 6)\n",
      "🐢爬到了(7, 8)\n",
      "🐢爬到了(8, 10)\n",
      "🐢累死了 游戏结束\n"
     ]
    }
   ],
   "source": [
    "import random as r\n",
    " \n",
    "legal_x = [0, 10]\n",
    "legal_y = [0, 10]\n",
    "\n",
    "class Turtle:\n",
    "    def __init__(self):\n",
    "        self.power = 100\n",
    "        self.x = r.randint(legal_x[0], legal_x[1])\n",
    "        self.y = r.randint(legal_y[0], legal_y[1])\n",
    " \n",
    "    def move(self):\n",
    "        new_x = self.x + r.choice([1, 2, -1, -2])\n",
    "        new_y = self.y + r.choice([1, 2, -1, -2])\n",
    "        if new_x < legal_x[0]:\n",
    "            self.x = legal_x[0] - (new_x - legal_x[0])\n",
    "        elif new_x > legal_x[1]:\n",
    "            self.x = legal_x[1] - (new_x - legal_x[1])\n",
    "        else:\n",
    "            self.x = new_x\n",
    "        if new_y < legal_y[0]:\n",
    "            self.y = legal_y[0] - (new_y - legal_y[0])\n",
    "        elif new_y > legal_y[1]:\n",
    "            self.y = legal_y[1] - (new_y - legal_y[1])\n",
    "        else:\n",
    "            self.y = new_y\n",
    "        self.power -= 1\n",
    "        return (self.x, self.y)\n",
    " \n",
    "    def eat(self):\n",
    "        self.power += 20\n",
    "        \n",
    "class Fish:\n",
    "    def __init__(self,name):\n",
    "        self.name = name\n",
    "        self.x = r.randint(legal_x[0], legal_x[1])\n",
    "        self.y = r.randint(legal_y[0], legal_y[1])\n",
    " \n",
    "    def move(self):\n",
    "        new_x = self.x + r.choice([1, -1])\n",
    "        new_y = self.y + r.choice([1, -1])\n",
    "        if new_x < legal_x[0]:\n",
    "            self.x = legal_x[0] - (new_x - legal_x[0])\n",
    "        elif new_x > legal_x[1]:\n",
    "            self.x = legal_x[1] - (new_x - legal_x[1])\n",
    "        else:\n",
    "            self.x = new_x\n",
    "        if new_y < legal_y[0]:\n",
    "            self.y = legal_y[0] - (new_y - legal_y[0])\n",
    "        elif new_y > legal_y[1]:\n",
    "            self.y = legal_y[1] - (new_y - legal_y[1])\n",
    "        else:\n",
    "            self.y = new_y\n",
    "        return (self.x, self.y)\n",
    "turtle = Turtle()\n",
    "fish = []\n",
    "for i in range(10):\n",
    "    new_fish = Fish(i)\n",
    "    fish.append(new_fish)\n",
    "while 1:\n",
    "    if not len(fish):\n",
    "        print('🐠被吃完了 游戏结束')\n",
    "        break\n",
    "    if not turtle.power:\n",
    "        print('🐢累死了 游戏结束')\n",
    "        break\n",
    "    tpos = turtle.move()\n",
    "    print('🐢爬到了(%d, %d)'%(tpos[0], tpos[1]))\n",
    "    for each_fish in fish[:]:\n",
    "        fpos =each_fish.move()\n",
    "        if fpos == tpos:\n",
    "            turtle.eat()\n",
    "            fish.remove(each_fish)\n",
    "            print('%s号🐠在(%d, %d)被🐢抓住吃掉了'%(each_fish.name, fpos[0], fpos[1]))"
   ]
  },
  {
   "cell_type": "code",
   "execution_count": 14,
   "metadata": {},
   "outputs": [
    {
     "name": "stdout",
     "output_type": "stream",
     "text": [
      "--野外有这些小精灵:  ['黑客', '绅士企鹅', '火柴鼠', '蹦蹦娃', '弹簧蛇', '呱噪鸦', '火柴鼠', '喷火龙', '博学企鹅', '博学企鹅', '皮皮', '皮皮', '瞌睡熊', '火柴鼠', '呱噪鸦', '呱噪鸦', '皮皮', '板牙狸', '弹簧蛇', '皮皮']\n",
      "--你的【目标】是要抓到这些小精灵:  ['呱噪鸦', '博学企鹅']\n",
      "\n",
      "=============================\n",
      "        请输入你的选择:\n",
      "        w: 向前走\n",
      "        a: 向左走\n",
      "        s: 向后走\n",
      "        d: 向右走\n",
      "        c: 抓小精灵\n",
      "        t: 检查背包/确认目标\n",
      "        q: 退出游戏\n",
      "a\n",
      "--向左走了38步\n",
      "--你遇到了一个小精灵\n",
      "\n",
      "=============================\n",
      "        请输入你的选择:\n",
      "        w: 向前走\n",
      "        a: 向左走\n",
      "        s: 向后走\n",
      "        d: 向右走\n",
      "        c: 抓小精灵\n",
      "        t: 检查背包/确认目标\n",
      "        q: 退出游戏\n",
      "q\n",
      "--很遗憾, 你没有完成任务!\n"
     ]
    }
   ],
   "source": [
    "import random\n",
    "import time\n",
    "monsters_pool = ['火柴鼠', '瞌睡熊', '板牙狸', '博学企鹅', '绅士企鹅',\n",
    "                 '漂浮龟', '皮皮', '贪玩虎', '黑客', '蹦蹦娃', '呱噪鸦',\n",
    "                 '弹簧蛇', '喷火龙']\n",
    "monsters_list = []\n",
    "targets_list = []\n",
    "bag = []\n",
    "monster_flag = False #bool:True False\n",
    "\n",
    "def put_into_bag(monster):\n",
    "    if len(bag) < 4:\n",
    "        bag.append(monster)\n",
    "        print(\"--现在包里的小精灵是: \", bag)\n",
    "    else:\n",
    "        print(\"--现在包里的小精灵是: \", bag)\n",
    "        print(\"--你的目标是: \", targets_list)\n",
    "        index = int(input(\"--你的包满了, 你要放弃的小精灵序号是: \"))\n",
    "        print(\"--你放弃了%s\" % bag.pop(index)) #s:str  i/d:整数\n",
    "        put_into_bag(monster)\n",
    "\n",
    "def find_monster(step):\n",
    "    global monster_flag\n",
    "    if step % 2 == 0 or step % 5 == 0:\n",
    "        monster_flag = True\n",
    "        print(\"--你遇到了一个小精灵\")\n",
    "    else:\n",
    "        print(\"--请继续寻找小精灵\")\n",
    "        monster_flag = False\n",
    "\n",
    "def check_target():\n",
    "    flag = 1\n",
    "    for i in targets_list:\n",
    "        if i not in bag:\n",
    "            flag = 0\n",
    "            break\n",
    "    if flag == 1 :\n",
    "        print(\"--恭喜你完成了任务!\")\n",
    "    else:\n",
    "        print(\"--很遗憾, 你没有完成任务!\")\n",
    "\n",
    "if __name__ == '__main__':\n",
    "    for i in range(20):\n",
    "        monsters_list.append(random.choice(monsters_pool))\n",
    "    print(\"--野外有这些小精灵: \", monsters_list)\n",
    "\n",
    "    for i in range(2):\n",
    "        targets_list.append(random.choice(monsters_list))\n",
    "    print(\"--你的【目标】是要抓到这些小精灵: \", targets_list)\n",
    "    while True:\n",
    "        choice = input('''\n",
    "=============================\n",
    "        请输入你的选择:\n",
    "        w: 向前走\n",
    "        a: 向左走\n",
    "        s: 向后走\n",
    "        d: 向右走\n",
    "        c: 抓小精灵\n",
    "        t: 检查背包/确认目标\n",
    "        q: 退出游戏\\n''')\n",
    "        if choice == \"q\":\n",
    "            check_target()\n",
    "            break\n",
    "        elif choice == \"t\":\n",
    "            print(\"--背包中有: \", bag)\n",
    "            print(\"--你的目标是: \", targets_list)\n",
    "        elif choice == \"w\":\n",
    "            step = random.randint(10, 50)\n",
    "            print(\"--向前走了%i步\" % step)\n",
    "            find_monster(step)\n",
    "        elif choice == \"a\":\n",
    "            step = random.randint(10, 50)\n",
    "            print(\"--向左走了%i步\" % step)\n",
    "            find_monster(step)\n",
    "        elif choice == \"s\":\n",
    "            step = random.randint(10, 50)\n",
    "            print(\"--向后走了%i步\" % step)\n",
    "            find_monster(step)\n",
    "        elif choice == \"d\":\n",
    "            step = random.randint(10, 50)\n",
    "            print(\"--向右走了%i步\" % step)\n",
    "            find_monster(step)\n",
    "        elif choice == \"c\" and monster_flag:\n",
    "            monster_flag = False\n",
    "            monster_hp = random.randint(70, 100)\n",
    "            our_ap = random.randint(70, 120)\n",
    "            print(\"--野生小精灵的生命值为: %d\" % monster_hp)\n",
    "            print(\"--你的战斗力为: %d\" % our_ap)\n",
    "            print(\"--你扔出了精灵球\")\n",
    "            index = random.randint(0, len(monsters_list) - 1)\n",
    "            time.sleep(0.5)\n",
    "            for i in range(3):\n",
    "                print(\"§§§精灵球晃了晃...§§§\")\n",
    "                time.sleep(random.random())\n",
    "            if abs(monster_hp - our_ap) <= 10:\n",
    "                monster_caught = monsters_list.pop(index)\n",
    "                print(\"--你抓住了【%s】\" % monster_caught)\n",
    "                put_into_bag(monster_caught)\n",
    "            else:\n",
    "                print(\"--很遗憾，你没有抓住【%s】\" % monsters_list[index])\n",
    "        elif choice == \"c\" and not monster_flag:\n",
    "            print(\"--你还没遇到小精灵\")\n",
    "        else:\n",
    "            print(\"--你输入了一个无效命令\")"
   ]
  },
  {
   "cell_type": "code",
   "execution_count": 14,
   "metadata": {},
   "outputs": [
    {
     "name": "stdout",
     "output_type": "stream",
     "text": [
      "--野外有这些小精灵:  ['黑客', '绅士企鹅', '火柴鼠', '蹦蹦娃', '弹簧蛇', '呱噪鸦', '火柴鼠', '喷火龙', '博学企鹅', '博学企鹅', '皮皮', '皮皮', '瞌睡熊', '火柴鼠', '呱噪鸦', '呱噪鸦', '皮皮', '板牙狸', '弹簧蛇', '皮皮']\n",
      "--你的【目标】是要抓到这些小精灵:  ['呱噪鸦', '博学企鹅']\n",
      "\n",
      "=============================\n",
      "        请输入你的选择:\n",
      "        w: 向前走\n",
      "        a: 向左走\n",
      "        s: 向后走\n",
      "        d: 向右走\n",
      "        c: 抓小精灵\n",
      "        t: 检查背包/确认目标\n",
      "        q: 退出游戏\n",
      "a\n",
      "--向左走了38步\n",
      "--你遇到了一个小精灵\n",
      "\n",
      "=============================\n",
      "        请输入你的选择:\n",
      "        w: 向前走\n",
      "        a: 向左走\n",
      "        s: 向后走\n",
      "        d: 向右走\n",
      "        c: 抓小精灵\n",
      "        t: 检查背包/确认目标\n",
      "        q: 退出游戏\n",
      "q\n",
      "--很遗憾, 你没有完成任务!\n"
     ]
    }
   ],
   "source": [
    "import random\n",
    "import time\n",
    "monsters_pool = ['火柴鼠', '瞌睡熊', '板牙狸', '博学企鹅', '绅士企鹅',\n",
    "                 '漂浮龟', '皮皮', '贪玩虎', '黑客', '蹦蹦娃', '呱噪鸦',\n",
    "                 '弹簧蛇', '喷火龙']\n",
    "monsters_list = []\n",
    "targets_list = []\n",
    "bag = []\n",
    "monster_flag = False #bool:True False\n",
    "\n",
    "def put_into_bag(monster):\n",
    "    if len(bag) < 4:\n",
    "        bag.append(monster)\n",
    "        print(\"--现在包里的小精灵是: \", bag)\n",
    "    else:\n",
    "        print(\"--现在包里的小精灵是: \", bag)\n",
    "        print(\"--你的目标是: \", targets_list)\n",
    "        index = int(input(\"--你的包满了, 你要放弃的小精灵序号是: \"))\n",
    "        print(\"--你放弃了%s\" % bag.pop(index)) #s:str  i/d:整数\n",
    "        put_into_bag(monster)\n",
    "\n",
    "def find_monster(step):\n",
    "    global monster_flag\n",
    "    if step % 2 == 0 or step % 5 == 0:\n",
    "        monster_flag = True\n",
    "        print(\"--你遇到了一个小精灵\")\n",
    "    else:\n",
    "        print(\"--请继续寻找小精灵\")\n",
    "        monster_flag = False\n",
    "\n",
    "def check_target():\n",
    "    flag = 1\n",
    "    for i in targets_list:\n",
    "        if i not in bag:\n",
    "            flag = 0\n",
    "            break\n",
    "    if flag == 1 :\n",
    "        print(\"--恭喜你完成了任务!\")\n",
    "    else:\n",
    "        print(\"--很遗憾, 你没有完成任务!\")\n",
    "\n",
    "if __name__ == '__main__':\n",
    "    for i in range(20):\n",
    "        monsters_list.append(random.choice(monsters_pool))\n",
    "    print(\"--野外有这些小精灵: \", monsters_list)\n",
    "\n",
    "    for i in range(2):\n",
    "        targets_list.append(random.choice(monsters_list))\n",
    "    print(\"--你的【目标】是要抓到这些小精灵: \", targets_list)\n",
    "    while True:\n",
    "        choice = input('''\n",
    "=============================\n",
    "        请输入你的选择:\n",
    "        w: 向前走\n",
    "        a: 向左走\n",
    "        s: 向后走\n",
    "        d: 向右走\n",
    "        c: 抓小精灵\n",
    "        t: 检查背包/确认目标\n",
    "        q: 退出游戏\\n''')\n",
    "        if choice == \"q\":\n",
    "            check_target()\n",
    "            break\n",
    "        elif choice == \"t\":\n",
    "            print(\"--背包中有: \", bag)\n",
    "            print(\"--你的目标是: \", targets_list)\n",
    "        elif choice == \"w\":\n",
    "            step = random.randint(10, 50)\n",
    "            print(\"--向前走了%i步\" % step)\n",
    "            find_monster(step)\n",
    "        elif choice == \"a\":\n",
    "            step = random.randint(10, 50)\n",
    "            print(\"--向左走了%i步\" % step)\n",
    "            find_monster(step)\n",
    "        elif choice == \"s\":\n",
    "            step = random.randint(10, 50)\n",
    "            print(\"--向后走了%i步\" % step)\n",
    "            find_monster(step)\n",
    "        elif choice == \"d\":\n",
    "            step = random.randint(10, 50)\n",
    "            print(\"--向右走了%i步\" % step)\n",
    "            find_monster(step)\n",
    "        elif choice == \"c\" and monster_flag:\n",
    "            monster_flag = False\n",
    "            monster_hp = random.randint(70, 100)\n",
    "            our_ap = random.randint(70, 120)\n",
    "            print(\"--野生小精灵的生命值为: %d\" % monster_hp)\n",
    "            print(\"--你的战斗力为: %d\" % our_ap)\n",
    "            print(\"--你扔出了精灵球\")\n",
    "            index = random.randint(0, len(monsters_list) - 1)\n",
    "            time.sleep(0.5)\n",
    "            for i in range(3):\n",
    "                print(\"§§§精灵球晃了晃...§§§\")\n",
    "                time.sleep(random.random())\n",
    "            if abs(monster_hp - our_ap) <= 10:\n",
    "                monster_caught = monsters_list.pop(index)\n",
    "                print(\"--你抓住了【%s】\" % monster_caught)\n",
    "                put_into_bag(monster_caught)\n",
    "            else:\n",
    "                print(\"--很遗憾，你没有抓住【%s】\" % monsters_list[index])\n",
    "        elif choice == \"c\" and not monster_flag:\n",
    "            print(\"--你还没遇到小精灵\")\n",
    "        else:\n",
    "            print(\"--你输入了一个无效命令\")"
   ]
  },
  {
   "cell_type": "markdown",
   "metadata": {},
   "source": [
    "# 12 Pandas"
   ]
  },
  {
   "cell_type": "markdown",
   "metadata": {},
   "source": [
    "## 12.1 数据结构"
   ]
  },
  {
   "cell_type": "markdown",
   "metadata": {},
   "source": [
    "### 12.1.1 Series"
   ]
  },
  {
   "cell_type": "code",
   "execution_count": 1,
   "metadata": {},
   "outputs": [],
   "source": [
    "import pandas as pd\n",
    "import numpy as np"
   ]
  },
  {
   "cell_type": "code",
   "execution_count": 2,
   "metadata": {},
   "outputs": [
    {
     "name": "stdout",
     "output_type": "stream",
     "text": [
      "101    a\n",
      "102    b\n",
      "103    c\n",
      "104    d\n",
      "dtype: object\n"
     ]
    }
   ],
   "source": [
    "data=np.array(['a','b','c','d'])\n",
    "index=[101,102,103,104]\n",
    "obj=pd.Series(data,index)\n",
    "print(obj)"
   ]
  },
  {
   "cell_type": "code",
   "execution_count": 3,
   "metadata": {},
   "outputs": [
    {
     "name": "stdout",
     "output_type": "stream",
     "text": [
      "0    a\n",
      "1    b\n",
      "2    c\n",
      "3    d\n",
      "dtype: object\n"
     ]
    }
   ],
   "source": [
    "obj=pd.Series(['a','b','c','d']) #列表\n",
    "obj=pd.Series(('a','b','c','d') #元组\n",
    "print(obj)"
   ]
  },
  {
   "cell_type": "markdown",
   "metadata": {},
   "source": [
    "### 12.1.2 DataFrame "
   ]
  },
  {
   "cell_type": "code",
   "execution_count": 4,
   "metadata": {},
   "outputs": [],
   "source": [
    "import pandas as pd"
   ]
  },
  {
   "cell_type": "code",
   "execution_count": 7,
   "metadata": {},
   "outputs": [
    {
     "name": "stdout",
     "output_type": "stream",
     "text": [
      "    Name  Age\n",
      "0    Tom   28\n",
      "1   Jack   34\n",
      "2  Steve   29\n",
      "3  Ricky   42\n"
     ]
    },
    {
     "data": {
      "text/html": [
       "<div>\n",
       "<style scoped>\n",
       "    .dataframe tbody tr th:only-of-type {\n",
       "        vertical-align: middle;\n",
       "    }\n",
       "\n",
       "    .dataframe tbody tr th {\n",
       "        vertical-align: top;\n",
       "    }\n",
       "\n",
       "    .dataframe thead th {\n",
       "        text-align: right;\n",
       "    }\n",
       "</style>\n",
       "<table border=\"1\" class=\"dataframe\">\n",
       "  <thead>\n",
       "    <tr style=\"text-align: right;\">\n",
       "      <th></th>\n",
       "      <th>Name</th>\n",
       "      <th>Age</th>\n",
       "    </tr>\n",
       "  </thead>\n",
       "  <tbody>\n",
       "    <tr>\n",
       "      <th>0</th>\n",
       "      <td>Tom</td>\n",
       "      <td>28</td>\n",
       "    </tr>\n",
       "    <tr>\n",
       "      <th>1</th>\n",
       "      <td>Jack</td>\n",
       "      <td>34</td>\n",
       "    </tr>\n",
       "  </tbody>\n",
       "</table>\n",
       "</div>"
      ],
      "text/plain": [
       "   Name  Age\n",
       "0   Tom   28\n",
       "1  Jack   34"
      ]
     },
     "execution_count": 7,
     "metadata": {},
     "output_type": "execute_result"
    }
   ],
   "source": [
    "data={'Name':['Tom','Jack','Steve','Ricky'],'Age':[28,34,29,42]}\n",
    "df=pd.DataFrame(data)\n",
    "print(df)\n",
    "df.head(2)"
   ]
  },
  {
   "cell_type": "code",
   "execution_count": 8,
   "metadata": {},
   "outputs": [
    {
     "name": "stdout",
     "output_type": "stream",
     "text": [
      "    数学均分  语文均分\n",
      "一班   100    90\n",
      "二班    86    94\n"
     ]
    }
   ],
   "source": [
    "import pandas as pd\n",
    "df=pd.DataFrame([[100,90],[86,94]],\n",
    "                ['一班','二班'],\n",
    "                ['数学均分','语文均分'])\n",
    "print(df)"
   ]
  },
  {
   "cell_type": "code",
   "execution_count": 12,
   "metadata": {},
   "outputs": [
    {
     "name": "stdout",
     "output_type": "stream",
     "text": [
      "     数学  语文\n",
      "一班  100  90\n",
      "二班   86  94\n"
     ]
    },
    {
     "data": {
      "text/plain": [
       "数学    100\n",
       "语文     94\n",
       "dtype: int64"
      ]
     },
     "execution_count": 12,
     "metadata": {},
     "output_type": "execute_result"
    }
   ],
   "source": [
    "data=((100,90),(86,94))\n",
    "index=['一班','二班']\n",
    "columns=['数学','语文']\n",
    "df=pd.DataFrame(data,index,columns)\n",
    "print(df)\n",
    "df.max() #所有列数据最大值"
   ]
  },
  {
   "cell_type": "code",
   "execution_count": 13,
   "metadata": {},
   "outputs": [
    {
     "data": {
      "text/plain": [
       "94"
      ]
     },
     "execution_count": 13,
     "metadata": {},
     "output_type": "execute_result"
    }
   ],
   "source": [
    "df['语文'].max()"
   ]
  },
  {
   "cell_type": "markdown",
   "metadata": {},
   "source": [
    "### 12.2.1 定义"
   ]
  },
  {
   "cell_type": "code",
   "execution_count": 21,
   "metadata": {},
   "outputs": [
    {
     "name": "stdout",
     "output_type": "stream",
     "text": [
      "    分数  姓名  学科\n",
      "0  100  ZC  数学\n",
      "1   80  ZY  语文\n"
     ]
    }
   ],
   "source": [
    "import pandas as pd\n",
    "d={\n",
    "     '分数':pd.Series([100,80]),\n",
    "     '姓名':pd.Series([\"ZC\",\"ZY\"]),\n",
    "      '学科':pd.Series(['数学','语文'])\n",
    "}\n",
    "df=pd.DataFrame(d)\n",
    "print(df)"
   ]
  },
  {
   "cell_type": "markdown",
   "metadata": {},
   "source": [
    "### 12.2.2 数据统计 "
   ]
  },
  {
   "cell_type": "code",
   "execution_count": 22,
   "metadata": {},
   "outputs": [
    {
     "name": "stdout",
     "output_type": "stream",
     "text": [
      "分数     180\n",
      "姓名    ZCZY\n",
      "学科    数学语文\n",
      "dtype: object\n",
      "分数    90.0\n",
      "dtype: float64\n",
      "分数    14.142136\n",
      "dtype: float64\n",
      "分数    100\n",
      "姓名     ZY\n",
      "学科     语文\n",
      "dtype: object\n",
      "分数    80\n",
      "姓名    ZC\n",
      "学科    数学\n",
      "dtype: object\n"
     ]
    },
    {
     "name": "stderr",
     "output_type": "stream",
     "text": [
      "C:\\Users\\taki\\AppData\\Local\\Temp/ipykernel_7756/3768001452.py:2: FutureWarning: Dropping of nuisance columns in DataFrame reductions (with 'numeric_only=None') is deprecated; in a future version this will raise TypeError.  Select only valid columns before calling the reduction.\n",
      "  print(df.mean())\n",
      "C:\\Users\\taki\\AppData\\Local\\Temp/ipykernel_7756/3768001452.py:3: FutureWarning: Dropping of nuisance columns in DataFrame reductions (with 'numeric_only=None') is deprecated; in a future version this will raise TypeError.  Select only valid columns before calling the reduction.\n",
      "  print(df.std()) #方差\n"
     ]
    }
   ],
   "source": [
    "print(df.sum())\n",
    "print(df.mean())\n",
    "print(df.std()) #方差\n",
    "print(df.max())\n",
    "print(df.min())"
   ]
  },
  {
   "cell_type": "markdown",
   "metadata": {},
   "source": [
    "### 12.3.1读取EXCEL CSV文件 "
   ]
  },
  {
   "cell_type": "code",
   "execution_count": null,
   "metadata": {},
   "outputs": [],
   "source": [
    "import pandas as pd\n",
    "df=pd.read_excel(r'')\n",
    "df=pd.read_csv(r'')\n",
    "df"
   ]
  }
 ],
 "metadata": {
  "interpreter": {
   "hash": "ad2bdc8ecc057115af97d19610ffacc2b4e99fae6737bb82f5d7fb13d2f2c186"
  },
  "kernelspec": {
   "display_name": "Python 3.9.7 ('base')",
   "language": "python",
   "name": "python3"
  },
  "language_info": {
   "codemirror_mode": {
    "name": "ipython",
    "version": 3
   },
   "file_extension": ".py",
   "mimetype": "text/x-python",
   "name": "python",
   "nbconvert_exporter": "python",
   "pygments_lexer": "ipython3",
   "version": "3.9.7"
  },
  "varInspector": {
   "cols": {
    "lenName": 16,
    "lenType": 16,
    "lenVar": 40
   },
   "kernels_config": {
    "python": {
     "delete_cmd_postfix": "",
     "delete_cmd_prefix": "del ",
     "library": "var_list.py",
     "varRefreshCmd": "print(var_dic_list())"
    },
    "r": {
     "delete_cmd_postfix": ") ",
     "delete_cmd_prefix": "rm(",
     "library": "var_list.r",
     "varRefreshCmd": "cat(var_dic_list()) "
    }
   },
   "types_to_exclude": [
    "module",
    "function",
    "builtin_function_or_method",
    "instance",
    "_Feature"
   ],
   "window_display": false
  }
 },
 "nbformat": 4,
 "nbformat_minor": 4
}
