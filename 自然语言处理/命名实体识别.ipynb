{
 "cells": [
  {
   "cell_type": "code",
   "execution_count": 1,
   "metadata": {
    "scrolled": true
   },
   "outputs": [],
   "source": [
    "txt = open('F:/资源/CSCMNews/科技/481676.txt',encoding='utf-8').read() #读取文件"
   ]
  },
  {
   "cell_type": "code",
   "execution_count": 2,
   "metadata": {
    "scrolled": true
   },
   "outputs": [],
   "source": [
    "from nltk import *\n",
    "from matplotlib import pyplot as plt\n",
    "import re,jieba,matplotlib,paddle\n",
    "import jieba.posseg as psg\n",
    "#正则清洗多余换行空格\n",
    "txt=re.sub('\\t|\\n|\\s|\\r',' ',txt)\n",
    "txt=re.sub('\\s+',' ',txt)"
   ]
  },
  {
   "cell_type": "markdown",
   "metadata": {},
   "source": [
    "## 1.利用词性标注进行命名实体识别"
   ]
  },
  {
   "cell_type": "code",
   "execution_count": 3,
   "metadata": {},
   "outputs": [
    {
     "name": "stderr",
     "output_type": "stream",
     "text": [
      "C:\\Anaconda3\\lib\\site-packages\\ipykernel\\ipkernel.py:287: DeprecationWarning: `should_run_async` will not call `transform_cell` automatically in the future. Please pass the result to `transformed_cell` argument and any exception that happen during thetransform in `preprocessing_exc_tuple` in IPython 7.17 and above.\n",
      "  and should_run_async(code)\n",
      "Paddle enabled successfully......\n"
     ]
    },
    {
     "name": "stdout",
     "output_type": "stream",
     "text": [
      "著作权协会 ORG\n",
      "7月30日 TIME\n",
      "中国电影著作权协会 ORG\n",
      "上海宽娱数码科技有限公司 ORG\n",
      "杭州世纪联线网络技术有限公司 ORG\n",
      "世纪联线 ORG\n",
      "上海隐志网络科技有限公司 ORG\n",
      "华谊兄弟 ORG\n",
      "孙健红 PER\n",
      "7月20日 TIME\n",
      "华谊 ORG\n",
      "华谊兄弟传媒股份有限公司 ORG\n",
      "7月22日 TIME\n",
      "朱永德 PER\n",
      "北京市 LOC\n",
      "上海 LOC\n",
      "杭州“世纪联线 ORG\n",
      "2010年7月21日 TIME\n",
      "国家版权局 ORG\n",
      "杭州“世纪联线” ORG\n",
      "北京 LOC\n",
      "协和大盛国际传媒(北京)有限公司 ORG\n",
      "2010年5月4日 TIME\n",
      "上海隐志网络公司 ORG\n",
      "著协 ORG\n",
      "上海市第一中级人民法院 ORG\n",
      "中国发行放映协会 ORG\n",
      "孙慧 PER\n",
      "\n"
     ]
    }
   ],
   "source": [
    "featWord=\"\"\n",
    "user_pos_list=['LOC','PER','ORG','TIME']#PER 人名 LOC 地名 ORG 机构名 TIME 时间\n",
    "paddle.enable_static() #使用jieba的paddle模式，调用PaddlePaddle深度学习框架进行分词 相对于默认模式分词更加准确\n",
    "jieba.enable_paddle()\n",
    "for word,pos in psg.cut(txt,use_paddle=True):\n",
    "    if pos in user_pos_list:\n",
    "        if word+' '+pos+'\\n'not in featWord:\n",
    "            featWord+=word+' '+pos+'\\n'\n",
    "print(featWord)"
   ]
  },
  {
   "cell_type": "markdown",
   "metadata": {},
   "source": [
    "## 2.日期识别 "
   ]
  },
  {
   "cell_type": "code",
   "execution_count": 4,
   "metadata": {},
   "outputs": [],
   "source": [
    "import re\n",
    "from datetime import datetime,timedelta\n",
    "import jieba.posseg as psg\n",
    "#数字，单位映射\n",
    "Numbermap={\n",
    "    '零': 0, '一': 1, '二': 2, '两': 2, '三': 3, '四': 4,\n",
    "    '五': 5, '六': 6, '七': 7, '八': 8, '九': 9,\n",
    "    '0': 0, '1': 1, '2': 2, '3': 3, '4': 4,\n",
    "    '5': 5, '6': 6, '7': 7, '8': 8, '9': 9\n",
    "}"
   ]
  },
  {
   "cell_type": "code",
   "execution_count": 5,
   "metadata": {
    "code_folding": []
   },
   "outputs": [
    {
     "name": "stderr",
     "output_type": "stream",
     "text": [
      "<>:25: DeprecationWarning: invalid escape sequence \\d\n",
      "<>:25: DeprecationWarning: invalid escape sequence \\d\n",
      "<ipython-input-5-c118665321db>:25: DeprecationWarning: invalid escape sequence \\d\n",
      "  num = re.match(\"\\d+\", res[key])\n"
     ]
    }
   ],
   "source": [
    "#解析日期\n",
    "def Resolution(Word): #根据正则将文本分块\n",
    "    txt = re.match(r\"([0-9零一二两三四五六七八九十]+年)?([0-9一二两三四五六七八九十]+月)?([0-9一二两三四五六七八九十]+[号日])?([上中下午晚早]+)?([0-9零一二两三四五六七八九十百]+[点:\\.时])?([0-9零一二三四五六七八九十百]+分?)?([0-9零一二三四五六七八九十百]+秒)?\",Word)\n",
    "    if txt.group(0) is not None:\n",
    "        res = {\n",
    "            \"year\": txt.group(1),\n",
    "            \"month\": txt.group(2),\n",
    "            \"day\": txt.group(3),\n",
    "            \"noon\":txt.group(4),  # 上中下午晚早\n",
    "            \"hour\": txt.group(5) if txt.group(5) is not None else '00',#为空则为00\n",
    "            \"minute\": txt.group(6) if txt.group(6) is not None else '00',\n",
    "            \"second\": txt.group(7) if txt.group(7) is not None else '00'\n",
    "        }\n",
    "        params = {}\n",
    "        for key in res: #分块映射\n",
    "            if res[key] is not None and len(res[key]) != 0:\n",
    "                tmp = None\n",
    "                if key=='year':\n",
    "                    year=''\n",
    "                    for item in res[key]:#遍历\n",
    "                        if item in Numbermap.keys(): #将中文数字或字符串数字转换为数字格式\n",
    "                            year += str(Numbermap[item])\n",
    "                    tmp=year\n",
    "                else:\n",
    "                    num = re.match(\"\\d+\", res[key])\n",
    "                    if num:#如是数字格式则不需要转换\n",
    "                        tmp=num.group(0)\n",
    "                    else:\n",
    "                        num=''\n",
    "                        for item in res[key]:#遍历\n",
    "                            if item in Numbermap.keys():\n",
    "                                num += str(Numbermap[item])\n",
    "                        if num!='':\n",
    "                            tmp=num   \n",
    "                if tmp is not None:\n",
    "                    params[key] = int(tmp)\n",
    "        target_date = datetime.today().replace(**params)#输出字典\n",
    "        if txt.group(4) is not None and txt.group(4) in ['下午','中午','晚上']: #时区\n",
    "            hour = target_date.time().hour\n",
    "            if hour < 12:\n",
    "                target_date = target_date.replace(hour=hour + 12)\n",
    "        return target_date.strftime('%Y-%m-%d %H:%M:%S')\n",
    "    else:\n",
    "        return None"
   ]
  },
  {
   "cell_type": "code",
   "execution_count": 6,
   "metadata": {},
   "outputs": [],
   "source": [
    "#日期识别\n",
    "def Dateiden(text):\n",
    "    Word=\"\"\n",
    "    preposition={'今天': 0, '明天':1, '后天': 2} #datetime.timedelta参数\n",
    "    for words,noun in psg.cut(text):\n",
    "        if words in preposition:#根据前置条件计算日期并转换格式\n",
    "            Word = (datetime.today() +timedelta(days=preposition.get(words, 0))).\\\n",
    "                      strftime('%Y{y}%m{m}%d{d}').format(y='年',m='月',d='日')  \n",
    "        elif noun in ['m', 't']: #识别数词时间\n",
    "            Word+=words\n",
    "    if Word != '':\n",
    "        return Resolution(Word)\n",
    "    else:\n",
    "        return None"
   ]
  },
  {
   "cell_type": "code",
   "execution_count": 7,
   "metadata": {},
   "outputs": [
    {
     "name": "stderr",
     "output_type": "stream",
     "text": [
      "Building prefix dict from the default dictionary ...\n",
      "Loading model from cache C:\\Users\\Taki\\AppData\\Local\\Temp\\jieba.cache\n",
      "Loading model cost 0.684 seconds.\n",
      "Prefix dict has been built successfully.\n"
     ]
    },
    {
     "name": "stdout",
     "output_type": "stream",
     "text": [
      "10月09日返校:2021-10-09 00:00:00\n",
      "10月11号上午8点不上自然语言处理课:2021-10-11 08:00:00\n",
      "明天没课:2021-10-19 00:00:00\n",
      "明天没课但后天有课:2021-10-20 00:00:00\n"
     ]
    }
   ],
   "source": [
    "text1 = '10月09日返校'\n",
    "print(text1, Dateiden(text1), sep=':')\n",
    "text2 = '10月11号上午8点不上自然语言处理课'\n",
    "print(text2, Dateiden(text2), sep=':')\n",
    "text3 = '明天没课'\n",
    "print(text3, Dateiden(text3), sep=':')"
   ]
  }
 ],
 "metadata": {
  "kernelspec": {
   "display_name": "Python 3",
   "language": "python",
   "name": "python3"
  },
  "language_info": {
   "codemirror_mode": {
    "name": "ipython",
    "version": 3
   },
   "file_extension": ".py",
   "mimetype": "text/x-python",
   "name": "python",
   "nbconvert_exporter": "python",
   "pygments_lexer": "ipython3",
   "version": "3.8.5"
  },
  "varInspector": {
   "cols": {
    "lenName": 16,
    "lenType": 16,
    "lenVar": 40
   },
   "kernels_config": {
    "python": {
     "delete_cmd_postfix": "",
     "delete_cmd_prefix": "del ",
     "library": "var_list.py",
     "varRefreshCmd": "print(var_dic_list())"
    },
    "r": {
     "delete_cmd_postfix": ") ",
     "delete_cmd_prefix": "rm(",
     "library": "var_list.r",
     "varRefreshCmd": "cat(var_dic_list()) "
    }
   },
   "types_to_exclude": [
    "module",
    "function",
    "builtin_function_or_method",
    "instance",
    "_Feature"
   ],
   "window_display": false
  }
 },
 "nbformat": 4,
 "nbformat_minor": 4
}
