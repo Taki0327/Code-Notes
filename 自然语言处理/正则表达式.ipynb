{
 "cells": [
  {
   "cell_type": "code",
   "execution_count": 1,
   "metadata": {},
   "outputs": [],
   "source": [
    "string1 = 'XXX高考的时间是2018年6月7日' \n",
    "string2 = 'XXX高考的时间是2018/6/7' \n",
    "string3 = 'XXX高考的时间是2018-6-7' \n",
    "string4 = 'XXX高考的时间是2018-06-07' \n",
    "string5 = 'XXX高考的时间是2018-06' \n",
    "string6 = 'XXX高考的时间是2018年6月'"
   ]
  },
  {
   "cell_type": "code",
   "execution_count": 2,
   "metadata": {},
   "outputs": [
    {
     "name": "stdout",
     "output_type": "stream",
     "text": [
      "2018年6月7日\n",
      "2018/6/7\n",
      "2018-6-7\n",
      "2018-06-07\n",
      "2018-06\n",
      "2018年6月\n"
     ]
    }
   ],
   "source": [
    "import re\n",
    "stringlist=[string1,string2,string3,string4,string5,string6]\n",
    "for gkdate in stringlist:\n",
    "    print(re.search('\\d{4}[-/年]\\d{1,2}[-/月]?(\\d{1,2}[日]?|)',gkdate).group(0))"
   ]
  },
  {
   "cell_type": "code",
   "execution_count": 3,
   "metadata": {
    "scrolled": false
   },
   "outputs": [
    {
     "name": "stdout",
     "output_type": "stream",
     "text": [
      "中国联通全部业务现在均可网上办理\n",
      "　　【本报讯】11月8日，中国联通面向全国推出网上新装固定电话、宽带业务，这使得中国联通网上营业厅成为真正意义上的全业务营销、服务支撑的电子渠道。\n",
      "　　用户登录中国联通网上营业厅(www.10010.com)即可选择办理新装固定电话、新装ISDN电话、新装预付费电话、普通电话加装宽带、普通电话捆装宽带、预付费电话加装宽带、预付费电话捆装宽带等综合服务。\n",
      "　　中国联通网上营业厅在今年相继开通了北方十省份固定电话、宽带和小灵通网上交费业务及全国固网业务网上充值业务。此次网上新装固话宽带业务的推出，将进一步完善中国联通网上营业厅的功能，使固网用户可以全程享受网上办理的简单快捷。\n",
      "　　在移动业务方面，手机交费充值业务已经上线。10月1日推出的3G业务网上办理，包括i－Phone在内的3G终端网上销售。\n",
      "　　日前，联通网上营业厅推出“选3G就选沃”为主题的3G促销活动，可以使用户享受到买3G终端免USIM卡费、免运费以及购买3G上网卡九五折等优惠。用户还可通过多种电子渠道了解中国联通3G的信息，包括中国联通企业门户网站(www.chinau－nicom.com)、网上营业厅(www.10010.com)、手机营业厅(wap.10010.com)和短信营业厅(发任意短信到10010)，都可以在相应3G专区里了解中国联通3G业务商用情况、3G终端类型、3G服务导航以及3G用户关注的热点问题解答。\n",
      "\n",
      "\n"
     ]
    }
   ],
   "source": [
    "txt = open('F:/资源/CSCMNews/科技/481651.txt',encoding='utf-8').read()\n",
    "print(txt)"
   ]
  },
  {
   "cell_type": "code",
   "execution_count": 4,
   "metadata": {},
   "outputs": [
    {
     "name": "stdout",
     "output_type": "stream",
     "text": [
      "中国联通全部业务现在均可网上办理\n",
      "　　本报讯月日中国联通面向全国推出网上新装固定电话宽带业务这使得中国联通网上营业厅成为真正意义上的全业务营销服务支撑的电子渠道\n",
      "　　用户登录中国联通网上营业厅即可选择办理新装固定电话新装电话新装预付费电话普通电话加装宽带普通电话捆装宽带预付费电话加装宽带预付费电话捆装宽带等综合服务\n",
      "　　中国联通网上营业厅在今年相继开通了北方十省份固定电话宽带和小灵通网上交费业务及全国固网业务网上充值业务此次网上新装固话宽带业务的推出将进一步完善中国联通网上营业厅的功能使固网用户可以全程享受网上办理的简单快捷\n",
      "　　在移动业务方面手机交费充值业务已经上线月日推出的业务网上办理包括－在内的终端网上销售\n",
      "　　日前联通网上营业厅推出选就选沃为主题的促销活动可以使用户享受到买终端免卡费免运费以及购买上网卡九五折等优惠用户还可通过多种电子渠道了解中国联通的信息包括中国联通企业门户网站－网上营业厅手机营业厅和短信营业厅发任意短信到都可以在相应专区里了解中国联通业务商用情况终端类型服务导航以及用户关注的热点问题解答\n",
      "\n",
      "\n"
     ]
    }
   ],
   "source": [
    "str = re.sub('[a-zA-Z0-9\\\\\\'!\"#$%&\\'()*+,-./:;<=>?@，。?★、…【】《》？“”‘\\\\\\'！[\\\\]^_`{|}~]+','',txt)#去除特殊字符\n",
    "print(str)"
   ]
  },
  {
   "cell_type": "code",
   "execution_count": 6,
   "metadata": {},
   "outputs": [
    {
     "name": "stdout",
     "output_type": "stream",
     "text": [
      "中国联通全部业务现在均可网上办理   本报讯月日中国联通面向全国推出网上新装固定电话宽带业务这使得中国联通网上营业厅成为真正意义上的全业务营销服务支撑的电子渠道   用户登录中国联通网上营业厅即可选择办理新装固定电话新装电话新装预付费电话普通电话加装宽带普通电话捆装宽带预付费电话加装宽带预付费电话捆装宽带等综合服务   中国联通网上营业厅在今年相继开通了北方十省份固定电话宽带和小灵通网上交费业务及全国固网业务网上充值业务此次网上新装固话宽带业务的推出将进一步完善中国联通网上营业厅的功能使固网用户可以全程享受网上办理的简单快捷   在移动业务方面手机交费充值业务已经上线月日推出的业务网上办理包括－在内的终端网上销售   日前联通网上营业厅推出选就选沃为主题的促销活动可以使用户享受到买终端免卡费免运费以及购买上网卡九五折等优惠用户还可通过多种电子渠道了解中国联通的信息包括中国联通企业门户网站－网上营业厅手机营业厅和短信营业厅发任意短信到都可以在相应专区里了解中国联通业务商用情况终端类型服务导航以及用户关注的热点问题解答  \n"
     ]
    }
   ],
   "source": [
    "str2=re.sub('\\t|\\n|\\s|\\r',' ',str)#去除换行符\n",
    "print(str2)"
   ]
  },
  {
   "cell_type": "code",
   "execution_count": 7,
   "metadata": {},
   "outputs": [
    {
     "name": "stdout",
     "output_type": "stream",
     "text": [
      "中国联通全部业务现在均可网上办理 本报讯月日中国联通面向全国推出网上新装固定电话宽带业务这使得中国联通网上营业厅成为真正意义上的全业务营销服务支撑的电子渠道 用户登录中国联通网上营业厅即可选择办理新装固定电话新装电话新装预付费电话普通电话加装宽带普通电话捆装宽带预付费电话加装宽带预付费电话捆装宽带等综合服务 中国联通网上营业厅在今年相继开通了北方十省份固定电话宽带和小灵通网上交费业务及全国固网业务网上充值业务此次网上新装固话宽带业务的推出将进一步完善中国联通网上营业厅的功能使固网用户可以全程享受网上办理的简单快捷 在移动业务方面手机交费充值业务已经上线月日推出的业务网上办理包括－在内的终端网上销售 日前联通网上营业厅推出选就选沃为主题的促销活动可以使用户享受到买终端免卡费免运费以及购买上网卡九五折等优惠用户还可通过多种电子渠道了解中国联通的信息包括中国联通企业门户网站－网上营业厅手机营业厅和短信营业厅发任意短信到都可以在相应专区里了解中国联通业务商用情况终端类型服务导航以及用户关注的热点问题解答  \n"
     ]
    }
   ],
   "source": [
    "print(re.sub('\\   ',' ',str2))#将空格变为一个"
   ]
  },
  {
   "cell_type": "code",
   "execution_count": null,
   "metadata": {},
   "outputs": [],
   "source": []
  }
 ],
 "metadata": {
  "kernelspec": {
   "display_name": "Python 3",
   "language": "python",
   "name": "python3"
  },
  "language_info": {
   "codemirror_mode": {
    "name": "ipython",
    "version": 3
   },
   "file_extension": ".py",
   "mimetype": "text/x-python",
   "name": "python",
   "nbconvert_exporter": "python",
   "pygments_lexer": "ipython3",
   "version": "3.8.5"
  },
  "varInspector": {
   "cols": {
    "lenName": 16,
    "lenType": 16,
    "lenVar": 40
   },
   "kernels_config": {
    "python": {
     "delete_cmd_postfix": "",
     "delete_cmd_prefix": "del ",
     "library": "var_list.py",
     "varRefreshCmd": "print(var_dic_list())"
    },
    "r": {
     "delete_cmd_postfix": ") ",
     "delete_cmd_prefix": "rm(",
     "library": "var_list.r",
     "varRefreshCmd": "cat(var_dic_list()) "
    }
   },
   "types_to_exclude": [
    "module",
    "function",
    "builtin_function_or_method",
    "instance",
    "_Feature"
   ],
   "window_display": false
  }
 },
 "nbformat": 4,
 "nbformat_minor": 4
}
